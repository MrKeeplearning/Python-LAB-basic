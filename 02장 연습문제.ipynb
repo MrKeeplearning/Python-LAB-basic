{
 "metadata": {
  "language_info": {
   "codemirror_mode": {
    "name": "ipython",
    "version": 3
   },
   "file_extension": ".py",
   "mimetype": "text/x-python",
   "name": "python",
   "nbconvert_exporter": "python",
   "pygments_lexer": "ipython3",
   "version": "3.9.1-final"
  },
  "orig_nbformat": 2,
  "kernelspec": {
   "name": "python3",
   "display_name": "Python 3.9.1 64-bit",
   "metadata": {
    "interpreter": {
     "hash": "247ab06e135bb35fa78c5eff31b2a9a0050dcb5fb773c2631d2a29ac689eeccb"
    }
   }
  }
 },
 "nbformat": 4,
 "nbformat_minor": 2,
 "cells": [
  {
   "source": [
    "# 02장 연습문제\n",
    "---"
   ],
   "cell_type": "markdown",
   "metadata": {}
  },
  {
   "source": [
    "## Q1\n",
    "---\n",
    "홍길동씨의 과목별 점수는 다음과 같다. 홍길동씨의 평균 점수를 구해보자.\n",
    "  \n",
    "| 과목 | 점수 |\n",
    "| :--: | :--: |\n",
    "| 국어 | 80 |\n",
    "| 영어 | 75 |\n",
    "| 수학 | 55 |"
   ],
   "cell_type": "markdown",
   "metadata": {}
  },
  {
   "cell_type": "code",
   "execution_count": 1,
   "metadata": {},
   "outputs": [
    {
     "output_type": "execute_result",
     "data": {
      "text/plain": [
       "70.0"
      ]
     },
     "metadata": {},
     "execution_count": 1
    }
   ],
   "source": [
    "a = 80\n",
    "b = 75\n",
    "c = 55\n",
    "(a+b+c)/3"
   ]
  },
  {
   "source": [
    "## Q2\n",
    "---\n",
    "자연수 13이 홀수인지 짝수인지 판별할 수 있는 방법에 대해 말해 보자.  \n",
    "<br>\n",
    "어떤 자연수가 홀수인지 짝수인지 판별할 때는 2로 나누었을 때 나머지를 확인하면 된다. 2로 나누었을 때 나머지가 0이면 짝수이고, 나머지가 1이라면 홀수이다. 이것을 판별할 수 있는 방법은 모듈로 연산자(%)를 사용하는 것이다."
   ],
   "cell_type": "markdown",
   "metadata": {}
  },
  {
   "cell_type": "code",
   "execution_count": 5,
   "metadata": {},
   "outputs": [
    {
     "output_type": "stream",
     "name": "stdout",
     "text": [
      "홀수입니다.\n"
     ]
    }
   ],
   "source": [
    "n = 13\n",
    "modResult = n % 2\n",
    "if modResult == 0 :\n",
    "    print('짝수입니다.')\n",
    "else :\n",
    "    print('홀수입니다.')"
   ]
  },
  {
   "source": [
    "## Q3\n",
    "---\n",
    "홍길동씨의 주민등록번호는 881120-1068234이다. 홍길동 씨의 주민등록번호를 연월일 부분과 그 뒤의 숫자 부분으로 나누어 출력해 보자(문자열 슬라이싱 기법을 사용한다)."
   ],
   "cell_type": "markdown",
   "metadata": {}
  },
  {
   "cell_type": "code",
   "execution_count": 10,
   "metadata": {},
   "outputs": [
    {
     "output_type": "stream",
     "name": "stdout",
     "text": [
      "881120\n1068234\n"
     ]
    }
   ],
   "source": [
    "a = '881120-1068234'\n",
    "yymmdd = a[:6]\n",
    "rear = a[7:]\n",
    "print(yymmdd)\n",
    "print(rear)"
   ]
  },
  {
   "cell_type": "code",
   "execution_count": null,
   "metadata": {},
   "outputs": [],
   "source": []
  }
 ]
}