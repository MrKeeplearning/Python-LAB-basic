{
 "metadata": {
  "language_info": {
   "codemirror_mode": {
    "name": "ipython",
    "version": 3
   },
   "file_extension": ".py",
   "mimetype": "text/x-python",
   "name": "python",
   "nbconvert_exporter": "python",
   "pygments_lexer": "ipython3",
   "version": "3.9.1-final"
  },
  "orig_nbformat": 2,
  "kernelspec": {
   "name": "python3",
   "display_name": "Python 3.9.1 64-bit",
   "metadata": {
    "interpreter": {
     "hash": "4d6401091f6de5a385c299b068c1e85516af19a094234475c31f99f1aabe410a"
    }
   }
  }
 },
 "nbformat": 4,
 "nbformat_minor": 2,
 "cells": [
  {
   "source": [
    "# 05-1 클래스\n",
    "---"
   ],
   "cell_type": "markdown",
   "metadata": {}
  },
  {
   "source": [
    "\n",
    "## 클래스는 왜 필요한가?\n",
    "---\n",
    "C언어에는 클래스가 없다. 이 말은 곧 클래스가 굳이 없어도 프로그램을 충분히 만들 수 있다는 뜻이다. 파이썬으로 잘 만든 프로그램을 살펴보아도 클래스를 사용하지 않고 작성한 것들이 상당히 많다. 클래스는 함수나 자료형처럼 프로그램 작성을 위해 꼭 필요한 요소는 아니다. 하지만 프로그램을 작성할 때 클래스를 적재적소에 사용하면 프로그래머가 얻을 수 있는 이익은 상당하다.  \n",
    "<br>\n",
    "계산기 예제를 작성해보자. 계산기에 숫자 3을 입력하고 + 기호를 입력한 뒤에 4를 입력하면 결괏값으로 7을 보여 준다. 여기서 + 기호를 입력한 후 3을 입력하면 기존 결괏값 7에 3을 더해 10을 보여준다. 즉 계산기는 이전에 계산한 결괏값을 항상 메모리 어딘가에 저장하고 있어야 한다. 이러한 내용을 함수를 이용해서 구현해보자.  \n",
    "<br>\n",
    "계산기의 '더하기' 기능을 구현한 파이썬 코드는 다음과 같다."
   ],
   "cell_type": "markdown",
   "metadata": {}
  },
  {
   "cell_type": "code",
   "execution_count": 3,
   "metadata": {},
   "outputs": [
    {
     "output_type": "stream",
     "name": "stdout",
     "text": [
      "3\n7\n"
     ]
    }
   ],
   "source": [
    "result = 0\n",
    "\n",
    "def add(num):\n",
    "    global result\n",
    "    result += num\n",
    "    return result\n",
    "\n",
    "print(add(3))\n",
    "print(add(4))"
   ]
  },
  {
   "source": [
    "이전에 계산한 결괏값을 유지하기 위해서 result는 전역 변수(global)를 사용했다.  \n",
    "<br>\n",
    "그런데 만약 한 프로그램에서 2대의 계산기가 필요한 상황이 발생하면 어떻게 해야 할까? 각 계산기는 각각의 결괏값을 유지하기 위해서 add함수 하나만으로는 결괏값을 따로 유지할 수 없다. 이런 상황을 해결하기 위해서는 다음과 같이 함수를 각각 따로 만들어야 한다.  \n",
    "똑같은 일을 하는 add1과 add2 함수를 만들었고 각 함수에서 계산한 결괏값을 유지하면서 저장하는 전역 변수 result1, result2가 필요하게 되었다."
   ],
   "cell_type": "markdown",
   "metadata": {}
  },
  {
   "cell_type": "code",
   "execution_count": 5,
   "metadata": {},
   "outputs": [
    {
     "output_type": "stream",
     "name": "stdout",
     "text": [
      "3\n7\n3\n10\n"
     ]
    }
   ],
   "source": [
    "result1 = 0\n",
    "result2 = 0\n",
    "\n",
    "def add1(num):\n",
    "    global result1\n",
    "    result1 += num\n",
    "    return result1\n",
    "\n",
    "def add2(num):\n",
    "    global result2\n",
    "    result2 += num\n",
    "    return result2\n",
    "\n",
    "print(add1(3))\n",
    "print(add1(4))\n",
    "print(add2(3))\n",
    "print(add2(7))"
   ]
  },
  {
   "source": [
    "계산기1의 결괏값이 계산기2에 아무 영향을 미치지 않음을 확인할 수 있다. 하지만 계산기가 2개가 아닌 훨씬 더 많은 개수를 요구한다면 그 많은 계산기 함수를 다 만들어야 할까? 이러한 경우 클래스를 사용하면 다음과 같이 간단하게 해결할 수 있다."
   ],
   "cell_type": "markdown",
   "metadata": {}
  },
  {
   "cell_type": "code",
   "execution_count": 6,
   "metadata": {},
   "outputs": [
    {
     "output_type": "stream",
     "name": "stdout",
     "text": [
      "3\n7\n3\n10\n"
     ]
    }
   ],
   "source": [
    "class Calculator:\n",
    "    def __init__(self):\n",
    "        self.result = 0\n",
    "    \n",
    "    def add(self, num):\n",
    "        self.result += num\n",
    "        return self.result\n",
    "\n",
    "cal1 = Calculator()\n",
    "cal2 = Calculator()\n",
    "\n",
    "print(cal1.add(3))\n",
    "print(cal1.add(4))\n",
    "print(cal2.add(3))\n",
    "print(cal2.add(7))"
   ]
  },
  {
   "source": [
    "프로그램을 실행하면 함수 2개를 사용했을 때와 동일한 결과가 출력되는 것을 확인할 수 있다.  \n",
    "<br>\n",
    "Calculator 클래스로 만든 별개의 계산기 cal1, cal2(**파이썬에서는 이것을 객체라고 부른다.**)가 각각의 역할을 수행한다. 그리고 계산기(cal1, cal2)의 결괏값 역시 다른 계산기의 결괏값과 상관없이 독립적인 값을 유지한다. 클래스를 사용하면 계산기 대수가 늘어나더라도 객체를 생성만 하면 되기 때문에 함수를 사용하는 경우와 달리 매우 간단해진다. 만약 빼기 기능을 더하려면 Calculator 클래스에 다음과 같은 빼기 기능 함수를 추가해주면 된다."
   ],
   "cell_type": "markdown",
   "metadata": {}
  },
  {
   "cell_type": "code",
   "execution_count": 7,
   "metadata": {},
   "outputs": [],
   "source": [
    "def sub(self, num):\n",
    "    self.result -= num\n",
    "    return self.result"
   ]
  },
  {
   "source": [
    "## 클래스와 객체\n",
    "---\n",
    "과자와 과자 틀을 가지고 클래스를 설명해보면 다음과 같다.\n",
    "* 과자 틀 --> 클래스(class)\n",
    "* 과자 틀로 만든 과자 --> 객체(object)\n",
    "\n",
    "클래스(class)란 똑같은 무엇인가를 계속해서 만들어 낼 수 있는 설계 도면이고(과자 틀), 객체(object)란 클래스로 만든 피조물(과자 틀을 사용해 만든 과자)을 뜻한다.  \n",
    "클래스로 만든 객체에는 중요한 특징이 있다. 바로 객체마다 고유한 성격을 가진다는 것이다. 동일한 클래스로 만든 객체들은 서로 전혀 영향을 주지 않는다."
   ],
   "cell_type": "markdown",
   "metadata": {}
  },
  {
   "source": [
    "파이썬 클래스의 가장 간단한 예시를 살펴보자."
   ],
   "cell_type": "markdown",
   "metadata": {}
  },
  {
   "cell_type": "code",
   "execution_count": 2,
   "metadata": {},
   "outputs": [],
   "source": [
    "class Cookie:\n",
    "    pass"
   ]
  },
  {
   "source": [
    "위의 클래스는 아무런 기능을 가지지 않는 클래스이지만 이러한 클래스도 객체를 생성하는 기능이 있다. 객체는 클래스로 만들며 1개의 클래스는 무수히 많은 객체를 만들어 낼 수 있다. 위에서 만든 Cookie 클래스의 객체를 만드는 방법은 다음과 같다."
   ],
   "cell_type": "markdown",
   "metadata": {}
  },
  {
   "cell_type": "code",
   "execution_count": 5,
   "metadata": {},
   "outputs": [],
   "source": [
    "a = Cookie()\n",
    "b = Cookie()"
   ]
  },
  {
   "source": [
    "`Cookie()` 의 결괏값을 돌려받은 a와 b가 바로 객체이다. 마치 함수를 사용해서 그 결괏값을 돌려받는 모습과 유사하다."
   ],
   "cell_type": "markdown",
   "metadata": {}
  },
  {
   "source": [
    "**\\[객체와 인스턴스의 차이\\]**  \n",
    "<br>\n",
    "클래스로 만든 객체를 인스턴스라고도 한다. 그렇다면 객체와 인스턴스의 차이는 무엇일까?  \n",
    "`a = Cookie()` 이렇게 만든 a는 객체이다. 그리고 a 객체는 Cookie의 인스턴스이다. 즉 인스턴스라는 말은 특정 객체(a)가 어떤 클래스(Cookie)의 객체인지를 관계 위주로 설명할 때 사용한다. \"a는 인스턴스\" 보다는 \"a는 객체\" 라는 표현이 어울리며 \"a는 Cookie의 객체\" 보다는 \"a는 Cookie의 인스턴스\"라는 표현이 훨씬 잘 어울린다."
   ],
   "cell_type": "markdown",
   "metadata": {}
  },
  {
   "source": [
    "## 사칙연산 클래스 만들기 \n",
    "---\n",
    "사칙연산을 쉽게 해주는 클래스를 만들어 보자."
   ],
   "cell_type": "markdown",
   "metadata": {}
  },
  {
   "source": [
    "### 1. 클래스를 어떻게 만들지 먼저 구상하기\n",
    "클래스는 무작정 만드는 것보다 클래스로 만든 객체를 중심으로 어떤 식으로 동작하게 할 것인지 미리 구상을 한 후에 생각한 것들을 하나씩 해결하면서 완성해 나가는 것이 좋다."
   ],
   "cell_type": "markdown",
   "metadata": {}
  }
 ]
}