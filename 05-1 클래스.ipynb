{
 "metadata": {
  "language_info": {
   "codemirror_mode": {
    "name": "ipython",
    "version": 3
   },
   "file_extension": ".py",
   "mimetype": "text/x-python",
   "name": "python",
   "nbconvert_exporter": "python",
   "pygments_lexer": "ipython3",
   "version": "3.9.1-final"
  },
  "orig_nbformat": 2,
  "kernelspec": {
   "name": "python3",
   "display_name": "Python 3.9.1 64-bit",
   "metadata": {
    "interpreter": {
     "hash": "4d6401091f6de5a385c299b068c1e85516af19a094234475c31f99f1aabe410a"
    }
   }
  }
 },
 "nbformat": 4,
 "nbformat_minor": 2,
 "cells": [
  {
   "source": [
    "# 05-1 클래스\n",
    "---"
   ],
   "cell_type": "markdown",
   "metadata": {}
  },
  {
   "source": [
    "\n",
    "## 클래스는 왜 필요한가?\n",
    "---\n",
    "C언어에는 클래스가 없다. 이 말은 곧 클래스가 굳이 없어도 프로그램을 충분히 만들 수 있다는 뜻이다. 파이썬으로 잘 만든 프로그램을 살펴보아도 클래스를 사용하지 않고 작성한 것들이 상당히 많다. 클래스는 함수나 자료형처럼 프로그램 작성을 위해 꼭 필요한 요소는 아니다. 하지만 프로그램을 작성할 때 클래스를 적재적소에 사용하면 프로그래머가 얻을 수 있는 이익은 상당하다.  \n",
    "<br>\n",
    "계산기 예제를 작성해보자. 계산기에 숫자 3을 입력하고 + 기호를 입력한 뒤에 4를 입력하면 결괏값으로 7을 보여 준다. 여기서 + 기호를 입력한 후 3을 입력하면 기존 결괏값 7에 3을 더해 10을 보여준다. 즉 계산기는 이전에 계산한 결괏값을 항상 메모리 어딘가에 저장하고 있어야 한다. 이러한 내용을 함수를 이용해서 구현해보자.  \n",
    "<br>\n",
    "계산기의 '더하기' 기능을 구현한 파이썬 코드는 다음과 같다."
   ],
   "cell_type": "markdown",
   "metadata": {}
  },
  {
   "cell_type": "code",
   "execution_count": 3,
   "metadata": {},
   "outputs": [
    {
     "output_type": "stream",
     "name": "stdout",
     "text": [
      "3\n7\n"
     ]
    }
   ],
   "source": [
    "result = 0\n",
    "\n",
    "def add(num):\n",
    "    global result\n",
    "    result += num\n",
    "    return result\n",
    "\n",
    "print(add(3))\n",
    "print(add(4))"
   ]
  },
  {
   "source": [
    "이전에 계산한 결괏값을 유지하기 위해서 result는 전역 변수(global)를 사용했다.  \n",
    "<br>\n",
    "그런데 만약 한 프로그램에서 2대의 계산기가 필요한 상황이 발생하면 어떻게 해야 할까? 각 계산기는 각각의 결괏값을 유지하기 위해서 add함수 하나만으로는 결괏값을 따로 유지할 수 없다. 이런 상황을 해결하기 위해서는 다음과 같이 함수를 각각 따로 만들어야 한다.  \n",
    "똑같은 일을 하는 add1과 add2 함수를 만들었고 각 함수에서 계산한 결괏값을 유지하면서 저장하는 전역 변수 result1, result2가 필요하게 되었다."
   ],
   "cell_type": "markdown",
   "metadata": {}
  },
  {
   "cell_type": "code",
   "execution_count": 5,
   "metadata": {},
   "outputs": [
    {
     "output_type": "stream",
     "name": "stdout",
     "text": [
      "3\n7\n3\n10\n"
     ]
    }
   ],
   "source": [
    "result1 = 0\n",
    "result2 = 0\n",
    "\n",
    "def add1(num):\n",
    "    global result1\n",
    "    result1 += num\n",
    "    return result1\n",
    "\n",
    "def add2(num):\n",
    "    global result2\n",
    "    result2 += num\n",
    "    return result2\n",
    "\n",
    "print(add1(3))\n",
    "print(add1(4))\n",
    "print(add2(3))\n",
    "print(add2(7))"
   ]
  },
  {
   "source": [
    "계산기1의 결괏값이 계산기2에 아무 영향을 미치지 않음을 확인할 수 있다. 하지만 계산기가 2개가 아닌 훨씬 더 많은 개수를 요구한다면 그 많은 계산기 함수를 다 만들어야 할까? 이러한 경우 클래스를 사용하면 다음과 같이 간단하게 해결할 수 있다."
   ],
   "cell_type": "markdown",
   "metadata": {}
  },
  {
   "cell_type": "code",
   "execution_count": 6,
   "metadata": {},
   "outputs": [
    {
     "output_type": "stream",
     "name": "stdout",
     "text": [
      "3\n7\n3\n10\n"
     ]
    }
   ],
   "source": [
    "class Calculator:\n",
    "    def __init__(self):\n",
    "        self.result = 0\n",
    "    \n",
    "    def add(self, num):\n",
    "        self.result += num\n",
    "        return self.result\n",
    "\n",
    "cal1 = Calculator()\n",
    "cal2 = Calculator()\n",
    "\n",
    "print(cal1.add(3))\n",
    "print(cal1.add(4))\n",
    "print(cal2.add(3))\n",
    "print(cal2.add(7))"
   ]
  },
  {
   "source": [
    "프로그램을 실행하면 함수 2개를 사용했을 때와 동일한 결과가 출력되는 것을 확인할 수 있다.  \n",
    "<br>\n",
    "Calculator 클래스로 만든 별개의 계산기 cal1, cal2(**파이썬에서는 이것을 객체라고 부른다.**)가 각각의 역할을 수행한다. 그리고 계산기(cal1, cal2)의 결괏값 역시 다른 계산기의 결괏값과 상관없이 독립적인 값을 유지한다. 클래스를 사용하면 계산기 대수가 늘어나더라도 객체를 생성만 하면 되기 때문에 함수를 사용하는 경우와 달리 매우 간단해진다. 만약 빼기 기능을 더하려면 Calculator 클래스에 다음과 같은 빼기 기능 함수를 추가해주면 된다."
   ],
   "cell_type": "markdown",
   "metadata": {}
  },
  {
   "cell_type": "code",
   "execution_count": 7,
   "metadata": {},
   "outputs": [],
   "source": [
    "def sub(self, num):\n",
    "    self.result -= num\n",
    "    return self.result"
   ]
  },
  {
   "source": [
    "## 클래스와 객체\n",
    "---\n",
    "과자와 과자 틀을 가지고 클래스를 설명해보면 다음과 같다.\n",
    "* 과자 틀 --> 클래스(class)\n",
    "* 과자 틀로 만든 과자 --> 객체(object)\n",
    "\n",
    "클래스(class)란 똑같은 무엇인가를 계속해서 만들어 낼 수 있는 설계 도면이고(과자 틀), 객체(object)란 클래스로 만든 피조물(과자 틀을 사용해 만든 과자)을 뜻한다.  \n",
    "클래스로 만든 객체에는 중요한 특징이 있다. 바로 객체마다 고유한 성격을 가진다는 것이다. 동일한 클래스로 만든 객체들은 서로 전혀 영향을 주지 않는다."
   ],
   "cell_type": "markdown",
   "metadata": {}
  },
  {
   "source": [
    "파이썬 클래스의 가장 간단한 예시를 살펴보자."
   ],
   "cell_type": "markdown",
   "metadata": {}
  },
  {
   "cell_type": "code",
   "execution_count": 2,
   "metadata": {},
   "outputs": [],
   "source": [
    "class Cookie:\n",
    "    pass"
   ]
  },
  {
   "source": [
    "위의 클래스는 아무런 기능을 가지지 않는 클래스이지만 이러한 클래스도 객체를 생성하는 기능이 있다. 객체는 클래스로 만들며 1개의 클래스는 무수히 많은 객체를 만들어 낼 수 있다. 위에서 만든 Cookie 클래스의 객체를 만드는 방법은 다음과 같다."
   ],
   "cell_type": "markdown",
   "metadata": {}
  },
  {
   "cell_type": "code",
   "execution_count": 5,
   "metadata": {},
   "outputs": [],
   "source": [
    "a = Cookie()\n",
    "b = Cookie()"
   ]
  },
  {
   "source": [
    "`Cookie()` 의 결괏값을 돌려받은 a와 b가 바로 객체이다. 마치 함수를 사용해서 그 결괏값을 돌려받는 모습과 유사하다."
   ],
   "cell_type": "markdown",
   "metadata": {}
  },
  {
   "source": [
    "**\\[객체와 인스턴스의 차이\\]**  \n",
    "<br>\n",
    "클래스로 만든 객체를 인스턴스라고도 한다. 그렇다면 객체와 인스턴스의 차이는 무엇일까?  \n",
    "`a = Cookie()` 이렇게 만든 a는 객체이다. 그리고 a 객체는 Cookie의 인스턴스이다. 즉 인스턴스라는 말은 특정 객체(a)가 어떤 클래스(Cookie)의 객체인지를 관계 위주로 설명할 때 사용한다. \"a는 인스턴스\" 보다는 \"a는 객체\" 라는 표현이 어울리며 \"a는 Cookie의 객체\" 보다는 \"a는 Cookie의 인스턴스\"라는 표현이 훨씬 잘 어울린다."
   ],
   "cell_type": "markdown",
   "metadata": {}
  },
  {
   "source": [
    "## 사칙연산 클래스 만들기 \n",
    "---\n",
    "사칙연산을 쉽게 해주는 클래스를 만들어 보자."
   ],
   "cell_type": "markdown",
   "metadata": {}
  },
  {
   "source": [
    "### 1. 클래스를 어떻게 만들지 먼저 구상하기\n",
    "클래스는 무작정 만드는 것보다 클래스로 만든 객체를 중심으로 어떤 식으로 동작하게 할 것인지 미리 구상을 한 후에 생각한 것들을 하나씩 해결하면서 완성해 나가는 것이 좋다. 사칙연산을 가능하게 하는 FourCal 클래스가 다음처럼 동작한다고 가정해보자.  \n",
    "<br>\n",
    "먼저 `a = FourCal()` 를 입력해서 a라는 객체를 만든다.  \n",
    "<br>\n",
    "그런 다음 `a.setdata(4, 2)`처럼 입력해서 숫자 4와 2를 a에 지정해주고 `a.add()`, `a.mul()`, `a.sub()`, `a.div()`를 수행하면 각각 덧셈, 곱셈, 뺄셈, 나눗셈을 수행한 결과를 돌려준다."
   ],
   "cell_type": "markdown",
   "metadata": {}
  },
  {
   "source": [
    "### 2. 클래스 구조 만들기\n",
    "앞에서 구상한 것처럼 동작하는 클래스를 만들어보자. 가장 먼저 할 일은 `a = FourCal()`처럼 객체를 만들 수 있게 하는 것이다. 일단은 아무 기능이 없어도 되기 때문에 매우 간단히 만들 수 있다."
   ],
   "cell_type": "markdown",
   "metadata": {}
  },
  {
   "cell_type": "code",
   "execution_count": 2,
   "metadata": {},
   "outputs": [],
   "source": [
    "class FourCal:\n",
    "    pass"
   ]
  },
  {
   "source": [
    "우선 위와 같이 pass라는 문장만 포함함 FourCal 클래스를 만든다. FourCal 클래스는 아무 변수나 함수도 포함하지 않았지만 우리가 원하는 객체 a를 만들 수 있는 기능은 가지고 있다. 참고로 pass는 아무것도 수행하지 않는 문법으로 임시로 코드를 작성할 때 주로 사용한다."
   ],
   "cell_type": "markdown",
   "metadata": {}
  },
  {
   "cell_type": "code",
   "execution_count": 3,
   "metadata": {},
   "outputs": [
    {
     "output_type": "execute_result",
     "data": {
      "text/plain": [
       "__main__.FourCal"
      ]
     },
     "metadata": {},
     "execution_count": 3
    }
   ],
   "source": [
    "a = FourCal()\n",
    "type(a)"
   ]
  },
  {
   "source": [
    "`a = FourCal()`로 객체 a를 만들고 그 다음에 `type(a)`로 a 객체가 어떤 타입인지 알아보았다. 객체 a가 FourCal 클래스의 객체임을 알 수 있다."
   ],
   "cell_type": "markdown",
   "metadata": {}
  },
  {
   "source": [
    "### 3. 객체에 숫자 지정할 수 있게 만들기\n",
    "이제 사칙연산 기능을 하는 객체를 만들어보자. 이러한 기능을 가진 객체를 만들기 위해서는 2개의 숫자를 a 객체에 알려주어야 한다.  \n",
    "연산을 수행할 대상(4, 2)을 객체에 지정할 수 있게 만들어 보자. `a.setdata(4, 2)`를 수행하기 위해서는 `setdata()` 라는 함수가 클래스 내에 정의되어 있어야 한다."
   ],
   "cell_type": "markdown",
   "metadata": {}
  },
  {
   "cell_type": "code",
   "execution_count": 4,
   "metadata": {},
   "outputs": [],
   "source": [
    "class FourCal:\n",
    "    def setdata(self, first, second):       # 1) 메서드의 매개변수\n",
    "        self.first = first                  # 2) 메서드의 수행문\n",
    "        self.second = second                # 3) 메서드의 수행문"
   ]
  },
  {
   "source": [
    "위와 같이 클래스 안에 구현된 함수는 다른 말로 **메서드(Method)**라고 부른다."
   ],
   "cell_type": "markdown",
   "metadata": {}
  },
  {
   "source": [
    "#### 1) setdata 메서드의 매개변수\n",
    "setdata 메서드는 매개변수로 self, first, second 3개를 입력값으로 받는다. 일반적인 함수와는 달리 메서드의 첫 번째 매개변수 self는 특별한 의미를 가진다."
   ],
   "cell_type": "markdown",
   "metadata": {}
  },
  {
   "cell_type": "code",
   "execution_count": 6,
   "metadata": {},
   "outputs": [],
   "source": [
    "a = FourCal()\n",
    "a.setdata(4, 2)"
   ]
  },
  {
   "source": [
    "a 객체를 만들고 a 객체를 통해 setdata 메서드를 호출했다. 그런데 setdata 메서드에는 총 3개의 매개변수가 필요한데 실제로는 2개 값만 전달했다. 그 이유는 `setdata(4, 2)`처럼 호출하면 setdata 메서드의 첫 번째 매개변수 self에는 setdata 메서드를 호출한 객체 a가 자동으로 전달되기 때문이다.  \n",
    "<br>\n",
    "파이썬 메서드의 첫 번째 매개변수 이름은 관례적으로 self를 사용한다. 객체를 호출할 때 호출한 객체 자신이 전달되기 때문에 self를 사용한 것이다. 물론 self말고 다른 이름을 사용해도 상관없다."
   ],
   "cell_type": "markdown",
   "metadata": {}
  },
  {
   "source": [
    "#### \\[메서드의 또 다른 호출 방법\\]\n",
    "잘 사용하지는 않지만 클래스를 통해서 메서드를 호출하는 것도 가능하다."
   ],
   "cell_type": "markdown",
   "metadata": {}
  },
  {
   "cell_type": "code",
   "execution_count": 8,
   "metadata": {},
   "outputs": [],
   "source": [
    "a = FourCal()\n",
    "FourCal.setdata(a, 4, 2)"
   ]
  },
  {
   "source": [
    "위와 같이 `클래스 이름.메서드` 형태로 호출할 때는 객체 a를 첫 번째 매개변수 self에 꼭 전달해주어야 한다. 반면에 `객체.메서드` 형태로 호출할 때는 self를 반드시 생략해서 호출해야 한다."
   ],
   "cell_type": "markdown",
   "metadata": {}
  },
  {
   "cell_type": "code",
   "execution_count": 9,
   "metadata": {},
   "outputs": [],
   "source": [
    "a = FourCal()\n",
    "a.setdata(4, 2)"
   ]
  },
  {
   "source": [
    "#### 2) setdata 메서드의 수행문"
   ],
   "cell_type": "markdown",
   "metadata": {}
  },
  {
   "cell_type": "code",
   "execution_count": 10,
   "metadata": {},
   "outputs": [],
   "source": [
    "def setdata(self, first, second):       # 1) 메서드의 매개변수\n",
    "        self.first = first              # 2) 메서드의 수행문\n",
    "        self.second = second            # 3) 메서드의 수행문"
   ]
  },
  {
   "source": [
    "`a.setdata(4, 2)` 처럼 호출하면 setdata 메서드의 매개변수 first, second에는 각각 값 4와 2가 전달되어 setdata 메서드의 수행문은 다음과 같이 해석된다.\n",
    "\n",
    "* `self.first = 4`\n",
    "* `self.second = 2`\n",
    "\n",
    "self는 전달된 객체 a이므로 다음과 같이 해석된다.\n",
    "\n",
    "* `a.first = 4`\n",
    "* `a.second = 2`\n",
    "\n",
    "`a.first = 4` 문장이 수행되면 a 객체에 객체변수 first가 생성되고 값 4가 저장된다. 마찬가지로 a.second = 2 문장이 수행되면 a 객체에 객체변수 second가 생성되고 값 2가 저장된다.\n",
    "> 객체에 생성되는 객체만의 변수를 객체변수라고 부른다."
   ],
   "cell_type": "markdown",
   "metadata": {}
  },
  {
   "cell_type": "code",
   "execution_count": 11,
   "metadata": {},
   "outputs": [
    {
     "output_type": "stream",
     "name": "stdout",
     "text": [
      "4\n2\n"
     ]
    }
   ],
   "source": [
    "a = FourCal()\n",
    "a.setdata(4, 2)\n",
    "print(a.first)\n",
    "print(a.second)"
   ]
  },
  {
   "source": [
    "a 객체에 객체변수 first와 second가 생성되었음을 알 수 있다."
   ],
   "cell_type": "markdown",
   "metadata": {}
  },
  {
   "source": [
    "이번에는 다음과 같이 a, b 객체를 만들고 a 객체의 객체변수 first와 b 객체의 객체변수 first를 다음과 같이 생성한다."
   ],
   "cell_type": "markdown",
   "metadata": {}
  },
  {
   "cell_type": "code",
   "execution_count": 13,
   "metadata": {},
   "outputs": [
    {
     "output_type": "stream",
     "name": "stdout",
     "text": [
      "4\n3\n"
     ]
    }
   ],
   "source": [
    "a = FourCal()\n",
    "b = FourCal()\n",
    "\n",
    "a.setdata(4, 2)\n",
    "b.setdata(3, 7)\n",
    "\n",
    "print(a.first)\n",
    "print(b.first)"
   ]
  },
  {
   "source": [
    "위와 같이 진행하면 b 객체의 객체변수 first에는 값 3이 저장된다는 것을 확인할 수 있었다. 그렇다면 a 객체의 first는 3으로 변할까, 아니면 기존 값 4를 유지할까?"
   ],
   "cell_type": "markdown",
   "metadata": {}
  },
  {
   "cell_type": "code",
   "execution_count": 14,
   "metadata": {},
   "outputs": [
    {
     "output_type": "stream",
     "name": "stdout",
     "text": [
      "4\n"
     ]
    }
   ],
   "source": [
    "print(a.first)"
   ]
  },
  {
   "source": [
    "a 객체의 first 값은 b 객체의 first 값에 영향을 받지 않고 원래 값을 유지하는 것을 확인할 수 있다.  \n",
    "**즉, 클래스로 만든 객체의 객체변수는 다른 객체의 객체변수에 상관없이 독립적인 값을 유지한다.**  \n",
    "<br>\n",
    "id 함수를 사용하면 객체변수가 독립적인 값을 유지한다는 점을 좀 더 명확하게 증명해 보일 수 있다."
   ],
   "cell_type": "markdown",
   "metadata": {}
  },
  {
   "cell_type": "code",
   "execution_count": 19,
   "metadata": {},
   "outputs": [
    {
     "output_type": "stream",
     "name": "stdout",
     "text": [
      "2510746118544\n2510746118512\n"
     ]
    }
   ],
   "source": [
    "a = FourCal()\n",
    "b = FourCal()\n",
    "a.setdata(4, 2)\n",
    "b.setdata(3, 7)\n",
    "print(id(a.first))\n",
    "print(id(b.first))"
   ]
  },
  {
   "source": [
    "a 객체의 first 주소 값과 b 객체의 first 주소 값이 서로 다르기 때문에 각각 다른 곳에 저장된다는 것을 확인할 수 있다. 객체변수는 그 객체의 고유 값을 저장할 수 있는 공간이다. 객체 변수는 다른 객체들의 영향을 받지 않고 독립적으로 그 값을 유지한다는 점을 반드시 기억하자.\n",
    "\n",
    "현재까지 완성된 FourCal 클래스는 다음과 같다."
   ],
   "cell_type": "markdown",
   "metadata": {}
  },
  {
   "cell_type": "code",
   "execution_count": 20,
   "metadata": {},
   "outputs": [],
   "source": [
    "class FourCal:\n",
    "    def setdata(self, first, second):\n",
    "        self.first = first\n",
    "        self.second = second"
   ]
  },
  {
   "source": [
    "### 4. 더하기 기능 만들기\n",
    "덧셈 연산이 가능하도록 FourCal 클래스를 수정한다."
   ],
   "cell_type": "markdown",
   "metadata": {}
  },
  {
   "cell_type": "code",
   "execution_count": 21,
   "metadata": {},
   "outputs": [],
   "source": [
    "class FourCal:\n",
    "    def setdata(self, first, second):\n",
    "        self.first = first\n",
    "        self.second = second\n",
    "    def add(self):\n",
    "        result = self.first + self.second\n",
    "        return result"
   ]
  },
  {
   "cell_type": "code",
   "execution_count": 23,
   "metadata": {},
   "outputs": [],
   "source": [
    "a = FourCal()\n",
    "a.setdata(4, 2)"
   ]
  },
  {
   "source": [
    "위와 같이 호출하면 앞에서 살펴본 것처럼 a 객체의 first, second 객체변수에는 각각 값 4와 2가 저장될 것이다. 이 상태에서 add 메서드를 호출하면 다음과 같다."
   ],
   "cell_type": "markdown",
   "metadata": {}
  },
  {
   "cell_type": "code",
   "execution_count": 24,
   "metadata": {},
   "outputs": [
    {
     "output_type": "execute_result",
     "data": {
      "text/plain": [
       "6"
      ]
     },
     "metadata": {},
     "execution_count": 24
    }
   ],
   "source": [
    "a.add()"
   ]
  },
  {
   "source": [
    "\n",
    "add 메서드의 매개변수는 self이고 반환 값은 result이다. 반환 값인 result를 계산하는 부분은 다음과 같다.\n",
    "> `result = self.first + self.second`\n",
    "\n",
    "`a.add()`와 같이 a 객체에 의해 add 메서드가 수행되면 add 메서드의 self에는 객체 a가 자동으로 입력되므로 위 내용은 다음과 같이 해석할 수 있다.\n",
    "> `result = a.first + a.second`\n",
    "\n",
    "위 내용은 `a.add()` 메서드 호출 전에 `a.setdata(4, 2)`가 먼저 호출되어 `a.first = 4, a.second = 2` 라고 이미 설정되었기 때문에 다시 다음과 같이 해석한다.\n",
    "> `result = 4 + 2`"
   ],
   "cell_type": "markdown",
   "metadata": {}
  },
  {
   "source": [
    "### 5. 곱하기, 빼기, 나누기 기능 만들기"
   ],
   "cell_type": "markdown",
   "metadata": {}
  },
  {
   "cell_type": "code",
   "execution_count": 26,
   "metadata": {},
   "outputs": [],
   "source": [
    "class FourCal:\n",
    "    def setdata(self, first, second):\n",
    "        self.first = first\n",
    "        self.second = second\n",
    "    def add(self):\n",
    "        result = self.first + self.second\n",
    "        return result\n",
    "    def mul(self):\n",
    "        result = self.first * self.second\n",
    "        return result\n",
    "    def sub(self):\n",
    "        result = self.first - self.second\n",
    "        return result\n",
    "    def div(self):\n",
    "        result = self.first / self.second\n",
    "        return result"
   ]
  },
  {
   "source": [
    "모든 기능이 정상적으로 작동하는지 확인해보자."
   ],
   "cell_type": "markdown",
   "metadata": {}
  },
  {
   "cell_type": "code",
   "execution_count": 27,
   "metadata": {},
   "outputs": [
    {
     "output_type": "stream",
     "name": "stdout",
     "text": [
      "6\n8\n2\n2.0\n11\n24\n-5\n0.375\n"
     ]
    }
   ],
   "source": [
    "a = FourCal()\n",
    "b = FourCal()\n",
    "a.setdata(4, 2)\n",
    "b.setdata(3, 8)\n",
    "print(a.add())\n",
    "print(a.mul())\n",
    "print(a.sub())\n",
    "print(a.div())\n",
    "print(b.add())\n",
    "print(b.mul())\n",
    "print(b.sub())\n",
    "print(b.div())"
   ]
  },
  {
   "source": [
    "처음 목표로 했던 사칙연산 클래스는 정상적으로 작동하는 것을 확인했다."
   ],
   "cell_type": "markdown",
   "metadata": {}
  },
  {
   "source": [
    "## 생성자(Constructor)\n",
    "---\n",
    "앞에서 만든 FourCal 클래스를 다음과 같이 사용해보자."
   ],
   "cell_type": "markdown",
   "metadata": {}
  },
  {
   "cell_type": "code",
   "execution_count": 28,
   "metadata": {},
   "outputs": [
    {
     "output_type": "error",
     "ename": "AttributeError",
     "evalue": "'FourCal' object has no attribute 'first'",
     "traceback": [
      "\u001b[1;31m---------------------------------------------------------------------------\u001b[0m",
      "\u001b[1;31mAttributeError\u001b[0m                            Traceback (most recent call last)",
      "\u001b[1;32m<ipython-input-28-93d8790fe05f>\u001b[0m in \u001b[0;36m<module>\u001b[1;34m\u001b[0m\n\u001b[0;32m      1\u001b[0m \u001b[0ma\u001b[0m \u001b[1;33m=\u001b[0m \u001b[0mFourCal\u001b[0m\u001b[1;33m(\u001b[0m\u001b[1;33m)\u001b[0m\u001b[1;33m\u001b[0m\u001b[1;33m\u001b[0m\u001b[0m\n\u001b[1;32m----> 2\u001b[1;33m \u001b[0ma\u001b[0m\u001b[1;33m.\u001b[0m\u001b[0madd\u001b[0m\u001b[1;33m(\u001b[0m\u001b[1;33m)\u001b[0m\u001b[1;33m\u001b[0m\u001b[1;33m\u001b[0m\u001b[0m\n\u001b[0m",
      "\u001b[1;32m<ipython-input-26-395058f0395a>\u001b[0m in \u001b[0;36madd\u001b[1;34m(self)\u001b[0m\n\u001b[0;32m      4\u001b[0m         \u001b[0mself\u001b[0m\u001b[1;33m.\u001b[0m\u001b[0msecond\u001b[0m \u001b[1;33m=\u001b[0m \u001b[0msecond\u001b[0m\u001b[1;33m\u001b[0m\u001b[1;33m\u001b[0m\u001b[0m\n\u001b[0;32m      5\u001b[0m     \u001b[1;32mdef\u001b[0m \u001b[0madd\u001b[0m\u001b[1;33m(\u001b[0m\u001b[0mself\u001b[0m\u001b[1;33m)\u001b[0m\u001b[1;33m:\u001b[0m\u001b[1;33m\u001b[0m\u001b[1;33m\u001b[0m\u001b[0m\n\u001b[1;32m----> 6\u001b[1;33m         \u001b[0mresult\u001b[0m \u001b[1;33m=\u001b[0m \u001b[0mself\u001b[0m\u001b[1;33m.\u001b[0m\u001b[0mfirst\u001b[0m \u001b[1;33m+\u001b[0m \u001b[0mself\u001b[0m\u001b[1;33m.\u001b[0m\u001b[0msecond\u001b[0m\u001b[1;33m\u001b[0m\u001b[1;33m\u001b[0m\u001b[0m\n\u001b[0m\u001b[0;32m      7\u001b[0m         \u001b[1;32mreturn\u001b[0m \u001b[0mresult\u001b[0m\u001b[1;33m\u001b[0m\u001b[1;33m\u001b[0m\u001b[0m\n\u001b[0;32m      8\u001b[0m     \u001b[1;32mdef\u001b[0m \u001b[0mmul\u001b[0m\u001b[1;33m(\u001b[0m\u001b[0mself\u001b[0m\u001b[1;33m)\u001b[0m\u001b[1;33m:\u001b[0m\u001b[1;33m\u001b[0m\u001b[1;33m\u001b[0m\u001b[0m\n",
      "\u001b[1;31mAttributeError\u001b[0m: 'FourCal' object has no attribute 'first'"
     ]
    }
   ],
   "source": [
    "a = FourCal()\n",
    "a.add()"
   ]
  },
  {
   "source": [
    "FourCal 클래스의 인스턴스 a에 setdata 메서드를 수행하지 않고 add 메서드를 수행하면 `AttributeError: 'FourCal' object has no attribute 'first'` 라는 에러가 발생하는데 이것은 setdata를 수행하야지만 객체 a의 객체변수 first와 second가 생성되기 때문이다.  \n",
    "\n",
    "객체에 초깃값을 설정해야 할 필요가 있을 때는 setdata와 같은 메서드를 호출하여 초깃값을 설정하기보다는 생성자를 구현하는 것이 안전한 방법이다. 생성자(Constructor)란 객체가 생성될 때 자동으로 호출되는 메서드를 의미한다.\n",
    "\n",
    "파이썬 메서드 이름으로 `__init__`을 사용하면 이 메서드는 생성자가 된다. FourCal 클래스에 생성자를 추가해보자."
   ],
   "cell_type": "markdown",
   "metadata": {}
  },
  {
   "cell_type": "code",
   "execution_count": 29,
   "metadata": {},
   "outputs": [],
   "source": [
    "class FourCal:\n",
    "    def __init__(self, first, second):\n",
    "        self.first = first\n",
    "        self.second = second\n",
    "    def setdata(self, first, second):\n",
    "        self.first = first\n",
    "        self.second = second\n",
    "    def add(self):\n",
    "        result = self.first + self.second\n",
    "        return result\n",
    "    def mul(self):\n",
    "        result = self.first * self.second\n",
    "        return result\n",
    "    def sub(self):\n",
    "        result = self.first - self.second\n",
    "        return result\n",
    "    def div(self):\n",
    "        result = self.first / self.second\n",
    "        return result"
   ]
  },
  {
   "cell_type": "code",
   "execution_count": 30,
   "metadata": {},
   "outputs": [],
   "source": [
    "def __init__(self, first, second):\n",
    "    self.first = first\n",
    "    self.second = second"
   ]
  },
  {
   "source": [
    "새롭게 추가된 생성자 `__init__` 메서드는 setdata 메서드와 이름만 다르고 모든 것이 동일하다. 단 메서드 이름을 __init__으로 했기 때문에 생성자로 인식되어 객체가 생성되는 시점에 자동으로 호출되는 차이가 있다."
   ],
   "cell_type": "markdown",
   "metadata": {}
  },
  {
   "cell_type": "code",
   "execution_count": 31,
   "metadata": {},
   "outputs": [
    {
     "output_type": "error",
     "ename": "TypeError",
     "evalue": "__init__() missing 2 required positional arguments: 'first' and 'second'",
     "traceback": [
      "\u001b[1;31m---------------------------------------------------------------------------\u001b[0m",
      "\u001b[1;31mTypeError\u001b[0m                                 Traceback (most recent call last)",
      "\u001b[1;32m<ipython-input-31-5cfa1e393ba9>\u001b[0m in \u001b[0;36m<module>\u001b[1;34m\u001b[0m\n\u001b[1;32m----> 1\u001b[1;33m \u001b[0ma\u001b[0m \u001b[1;33m=\u001b[0m \u001b[0mFourCal\u001b[0m\u001b[1;33m(\u001b[0m\u001b[1;33m)\u001b[0m\u001b[1;33m\u001b[0m\u001b[1;33m\u001b[0m\u001b[0m\n\u001b[0m",
      "\u001b[1;31mTypeError\u001b[0m: __init__() missing 2 required positional arguments: 'first' and 'second'"
     ]
    }
   ],
   "source": [
    "a = FourCal()"
   ]
  },
  {
   "source": [
    "`a = FourCal()`을 수행할 때 생성자 `__init__`이 호출되어 위와 같은 오류가 발생한다. 오류가 발생한 이유는 생성자의 매개변수 first와 second에 해당하는 값이 전달되지 않았기 때문이다.\n",
    "\n",
    "이러한 오류를 해결하기 위해서는 first와 second에 해당하는 값을 전달하여 객체를 생성해야 한다."
   ],
   "cell_type": "markdown",
   "metadata": {}
  },
  {
   "cell_type": "code",
   "execution_count": 32,
   "metadata": {},
   "outputs": [],
   "source": [
    "a = FourCal(4, 2)"
   ]
  },
  {
   "source": [
    "위와 같이 수행하면 `__init__` 메서드의 매개변수에는 각각 다음과 같이 값이 대입된다.\n",
    "* self <-- 생성되는 객체\n",
    "* first <-- 4\n",
    "* second <-- 2\n",
    "\n",
    "> `__init__` 메서드도 다른 메서드와 같이 첫 번째 매개변수 self에 생성되는 객체가 자동으로 전달된다는 점을 기억하자.\n",
    "\n",
    "따라서 `__init__` 메서드가 호출되면 setdata 메서드를 호출했을 때와 같이 first와 second라는 객체변수가 생성될 것이다.\n",
    "객체변수의 값을 확인해보자."
   ],
   "cell_type": "markdown",
   "metadata": {}
  },
  {
   "cell_type": "code",
   "execution_count": 33,
   "metadata": {},
   "outputs": [
    {
     "output_type": "stream",
     "name": "stdout",
     "text": [
      "4\n2\n"
     ]
    }
   ],
   "source": [
    "a = FourCal(4, 2)\n",
    "print(a.first)\n",
    "print(a.second)"
   ]
  },
  {
   "cell_type": "code",
   "execution_count": 34,
   "metadata": {},
   "outputs": [
    {
     "output_type": "execute_result",
     "data": {
      "text/plain": [
       "6"
      ]
     },
     "metadata": {},
     "execution_count": 34
    }
   ],
   "source": [
    "a = FourCal(4, 2)\n",
    "a.add()"
   ]
  },
  {
   "cell_type": "code",
   "execution_count": 35,
   "metadata": {},
   "outputs": [
    {
     "output_type": "execute_result",
     "data": {
      "text/plain": [
       "2.0"
      ]
     },
     "metadata": {},
     "execution_count": 35
    }
   ],
   "source": [
    "a.div()"
   ]
  },
  {
   "source": [
    "생성자를 추가하고 나서도 정상적으로 작동하는 것을 확인할 수 있다."
   ],
   "cell_type": "markdown",
   "metadata": {}
  },
  {
   "source": [
    "## 클래스의 상속(inheritance)\n",
    "---\n",
    "어떤 클래스를 만들 때 다른 클래스의 기능을 물려받을 수 있게 만드는 것이 상속의 개념이다. 상속 개념을 사용해서 FourCal 클래스에 a의 b제곱을 구할 수 있는 기능을 추가해보자.\n",
    "\n",
    "앞에서 FourCal 클래스는 이미 만들어 놓았기 때문에 FourCal 클래스를 상속하는 MoreFourCal 클래스는 다음과 같이 간단하게 만들 수 있다."
   ],
   "cell_type": "markdown",
   "metadata": {}
  },
  {
   "cell_type": "code",
   "execution_count": 36,
   "metadata": {},
   "outputs": [],
   "source": [
    "class MoreFourCal(FourCal):\n",
    "    pass"
   ]
  },
  {
   "source": [
    "클래스를 상속할 때는 다음과 같은 형식을 취한다.\n",
    "> class 클래스이름 ( 상속할 클래스 이름 )\n",
    "\n",
    "MoreFourCal 클래스는 FourCal 클래스를 상속했기 때문에 FourCal 클래스의 모든 기능을 사용할 수 있어야 한다."
   ],
   "cell_type": "markdown",
   "metadata": {}
  },
  {
   "cell_type": "code",
   "execution_count": 37,
   "metadata": {},
   "outputs": [
    {
     "output_type": "stream",
     "name": "stdout",
     "text": [
      "6\n8\n2\n2.0\n"
     ]
    }
   ],
   "source": [
    "a = MoreFourCal(4, 2)\n",
    "print(a.add())\n",
    "print(a.mul())\n",
    "print(a.sub())\n",
    "print(a.div())"
   ]
  },
  {
   "source": [
    "### \\[왜 상속을 해야 할까?\\]\n",
    "보통 상속은 기존 클래스를 변경하지 않고 기능을 추가하거나 기존 기능을 변경하려고 할 때 사용한다. 기존 클래스가 라이브러리 형태로 제공되거나 수정이 허용되지 않을 때는 상속을 사용해야 한다."
   ],
   "cell_type": "markdown",
   "metadata": {}
  },
  {
   "source": [
    "원래 목적인 a의 b제곱을 계산하는 MoreFourCal 클래스를 만들어보자."
   ],
   "cell_type": "markdown",
   "metadata": {}
  },
  {
   "cell_type": "code",
   "execution_count": 38,
   "metadata": {},
   "outputs": [],
   "source": [
    "class MoreFourCal(FourCal):\n",
    "    def pow(self):\n",
    "        result = self.first ** self.second\n",
    "        return result"
   ]
  },
  {
   "cell_type": "code",
   "execution_count": 39,
   "metadata": {},
   "outputs": [
    {
     "output_type": "execute_result",
     "data": {
      "text/plain": [
       "16"
      ]
     },
     "metadata": {},
     "execution_count": 39
    }
   ],
   "source": [
    "a = MoreFourCal(4, 2)\n",
    "a.pow()"
   ]
  },
  {
   "source": [
    "이처럼 상속은 기존 클래스는 그대로 놓은 채 클래스의 기능을 확장시킬 때 주로 사용한다."
   ],
   "cell_type": "markdown",
   "metadata": {}
  },
  {
   "source": [
    "## 메서드 오버라이딩\n",
    "---"
   ],
   "cell_type": "markdown",
   "metadata": {}
  },
  {
   "cell_type": "code",
   "execution_count": 41,
   "metadata": {},
   "outputs": [
    {
     "output_type": "error",
     "ename": "ZeroDivisionError",
     "evalue": "division by zero",
     "traceback": [
      "\u001b[1;31m---------------------------------------------------------------------------\u001b[0m",
      "\u001b[1;31mZeroDivisionError\u001b[0m                         Traceback (most recent call last)",
      "\u001b[1;32m<ipython-input-41-5e9b2f546e11>\u001b[0m in \u001b[0;36m<module>\u001b[1;34m\u001b[0m\n\u001b[0;32m      1\u001b[0m \u001b[0ma\u001b[0m \u001b[1;33m=\u001b[0m \u001b[0mFourCal\u001b[0m\u001b[1;33m(\u001b[0m\u001b[1;36m4\u001b[0m\u001b[1;33m,\u001b[0m \u001b[1;36m0\u001b[0m\u001b[1;33m)\u001b[0m\u001b[1;33m\u001b[0m\u001b[1;33m\u001b[0m\u001b[0m\n\u001b[1;32m----> 2\u001b[1;33m \u001b[0ma\u001b[0m\u001b[1;33m.\u001b[0m\u001b[0mdiv\u001b[0m\u001b[1;33m(\u001b[0m\u001b[1;33m)\u001b[0m\u001b[1;33m\u001b[0m\u001b[1;33m\u001b[0m\u001b[0m\n\u001b[0m",
      "\u001b[1;32m<ipython-input-29-1dea4f7a912b>\u001b[0m in \u001b[0;36mdiv\u001b[1;34m(self)\u001b[0m\n\u001b[0;32m     16\u001b[0m         \u001b[1;32mreturn\u001b[0m \u001b[0mresult\u001b[0m\u001b[1;33m\u001b[0m\u001b[1;33m\u001b[0m\u001b[0m\n\u001b[0;32m     17\u001b[0m     \u001b[1;32mdef\u001b[0m \u001b[0mdiv\u001b[0m\u001b[1;33m(\u001b[0m\u001b[0mself\u001b[0m\u001b[1;33m)\u001b[0m\u001b[1;33m:\u001b[0m\u001b[1;33m\u001b[0m\u001b[1;33m\u001b[0m\u001b[0m\n\u001b[1;32m---> 18\u001b[1;33m         \u001b[0mresult\u001b[0m \u001b[1;33m=\u001b[0m \u001b[0mself\u001b[0m\u001b[1;33m.\u001b[0m\u001b[0mfirst\u001b[0m \u001b[1;33m/\u001b[0m \u001b[0mself\u001b[0m\u001b[1;33m.\u001b[0m\u001b[0msecond\u001b[0m\u001b[1;33m\u001b[0m\u001b[1;33m\u001b[0m\u001b[0m\n\u001b[0m\u001b[0;32m     19\u001b[0m         \u001b[1;32mreturn\u001b[0m \u001b[0mresult\u001b[0m\u001b[1;33m\u001b[0m\u001b[1;33m\u001b[0m\u001b[0m\n",
      "\u001b[1;31mZeroDivisionError\u001b[0m: division by zero"
     ]
    }
   ],
   "source": [
    "a = FourCal(4, 0)\n",
    "a.div()"
   ]
  },
  {
   "source": [
    "FourCal 클래스를 위와 같이 실행하면 4를 0으로 나누려고 하기 때문에 ZeroDivisionError 오류를 발생시킨다. 하지만 0으로 나눌 때 오류가 아닌 0을 돌려주도록 만들고 싶다면 다음과 같이 FourCal 클래스를 상속하는 SafeFourCal 클래스를 만들면 된다."
   ],
   "cell_type": "markdown",
   "metadata": {}
  },
  {
   "cell_type": "code",
   "execution_count": 42,
   "metadata": {},
   "outputs": [],
   "source": [
    "class SafeFourCal(FourCal):\n",
    "    def div(self):\n",
    "        if self.second == 0:\n",
    "            return 0\n",
    "        else:\n",
    "            return self.first / self.second"
   ]
  },
  {
   "source": [
    "SafeFourCal 클래스는 FourCal 클래스에 이미 존재하는 div 메서드를 동일한 이름으로 다시 작성하였다. 이렇게 부모 클래스(상속한 클래스)에 있는 메서드를 동일한 이름으로 다시 만드는 것을 **메서드 오버라이딩(Overriding, 덮어쓰기)** 이라고 한다. 이렇게 메서드를 오버라이딩하면 부모클래스의 메서드 대신 오버라이딩한 메서드가 호출된다."
   ],
   "cell_type": "markdown",
   "metadata": {}
  },
  {
   "cell_type": "code",
   "execution_count": 43,
   "metadata": {},
   "outputs": [
    {
     "output_type": "execute_result",
     "data": {
      "text/plain": [
       "0"
      ]
     },
     "metadata": {},
     "execution_count": 43
    }
   ],
   "source": [
    "a = SafeFourCal(4, 0)\n",
    "a.div()"
   ]
  },
  {
   "source": [
    "FourCal 클래스와는 달리 에러가 발생하지 않는 것을 확인할 수 있다."
   ],
   "cell_type": "markdown",
   "metadata": {}
  },
  {
   "source": [
    "## 클래스 변수\n",
    "---\n",
    "객체변수는 다른 객체들에 영향을 받지 않고 독립적으로 그 값을 유지한다는 점을 이미 살펴보았다. 이번에는 객체변수와 성격이 다른 클래스 변수에 대해 알아보자."
   ],
   "cell_type": "markdown",
   "metadata": {}
  },
  {
   "cell_type": "code",
   "execution_count": 44,
   "metadata": {},
   "outputs": [],
   "source": [
    "class Family:\n",
    "    lastname = \"김\""
   ]
  },
  {
   "source": [
    "Family 클래스에 선언한 lastname이 바로 클래스 변수이다. 클래스 변수는 클래스 안에 함수를 선언하는 것과 마찬가지로 클래스 안에 변수를 선언하여 생성된다."
   ],
   "cell_type": "markdown",
   "metadata": {}
  },
  {
   "cell_type": "code",
   "execution_count": 45,
   "metadata": {},
   "outputs": [
    {
     "output_type": "stream",
     "name": "stdout",
     "text": [
      "김\n"
     ]
    }
   ],
   "source": [
    "print(Family.lastname)"
   ]
  },
  {
   "source": [
    "클래스 변수는 위 예시와 같은 방식으로 사용될 수 있다.  \n",
    "또는 Family 클래스로 만든 객체를 통해서도 클래스 변수 사용이 가능하다."
   ],
   "cell_type": "markdown",
   "metadata": {}
  },
  {
   "cell_type": "code",
   "execution_count": 46,
   "metadata": {},
   "outputs": [
    {
     "output_type": "stream",
     "name": "stdout",
     "text": [
      "김\n김\n"
     ]
    }
   ],
   "source": [
    "a = Family()\n",
    "b = Family()\n",
    "print(a.lastname)\n",
    "print(b.lastname)"
   ]
  },
  {
   "source": [
    "만약 Family 클래스의 lastname을 다음과 같이 \"박\"이라는 문자열로 바꾸면 다음과 같은 결과가 출력된다."
   ],
   "cell_type": "markdown",
   "metadata": {}
  },
  {
   "cell_type": "code",
   "execution_count": 47,
   "metadata": {},
   "outputs": [
    {
     "output_type": "stream",
     "name": "stdout",
     "text": [
      "박\n박\n"
     ]
    }
   ],
   "source": [
    "Family.lastname = \"박\"\n",
    "print(a.lastname)\n",
    "print(b.lastname)"
   ]
  },
  {
   "source": [
    "클래스 변수 값을 변경했더니 클래스로 만든 객체의 lastname 값도 모두 변경된다는 것을 확인할 수 있다. 즉, 클래스 변수는 클래스로 만든 모든 객체에 공유된다는 특징이 있다.  \n",
    "id 함수를 사용해서 클래스 변수가 공유된다는 사실을 확실하게 확인해보자."
   ],
   "cell_type": "markdown",
   "metadata": {}
  },
  {
   "cell_type": "code",
   "execution_count": 48,
   "metadata": {},
   "outputs": [
    {
     "output_type": "stream",
     "name": "stdout",
     "text": [
      "2510833145696\n2510833145696\n2510833145696\n"
     ]
    }
   ],
   "source": [
    "print(id(Family.lastname))\n",
    "print(id(a.lastname))\n",
    "print(id(b.lastname))"
   ]
  },
  {
   "source": [
    "위 결과를 확인했을 때 모두 같은 메모리 주소를 가지기 때문에 클래스 변수가 공유된다는 것이 증명된다."
   ],
   "cell_type": "markdown",
   "metadata": {}
  }
 ]
}