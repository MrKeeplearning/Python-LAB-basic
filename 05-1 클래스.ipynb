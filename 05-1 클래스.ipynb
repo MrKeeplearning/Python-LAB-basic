{
 "metadata": {
  "language_info": {
   "codemirror_mode": {
    "name": "ipython",
    "version": 3
   },
   "file_extension": ".py",
   "mimetype": "text/x-python",
   "name": "python",
   "nbconvert_exporter": "python",
   "pygments_lexer": "ipython3",
   "version": "3.9.1-final"
  },
  "orig_nbformat": 2,
  "kernelspec": {
   "name": "python3",
   "display_name": "Python 3.9.1 64-bit",
   "metadata": {
    "interpreter": {
     "hash": "4d6401091f6de5a385c299b068c1e85516af19a094234475c31f99f1aabe410a"
    }
   }
  }
 },
 "nbformat": 4,
 "nbformat_minor": 2,
 "cells": [
  {
   "source": [
    "# 05-1 클래스\n",
    "---"
   ],
   "cell_type": "markdown",
   "metadata": {}
  },
  {
   "source": [
    "\n",
    "## 클래스는 왜 필요한가?\n",
    "---\n",
    "C언어에는 클래스가 없다. 이 말은 곧 클래스가 굳이 없어도 프로그램을 충분히 만들 수 있다는 뜻이다. 파이썬으로 잘 만든 프로그램을 살펴보아도 클래스를 사용하지 않고 작성한 것들이 상당히 많다. 클래스는 함수나 자료형처럼 프로그램 작성을 위해 꼭 필요한 요소는 아니다. 하지만 프로그램을 작성할 때 클래스를 적재적소에 사용하면 프로그래머가 얻을 수 있는 이익은 상당하다.  \n",
    "<br>\n",
    "계산기 예제를 작성해보자. 계산기에 숫자 3을 입력하고 + 기호를 입력한 뒤에 4를 입력하면 결괏값으로 7을 보여 준다. 여기서 + 기호를 입력한 후 3을 입력하면 기존 결괏값 7에 3을 더해 10을 보여준다. 즉 계산기는 이전에 계산한 결괏값을 항상 메모리 어딘가에 저장하고 있어야 한다. 이러한 내용을 함수를 이용해서 구현해보자.  \n",
    "<br>\n",
    "계산기의 '더하기' 기능을 구현한 파이썬 코드는 다음과 같다."
   ],
   "cell_type": "markdown",
   "metadata": {}
  },
  {
   "cell_type": "code",
   "execution_count": 3,
   "metadata": {},
   "outputs": [
    {
     "output_type": "stream",
     "name": "stdout",
     "text": [
      "3\n7\n"
     ]
    }
   ],
   "source": [
    "result = 0\n",
    "\n",
    "def add(num):\n",
    "    global result\n",
    "    result += num\n",
    "    return result\n",
    "\n",
    "print(add(3))\n",
    "print(add(4))"
   ]
  },
  {
   "source": [
    "이전에 계산한 결괏값을 유지하기 위해서 result는 전역 변수(global)를 사용했다.  \n",
    "<br>\n",
    "그런데 만약 한 프로그램에서 2대의 계산기가 필요한 상황이 발생하면 어떻게 해야 할까? 각 계산기는 각각의 결괏값을 유지하기 위해서 add함수 하나만으로는 결괏값을 따로 유지할 수 없다. 이런 상황을 해결하기 위해서는 다음과 같이 함수를 각각 따로 만들어야 한다.  \n",
    "똑같은 일을 하는 add1과 add2 함수를 만들었고 각 함수에서 계산한 결괏값을 유지하면서 저장하는 전역 변수 result1, result2가 필요하게 되었다."
   ],
   "cell_type": "markdown",
   "metadata": {}
  },
  {
   "cell_type": "code",
   "execution_count": 5,
   "metadata": {},
   "outputs": [
    {
     "output_type": "stream",
     "name": "stdout",
     "text": [
      "3\n7\n3\n10\n"
     ]
    }
   ],
   "source": [
    "result1 = 0\n",
    "result2 = 0\n",
    "\n",
    "def add1(num):\n",
    "    global result1\n",
    "    result1 += num\n",
    "    return result1\n",
    "\n",
    "def add2(num):\n",
    "    global result2\n",
    "    result2 += num\n",
    "    return result2\n",
    "\n",
    "print(add1(3))\n",
    "print(add1(4))\n",
    "print(add2(3))\n",
    "print(add2(7))"
   ]
  },
  {
   "source": [
    "계산기1의 결괏값이 계산기2에 아무 영향을 미치지 않음을 확인할 수 있다. 하지만 계산기가 2개가 아닌 훨씬 더 많은 개수를 요구한다면 그 많은 계산기 함수를 다 만들어야 할까? 이러한 경우 클래스를 사용하면 다음과 같이 간단하게 해결할 수 있다."
   ],
   "cell_type": "markdown",
   "metadata": {}
  },
  {
   "cell_type": "code",
   "execution_count": 6,
   "metadata": {},
   "outputs": [
    {
     "output_type": "stream",
     "name": "stdout",
     "text": [
      "3\n7\n3\n10\n"
     ]
    }
   ],
   "source": [
    "class Calculator:\n",
    "    def __init__(self):\n",
    "        self.result = 0\n",
    "    \n",
    "    def add(self, num):\n",
    "        self.result += num\n",
    "        return self.result\n",
    "\n",
    "cal1 = Calculator()\n",
    "cal2 = Calculator()\n",
    "\n",
    "print(cal1.add(3))\n",
    "print(cal1.add(4))\n",
    "print(cal2.add(3))\n",
    "print(cal2.add(7))"
   ]
  },
  {
   "source": [
    "프로그램을 실행하면 함수 2개를 사용했을 때와 동일한 결과가 출력되는 것을 확인할 수 있다.  \n",
    "<br>\n",
    "Calculator 클래스로 만든 별개의 계산기 cal1, cal2(**파이썬에서는 이것을 객체라고 부른다.**)가 각각의 역할을 수행한다. 그리고 계산기(cal1, cal2)의 결괏값 역시 다른 계산기의 결괏값과 상관없이 독립적인 값을 유지한다. 클래스를 사용하면 계산기 대수가 늘어나더라도 객체를 생성만 하면 되기 때문에 함수를 사용하는 경우와 달리 매우 간단해진다. 만약 빼기 기능을 더하려면 Calculator 클래스에 다음과 같은 빼기 기능 함수를 추가해주면 된다."
   ],
   "cell_type": "markdown",
   "metadata": {}
  },
  {
   "cell_type": "code",
   "execution_count": 7,
   "metadata": {},
   "outputs": [],
   "source": [
    "def sub(self, num):\n",
    "    self.result -= num\n",
    "    return self.result"
   ]
  },
  {
   "source": [
    "## 클래스와 객체\n",
    "---\n",
    "과자와 과자 틀을 가지고 클래스를 설명해보면 다음과 같다.\n",
    "* 과자 틀 --> 클래스(class)\n",
    "* 과자 틀로 만든 과자 --> 객체(object)\n",
    "\n",
    "클래스(class)란 똑같은 무엇인가를 계속해서 만들어 낼 수 있는 설계 도면이고(과자 틀), 객체(object)란 클래스로 만든 피조물(과자 틀을 사용해 만든 과자)을 뜻한다.  \n",
    "클래스로 만든 객체에는 중요한 특징이 있다. 바로 객체마다 고유한 성격을 가진다는 것이다. 동일한 클래스로 만든 객체들은 서로 전혀 영향을 주지 않는다."
   ],
   "cell_type": "markdown",
   "metadata": {}
  },
  {
   "source": [
    "파이썬 클래스의 가장 간단한 예시를 살펴보자."
   ],
   "cell_type": "markdown",
   "metadata": {}
  },
  {
   "cell_type": "code",
   "execution_count": 2,
   "metadata": {},
   "outputs": [],
   "source": [
    "class Cookie:\n",
    "    pass"
   ]
  },
  {
   "source": [
    "위의 클래스는 아무런 기능을 가지지 않는 클래스이지만 이러한 클래스도 객체를 생성하는 기능이 있다. 객체는 클래스로 만들며 1개의 클래스는 무수히 많은 객체를 만들어 낼 수 있다. 위에서 만든 Cookie 클래스의 객체를 만드는 방법은 다음과 같다."
   ],
   "cell_type": "markdown",
   "metadata": {}
  },
  {
   "cell_type": "code",
   "execution_count": 5,
   "metadata": {},
   "outputs": [],
   "source": [
    "a = Cookie()\n",
    "b = Cookie()"
   ]
  },
  {
   "source": [
    "`Cookie()` 의 결괏값을 돌려받은 a와 b가 바로 객체이다. 마치 함수를 사용해서 그 결괏값을 돌려받는 모습과 유사하다."
   ],
   "cell_type": "markdown",
   "metadata": {}
  },
  {
   "source": [
    "**\\[객체와 인스턴스의 차이\\]**  \n",
    "<br>\n",
    "클래스로 만든 객체를 인스턴스라고도 한다. 그렇다면 객체와 인스턴스의 차이는 무엇일까?  \n",
    "`a = Cookie()` 이렇게 만든 a는 객체이다. 그리고 a 객체는 Cookie의 인스턴스이다. 즉 인스턴스라는 말은 특정 객체(a)가 어떤 클래스(Cookie)의 객체인지를 관계 위주로 설명할 때 사용한다. \"a는 인스턴스\" 보다는 \"a는 객체\" 라는 표현이 어울리며 \"a는 Cookie의 객체\" 보다는 \"a는 Cookie의 인스턴스\"라는 표현이 훨씬 잘 어울린다."
   ],
   "cell_type": "markdown",
   "metadata": {}
  },
  {
   "source": [
    "## 사칙연산 클래스 만들기 \n",
    "---\n",
    "사칙연산을 쉽게 해주는 클래스를 만들어 보자."
   ],
   "cell_type": "markdown",
   "metadata": {}
  },
  {
   "source": [
    "### 1. 클래스를 어떻게 만들지 먼저 구상하기\n",
    "클래스는 무작정 만드는 것보다 클래스로 만든 객체를 중심으로 어떤 식으로 동작하게 할 것인지 미리 구상을 한 후에 생각한 것들을 하나씩 해결하면서 완성해 나가는 것이 좋다. 사칙연산을 가능하게 하는 FourCal 클래스가 다음처럼 동작한다고 가정해보자.  \n",
    "<br>\n",
    "먼저 `a = FourCal()` 를 입력해서 a라는 객체를 만든다.  \n",
    "<br>\n",
    "그런 다음 `a.setdata(4, 2)`처럼 입력해서 숫자 4와 2를 a에 지정해주고 `a.add()`, `a.mul()`, `a.sub()`, `a.div()`를 수행하면 각각 덧셈, 곱셈, 뺄셈, 나눗셈을 수행한 결과를 돌려준다."
   ],
   "cell_type": "markdown",
   "metadata": {}
  },
  {
   "source": [
    "### 2. 클래스 구조 만들기\n",
    "앞에서 구상한 것처럼 동작하는 클래스를 만들어보자. 가장 먼저 할 일은 `a = FourCal()`처럼 객체를 만들 수 있게 하는 것이다. 일단은 아무 기능이 없어도 되기 때문에 매우 간단히 만들 수 있다."
   ],
   "cell_type": "markdown",
   "metadata": {}
  },
  {
   "cell_type": "code",
   "execution_count": 2,
   "metadata": {},
   "outputs": [],
   "source": [
    "class FourCal:\n",
    "    pass"
   ]
  },
  {
   "source": [
    "우선 위와 같이 pass라는 문장만 포함함 FourCal 클래스를 만든다. FourCal 클래스는 아무 변수나 함수도 포함하지 않았지만 우리가 원하는 객체 a를 만들 수 있는 기능은 가지고 있다. 참고로 pass는 아무것도 수행하지 않는 문법으로 임시로 코드를 작성할 때 주로 사용한다."
   ],
   "cell_type": "markdown",
   "metadata": {}
  },
  {
   "cell_type": "code",
   "execution_count": 3,
   "metadata": {},
   "outputs": [
    {
     "output_type": "execute_result",
     "data": {
      "text/plain": [
       "__main__.FourCal"
      ]
     },
     "metadata": {},
     "execution_count": 3
    }
   ],
   "source": [
    "a = FourCal()\n",
    "type(a)"
   ]
  },
  {
   "source": [
    "`a = FourCal()`로 객체 a를 만들고 그 다음에 `type(a)`로 a 객체가 어떤 타입인지 알아보았다. 객체 a가 FourCal 클래스의 객체임을 알 수 있다."
   ],
   "cell_type": "markdown",
   "metadata": {}
  },
  {
   "source": [
    "### 3. 객체에 숫자 지정할 수 있게 만들기\n",
    "이제 사칙연산 기능을 하는 객체를 만들어보자. 이러한 기능을 가진 객체를 만들기 위해서는 2개의 숫자를 a 객체에 알려주어야 한다.  \n",
    "연산을 수행할 대상(4, 2)을 객체에 지정할 수 있게 만들어 보자. `a.setdata(4, 2)`를 수행하기 위해서는 `setdata()` 라는 함수가 클래스 내에 정의되어 있어야 한다."
   ],
   "cell_type": "markdown",
   "metadata": {}
  },
  {
   "cell_type": "code",
   "execution_count": 4,
   "metadata": {},
   "outputs": [],
   "source": [
    "class FourCal:\n",
    "    def setdata(self, first, second):       # 1) 메서드의 매개변수\n",
    "        self.first = first                  # 2) 메서드의 수행문\n",
    "        self.second = second                # 3) 메서드의 수행문"
   ]
  },
  {
   "source": [
    "위와 같이 클래스 안에 구현된 함수는 다른 말로 **메서드(Method)**라고 부른다."
   ],
   "cell_type": "markdown",
   "metadata": {}
  },
  {
   "source": [
    "#### 1) setdata 메서드의 매개변수\n",
    "setdata 메서드는 매개변수로 self, first, second 3개를 입력값으로 받는다. 일반적인 함수와는 달리 메서드의 첫 번째 매개변수 self는 특별한 의미를 가진다."
   ],
   "cell_type": "markdown",
   "metadata": {}
  },
  {
   "cell_type": "code",
   "execution_count": 6,
   "metadata": {},
   "outputs": [],
   "source": [
    "a = FourCal()\n",
    "a.setdata(4, 2)"
   ]
  },
  {
   "source": [
    "a 객체를 만들고 a 객체를 통해 setdata 메서드를 호출했다. 그런데 setdata 메서드에는 총 3개의 매개변수가 필요한데 실제로는 2개 값만 전달했다. 그 이유는 `setdata(4, 2)`처럼 호출하면 setdata 메서드의 첫 번째 매개변수 self에는 setdata 메서드를 호출한 객체 a가 자동으로 전달되기 때문이다.  \n",
    "<br>\n",
    "파이썬 메서드의 첫 번째 매개변수 이름은 관례적으로 self를 사용한다. 객체를 호출할 때 호출한 객체 자신이 전달되기 때문에 self를 사용한 것이다. 물론 self말고 다른 이름을 사용해도 상관없다."
   ],
   "cell_type": "markdown",
   "metadata": {}
  },
  {
   "source": [
    "#### \\[메서드의 또 다른 호출 방법\\]\n",
    "잘 사용하지는 않지만 클래스를 통해서 메서드를 호출하는 것도 가능하다."
   ],
   "cell_type": "markdown",
   "metadata": {}
  },
  {
   "cell_type": "code",
   "execution_count": 8,
   "metadata": {},
   "outputs": [],
   "source": [
    "a = FourCal()\n",
    "FourCal.setdata(a, 4, 2)"
   ]
  },
  {
   "source": [
    "위와 같이 `클래스 이름.메서드` 형태로 호출할 때는 객체 a를 첫 번째 매개변수 self에 꼭 전달해주어야 한다. 반면에 `객체.메서드` 형태로 호출할 때는 self를 반드시 생략해서 호출해야 한다."
   ],
   "cell_type": "markdown",
   "metadata": {}
  },
  {
   "cell_type": "code",
   "execution_count": 9,
   "metadata": {},
   "outputs": [],
   "source": [
    "a = FourCal()\n",
    "a.setdata(4, 2)"
   ]
  },
  {
   "source": [
    "#### 2) setdata 메서드의 수행문"
   ],
   "cell_type": "markdown",
   "metadata": {}
  }
 ]
}