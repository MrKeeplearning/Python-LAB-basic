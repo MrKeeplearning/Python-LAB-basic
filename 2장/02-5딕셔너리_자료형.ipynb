{
 "metadata": {
  "language_info": {
   "codemirror_mode": {
    "name": "ipython",
    "version": 3
   },
   "file_extension": ".py",
   "mimetype": "text/x-python",
   "name": "python",
   "nbconvert_exporter": "python",
   "pygments_lexer": "ipython3",
   "version": "3.9.1-final"
  },
  "orig_nbformat": 2,
  "kernelspec": {
   "name": "python3",
   "display_name": "Python 3.9.1 64-bit",
   "metadata": {
    "interpreter": {
     "hash": "4d6401091f6de5a385c299b068c1e85516af19a094234475c31f99f1aabe410a"
    }
   }
  }
 },
 "nbformat": 4,
 "nbformat_minor": 2,
 "cells": [
  {
   "source": [
    "# 02-5 딕셔너리 자료형\n",
    "## 딕셔너리란?\n",
    "---\n",
    "사람은 누구나 \"이름\" = \"홍길동\", \"생일\" = \"몇 월 며칠\"등으로 구분이 가능하다. 파이썬도 이러한 대응 관계를 나타낼 수 있는 자료형을 가지고 있다. 대부분의 언어들도 이러한 대응 관계를 나타내는 자료형을 가지고 있는데, 이것을 연관 배열(Associative array) 또는 해시(Hash)라고 한다.  \n",
    "<br>\n",
    "파이썬은 이러한 자료형을 딕셔너리(Dictionary)라고 표현한다. \"people\"이라는 단어에 \"사람\", \"baseball\"이라는 단어에 \"야구\"라는 뜻이 부합되듯이 딕셔너리는 Key와 Value를 한 쌍으로 갖는 자료형이다. 예를 들어, Key가 people이라면 Value는 사람이 되는 것이다.  \n",
    "<br>\n",
    "딕셔너리는 리스트나 튜플처럼 순차적으로(sequential) 해당 요솟값을 구하지 않고 Key를 통해서 Value를 얻는다. 이 점이 딕셔너리의 가장 큰 특징이다. baseball이라는 단어의 뜻을 찾기 위해서 사전의 내용을 순차적으로 모두 검색하는 것이 아니라 baseball이라는 단어가 있는 곳만 펼쳐 보는 것이다."
   ],
   "cell_type": "markdown",
   "metadata": {}
  },
  {
   "source": [
    "## 딕셔너리는 어떻게 만들까?\n",
    "---\n",
    "기본 딕셔너리의 모습은 다음과 같다.  \n",
    "<br>\n",
    "{Key1:Value1, Key2:Value2, Key3:Value3, ...}  \n",
    "<br>\n",
    "Key와 Value의 쌍 여러 개가 {}로 둘러싸여 있다. 각각의 요소는 Key:Value 형태로 이루어져 있고 쉼표(,)로 구분되어 있다. Key에는 변하지 않는 값을 사용하고, Value에는 변하는 값과 변하지 않는 값을 모두 사용할 수 있다."
   ],
   "cell_type": "markdown",
   "metadata": {}
  },
  {
   "cell_type": "code",
   "execution_count": 18,
   "metadata": {},
   "outputs": [],
   "source": [
    "dic = {'name':'pey', 'phone':'0119993323', 'birth': '1118'}"
   ]
  },
  {
   "source": [
    "위의 딕셔너리에서 Key는 각각 'name', 'phone', 'birth'이고, 각 Key에 대응하는 Value는 'pey', '0119993323', '1118'이다."
   ],
   "cell_type": "markdown",
   "metadata": {}
  },
  {
   "cell_type": "code",
   "execution_count": 19,
   "metadata": {},
   "outputs": [],
   "source": [
    "# Key로 정수 값 1을 사용하고, Value로 문자열 'hi'를 사용한 예\n",
    "a = {1: 'hi'}"
   ]
  },
  {
   "cell_type": "code",
   "execution_count": 20,
   "metadata": {},
   "outputs": [],
   "source": [
    "# Value에 list를 넣을 수도 있다.\n",
    "a = {'a': [1, 2, 3]}"
   ]
  },
  {
   "source": [
    "## 딕셔너리 쌍 추가, 삭제하기\n",
    "---\n",
    "### 1. 딕셔너리 쌍 추가하기"
   ],
   "cell_type": "markdown",
   "metadata": {}
  },
  {
   "cell_type": "code",
   "execution_count": 21,
   "metadata": {},
   "outputs": [
    {
     "output_type": "execute_result",
     "data": {
      "text/plain": [
       "{1: 'a', 2: 'b'}"
      ]
     },
     "metadata": {},
     "execution_count": 21
    }
   ],
   "source": [
    "a = {1: 'a'}\n",
    "# 딕셔너리 a에 Key와 Value가 각각 2와 'b'인 2:'b'라는 딕셔너리 쌍이 추가된다.\n",
    "a[2] = 'b'\n",
    "a"
   ]
  },
  {
   "cell_type": "code",
   "execution_count": 22,
   "metadata": {},
   "outputs": [
    {
     "output_type": "execute_result",
     "data": {
      "text/plain": [
       "{1: 'a', 2: 'b', 'name': 'pey'}"
      ]
     },
     "metadata": {},
     "execution_count": 22
    }
   ],
   "source": [
    "# 딕셔너리 a에 Key가 name이고 Value가 pey인 딕셔너리 쌍을 추가.\n",
    "a['name'] = 'pey'\n",
    "a"
   ]
  },
  {
   "cell_type": "code",
   "execution_count": 23,
   "metadata": {},
   "outputs": [
    {
     "output_type": "execute_result",
     "data": {
      "text/plain": [
       "{1: 'a', 2: 'b', 'name': 'pey', 3: [1, 2, 3]}"
      ]
     },
     "metadata": {},
     "execution_count": 23
    }
   ],
   "source": [
    "# Key는 3, Value는 [1, 2, 3]인 딕셔너리 쌍을 딕셔너리 a에 추가.\n",
    "a[3] = [1, 2, 3]\n",
    "a"
   ]
  },
  {
   "source": [
    "### 2. 딕셔너리 요소 삭제하기\n",
    "del함수를 사용해서 del a\\[key\\]처럼 입력하면 지정한 Key에 해당하는 {key : value}쌍이 삭제된다."
   ],
   "cell_type": "markdown",
   "metadata": {}
  },
  {
   "cell_type": "code",
   "execution_count": 24,
   "metadata": {},
   "outputs": [
    {
     "output_type": "execute_result",
     "data": {
      "text/plain": [
       "{2: 'b', 'name': 'pey', 3: [1, 2, 3]}"
      ]
     },
     "metadata": {},
     "execution_count": 24
    }
   ],
   "source": [
    "del a[1]\n",
    "a"
   ]
  },
  {
   "source": [
    "## 딕셔너리를 사용하는 방법\n",
    "---\n",
    "### 1. 딕셔너리에서 Key를 사용해서 Value를 얻기"
   ],
   "cell_type": "markdown",
   "metadata": {}
  },
  {
   "cell_type": "code",
   "execution_count": 1,
   "metadata": {},
   "outputs": [
    {
     "output_type": "execute_result",
     "data": {
      "text/plain": [
       "10"
      ]
     },
     "metadata": {},
     "execution_count": 1
    }
   ],
   "source": [
    "grade = {'pey': 10, 'julliet': 99}\n",
    "grade['pey']"
   ]
  },
  {
   "cell_type": "code",
   "execution_count": 2,
   "metadata": {},
   "outputs": [
    {
     "output_type": "execute_result",
     "data": {
      "text/plain": [
       "99"
      ]
     },
     "metadata": {},
     "execution_count": 2
    }
   ],
   "source": [
    "grade['julliet']"
   ]
  },
  {
   "source": [
    "리스트나 튜플, 문자열은 요솟값을 얻고자 할 때 인덱싱이나 슬라이싱 기법 중 하나를 사용했다. 하지만 딕셔너리는 한 가지 방법만 알고 있으면 된다.  \n",
    "바로 Key를 사용해서 Value를 구하는 방법이다. 위의 예시에서 'pey'라는 Key의 Value를 얻기 위해 grade\\['pey'\\]를 사용한 것처럼 어떤 Key의 Value를 얻기 위해서는  \n",
    "딕셔너리변수이름\\[Key\\] 과 같은 형태를 사용한다."
   ],
   "cell_type": "markdown",
   "metadata": {}
  },
  {
   "cell_type": "code",
   "execution_count": 3,
   "metadata": {},
   "outputs": [
    {
     "output_type": "stream",
     "name": "stdout",
     "text": [
      "a\nb\n"
     ]
    }
   ],
   "source": [
    "a = {1: 'a', 2: 'b'}\n",
    "print(a[1])\n",
    "print(a[2])"
   ]
  },
  {
   "source": [
    "딕셔너리에서 a\\[1\\]이 의미하는 바는 리스트나 튜플의 a\\[1\\]과는 전혀 다르다. 딕셔너리 변수에서 \\[\\] 안의 숫자 1은 두 번째 요소를 뜻하는 것이 아니라 Key에 해당하는 1을 나타낸다. 앞서 배웠던 것처럼 딕셔너리는 리스트나 튜플에 있는 인덱싱 방법을 적요할 수 없기 때문에 a\\[1\\]은 딕셔너리 a에서 Key가 1인 것의 Value인 'a'를 돌려주게 된다."
   ],
   "cell_type": "markdown",
   "metadata": {}
  },
  {
   "cell_type": "code",
   "execution_count": 4,
   "metadata": {},
   "outputs": [
    {
     "output_type": "stream",
     "name": "stdout",
     "text": [
      "pey\n0119993323\n1118\n"
     ]
    }
   ],
   "source": [
    "dic = {'name':'pey', 'phone':'0119993323', 'birth': '1118'}\n",
    "print(dic['name'])\n",
    "print(dic['phone'])\n",
    "print(dic['birth'])"
   ]
  },
  {
   "source": [
    "### 2. 딕셔너리를 만들 때 주의사항\n",
    "먼저 딕셔너리에서 Key는 고유한 값이기 때문에 중복되는 Key 값을 설정해 놓으면 하나를 제외한 나머지 것들이 모두 무시된다는 점을 주의해야 한다. 아래 예시와 같이 동일한 Key가 2개 존재할 경우 1:'a' 쌍이 무시된다."
   ],
   "cell_type": "markdown",
   "metadata": {}
  },
  {
   "cell_type": "code",
   "execution_count": 6,
   "metadata": {},
   "outputs": [
    {
     "output_type": "execute_result",
     "data": {
      "text/plain": [
       "{1: 'b'}"
      ]
     },
     "metadata": {},
     "execution_count": 6
    }
   ],
   "source": [
    "a = {1:'a', 1:'b'}\n",
    "a"
   ]
  },
  {
   "source": [
    "이렇게 Key가 중복되었을 때 1개를 제외한 나머지 Key:Value 값이 모두 무시되는 이유는 Key를 통해서 Value를 얻는 딕셔너리의 특징에서 비롯된다.  \n",
    "즉 동일한 Key가 존재하면 어떤 Key에서 해당 Value를 불러올지 알 수 없기 때문이다.  \n",
    "<br>\n",
    "또 한 가지 주의할 사항은 Key에 리스트는 사용할 수 없다는 점이다. 하지만 튜플은 Key로 사용할 수 있다. 딕셔너리의 Key로 사용할 수 있는지 없는지는 Key가 변하는 값인지 변하지 않는 값인지에 달려 있다. 리스트는 그 값이 변할 수 잇기 때문에 Key로 사용할 수 없다."
   ],
   "cell_type": "markdown",
   "metadata": {}
  },
  {
   "cell_type": "code",
   "execution_count": 7,
   "metadata": {},
   "outputs": [
    {
     "output_type": "error",
     "ename": "TypeError",
     "evalue": "unhashable type: 'list'",
     "traceback": [
      "\u001b[1;31m---------------------------------------------------------------------------\u001b[0m",
      "\u001b[1;31mTypeError\u001b[0m                                 Traceback (most recent call last)",
      "\u001b[1;32m<ipython-input-7-bcf766ba5a2c>\u001b[0m in \u001b[0;36m<module>\u001b[1;34m\u001b[0m\n\u001b[1;32m----> 1\u001b[1;33m \u001b[0ma\u001b[0m \u001b[1;33m=\u001b[0m \u001b[1;33m{\u001b[0m\u001b[1;33m[\u001b[0m\u001b[1;36m1\u001b[0m\u001b[1;33m,\u001b[0m\u001b[1;36m2\u001b[0m\u001b[1;33m]\u001b[0m \u001b[1;33m:\u001b[0m \u001b[1;34m'hi'\u001b[0m\u001b[1;33m}\u001b[0m\u001b[1;33m\u001b[0m\u001b[1;33m\u001b[0m\u001b[0m\n\u001b[0m",
      "\u001b[1;31mTypeError\u001b[0m: unhashable type: 'list'"
     ]
    }
   ],
   "source": [
    "a = {[1,2] : 'hi'}"
   ]
  },
  {
   "source": [
    "위와 같이 리스트를 Key로 설정하면 리스트를 Key값으로 사용할 수 없다는 오류가 발생한다.  \n",
    "위에서 배운 점을 기반으로 생각해보았을 때 당연하게도 딕셔너리의 Key값으로 딕셔너리를 사용할 수 없다는 것을 알 수 있다. 단 Value에는 변하는 값이든 변하지 않는 값이든 상관없이 아무 값이나 넣을 수 있다."
   ],
   "cell_type": "markdown",
   "metadata": {}
  },
  {
   "source": [
    "## 딕셔너리 관련 함수들\n",
    "---\n",
    "### 1. Key 리스트 만들기(keys)\n",
    "a.keys()는 딕셔너리 a의 Key만을 모아서 dict_keys 객체를 돌려준다."
   ],
   "cell_type": "markdown",
   "metadata": {}
  },
  {
   "cell_type": "code",
   "execution_count": 8,
   "metadata": {},
   "outputs": [
    {
     "output_type": "execute_result",
     "data": {
      "text/plain": [
       "dict_keys(['name', 'phone', 'birth'])"
      ]
     },
     "metadata": {},
     "execution_count": 8
    }
   ],
   "source": [
    "a = {'name': 'pey', 'phone': '0119993323', 'birth': '1118'}\n",
    "a.keys()"
   ]
  },
  {
   "source": [
    "### \\[파이썬 3.0 이후 버전의 keys함수에서 달라진 점\\]\n",
    "파이썬 2.7 버전까지는 a.keys() 함수를 호출하면 반환 값으로 dict_keys가 아닌 리스트를 돌려주었다. 그러나 리스트를 돌려주기 위해서는 메모리 낭비가 발생하기 때문에 3.0 이후 버전에서는 메모리 낭비를 줄이기 위해서 dict_keys 객체를 돌려준다. 만약 3.0 이후 버전에서 반환 값으로 리스트가 필요할 때는 list(a.keys())를 사용하면 된다.  \n",
    "dict_keys, dict_values, dict_items 등은 리스트로 변환하지 않아도 기본적인 반복구문(ex. for문)을 실행할 수 있다."
   ],
   "cell_type": "markdown",
   "metadata": {}
  },
  {
   "cell_type": "code",
   "execution_count": 11,
   "metadata": {},
   "outputs": [
    {
     "output_type": "execute_result",
     "data": {
      "text/plain": [
       "['name', 'phone', 'birth']"
      ]
     },
     "metadata": {},
     "execution_count": 11
    }
   ],
   "source": [
    "# 리스트 형태로 딕셔너리 a의 Key값을 반환한다. \n",
    "list(a.keys())"
   ]
  },
  {
   "source": [
    "dict_keys 객체는 다음과 같이 사용이 가능한데, 리스트를 사용하는 것과 차이가 없지만 리스트 고유의 append, insert, pop, remove, sort 함수는 수행할 수 없다."
   ],
   "cell_type": "markdown",
   "metadata": {}
  },
  {
   "cell_type": "code",
   "execution_count": 12,
   "metadata": {},
   "outputs": [
    {
     "output_type": "stream",
     "name": "stdout",
     "text": [
      "name\nphone\nbirth\n"
     ]
    }
   ],
   "source": [
    "for k in a.keys():\n",
    "    print(k)"
   ]
  },
  {
   "source": [
    "### 2. Value 리스트 만들기(values)\n",
    "Value만 얻고 싶다면 values함수를 사용한다. keys함수와 유사하게 values함수를 호출하면 dict_values 객체를 돌려준다."
   ],
   "cell_type": "markdown",
   "metadata": {}
  },
  {
   "cell_type": "code",
   "execution_count": 13,
   "metadata": {},
   "outputs": [
    {
     "output_type": "execute_result",
     "data": {
      "text/plain": [
       "dict_values(['pey', '0119993323', '1118'])"
      ]
     },
     "metadata": {},
     "execution_count": 13
    }
   ],
   "source": [
    "a.values()"
   ]
  },
  {
   "source": [
    "### 3. Key, Value 쌍 얻기(items)\n",
    "items 함수는 Key와 Value의 쌍을 튜플로 묶은 값을 dict_items 객체로 돌려준다. dict_values 객체와 dict_items 객체 역시 dict_keys 객체와 마찬가지로 리스트를 사용하는 것과 동일하게 사용할 수 있다."
   ],
   "cell_type": "markdown",
   "metadata": {}
  },
  {
   "cell_type": "code",
   "execution_count": 14,
   "metadata": {},
   "outputs": [
    {
     "output_type": "execute_result",
     "data": {
      "text/plain": [
       "dict_items([('name', 'pey'), ('phone', '0119993323'), ('birth', '1118')])"
      ]
     },
     "metadata": {},
     "execution_count": 14
    }
   ],
   "source": [
    "a.items()"
   ]
  },
  {
   "source": [
    "### 4. Key: Value 쌍 모두 지우기(clear)\n",
    "clear함수는 딕셔너리 안의 모든 요소를 삭제한다. 빈 리스트를 [], 빈 튜플을 ()로 표현하는 것과 마찬가지로 빈 딕셔너리도 {}로 표현한다."
   ],
   "cell_type": "markdown",
   "metadata": {}
  },
  {
   "cell_type": "code",
   "execution_count": 19,
   "metadata": {},
   "outputs": [
    {
     "output_type": "execute_result",
     "data": {
      "text/plain": [
       "{}"
      ]
     },
     "metadata": {},
     "execution_count": 19
    }
   ],
   "source": [
    "a.clear()\n",
    "a"
   ]
  },
  {
   "source": [
    "### 5. Key로 Value얻기(get)"
   ],
   "cell_type": "markdown",
   "metadata": {}
  },
  {
   "cell_type": "code",
   "execution_count": 20,
   "metadata": {},
   "outputs": [
    {
     "output_type": "execute_result",
     "data": {
      "text/plain": [
       "'pey'"
      ]
     },
     "metadata": {},
     "execution_count": 20
    }
   ],
   "source": [
    "a = {'name':'pey', 'phone':'0119993323', 'birth': '1118'}\n",
    "a.get('name')"
   ]
  },
  {
   "cell_type": "code",
   "execution_count": 21,
   "metadata": {},
   "outputs": [
    {
     "output_type": "execute_result",
     "data": {
      "text/plain": [
       "'0119993323'"
      ]
     },
     "metadata": {},
     "execution_count": 21
    }
   ],
   "source": [
    "a.get('phone')"
   ]
  },
  {
   "source": [
    "get(x) 함수는 x라는 Key에 대응되는 Value를 돌려준다. 앞에서 살펴보았듯이 a.get('name')은 a\\['name'\\]을 사용했을 때와 동일한 결괏값을 돌려받는다.  \n",
    "<br>\n",
    "다만 다음 예제에서 확인할 수 있듯이 a\\['nokey'\\]처럼 존재하지 않는 키(nokey)로 값을 가져오라고 할 경우 a\\['nokey'\\]는 Key 오류를 발생시키고 a.get('nokey')는 None을 돌려준다는 차이가 있다."
   ],
   "cell_type": "markdown",
   "metadata": {}
  },
  {
   "cell_type": "code",
   "execution_count": 24,
   "metadata": {},
   "outputs": [
    {
     "output_type": "stream",
     "name": "stdout",
     "text": [
      "None\n"
     ]
    }
   ],
   "source": [
    "print(a.get('nokey'))"
   ]
  },
  {
   "cell_type": "code",
   "execution_count": 26,
   "metadata": {},
   "outputs": [
    {
     "output_type": "error",
     "ename": "KeyError",
     "evalue": "'nokey'",
     "traceback": [
      "\u001b[1;31m---------------------------------------------------------------------------\u001b[0m",
      "\u001b[1;31mKeyError\u001b[0m                                  Traceback (most recent call last)",
      "\u001b[1;32m<ipython-input-26-54514d6fa670>\u001b[0m in \u001b[0;36m<module>\u001b[1;34m\u001b[0m\n\u001b[1;32m----> 1\u001b[1;33m \u001b[0mprint\u001b[0m\u001b[1;33m(\u001b[0m\u001b[0ma\u001b[0m\u001b[1;33m[\u001b[0m\u001b[1;34m'nokey'\u001b[0m\u001b[1;33m]\u001b[0m\u001b[1;33m)\u001b[0m\u001b[1;33m\u001b[0m\u001b[1;33m\u001b[0m\u001b[0m\n\u001b[0m",
      "\u001b[1;31mKeyError\u001b[0m: 'nokey'"
     ]
    }
   ],
   "source": [
    "print(a['nokey'])"
   ]
  },
  {
   "source": [
    "딕셔너리 안에 찾으려는 Key 값이 없을 경우 미리 정해 둔 디폴트 값을 대신 가져오게 하고 싶을 때는 get(x, '디폴트 값')을 사용하면 편리하다.  \n",
    "아래 예시에서는 딕셔너리 a에 'foo'에 해당하는 값이 없기 때문에 디폴트 값인 'bar'를 돌려준다."
   ],
   "cell_type": "markdown",
   "metadata": {}
  },
  {
   "cell_type": "code",
   "execution_count": 27,
   "metadata": {},
   "outputs": [
    {
     "output_type": "execute_result",
     "data": {
      "text/plain": [
       "'bar'"
      ]
     },
     "metadata": {},
     "execution_count": 27
    }
   ],
   "source": [
    "a.get('foo', 'bar')"
   ]
  },
  {
   "source": [
    "### 6. 해당 Key가 딕셔너리 안에 있는지 조사하기(in)\n",
    "'name' 문자열은 a 딕셔너리의 Key 중 하나이다. 따라서 'name' in a를 호출하면 참(True)을 돌려준다.  \n",
    "반대로, 'email'은 a 딕셔너리 안에 존재하지 않는 Key이므로 거짓(False)을 돌려준다."
   ],
   "cell_type": "markdown",
   "metadata": {}
  },
  {
   "cell_type": "code",
   "execution_count": 28,
   "metadata": {},
   "outputs": [
    {
     "output_type": "execute_result",
     "data": {
      "text/plain": [
       "True"
      ]
     },
     "metadata": {},
     "execution_count": 28
    }
   ],
   "source": [
    "a = {'name':'pey', 'phone':'0119993323', 'birth': '1118'}\n",
    "'name' in a"
   ]
  },
  {
   "cell_type": "code",
   "execution_count": 29,
   "metadata": {},
   "outputs": [
    {
     "output_type": "execute_result",
     "data": {
      "text/plain": [
       "False"
      ]
     },
     "metadata": {},
     "execution_count": 29
    }
   ],
   "source": [
    "'email' in a"
   ]
  }
 ]
}
