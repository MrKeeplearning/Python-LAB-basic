{
 "metadata": {
  "language_info": {
   "codemirror_mode": {
    "name": "ipython",
    "version": 3
   },
   "file_extension": ".py",
   "mimetype": "text/x-python",
   "name": "python",
   "nbconvert_exporter": "python",
   "pygments_lexer": "ipython3",
   "version": "3.9.1-final"
  },
  "orig_nbformat": 2,
  "kernelspec": {
   "name": "python3",
   "display_name": "Python 3.9.1 64-bit",
   "metadata": {
    "interpreter": {
     "hash": "247ab06e135bb35fa78c5eff31b2a9a0050dcb5fb773c2631d2a29ac689eeccb"
    }
   }
  }
 },
 "nbformat": 4,
 "nbformat_minor": 2,
 "cells": [
  {
   "source": [
    "# 02장 연습문제\n",
    "---"
   ],
   "cell_type": "markdown",
   "metadata": {}
  },
  {
   "source": [
    "## Q1\n",
    "---\n",
    "홍길동씨의 과목별 점수는 다음과 같다. 홍길동씨의 평균 점수를 구해보자.\n",
    "  \n",
    "| 과목 | 점수 |\n",
    "| :--: | :--: |\n",
    "| 국어 | 80 |\n",
    "| 영어 | 75 |\n",
    "| 수학 | 55 |"
   ],
   "cell_type": "markdown",
   "metadata": {}
  },
  {
   "cell_type": "code",
   "execution_count": 1,
   "metadata": {},
   "outputs": [
    {
     "output_type": "execute_result",
     "data": {
      "text/plain": [
       "70.0"
      ]
     },
     "metadata": {},
     "execution_count": 1
    }
   ],
   "source": [
    "a = 80\n",
    "b = 75\n",
    "c = 55\n",
    "(a+b+c)/3"
   ]
  },
  {
   "source": [
    "## Q2\n",
    "---\n",
    "자연수 13이 홀수인지 짝수인지 판별할 수 있는 방법에 대해 말해 보자.  \n",
    "<br>\n",
    "어떤 자연수가 홀수인지 짝수인지 판별할 때는 2로 나누었을 때 나머지를 확인하면 된다. 2로 나누었을 때 나머지가 0이면 짝수이고, 나머지가 1이라면 홀수이다. 이것을 판별할 수 있는 방법은 모듈로 연산자(%)를 사용하는 것이다."
   ],
   "cell_type": "markdown",
   "metadata": {}
  },
  {
   "cell_type": "code",
   "execution_count": 5,
   "metadata": {},
   "outputs": [
    {
     "output_type": "stream",
     "name": "stdout",
     "text": [
      "홀수입니다.\n"
     ]
    }
   ],
   "source": [
    "n = 13\n",
    "modResult = n % 2\n",
    "if modResult == 0 :\n",
    "    print('짝수입니다.')\n",
    "else :\n",
    "    print('홀수입니다.')"
   ]
  },
  {
   "source": [
    "## Q3\n",
    "---\n",
    "홍길동씨의 주민등록번호는 881120-1068234이다. 홍길동 씨의 주민등록번호를 연월일 부분과 그 뒤의 숫자 부분으로 나누어 출력해 보자(문자열 슬라이싱 기법을 사용한다)."
   ],
   "cell_type": "markdown",
   "metadata": {}
  },
  {
   "cell_type": "code",
   "execution_count": 10,
   "metadata": {},
   "outputs": [
    {
     "output_type": "stream",
     "name": "stdout",
     "text": [
      "881120\n1068234\n"
     ]
    }
   ],
   "source": [
    "a = '881120-1068234'\n",
    "yymmdd = a[:6]\n",
    "rear = a[7:]\n",
    "print(yymmdd)\n",
    "print(rear)"
   ]
  },
  {
   "source": [
    "## Q4\n",
    "---\n",
    "주민등록번호 뒷자리의 맨 첫 번째 숫자는 성별을 나타낸다. 주민등록번호에서 성별을 나타내는 숫자를 출력해보자."
   ],
   "cell_type": "markdown",
   "metadata": {}
  },
  {
   "cell_type": "code",
   "execution_count": 3,
   "metadata": {},
   "outputs": [
    {
     "output_type": "execute_result",
     "data": {
      "text/plain": [
       "'1'"
      ]
     },
     "metadata": {},
     "execution_count": 3
    }
   ],
   "source": [
    "pin = \"881120-1068234\"\n",
    "pin[7]"
   ]
  },
  {
   "source": [
    "## Q5\n",
    "---\n",
    "다음과 같은 문자열 a:b:c:d가 있다. 문자열의 replace 함수를 사용하여 a#b#c#d로 바꿔서 출력해 보자."
   ],
   "cell_type": "markdown",
   "metadata": {}
  },
  {
   "cell_type": "code",
   "execution_count": 5,
   "metadata": {},
   "outputs": [
    {
     "output_type": "execute_result",
     "data": {
      "text/plain": [
       "'a#b#c#d'"
      ]
     },
     "metadata": {},
     "execution_count": 5
    }
   ],
   "source": [
    "a = \"a:b:c:d\"\n",
    "a.replace(\":\", \"#\")"
   ]
  },
  {
   "source": [
    "## Q6\n",
    "---\n",
    "\\[1, 3, 5, 4, 2\\] 리스트를 \\[5, 4, 3, 2, 1\\]로 만들어 보자.\n",
    "> 리스트의 내장 함수를 사용해 보자."
   ],
   "cell_type": "markdown",
   "metadata": {}
  },
  {
   "cell_type": "code",
   "execution_count": 14,
   "metadata": {},
   "outputs": [
    {
     "output_type": "stream",
     "name": "stdout",
     "text": [
      "[5, 4, 3, 2, 1]\n"
     ]
    }
   ],
   "source": [
    "# sort함수로 오름차순으로 정렬 한 뒤 reverse()함수를 통해서 순서를 뒤집는다.\n",
    "a = [1, 3, 5, 4, 2]\n",
    "a.sort()\n",
    "a.reverse()\n",
    "print(a)"
   ]
  },
  {
   "cell_type": "code",
   "execution_count": 15,
   "metadata": {},
   "outputs": [
    {
     "output_type": "stream",
     "name": "stdout",
     "text": [
      "[5, 4, 3, 2, 1]\n"
     ]
    }
   ],
   "source": [
    "# sort함수에서 reverse flag를 True로 전환한다.\n",
    "a = [1, 3, 5, 4, 2]\n",
    "a.sort(reverse = True)\n",
    "print(a)"
   ]
  },
  {
   "source": [
    "## Q7\n",
    "---\n",
    "\\['Life', 'is', 'too', 'short'\\] 라는 리스트를 Life is too short라는 문자열로 만들어 출력해보자.\n",
    "> 문자열의 join함수를 사용하면 리스트를 문자열로 쉽게 만들 수 있다."
   ],
   "cell_type": "markdown",
   "metadata": {}
  },
  {
   "cell_type": "code",
   "execution_count": 17,
   "metadata": {},
   "outputs": [
    {
     "output_type": "stream",
     "name": "stdout",
     "text": [
      "Life is too short\n"
     ]
    }
   ],
   "source": [
    "charList = ['Life', 'is', 'too', 'short']\n",
    "newCharList = \" \".join(charList)\n",
    "print(newCharList)"
   ]
  },
  {
   "source": [
    "## Q8\n",
    "---\n",
    "(1,2,3) 튜플에 값 4를 추가하여 (1,2,3,4)를 만들어 출력해 보자.\n",
    "> 더하기(+)를 사용해 보자."
   ],
   "cell_type": "markdown",
   "metadata": {}
  },
  {
   "cell_type": "code",
   "execution_count": 20,
   "metadata": {},
   "outputs": [
    {
     "output_type": "execute_result",
     "data": {
      "text/plain": [
       "(1, 2, 3, 4)"
      ]
     },
     "metadata": {},
     "execution_count": 20
    }
   ],
   "source": [
    "t1 = (1,2,3)\n",
    "t2 = (4,)\n",
    "t1 += t2\n",
    "t1"
   ]
  },
  {
   "source": [
    "t1 튜플에 (4,)라는 튜플을 더하면 된다. 이 때 만들어지는 t1 += t2의 결과는 t1의 값이 변경되는 것이 아니라(튜플은 그 값을 변경할 수 없다) 새로운 튜플이 생성되고 그 값이 변수 t1에 대입되는 것이다. 아래 코드를 보면 t1의 고유 주소 값이 변경되었음을 알 수 있다."
   ],
   "cell_type": "markdown",
   "metadata": {}
  },
  {
   "cell_type": "code",
   "execution_count": 22,
   "metadata": {},
   "outputs": [
    {
     "output_type": "stream",
     "name": "stdout",
     "text": [
      "2279017283136\n2279003185696\n"
     ]
    }
   ],
   "source": [
    "t1 = (1,2,3)\n",
    "t2 = (4,)\n",
    "print(id(t1))\n",
    "t1 += t2\n",
    "print(id(t1))"
   ]
  },
  {
   "source": [
    "## Q9\n",
    "---\n",
    "다음과 같은 딕셔너리 a가 있다."
   ],
   "cell_type": "markdown",
   "metadata": {}
  },
  {
   "cell_type": "code",
   "execution_count": 23,
   "metadata": {},
   "outputs": [
    {
     "output_type": "execute_result",
     "data": {
      "text/plain": [
       "{}"
      ]
     },
     "metadata": {},
     "execution_count": 23
    }
   ],
   "source": [
    "a = dict()\n",
    "a"
   ]
  },
  {
   "source": [
    "다음 중 오류가 발생하는 경우를 고르고, 그 이유를 설명해보자.\n",
    "> 1. a\\['name'\\] = 'python'\n",
    "2. a\\[('a',)\\] = 'python'\n",
    "3. a\\[\\[1\\]\\] = 'python'\n",
    "4. a\\[250\\] = 'python'"
   ],
   "cell_type": "markdown",
   "metadata": {}
  },
  {
   "source": [
    "1. a\\['name'\\] = 'python'\n",
    "딕셔너리 a에 Key는 name, Value는 python인 딕셔너리 쌍이 추가되었다.\n",
    "\n",
    "2. 튜플은 그 값이 변하지 않기 때문에 딕셔너리의 Key로 사용될 수 있다. 따라서 key가 ('a',)이고 Value는 'python'인 딕셔너리 쌍이 추가된다.\n",
    "\n",
    "3. 튜플과 달리 리스트는 그 값이 변화할 수 있기 때문에 딕셔너리의 Key로 사용할 수 없다. 따라서 오류가 발생한다.\n",
    "\n",
    "4. 1번과 동일하다. Key가 250이고 Value가 python인 딕셔너리 쌍이 추가된다."
   ],
   "cell_type": "markdown",
   "metadata": {}
  },
  {
   "cell_type": "code",
   "execution_count": 25,
   "metadata": {},
   "outputs": [
    {
     "output_type": "execute_result",
     "data": {
      "text/plain": [
       "{'name': 'python'}"
      ]
     },
     "metadata": {},
     "execution_count": 25
    }
   ],
   "source": [
    "a['name'] = 'python'\n",
    "a"
   ]
  },
  {
   "cell_type": "code",
   "execution_count": 26,
   "metadata": {},
   "outputs": [
    {
     "output_type": "execute_result",
     "data": {
      "text/plain": [
       "{'name': 'python', ('a',): 'python'}"
      ]
     },
     "metadata": {},
     "execution_count": 26
    }
   ],
   "source": [
    "a[('a',)] = 'python'\n",
    "a"
   ]
  },
  {
   "cell_type": "code",
   "execution_count": 27,
   "metadata": {},
   "outputs": [
    {
     "output_type": "error",
     "ename": "TypeError",
     "evalue": "unhashable type: 'list'",
     "traceback": [
      "\u001b[1;31m---------------------------------------------------------------------------\u001b[0m",
      "\u001b[1;31mTypeError\u001b[0m                                 Traceback (most recent call last)",
      "\u001b[1;32m<ipython-input-27-abb92984f231>\u001b[0m in \u001b[0;36m<module>\u001b[1;34m\u001b[0m\n\u001b[1;32m----> 1\u001b[1;33m \u001b[0ma\u001b[0m\u001b[1;33m[\u001b[0m\u001b[1;33m[\u001b[0m\u001b[1;36m1\u001b[0m\u001b[1;33m]\u001b[0m\u001b[1;33m]\u001b[0m \u001b[1;33m=\u001b[0m \u001b[1;34m'python'\u001b[0m\u001b[1;33m\u001b[0m\u001b[1;33m\u001b[0m\u001b[0m\n\u001b[0m\u001b[0;32m      2\u001b[0m \u001b[0ma\u001b[0m\u001b[1;33m\u001b[0m\u001b[1;33m\u001b[0m\u001b[0m\n",
      "\u001b[1;31mTypeError\u001b[0m: unhashable type: 'list'"
     ]
    }
   ],
   "source": [
    "a[[1]] = 'python'\n",
    "a"
   ]
  },
  {
   "cell_type": "code",
   "execution_count": 28,
   "metadata": {},
   "outputs": [
    {
     "output_type": "execute_result",
     "data": {
      "text/plain": [
       "{'name': 'python', ('a',): 'python', 250: 'python'}"
      ]
     },
     "metadata": {},
     "execution_count": 28
    }
   ],
   "source": [
    "a[250] = 'python'\n",
    "a"
   ]
  },
  {
   "source": [
    "## Q10\n",
    "---\n",
    "딕셔너리 a에서 'B'에 해당되는 값을 추출해보자.\n",
    "> 딕셔너리의 pop함수를 사용해보자."
   ],
   "cell_type": "markdown",
   "metadata": {}
  },
  {
   "cell_type": "code",
   "execution_count": 36,
   "metadata": {},
   "outputs": [
    {
     "output_type": "execute_result",
     "data": {
      "text/plain": [
       "[90, 80, 70]"
      ]
     },
     "metadata": {},
     "execution_count": 36
    }
   ],
   "source": [
    "a = {'A':90, 'B':80, 'C':70}\n",
    "b = list(a.values())\n",
    "b"
   ]
  },
  {
   "cell_type": "code",
   "execution_count": 37,
   "metadata": {},
   "outputs": [
    {
     "output_type": "execute_result",
     "data": {
      "text/plain": [
       "80"
      ]
     },
     "metadata": {},
     "execution_count": 37
    }
   ],
   "source": [
    "b.pop(1)"
   ]
  },
  {
   "cell_type": "code",
   "execution_count": 38,
   "metadata": {},
   "outputs": [
    {
     "output_type": "execute_result",
     "data": {
      "text/plain": [
       "[90, 70]"
      ]
     },
     "metadata": {},
     "execution_count": 38
    }
   ],
   "source": [
    "b"
   ]
  },
  {
   "source": [
    "위의 나의 풀이와는 다르게 저자는 좀 더 간단하게 풀이했다. 딕셔너리 자체도 리스트와 마찬가지로 pop함수를 사용할 수 있는데 나는 딕셔너리에서 사용할 수 있다는 점을 모르고 있었다. 그래서 value들의 리스트를 따로 만들고 거기서 pop을 수행해서 index 1번의 값을 가져왔다.  \n",
    "<br>\n",
    "하지만 저자는 value에 대한 리스트를 만드는 과정을 하지 않고 바로 딕셔너리 a에서 pop을 수행해서 B에 해당하는 값을 추출했다."
   ],
   "cell_type": "markdown",
   "metadata": {}
  },
  {
   "cell_type": "code",
   "execution_count": 40,
   "metadata": {},
   "outputs": [
    {
     "output_type": "stream",
     "name": "stdout",
     "text": [
      "{'A': 90, 'C': 70}\n80\n"
     ]
    }
   ],
   "source": [
    "a = {'A':90, 'B':80, 'C':70}\n",
    "result = a.pop('B')\n",
    "print(a)\n",
    "print(result)"
   ]
  },
  {
   "source": [
    "참고로 pop함수를 사용하지 않고 get 함수로도 Key 'B'에 해당하는 Value를 얻을 수도 있다."
   ],
   "cell_type": "markdown",
   "metadata": {}
  },
  {
   "cell_type": "code",
   "execution_count": 41,
   "metadata": {},
   "outputs": [
    {
     "output_type": "execute_result",
     "data": {
      "text/plain": [
       "80"
      ]
     },
     "metadata": {},
     "execution_count": 41
    }
   ],
   "source": [
    "a = {'A':90, 'B':80, 'C':70}\n",
    "a.get('B')"
   ]
  },
  {
   "source": [
    "## Q11\n",
    "---\n",
    "a 리스트에서 중복 숫자를 제거해 보자.\n",
    "> 집합 자료형의 요솟값이 중복될 수 없다는 특징을 사용해 보자."
   ],
   "cell_type": "markdown",
   "metadata": {}
  },
  {
   "cell_type": "code",
   "execution_count": 47,
   "metadata": {},
   "outputs": [
    {
     "output_type": "execute_result",
     "data": {
      "text/plain": [
       "[1, 2, 3, 4, 5]"
      ]
     },
     "metadata": {},
     "execution_count": 47
    }
   ],
   "source": [
    "a = [1, 1, 1, 2, 2, 3, 3, 3, 4, 4, 5]\n",
    "a = set(a)      # a 리스트를 집합 자료형으로 변환 --> 중복 숫자 제거\n",
    "a = list(a)     # 집합 자료형을 다시 리스트 자료형으로 변환\n",
    "a"
   ]
  },
  {
   "source": [
    "## Q12\n",
    "---\n",
    "파이썬은 다음처럼 동일한 값에 여러 개의 변수를 선언할 수 있다. 다음과 같이 a, b 변수를 선언한 후 a의 두 번째 요솟값을 변경하면 b 값은 어떻게 될까? 그리고 이런 결과가 오는 이유에 대해 설명해보자."
   ],
   "cell_type": "markdown",
   "metadata": {}
  },
  {
   "cell_type": "code",
   "execution_count": 49,
   "metadata": {},
   "outputs": [
    {
     "output_type": "stream",
     "name": "stdout",
     "text": [
      "[1, 4, 3]\n[1, 4, 3]\n"
     ]
    }
   ],
   "source": [
    "a = b = [1,2,3]\n",
    "a[1] = 4\n",
    "print(b)\n",
    "print(a)"
   ]
  },
  {
   "source": [
    "a = b = \\[1,2,3\\]\n",
    "여기서 a와 b는 완전히 동일하다. 다만 \\[1,2,3\\]리스트를 참조하는 변수가 a와 b 총 2개인 것이다. a와 b는 서로 가리키고 있는 대상이 동일하다. 즉, 동일한 객체를 가리키고 있는 것이기 때문에 a의 두 번째 요솟값을 변경하면 b값도 동일하게 변경된다."
   ],
   "cell_type": "markdown",
   "metadata": {}
  }
 ]
}
