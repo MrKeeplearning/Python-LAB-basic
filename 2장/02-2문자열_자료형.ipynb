{
 "metadata": {
  "language_info": {
   "codemirror_mode": {
    "name": "ipython",
    "version": 3
   },
   "file_extension": ".py",
   "mimetype": "text/x-python",
   "name": "python",
   "nbconvert_exporter": "python",
   "pygments_lexer": "ipython3",
   "version": "3.9.1-final"
  },
  "orig_nbformat": 2,
  "kernelspec": {
   "name": "python3",
   "display_name": "Python 3.9.1 64-bit",
   "metadata": {
    "interpreter": {
     "hash": "4d6401091f6de5a385c299b068c1e85516af19a094234475c31f99f1aabe410a"
    }
   }
  }
 },
 "nbformat": 4,
 "nbformat_minor": 2,
 "cells": [
  {
   "source": [
    "## 문자열 포매팅(Formatting)\n",
    "---\n",
    "\n",
    "### <문자열 포매팅 따라 하기>\n",
    "\n",
    "#### 1. 숫자 바로 대입"
   ],
   "cell_type": "markdown",
   "metadata": {}
  },
  {
   "cell_type": "code",
   "execution_count": 3,
   "metadata": {},
   "outputs": [
    {
     "output_type": "execute_result",
     "data": {
      "text/plain": [
       "'I eat 3 apples.'"
      ]
     },
     "metadata": {},
     "execution_count": 3
    }
   ],
   "source": [
    "\"I eat %d apples.\" %3"
   ]
  },
  {
   "source": [
    "#### 2. 문자열 바로 대입\n",
    "숫자를 넣기 위해서는 %d를 사용했다면 문자를 넣을 때는 %s를 사용한다. 또한 문자열을 대입할 때는 큰따옴표나 작은따옴표를 반드시 써주어야 한다."
   ],
   "cell_type": "markdown",
   "metadata": {}
  },
  {
   "cell_type": "code",
   "execution_count": 5,
   "metadata": {},
   "outputs": [
    {
     "output_type": "execute_result",
     "data": {
      "text/plain": [
       "'I eat five apples.'"
      ]
     },
     "metadata": {},
     "execution_count": 5
    }
   ],
   "source": [
    "\"I eat %s apples.\" %\"five\""
   ]
  },
  {
   "source": [
    "#### 3. 숫자 값을 나타내는 변수로 대입, 2개 이상의 값 넣기\n",
    "숫자 값을 나타내는 변수를 대입해서 사용도 가능하며, 문자열 안에 1개가 아닌 여러 개의 값을 넣고 싶다면 마지막 % 다음에 괄호를 작성하여 콤마로 구분하여 각각의 값을 넣어준다."
   ],
   "cell_type": "markdown",
   "metadata": {}
  },
  {
   "cell_type": "code",
   "execution_count": 7,
   "metadata": {},
   "outputs": [
    {
     "output_type": "stream",
     "name": "stdout",
     "text": [
      "I eat 10 apples.\nI ate 10 apples. So I was sick for three days.\n"
     ]
    }
   ],
   "source": [
    "number = 10\n",
    "print(\"I eat %d apples.\" %number)\n",
    "\n",
    "day = \"three\"\n",
    "print(\"I ate %d apples. So I was sick for %s days.\" %(number, day))"
   ]
  },
  {
   "source": [
    "### 문자열 포맷 코드\n",
    "위에서 다룬 정수와 문자열 외에도 다양한 것을 대입하는 것이 가능하다.\n",
    "\n",
    "| 코드 | 설명                        |  \n",
    "| :--: | :-------------------------: |\n",
    "| %s   | 문자열(string)              |\n",
    "| %c   | 문자 1개(character)         |\n",
    "| %d   | 정수(Integer)               |\n",
    "| %f   | 부동소수(floating point)    |\n",
    "| %o   | 8진수                       |\n",
    "| %x   | 16진수                      |\n",
    "| %%   | Literal % (answk % 그 자체) |\n",
    "\n",
    "%s는 자동을 %뒤에 있는 값을 문자열로 바꾼다. 따라서 아래와 같은 것도 가능하다."
   ],
   "cell_type": "markdown",
   "metadata": {}
  },
  {
   "cell_type": "code",
   "execution_count": 2,
   "metadata": {},
   "outputs": [
    {
     "output_type": "stream",
     "name": "stdout",
     "text": [
      "I have 3 apples\nrate is 3.234\n"
     ]
    }
   ],
   "source": [
    "print(\"I have %s apples\" %3)\n",
    "print(\"rate is %s\" %3.234)"
   ]
  },
  {
   "source": [
    "### <포맷 코드와 숫자 함께 사용하기>\n",
    "포맷 코드는 문자열 안에 어떤 값을 삽입하기 위해 사용한다. 이러한 포맷 코드를 숫자와 함께 사용한다면 더 유용하게 사용이 가능하다."
   ],
   "cell_type": "markdown",
   "metadata": {}
  },
  {
   "source": [
    "\n",
    "#### 1. 정렬과 공백\n",
    "%10s 는 전체 길이가 10개인 문자열 공간에 대입되는 값을 오른쪽으로 정렬하고 그 앞의 나머지는 공백으로 남겨두라는 것이다.  \n",
    "반대로 왼쪽 정렬은 %-10s가 된다."
   ],
   "cell_type": "markdown",
   "metadata": {}
  },
  {
   "cell_type": "code",
   "execution_count": 6,
   "metadata": {},
   "outputs": [
    {
     "output_type": "stream",
     "name": "stdout",
     "text": [
      "        hi\n\nhi        jane.\n"
     ]
    }
   ],
   "source": [
    "print(\"%10s\" %\"hi\")\n",
    "print()\n",
    "print(\"%-10sjane.\" %\"hi\")"
   ]
  },
  {
   "source": [
    "#### 2. 소수점 표현하기\n",
    "'.'는 소수점 포인트를 뜻하고 그 뒤의 숫자 n은 소수점 뒤에 나올 숫자의 개수를 뜻한다."
   ],
   "cell_type": "markdown",
   "metadata": {}
  },
  {
   "cell_type": "code",
   "execution_count": 7,
   "metadata": {},
   "outputs": [
    {
     "output_type": "execute_result",
     "data": {
      "text/plain": [
       "'3.4213'"
      ]
     },
     "metadata": {},
     "execution_count": 7
    }
   ],
   "source": [
    "\"%0.4f\" % 3.42134234"
   ]
  },
  {
   "source": [
    "소수점 네 번째 자리까지만 표시하고 전체 길이가 10개인 문자열 공간에서 오른쪽으로 정렬하는 경우이다."
   ],
   "cell_type": "markdown",
   "metadata": {}
  },
  {
   "cell_type": "code",
   "execution_count": 16,
   "metadata": {},
   "outputs": [
    {
     "output_type": "execute_result",
     "data": {
      "text/plain": [
       "'    3.4213'"
      ]
     },
     "metadata": {},
     "execution_count": 16
    }
   ],
   "source": [
    "\"%10.4f\" % 3.42134234"
   ]
  },
  {
   "source": [
    "### <format 함수를 사용한 포매팅>\n",
    "문자열의 format함수를 사용하면 좀 더 발전된 스타일로 문자열 포맷을 지정할 수 있다."
   ],
   "cell_type": "markdown",
   "metadata": {}
  },
  {
   "source": [
    "#### 1. 숫자 바로 대입하기\n",
    "{0} 부분이 숫자 3으로 바뀐다."
   ],
   "cell_type": "markdown",
   "metadata": {}
  },
  {
   "cell_type": "code",
   "execution_count": 17,
   "metadata": {},
   "outputs": [
    {
     "output_type": "execute_result",
     "data": {
      "text/plain": [
       "'I eat 3 apples.'"
      ]
     },
     "metadata": {},
     "execution_count": 17
    }
   ],
   "source": [
    "\"I eat {0} apples.\".format(3)"
   ]
  },
  {
   "source": [
    "#### 2. 문자열을 바로 대입하기\n",
    "숫자와 마찬가지로 {0}부분이 문자열로 바뀐다."
   ],
   "cell_type": "markdown",
   "metadata": {}
  },
  {
   "cell_type": "code",
   "execution_count": 18,
   "metadata": {},
   "outputs": [
    {
     "output_type": "execute_result",
     "data": {
      "text/plain": [
       "'I eat three apples.'"
      ]
     },
     "metadata": {},
     "execution_count": 18
    }
   ],
   "source": [
    "\"I eat {0} apples.\".format(\"three\")"
   ]
  },
  {
   "source": [
    "#### 3. 숫자 값을 가진 변수로 대입하는 것도 가능하다."
   ],
   "cell_type": "markdown",
   "metadata": {}
  },
  {
   "cell_type": "code",
   "execution_count": 19,
   "metadata": {},
   "outputs": [
    {
     "output_type": "execute_result",
     "data": {
      "text/plain": [
       "'I eat 3 apples.'"
      ]
     },
     "metadata": {},
     "execution_count": 19
    }
   ],
   "source": [
    "number = 3\n",
    "\"I eat {0} apples.\".format(number)"
   ]
  },
  {
   "source": [
    "#### 4. 2개 이상의 값 넣기\n",
    "마찬가지로 변수를 사용해서 2개 이상의 값을 넣을 수 있고 {0}, {1}과 같은 인덱스 항목이 format 함수의 입력값으로 순서에 맞게 바뀐다."
   ],
   "cell_type": "markdown",
   "metadata": {}
  },
  {
   "cell_type": "code",
   "execution_count": 21,
   "metadata": {},
   "outputs": [
    {
     "output_type": "execute_result",
     "data": {
      "text/plain": [
       "'I ate 10 apples. So I was sick for three days.'"
      ]
     },
     "metadata": {},
     "execution_count": 21
    }
   ],
   "source": [
    "number = 10\n",
    "day = \"three\"\n",
    "\"I ate {0} apples. So I was sick for {1} days.\".format(number, day)"
   ]
  },
  {
   "source": [
    "#### 5. 이름으로 넣기\n",
    "{name} 형태를 사용하는 방법도 있다. {name} 형태를 사요할 때는 format 함수에 반드시 name = value와 같은 형태의 입력값이 있어야 한다.  \n",
    "또한 인덱스와 이름을 혼용해서 넣는 방법도 가능하다."
   ],
   "cell_type": "markdown",
   "metadata": {}
  },
  {
   "cell_type": "code",
   "execution_count": 23,
   "metadata": {},
   "outputs": [
    {
     "output_type": "stream",
     "name": "stdout",
     "text": [
      "I ate 10 apples. So I was sick for 3 days.\n\nI ate 10 apples. So I was sick for 3 days.\n"
     ]
    }
   ],
   "source": [
    "print(\"I ate {number} apples. So I was sick for {day} days.\".format(number=10, day=3))\n",
    "print()\n",
    "print(\"I ate {0} apples. So I was sick for {day} days.\".format(10, day=3))"
   ]
  },
  {
   "source": [
    "#### 6. 정렬하기\n",
    ":<10 표현식을 사용하면 치환되는 문자열을 왼쪽으로 정렬하고 문자열의 총 자릿수를 10으로 맞출 수 있다.  \n",
    "화살표(<)의 방향을 바꾸면서 왼쪽, 오른쪽, 중앙으로 정렬 위치를 바꿀 수 있다."
   ],
   "cell_type": "markdown",
   "metadata": {}
  },
  {
   "cell_type": "code",
   "execution_count": 38,
   "metadata": {},
   "outputs": [
    {
     "output_type": "execute_result",
     "data": {
      "text/plain": [
       "'hi        '"
      ]
     },
     "metadata": {},
     "execution_count": 38
    }
   ],
   "source": [
    "# 왼쪽 정렬\n",
    "\"{0:<10}\".format(\"hi\")"
   ]
  },
  {
   "cell_type": "code",
   "execution_count": 36,
   "metadata": {},
   "outputs": [
    {
     "output_type": "execute_result",
     "data": {
      "text/plain": [
       "'        hi'"
      ]
     },
     "metadata": {},
     "execution_count": 36
    }
   ],
   "source": [
    "#오른쪽 정렬\n",
    "\"{0:>10}\".format(\"hi\")"
   ]
  },
  {
   "cell_type": "code",
   "execution_count": 44,
   "metadata": {},
   "outputs": [
    {
     "output_type": "execute_result",
     "data": {
      "text/plain": [
       "'    hi    '"
      ]
     },
     "metadata": {},
     "execution_count": 44
    }
   ],
   "source": [
    "#중앙 정렬\n",
    "\"{0:^10}\".format(\"hi\")"
   ]
  },
  {
   "source": [
    "#### 7. 공백 채우기\n",
    "정렬 후 남은 공백을 공백 문자 대신 특정한 문자로 채워 넣는 것도 가능하다. 채워 넣을 문자는 반드시 정렬 문자(<, >, ^) 바로 앞에 와야 한다."
   ],
   "cell_type": "markdown",
   "metadata": {}
  },
  {
   "cell_type": "code",
   "execution_count": 40,
   "metadata": {},
   "outputs": [
    {
     "output_type": "execute_result",
     "data": {
      "text/plain": [
       "'====hi===='"
      ]
     },
     "metadata": {},
     "execution_count": 40
    }
   ],
   "source": [
    "\"{0:=^10}\".format(\"hi\")"
   ]
  },
  {
   "cell_type": "code",
   "execution_count": 42,
   "metadata": {},
   "outputs": [
    {
     "output_type": "execute_result",
     "data": {
      "text/plain": [
       "'hi!!!!!!!!'"
      ]
     },
     "metadata": {},
     "execution_count": 42
    }
   ],
   "source": [
    "\"{0:!<10}\".format(\"hi\")"
   ]
  },
  {
   "source": [
    "#### 8. 소수점 표현하기"
   ],
   "cell_type": "markdown",
   "metadata": {}
  },
  {
   "cell_type": "code",
   "execution_count": 45,
   "metadata": {},
   "outputs": [
    {
     "output_type": "execute_result",
     "data": {
      "text/plain": [
       "'3.1234'"
      ]
     },
     "metadata": {},
     "execution_count": 45
    }
   ],
   "source": [
    "y = 3.12341234\n",
    "\"{0:0.4f}\".format(y)"
   ]
  },
  {
   "cell_type": "code",
   "execution_count": 46,
   "metadata": {},
   "outputs": [
    {
     "output_type": "execute_result",
     "data": {
      "text/plain": [
       "'    3.1234'"
      ]
     },
     "metadata": {},
     "execution_count": 46
    }
   ],
   "source": [
    "y = 3.12341234\n",
    "\"{0:10.4f}\".format(y)"
   ]
  },
  {
   "source": [
    "#### 9. '{' 또는 '}' 문자 표현하기\n",
    "format 함수를 사용해서 문자열 포매팅을 할 경우 { }와 같은 중괄호 문자를 포매팅 문자가 아닌 문자 그대로 사용하고 싶은 경우에는 {{ }}처럼 2개를 연속해서 사용한다."
   ],
   "cell_type": "markdown",
   "metadata": {}
  },
  {
   "cell_type": "code",
   "execution_count": 53,
   "metadata": {},
   "outputs": [
    {
     "output_type": "execute_result",
     "data": {
      "text/plain": [
       "'{ and }'"
      ]
     },
     "metadata": {},
     "execution_count": 53
    }
   ],
   "source": [
    "\"{{ and }}\".format()"
   ]
  },
  {
   "source": [
    "### <f 문자열 포매팅>\n",
    "파이썬 3.6부터 f 문자열 포매팅 기능을 사용할 수 있다. 파이썬 3.6 미만 버전에서는 사용이 불가능한 기능이다.  \n",
    "문자열 앞에 f 접두사를 붙이면 f 문자열 포매팅 기능을 사용할 수 있다."
   ],
   "cell_type": "markdown",
   "metadata": {}
  },
  {
   "cell_type": "code",
   "execution_count": 55,
   "metadata": {},
   "outputs": [
    {
     "output_type": "execute_result",
     "data": {
      "text/plain": [
       "'나의 이름은 홍길동입니다. 나이는 26입니다.'"
      ]
     },
     "metadata": {},
     "execution_count": 55
    }
   ],
   "source": [
    "name = \"홍길동\"\n",
    "age = 26\n",
    "f'나의 이름은 {name}입니다. 나이는 {age}입니다.'"
   ]
  },
  {
   "source": [
    "f 문자열 포매팅은 위와 같이 name, age와 같은 변수 값을 생성한 뒤에 그 값을 참조하는 것이 가능하다. 또한 f문자열 포매팅은 표현식을 지원하기 때문에 아래와 같은 것도 가능하다.  \n",
    "* 표현식이란 문자열 안에서 변수와 +, -와 같은 수식을 함께 사용하는 것을 말한다."
   ],
   "cell_type": "markdown",
   "metadata": {}
  },
  {
   "cell_type": "code",
   "execution_count": 57,
   "metadata": {},
   "outputs": [
    {
     "output_type": "execute_result",
     "data": {
      "text/plain": [
       "'나는 내년이면 27살이 된다.'"
      ]
     },
     "metadata": {},
     "execution_count": 57
    }
   ],
   "source": [
    "age = 26\n",
    "f'나는 내년이면 {age+1}살이 된다.'"
   ]
  },
  {
   "source": [
    "딕셔너리는 f 문자열 포매팅에서 아래와 같이 사용이 가능하다.\n",
    "* 딕셔너리는 Key와 Value라는 것을 한 쌍으로 가지는 자료형이다."
   ],
   "cell_type": "markdown",
   "metadata": {}
  },
  {
   "cell_type": "code",
   "execution_count": 58,
   "metadata": {},
   "outputs": [
    {
     "output_type": "execute_result",
     "data": {
      "text/plain": [
       "'나의 이름은 홍길동입니다. 나이는 26입니다.'"
      ]
     },
     "metadata": {},
     "execution_count": 58
    }
   ],
   "source": [
    "d = {'name':'홍길동', 'age':26}\n",
    "f'나의 이름은 {d[\"name\"]}입니다. 나이는 {d[\"age\"]}입니다.'"
   ]
  },
  {
   "source": [
    "정렬은 아래와 같은 방법으로 진행한다."
   ],
   "cell_type": "markdown",
   "metadata": {}
  },
  {
   "cell_type": "code",
   "execution_count": 60,
   "metadata": {},
   "outputs": [
    {
     "output_type": "execute_result",
     "data": {
      "text/plain": [
       "'hi        '"
      ]
     },
     "metadata": {},
     "execution_count": 60
    }
   ],
   "source": [
    "# 왼쪽 정렬\n",
    "f'{\"hi\":<10}'"
   ]
  },
  {
   "cell_type": "code",
   "execution_count": 61,
   "metadata": {},
   "outputs": [
    {
     "output_type": "execute_result",
     "data": {
      "text/plain": [
       "'        hi'"
      ]
     },
     "metadata": {},
     "execution_count": 61
    }
   ],
   "source": [
    "# 오른쪽 정렬\n",
    "f'{\"hi\":>10}'"
   ]
  },
  {
   "cell_type": "code",
   "execution_count": 62,
   "metadata": {},
   "outputs": [
    {
     "output_type": "execute_result",
     "data": {
      "text/plain": [
       "'    hi    '"
      ]
     },
     "metadata": {},
     "execution_count": 62
    }
   ],
   "source": [
    "# 중앙 정렬\n",
    "f'{\"hi\":^10}'"
   ]
  },
  {
   "cell_type": "code",
   "execution_count": 63,
   "metadata": {},
   "outputs": [
    {
     "output_type": "execute_result",
     "data": {
      "text/plain": [
       "'====hi===='"
      ]
     },
     "metadata": {},
     "execution_count": 63
    }
   ],
   "source": [
    "# 가운데 정렬 후 공백 채우기\n",
    "f'{\"hi\":=^10}'"
   ]
  },
  {
   "cell_type": "code",
   "execution_count": 64,
   "metadata": {},
   "outputs": [
    {
     "output_type": "execute_result",
     "data": {
      "text/plain": [
       "'hi!!!!!!!!'"
      ]
     },
     "metadata": {},
     "execution_count": 64
    }
   ],
   "source": [
    "# 왼쪽 정렬 후 공백 채우기\n",
    "f'{\"hi\":!<10}'"
   ]
  },
  {
   "source": [
    "## 문자열 관련 함수들\n",
    "---\n",
    "문자열 자료형은 자체적으로 함수를 가지고 있다. 이들 함수를 다른 말로 문자열 내장 함수라고 한다. 이 내장 함수를 사용하기 위해서는 문자열 변수 이름 뒤에 '.'를 붙인 다음에 함수 이름을 작성하면 된다."
   ],
   "cell_type": "markdown",
   "metadata": {}
  },
  {
   "source": [
    "### 1. 문자 개수 세기(count)"
   ],
   "cell_type": "markdown",
   "metadata": {}
  },
  {
   "cell_type": "code",
   "execution_count": 65,
   "metadata": {},
   "outputs": [
    {
     "output_type": "execute_result",
     "data": {
      "text/plain": [
       "2"
      ]
     },
     "metadata": {},
     "execution_count": 65
    }
   ],
   "source": [
    "# 문자열 중 문자 b의 개수를 return한다.\n",
    "a = \"hobby\"\n",
    "a.count('b')"
   ]
  },
  {
   "source": [
    "### 2. 위치 알려주기1(find)"
   ],
   "cell_type": "markdown",
   "metadata": {}
  },
  {
   "cell_type": "code",
   "execution_count": 69,
   "metadata": {},
   "outputs": [
    {
     "output_type": "stream",
     "name": "stdout",
     "text": [
      "14\n-1\n"
     ]
    }
   ],
   "source": [
    "# 문자열 중 문자 b가 처음으로 나온 위치를 반환한다. 만약 찾는 문자나 문자열이 존재하지 않는다면 -1을 반환한다.\n",
    "a = \"Python is the best choice\"\n",
    "print(a.find('b'))\n",
    "print(a.find(\"k\"))"
   ]
  },
  {
   "source": [
    "### 3. 위치 알려주기2(index)"
   ],
   "cell_type": "markdown",
   "metadata": {}
  },
  {
   "cell_type": "code",
   "execution_count": 71,
   "metadata": {},
   "outputs": [
    {
     "output_type": "stream",
     "name": "stdout",
     "text": [
      "8\n"
     ]
    }
   ],
   "source": [
    "# 문자열 중 문자 t가 맨 처음으로 나온 위치를 반환한다. 만약 찾는 문자나 문자열이 존재하지 않는다면 오류를 발생시킨다.\n",
    "a = \"Life is too short.\"\n",
    "print(a.index('t'))\n",
    "#print(a.index('k'))"
   ]
  },
  {
   "source": [
    "### 4. 문자열 삽입(join)\n",
    "abcd 문자열의 각각의 문자 사이에 ','를 삽입한다.  \n",
    "join함수는 문자열뿐만 아니라 리스트나 튜플도 입력으로 사용할 수 있다."
   ],
   "cell_type": "markdown",
   "metadata": {}
  },
  {
   "cell_type": "code",
   "execution_count": 72,
   "metadata": {},
   "outputs": [
    {
     "output_type": "execute_result",
     "data": {
      "text/plain": [
       "'a,b,c,d'"
      ]
     },
     "metadata": {},
     "execution_count": 72
    }
   ],
   "source": [
    "\",\".join('abcd')"
   ]
  },
  {
   "cell_type": "code",
   "execution_count": 73,
   "metadata": {},
   "outputs": [
    {
     "output_type": "execute_result",
     "data": {
      "text/plain": [
       "'a,b,c,d'"
      ]
     },
     "metadata": {},
     "execution_count": 73
    }
   ],
   "source": [
    "# 입력으로 리스트를 사용\n",
    "\",\".join(['a', 'b', 'c', 'd'])"
   ]
  },
  {
   "source": [
    "### 5. 소문자, 대문자 바꾸기(upper, lower)"
   ],
   "cell_type": "markdown",
   "metadata": {}
  },
  {
   "cell_type": "code",
   "execution_count": 74,
   "metadata": {},
   "outputs": [
    {
     "output_type": "execute_result",
     "data": {
      "text/plain": [
       "'HI'"
      ]
     },
     "metadata": {},
     "execution_count": 74
    }
   ],
   "source": [
    "# 소문자를 대문자로 바꾸기(upper)\n",
    "a = \"hi\"\n",
    "a.upper()"
   ]
  },
  {
   "cell_type": "code",
   "execution_count": 76,
   "metadata": {},
   "outputs": [
    {
     "output_type": "execute_result",
     "data": {
      "text/plain": [
       "'hi'"
      ]
     },
     "metadata": {},
     "execution_count": 76
    }
   ],
   "source": [
    "# 대문자를 소문자로 바꾸기(lower)\n",
    "a = \"HI\"\n",
    "a.lower()"
   ]
  },
  {
   "source": [
    "### 6. 공백 지우기"
   ],
   "cell_type": "markdown",
   "metadata": {}
  },
  {
   "cell_type": "code",
   "execution_count": 79,
   "metadata": {},
   "outputs": [
    {
     "output_type": "execute_result",
     "data": {
      "text/plain": [
       "'hi '"
      ]
     },
     "metadata": {},
     "execution_count": 79
    }
   ],
   "source": [
    "# 왼쪽 공백 지우기(lstrip)\n",
    "a = \" hi \"\n",
    "a.lstrip()"
   ]
  },
  {
   "cell_type": "code",
   "execution_count": 80,
   "metadata": {},
   "outputs": [
    {
     "output_type": "execute_result",
     "data": {
      "text/plain": [
       "' hi'"
      ]
     },
     "metadata": {},
     "execution_count": 80
    }
   ],
   "source": [
    "# 오른쪽 공백 지우기(rstrip)\n",
    "a = \" hi \"\n",
    "a.rstrip()"
   ]
  },
  {
   "cell_type": "code",
   "execution_count": 81,
   "metadata": {},
   "outputs": [
    {
     "output_type": "execute_result",
     "data": {
      "text/plain": [
       "'hi'"
      ]
     },
     "metadata": {},
     "execution_count": 81
    }
   ],
   "source": [
    "# 양쪽 공백 지우기(strip)\n",
    "a = \" hi \"\n",
    "a.strip()"
   ]
  },
  {
   "source": [
    "### 7. 문자열 바꾸기(replace)\n",
    "replace(바뀌게 될 문자열, 바꿀 문자열)처럼 사용해서 문자열 안의 특정한 값을 다른 값으로 치환해준다.  \n",
    "이 때, 문자열에 존재하는 모든 바뀌게 될 문자열을 바꾼다. 따라서 아래의 예시에서 'Life'가 만약 전체 문장에 2번 쓰여져 있다면 둘 다 바뀌는 것이다."
   ],
   "cell_type": "markdown",
   "metadata": {}
  },
  {
   "cell_type": "code",
   "execution_count": 84,
   "metadata": {},
   "outputs": [
    {
     "output_type": "execute_result",
     "data": {
      "text/plain": [
       "'Your leg is too short'"
      ]
     },
     "metadata": {},
     "execution_count": 84
    }
   ],
   "source": [
    "a = \"Life is too short\"\n",
    "a.replace(\"Life\", \"Your leg\")"
   ]
  },
  {
   "cell_type": "code",
   "execution_count": 85,
   "metadata": {},
   "outputs": [
    {
     "output_type": "execute_result",
     "data": {
      "text/plain": [
       "'Your leg is too short Your leg'"
      ]
     },
     "metadata": {},
     "execution_count": 85
    }
   ],
   "source": [
    "a = \"Life is too short Life\"\n",
    "a.replace(\"Life\", \"Your leg\")"
   ]
  },
  {
   "source": [
    "### 8. 문자열 나누기(split)"
   ],
   "cell_type": "markdown",
   "metadata": {}
  },
  {
   "cell_type": "code",
   "execution_count": 88,
   "metadata": {},
   "outputs": [
    {
     "output_type": "execute_result",
     "data": {
      "text/plain": [
       "['Life', 'is', 'too', 'short']"
      ]
     },
     "metadata": {},
     "execution_count": 88
    }
   ],
   "source": [
    "a = \"Life is too short\"\n",
    "a.split()"
   ]
  },
  {
   "cell_type": "code",
   "execution_count": 89,
   "metadata": {},
   "outputs": [
    {
     "output_type": "execute_result",
     "data": {
      "text/plain": [
       "['a', 'b', 'c', 'd']"
      ]
     },
     "metadata": {},
     "execution_count": 89
    }
   ],
   "source": [
    "b = \"a:b:c:d\"\n",
    "b.split(':')"
   ]
  },
  {
   "source": [
    "split 함수는 a.split()과 같이 괄호 안에 아무 것도 없을 때는 공백을 기준으로 문자열을 나눈다. 만약 b.split(':')과 같이 괄호 안에 특정 값이 있을 때는 이 값을 기준으로 문자열을 나눈다.  \n",
    "이렇게 나눈 값은 리스트에 하나씩 들어가게 된다."
   ],
   "cell_type": "markdown",
   "metadata": {}
  }
 ]
}
