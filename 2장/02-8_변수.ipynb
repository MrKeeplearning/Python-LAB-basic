{
 "metadata": {
  "language_info": {
   "codemirror_mode": {
    "name": "ipython",
    "version": 3
   },
   "file_extension": ".py",
   "mimetype": "text/x-python",
   "name": "python",
   "nbconvert_exporter": "python",
   "pygments_lexer": "ipython3",
   "version": "3.9.1-final"
  },
  "orig_nbformat": 2,
  "kernelspec": {
   "name": "python3",
   "display_name": "Python 3.9.1 64-bit",
   "metadata": {
    "interpreter": {
     "hash": "247ab06e135bb35fa78c5eff31b2a9a0050dcb5fb773c2631d2a29ac689eeccb"
    }
   }
  }
 },
 "nbformat": 4,
 "nbformat_minor": 2,
 "cells": [
  {
   "source": [
    "# 02-8 자료형의 값을 저장하는 공간, 변수"
   ],
   "cell_type": "markdown",
   "metadata": {}
  },
  {
   "source": [
    "## 변수는 어떻게 만들까?\n",
    "---\n",
    "아래와 예시에 나온 a, b, c를 변수라고 한다.\n",
    ">a = 1  \n",
    "b = \"python\"  \n",
    "c = \\[1,2,3\\]\n",
    "\n",
    "변수를 만들 때는 위의 예시처럼 '=' 기호를 사용한다.  \n",
    "<br>\n",
    "다른 프로그래밍 언어인 C나 JAVA에서는 변수를 만들 때 자료형을 지정해주어야 한다. 하지만 파이썬은 변수에 저장된 값을 스스로 판단해서 자료형을 지정하기 때문에 편리하다."
   ],
   "cell_type": "markdown",
   "metadata": {}
  },
  {
   "source": [
    "## 변수란?\n",
    "---\n",
    "파이썬에서 사용하는 변수는 객체를 가리키는 것이라고 할 수 있다. 객체는 지금껏 보아 온 자료형과 같은 것을 의미하는 말이다.  \n",
    "> a = \\[1,2,3\\]\n",
    "\n",
    "위의 코드처럼 a = \\[1,2,3\\]이라고 하면 \\[1,2,3\\] 값을 가지는 리스트 자료형(객체)이 자동으로 메모리에 생성되고 변수 a는 \\[1,2,3,\\] 리스트가 저장된 메모리의 주소를 가리키게 된다.  \n",
    "<br>\n",
    "a 변수가 가리키는 메모리의 주소는 다음과 같이 확인할 수 있다."
   ],
   "cell_type": "markdown",
   "metadata": {}
  },
  {
   "cell_type": "code",
   "execution_count": 1,
   "metadata": {},
   "outputs": [
    {
     "output_type": "execute_result",
     "data": {
      "text/plain": [
       "2305010991552"
      ]
     },
     "metadata": {},
     "execution_count": 1
    }
   ],
   "source": [
    "a = [1,2,3]\n",
    "id(a)"
   ]
  },
  {
   "source": [
    "id 함수는 변수가 가리키고 있는 객체의 주소 값을 돌려주는 파이썬 내장 함수이다."
   ],
   "cell_type": "markdown",
   "metadata": {}
  },
  {
   "source": [
    "## 리스트를 복사하고자 할 때\n",
    "---\n",
    "리스트 자료형에서 가장 혼동하기 쉬운 것이 '복사'이다."
   ],
   "cell_type": "markdown",
   "metadata": {}
  },
  {
   "cell_type": "code",
   "execution_count": 2,
   "metadata": {},
   "outputs": [],
   "source": [
    "a = [1,2,3]\n",
    "b = a"
   ]
  },
  {
   "source": [
    "b 변수에 a 변수를 대입하면 b와 a는 완전히 동일하다고 할 수 있다. 다만, \\[1,2,3\\] 리스트를 참조하는 변수가 a변수 1개에서 b변수가 추가되어 2개로 늘어났다는 차이가 있다.  \n",
    "id함수를 사용하면 이 사실을 명확하게 확인할 수 있다."
   ],
   "cell_type": "markdown",
   "metadata": {}
  },
  {
   "cell_type": "code",
   "execution_count": 3,
   "metadata": {},
   "outputs": [
    {
     "output_type": "stream",
     "name": "stdout",
     "text": [
      "2305011099136\n2305011099136\n"
     ]
    }
   ],
   "source": [
    "print(id(a))\n",
    "print(id(b))"
   ]
  },
  {
   "source": [
    "id(a)의 값과 id(b)의 값이 완전히 동일하다는 것을 알 수 있다. 즉, a가 가리키는 대상과 b가 가리키는 대상이 동일하다는 것이다.  \n",
    "동일한 객체를 가리키고 있는지에 대해서 판단하는 파이썬 명령어 is를 실행해도 True를 돌려준다."
   ],
   "cell_type": "markdown",
   "metadata": {}
  },
  {
   "cell_type": "code",
   "execution_count": 4,
   "metadata": {},
   "outputs": [
    {
     "output_type": "execute_result",
     "data": {
      "text/plain": [
       "True"
      ]
     },
     "metadata": {},
     "execution_count": 4
    }
   ],
   "source": [
    "a is b      # a와 b가 가리키는 객체는 동일한가?"
   ]
  },
  {
   "cell_type": "code",
   "execution_count": 5,
   "metadata": {},
   "outputs": [
    {
     "output_type": "stream",
     "name": "stdout",
     "text": [
      "[1, 4, 3]\n[1, 4, 3]\n"
     ]
    }
   ],
   "source": [
    "a[1] = 4\n",
    "print(a)\n",
    "print(b)"
   ]
  },
  {
   "source": [
    "a 리스트의 두 번째 요소를 값 4로 바꾸었더니 a만 바뀌는 것이 아니라 b도 동일하게 바뀌었다. 그 이유는 a, b 모두 동일한 리스트를 가리키고 있기 때문이다.  \n",
    "b 변수를 생성할 때 a 변수의 값을 가져오면서 a와는 다른 주소를 가리키도록 할 수는 없을까? 그 방법은 다음과 같다."
   ],
   "cell_type": "markdown",
   "metadata": {}
  },
  {
   "source": [
    "### 1. \\[:\\] 이용하기\n",
    "첫 번째 방법으로는 다음과 같이 리스트 전체를 가리키는 \\[:\\]를 사용해서 복사하는 것이다."
   ],
   "cell_type": "markdown",
   "metadata": {}
  },
  {
   "cell_type": "code",
   "execution_count": 7,
   "metadata": {},
   "outputs": [
    {
     "output_type": "stream",
     "name": "stdout",
     "text": [
      "[1, 4, 3]\n[1, 2, 3]\n"
     ]
    }
   ],
   "source": [
    "a = [1,2,3]\n",
    "b = a[:]\n",
    "a[1] = 4\n",
    "print(a)\n",
    "print(b)"
   ]
  },
  {
   "source": [
    "위의 예시에서 보듯이 a 리스트 값을 바꾸더라도 b 리스트에는 영향을 미치지 않는다."
   ],
   "cell_type": "markdown",
   "metadata": {}
  },
  {
   "source": [
    "### 2. copy 모듈 이용하기\n",
    "아래 예시를 보면 from copy import copy 라는 문장을 사용하는데 이것은 추후 파이선 모듈 부분에서 다시 다룬다.  \n",
    "여기서는 단순히 copy함수를 쓰기 위해서 사용하는 것이라고 알고 넘어가자."
   ],
   "cell_type": "markdown",
   "metadata": {}
  },
  {
   "cell_type": "code",
   "execution_count": 8,
   "metadata": {},
   "outputs": [],
   "source": [
    "from copy import copy\n",
    "b = copy(a)"
   ]
  },
  {
   "source": [
    "b = copy(a)는 b = a\\[:\\] 와 동일하다.  \n",
    "그렇다면 두 변수는 같은 값을 가지면서 다른 객체를 제대로 생성했을까?"
   ],
   "cell_type": "markdown",
   "metadata": {}
  },
  {
   "cell_type": "code",
   "execution_count": 9,
   "metadata": {},
   "outputs": [
    {
     "output_type": "execute_result",
     "data": {
      "text/plain": [
       "False"
      ]
     },
     "metadata": {},
     "execution_count": 9
    }
   ],
   "source": [
    "b is a"
   ]
  },
  {
   "source": [
    "b와 a가 가리키는 객체가 다르다는 것을 확인할 수 있다."
   ],
   "cell_type": "markdown",
   "metadata": {}
  },
  {
   "source": [
    "## 변수를 만드는 여러 가지 방법\n",
    "---\n",
    "튜플로 a, b에 값을 대입할 수 있다."
   ],
   "cell_type": "markdown",
   "metadata": {}
  },
  {
   "cell_type": "code",
   "execution_count": 10,
   "metadata": {},
   "outputs": [],
   "source": [
    "a, b = ('python', 'life')"
   ]
  },
  {
   "source": [
    "튜플은 괄호를 생략해도 된다. 아래 예문의 역할은 위와 동일하다."
   ],
   "cell_type": "markdown",
   "metadata": {}
  },
  {
   "cell_type": "code",
   "execution_count": 11,
   "metadata": {},
   "outputs": [],
   "source": [
    "(a, b) = 'python', 'life'"
   ]
  },
  {
   "source": [
    "리스트로 변수를 만들 수도 있다."
   ],
   "cell_type": "markdown",
   "metadata": {}
  },
  {
   "cell_type": "code",
   "execution_count": 12,
   "metadata": {},
   "outputs": [],
   "source": [
    "[a, b] = ['python', 'life']"
   ]
  },
  {
   "source": [
    "여러 개의 변수에 같은 값을 대입할 수도 있다."
   ],
   "cell_type": "markdown",
   "metadata": {}
  },
  {
   "cell_type": "code",
   "execution_count": 13,
   "metadata": {},
   "outputs": [],
   "source": [
    "a = b = 'python'"
   ]
  },
  {
   "source": [
    "위의 방법을 사용하면 두 변수의 값을 아주 간단히 바꿀 수 있다."
   ],
   "cell_type": "markdown",
   "metadata": {}
  },
  {
   "cell_type": "code",
   "execution_count": 15,
   "metadata": {},
   "outputs": [
    {
     "output_type": "stream",
     "name": "stdout",
     "text": [
      "5\n3\n"
     ]
    }
   ],
   "source": [
    "a = 3\n",
    "b = 5\n",
    "# a와 b의 값을 서로 바꾼다.\n",
    "a, b = b, a\n",
    "print(a)\n",
    "print(b)"
   ]
  }
 ]
}
