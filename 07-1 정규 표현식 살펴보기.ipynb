{
 "metadata": {
  "language_info": {
   "codemirror_mode": {
    "name": "ipython",
    "version": 3
   },
   "file_extension": ".py",
   "mimetype": "text/x-python",
   "name": "python",
   "nbconvert_exporter": "python",
   "pygments_lexer": "ipython3",
   "version": "3.9.1-final"
  },
  "orig_nbformat": 2,
  "kernelspec": {
   "name": "python3",
   "display_name": "Python 3.9.1 64-bit",
   "metadata": {
    "interpreter": {
     "hash": "4d6401091f6de5a385c299b068c1e85516af19a094234475c31f99f1aabe410a"
    }
   }
  }
 },
 "nbformat": 4,
 "nbformat_minor": 2,
 "cells": [
  {
   "source": [
    "# 07-1 정규 표현식 살펴보기\n",
    "---\n",
    "정규 표현식(Regular Expressions)은 복잡한 문자열을 처리할 때 사용하는 기법으로 파이썬만의 고유 문법이 아니라 문자열을 처리하는 모든 곳에서 사용한다.\n",
    "> 정규 표현식은 줄여서 간단히 \"정규식\"이라고도 말한다.\n",
    "\n",
    "## 정규 표현식의 필요성\n",
    "---\n",
    "다음과 같은 문제가 있다고 가정한다.\n",
    "> 주민등록번호를 포함하고 있는 텍스트가 있다. 이 텍스트에 포함된 모든 주민등록번호의 뒷자리를 * 문자로 변경해보자.\n",
    "\n",
    "정규식을 모르는 상태에서는 다음과 같은 순서로 프로그램을 작성한다.\n",
    "\n",
    "1. 전체 텍스트를 공백 문자로 나눈다(split).  \n",
    "2. 나누어진 단어가 주민등록번호 형식인지 조사한다.  \n",
    "3. 단어가 주민등록번호 형식이라면 뒷자리를 `*`로 변환한다.  \n",
    "4. 나누어진 단어들을 다시 조립한다.  \n",
    "\n",
    "위의 과정을 구현한 코드는 다음과 같을 것이다."
   ],
   "cell_type": "markdown",
   "metadata": {}
  },
  {
   "cell_type": "code",
   "execution_count": 1,
   "metadata": {},
   "outputs": [
    {
     "output_type": "stream",
     "name": "stdout",
     "text": [
      "\npark 800905-*******\nkim 900905-*******\n\n"
     ]
    }
   ],
   "source": [
    "data = \"\"\"\n",
    "park 800905-1234567\n",
    "kim 900905-1234568\n",
    "\"\"\"\n",
    "\n",
    "result = []\n",
    "for line in data.split(\"\\n\"):\n",
    "    word_result = []\n",
    "    for word in line.split(\" \"):\n",
    "        if len(word) == 14 and word[:6].isdigit() and word[7:].isdigit():\n",
    "            word = word[:6] + \"-\" + \"*******\"\n",
    "        word_result.append(word)\n",
    "    result.append(\" \".join(word_result))\n",
    "print(\"\\n\".join(result))"
   ]
  },
  {
   "source": [
    "반면에 정규식을 사용하면 훨씬 간편하고 직관적인 코드를 작성할 수 있다."
   ],
   "cell_type": "markdown",
   "metadata": {}
  },
  {
   "cell_type": "code",
   "execution_count": 5,
   "metadata": {},
   "outputs": [
    {
     "output_type": "stream",
     "name": "stdout",
     "text": [
      "\npark 800905-*******\nkim 900905-*******\n\n"
     ]
    }
   ],
   "source": [
    "import re\n",
    "\n",
    "data = \"\"\"\n",
    "park 800905-1234567\n",
    "kim 900905-1234568\n",
    "\"\"\"\n",
    "pat = re.compile(\"(\\d{6})[-]\\d{7}\")\n",
    "print(pat.sub(\"\\g<1>-*******\", data))"
   ]
  },
  {
   "source": [
    "만약 찾으려는 문자열 또는 바꾸어야 할 문자열의 규칙이 매우 복잡하다면 정규식의 효용은 더 커진다."
   ],
   "cell_type": "markdown",
   "metadata": {}
  }
 ]
}