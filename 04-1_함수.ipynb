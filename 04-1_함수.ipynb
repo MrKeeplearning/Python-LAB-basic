{
 "metadata": {
  "language_info": {
   "codemirror_mode": {
    "name": "ipython",
    "version": 3
   },
   "file_extension": ".py",
   "mimetype": "text/x-python",
   "name": "python",
   "nbconvert_exporter": "python",
   "pygments_lexer": "ipython3",
   "version": "3.9.1-final"
  },
  "orig_nbformat": 2,
  "kernelspec": {
   "name": "python3",
   "display_name": "Python 3.9.1 64-bit",
   "metadata": {
    "interpreter": {
     "hash": "4d6401091f6de5a385c299b068c1e85516af19a094234475c31f99f1aabe410a"
    }
   }
  }
 },
 "nbformat": 4,
 "nbformat_minor": 2,
 "cells": [
  {
   "source": [
    "# 04-1 함수\n",
    "---"
   ],
   "cell_type": "markdown",
   "metadata": {}
  },
  {
   "source": [
    "## 파이썬 함수의 구조\n",
    "---"
   ],
   "cell_type": "markdown",
   "metadata": {}
  },
  {
   "cell_type": "code",
   "execution_count": null,
   "metadata": {},
   "outputs": [],
   "source": [
    "def 함수명(매개변수):\n",
    "    <수행할 문장1>\n",
    "    <수행할 문장2>\n",
    "    ..."
   ]
  },
  {
   "source": [
    "def는 함수를 만들 때 사용하는 예약어이며, 함수 이름은 함수를 만드는 사람이 임의로 만들 수 있다. 함수 이름 뒤 고라호 안의 매개변수는 이 함수에 입력으로 전달되는 값을 받는 변수이다. 이렇게 함수를 정의한 뒤에 if, while, for문 등과 마찬가지로 함수에서 수행할 문장을 입력한다."
   ],
   "cell_type": "markdown",
   "metadata": {}
  },
  {
   "cell_type": "code",
   "execution_count": 1,
   "metadata": {},
   "outputs": [],
   "source": [
    "def add(a, b):\n",
    "    return a + b"
   ]
  },
  {
   "source": [
    "위 함수는 \"이 함수의 이름은 add이고, 입력으로 2개의 값을 받으며 결괏값은 2개의 입력값을 더한 값이다.\"로 해석할 수 있다.  \n",
    "return은 함수의 결괏값을 돌려주는 명령어이다."
   ],
   "cell_type": "markdown",
   "metadata": {}
  },
  {
   "cell_type": "code",
   "execution_count": 2,
   "metadata": {},
   "outputs": [
    {
     "output_type": "stream",
     "name": "stdout",
     "text": [
      "7\n"
     ]
    }
   ],
   "source": [
    "a = 3\n",
    "b = 4\n",
    "c = add(a, b)\n",
    "print(c)"
   ]
  },
  {
   "source": [
    "변수 a에 3, 변수 b에 4를 넣어주고 매개변수를 통해서 함수 add에 전달해주면 변수 c에 add함수의 결과가 저장되고 print 함수로 변수 c에 저장된 값을 보여준다."
   ],
   "cell_type": "markdown",
   "metadata": {}
  }
 ]
}