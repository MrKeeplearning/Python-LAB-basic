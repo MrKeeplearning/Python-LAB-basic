{
 "metadata": {
  "language_info": {
   "codemirror_mode": {
    "name": "ipython",
    "version": 3
   },
   "file_extension": ".py",
   "mimetype": "text/x-python",
   "name": "python",
   "nbconvert_exporter": "python",
   "pygments_lexer": "ipython3",
   "version": "3.9.1-final"
  },
  "orig_nbformat": 2,
  "kernelspec": {
   "name": "python3",
   "display_name": "Python 3.9.1 64-bit",
   "metadata": {
    "interpreter": {
     "hash": "4d6401091f6de5a385c299b068c1e85516af19a094234475c31f99f1aabe410a"
    }
   }
  }
 },
 "nbformat": 4,
 "nbformat_minor": 2,
 "cells": [
  {
   "source": [
    "# 02-3 리스트 자료형\n",
    "1부터 10까지의 숫자 중 홀수 모음인 1, 3, 5, 7, 9의 집합을 생각했을 때 이러한 숫자 모음을 숫자나 문자열로 표현하기는 역부족이기 때문에 사용하는 자료형으로 리스트가 있다.\n",
    "\n",
    "## 리스트의 작성법과 사용법\n",
    "---"
   ],
   "cell_type": "markdown",
   "metadata": {}
  },
  {
   "cell_type": "code",
   "execution_count": null,
   "metadata": {},
   "outputs": [],
   "source": [
    "리스트명 = [요소1, 요소2, 요소3, ...]\n",
    "\n",
    "# 아무것도 포함하지 않아 비어 있는 리스트\n",
    "# 빈 리스트는 a = list()와 같이 표현도 가능하다.\n",
    "a = []\n",
    "# 숫자를 요솟값으로 가지는 리스트\n",
    "b = [1, 2, 3]\n",
    "# 문자열을 요솟값으로 가지는 리스트\n",
    "c = ['Life', 'is', 'too', 'short']\n",
    "# 숫자와 문자열을 함께 요솟값으로 가지는 리스트\n",
    "d = [1, 2, 'Life', 'is']\n",
    "# 리스트 자체를 요솟값으로 가지는 리스트\n",
    "e = [1, 2, ['Life', 'is']]"
   ]
  },
  {
   "source": [
    "## 리스트의 인덱싱과 슬라이싱\n",
    "---\n",
    "리스트도 문자열과 같이 인덱싱과 슬라이싱이 가능하다.\n",
    "\n",
    "### <리스트의 인덱싱>"
   ],
   "cell_type": "markdown",
   "metadata": {}
  },
  {
   "cell_type": "code",
   "execution_count": 1,
   "metadata": {},
   "outputs": [
    {
     "output_type": "execute_result",
     "data": {
      "text/plain": [
       "[1, 2, 3]"
      ]
     },
     "metadata": {},
     "execution_count": 1
    }
   ],
   "source": [
    "a = [1,2,3]\n",
    "a"
   ]
  },
  {
   "cell_type": "code",
   "execution_count": 2,
   "metadata": {},
   "outputs": [
    {
     "output_type": "execute_result",
     "data": {
      "text/plain": [
       "1"
      ]
     },
     "metadata": {},
     "execution_count": 2
    }
   ],
   "source": [
    "# 리스트 a의 첫 번째 요솟값\n",
    "a[0]"
   ]
  },
  {
   "cell_type": "code",
   "execution_count": 3,
   "metadata": {},
   "outputs": [
    {
     "output_type": "execute_result",
     "data": {
      "text/plain": [
       "4"
      ]
     },
     "metadata": {},
     "execution_count": 3
    }
   ],
   "source": [
    "a[0] + a[2]"
   ]
  },
  {
   "cell_type": "code",
   "execution_count": 4,
   "metadata": {},
   "outputs": [
    {
     "output_type": "execute_result",
     "data": {
      "text/plain": [
       "3"
      ]
     },
     "metadata": {},
     "execution_count": 4
    }
   ],
   "source": [
    "a[-1]"
   ]
  },
  {
   "cell_type": "code",
   "execution_count": 6,
   "metadata": {},
   "outputs": [
    {
     "output_type": "execute_result",
     "data": {
      "text/plain": [
       "1"
      ]
     },
     "metadata": {},
     "execution_count": 6
    }
   ],
   "source": [
    "a = [1, 2, 3, ['a', 'b', 'c']]\n",
    "a[0]"
   ]
  },
  {
   "cell_type": "code",
   "execution_count": 7,
   "metadata": {},
   "outputs": [
    {
     "output_type": "execute_result",
     "data": {
      "text/plain": [
       "['a', 'b', 'c']"
      ]
     },
     "metadata": {},
     "execution_count": 7
    }
   ],
   "source": [
    "a[-1]"
   ]
  },
  {
   "cell_type": "code",
   "execution_count": 8,
   "metadata": {},
   "outputs": [
    {
     "output_type": "execute_result",
     "data": {
      "text/plain": [
       "['a', 'b', 'c']"
      ]
     },
     "metadata": {},
     "execution_count": 8
    }
   ],
   "source": [
    "a[3]"
   ]
  },
  {
   "source": [
    "### 리스트 a에 포함된 \\['a', 'b', 'c'\\] 리스트에서 첫 번째 요소를 인덱싱을 사용해서 추출하기\n",
    "a\\[-1\\]\\[0\\] 을 통해서 'a'를 추출한다고 하면 a\\[-1\\]은 \\['a', 'b', 'c'\\]을 의미하고 \\[0\\]은 문자열 리스트에서 첫 번째 요소인 'a'를 뜻한다."
   ],
   "cell_type": "markdown",
   "metadata": {}
  },
  {
   "cell_type": "code",
   "execution_count": 11,
   "metadata": {},
   "outputs": [
    {
     "output_type": "execute_result",
     "data": {
      "text/plain": [
       "'a'"
      ]
     },
     "metadata": {},
     "execution_count": 11
    }
   ],
   "source": [
    "a[-1][0]"
   ]
  },
  {
   "source": [
    "### 삼중 리스트에서 인덱싱하기\n",
    "\n",
    "a = \\[1, 2, \\['a', 'b', \\['Life', 'is'\\]\\]\\]  \n",
    "리스트 a 안에 \\['a', 'b', \\['Life', 'is'\\]\\] 리스트가 포함되어 있고, 그 리스트 안에 다시 \\['Life', 'is'\\] 리스트가 포함되어 있는 삼중 구조의 리스트이다.  \n",
    "이 삼중 리스트에서 'Life'만 뽑아내려면 이중 리스트에서 사용했던 원리와 동일하게 진행하면 된다."
   ],
   "cell_type": "markdown",
   "metadata": {}
  },
  {
   "cell_type": "code",
   "execution_count": 12,
   "metadata": {},
   "outputs": [
    {
     "output_type": "execute_result",
     "data": {
      "text/plain": [
       "'Life'"
      ]
     },
     "metadata": {},
     "execution_count": 12
    }
   ],
   "source": [
    "a = [1, 2, ['a', 'b', ['Life', 'is']]]\n",
    "a[2][2][0]"
   ]
  },
  {
   "source": [
    "### <리스트의 슬라이싱>\n",
    "문자열에서도 슬라이싱이 가능했던 것처럼 리스트에서도 슬라이싱이 가능하다. 방법은 완전히 동일하지만 나오는 결과는 조금 다르다."
   ],
   "cell_type": "markdown",
   "metadata": {}
  },
  {
   "cell_type": "code",
   "execution_count": 13,
   "metadata": {},
   "outputs": [
    {
     "output_type": "execute_result",
     "data": {
      "text/plain": [
       "[1, 2]"
      ]
     },
     "metadata": {},
     "execution_count": 13
    }
   ],
   "source": [
    "# 리스트의 슬라이싱\n",
    "a = [1, 2, 3, 4, 5]\n",
    "a[0:2]"
   ]
  },
  {
   "cell_type": "code",
   "execution_count": 14,
   "metadata": {},
   "outputs": [
    {
     "output_type": "execute_result",
     "data": {
      "text/plain": [
       "'12'"
      ]
     },
     "metadata": {},
     "execution_count": 14
    }
   ],
   "source": [
    "# 문자열의 슬라이싱\n",
    "a = \"12345\"\n",
    "a[0:2]"
   ]
  },
  {
   "cell_type": "code",
   "execution_count": 15,
   "metadata": {},
   "outputs": [
    {
     "output_type": "execute_result",
     "data": {
      "text/plain": [
       "[1, 2]"
      ]
     },
     "metadata": {},
     "execution_count": 15
    }
   ],
   "source": [
    "a = [1, 2, 3, 4, 5]\n",
    "b = a[:2]\n",
    "c = a[2:]\n",
    "b"
   ]
  },
  {
   "cell_type": "code",
   "execution_count": 16,
   "metadata": {},
   "outputs": [
    {
     "output_type": "execute_result",
     "data": {
      "text/plain": [
       "[3, 4, 5]"
      ]
     },
     "metadata": {},
     "execution_count": 16
    }
   ],
   "source": [
    "c"
   ]
  },
  {
   "source": [
    "### 중첩된 리스트에서 슬라이싱하기\n",
    "리스트가 포함된 중첩 리스트 또한 슬라이싱 방법은 동일하게 적용한다."
   ],
   "cell_type": "markdown",
   "metadata": {}
  },
  {
   "cell_type": "code",
   "execution_count": 17,
   "metadata": {},
   "outputs": [
    {
     "output_type": "execute_result",
     "data": {
      "text/plain": [
       "[3, ['a', 'b', 'c'], 4]"
      ]
     },
     "metadata": {},
     "execution_count": 17
    }
   ],
   "source": [
    "a = [1, 2, 3, ['a', 'b', 'c'], 4, 5]\n",
    "a[2:5]"
   ]
  },
  {
   "cell_type": "code",
   "execution_count": 18,
   "metadata": {},
   "outputs": [
    {
     "output_type": "execute_result",
     "data": {
      "text/plain": [
       "['a', 'b']"
      ]
     },
     "metadata": {},
     "execution_count": 18
    }
   ],
   "source": [
    "a[3][:2]"
   ]
  },
  {
   "source": [
    "## 리스트 연산하기\n",
    "---\n",
    "리스트도 문자열처럼 +기호를 통해서 리스트끼리 더할 수 있고 *기호를 통해서 반복이 가능하다.\n",
    "\n",
    "### 1. 리스트 더하기(+)\n",
    "문자열에서 \"abc\" + \"def\" = \"abcdef\"가 되는 것처럼 리스트 사이에서 + 기호는 2개의 리스트를 합치는 기능을 제공한다."
   ],
   "cell_type": "markdown",
   "metadata": {}
  },
  {
   "cell_type": "code",
   "execution_count": 19,
   "metadata": {},
   "outputs": [
    {
     "output_type": "execute_result",
     "data": {
      "text/plain": [
       "[1, 2, 3, 4, 5, 6]"
      ]
     },
     "metadata": {},
     "execution_count": 19
    }
   ],
   "source": [
    "a = [1, 2, 3]\n",
    "b = [4, 5, 6]\n",
    "a + b"
   ]
  },
  {
   "source": [
    "### 2. 리스트 반복하기(*)\n",
    "문자열에서 \"abc\" \\* 3 = \"abcabcabc\"가 되는 것처럼 리스트도 \\* 다음에 넣은 숫자만큼 리스트를 반복하여 새로운 리스트를 생성한다."
   ],
   "cell_type": "markdown",
   "metadata": {}
  },
  {
   "cell_type": "code",
   "execution_count": 20,
   "metadata": {},
   "outputs": [
    {
     "output_type": "execute_result",
     "data": {
      "text/plain": [
       "[1, 2, 3, 1, 2, 3, 1, 2, 3]"
      ]
     },
     "metadata": {},
     "execution_count": 20
    }
   ],
   "source": [
    "a = [1, 2, 3]\n",
    "a * 3"
   ]
  },
  {
   "source": [
    "### 3. 리스트 길이구하기\n",
    "리스트 길이를 구하기 위해서는 len함수를 사용한다.  \n",
    "len함수는 문자열, 리스트 외에도 튜플과 딕셔너리에도 사용이 가능한 함수이다."
   ],
   "cell_type": "markdown",
   "metadata": {}
  },
  {
   "cell_type": "code",
   "execution_count": 21,
   "metadata": {},
   "outputs": [
    {
     "output_type": "execute_result",
     "data": {
      "text/plain": [
       "3"
      ]
     },
     "metadata": {},
     "execution_count": 21
    }
   ],
   "source": [
    "a = [1,2,3]\n",
    "len(a)"
   ]
  },
  {
   "source": [
    "### 초보자가 범하기 쉬운 리스트 연산 오류"
   ],
   "cell_type": "markdown",
   "metadata": {}
  },
  {
   "cell_type": "code",
   "execution_count": 22,
   "metadata": {},
   "outputs": [
    {
     "output_type": "error",
     "ename": "TypeError",
     "evalue": "unsupported operand type(s) for +: 'int' and 'str'",
     "traceback": [
      "\u001b[1;31m---------------------------------------------------------------------------\u001b[0m",
      "\u001b[1;31mTypeError\u001b[0m                                 Traceback (most recent call last)",
      "\u001b[1;32m<ipython-input-22-4764ce61d24e>\u001b[0m in \u001b[0;36m<module>\u001b[1;34m\u001b[0m\n\u001b[0;32m      1\u001b[0m \u001b[0ma\u001b[0m \u001b[1;33m=\u001b[0m \u001b[1;33m[\u001b[0m\u001b[1;36m1\u001b[0m\u001b[1;33m,\u001b[0m\u001b[1;36m2\u001b[0m\u001b[1;33m,\u001b[0m\u001b[1;36m3\u001b[0m\u001b[1;33m]\u001b[0m\u001b[1;33m\u001b[0m\u001b[1;33m\u001b[0m\u001b[0m\n\u001b[1;32m----> 2\u001b[1;33m \u001b[0ma\u001b[0m\u001b[1;33m[\u001b[0m\u001b[1;36m2\u001b[0m\u001b[1;33m]\u001b[0m \u001b[1;33m+\u001b[0m \u001b[1;34m\"hi\"\u001b[0m\u001b[1;33m\u001b[0m\u001b[1;33m\u001b[0m\u001b[0m\n\u001b[0m",
      "\u001b[1;31mTypeError\u001b[0m: unsupported operand type(s) for +: 'int' and 'str'"
     ]
    }
   ],
   "source": [
    "a = [1,2,3]\n",
    "a[2] + \"hi\""
   ]
  },
  {
   "source": [
    "a\\[2\\]의 값인 3과 문자열 \"hi\"가 더해져서 3hi라고 나올 것 같지만 결과는 오류가 나온다. 오류 메시지를 확인해보면 다음과 같이 적혀있다.  \n",
    "TypeError: unsupported operand type(s) for +: 'int' and 'str'  \n",
    "정수와 문자열은 더할 수 없기 때문에 형 오류가 발생한 것이다. 만약 3hi를 출력하고 싶다면 a = \\[1, 2, '3'\\]과 같이 표현하거나 정수나 실수를 문자열의 형태로 바꿔주는 str함수를 사용해야 한다."
   ],
   "cell_type": "markdown",
   "metadata": {}
  },
  {
   "cell_type": "code",
   "execution_count": 23,
   "metadata": {},
   "outputs": [
    {
     "output_type": "execute_result",
     "data": {
      "text/plain": [
       "'3hi'"
      ]
     },
     "metadata": {},
     "execution_count": 23
    }
   ],
   "source": [
    "a = [1, 2, '3']\n",
    "a[2] + \"hi\""
   ]
  },
  {
   "cell_type": "code",
   "execution_count": 24,
   "metadata": {},
   "outputs": [
    {
     "output_type": "execute_result",
     "data": {
      "text/plain": [
       "'3hi'"
      ]
     },
     "metadata": {},
     "execution_count": 24
    }
   ],
   "source": [
    "a = [1, 2, 3]\n",
    "str(a[2]) + \"hi\""
   ]
  },
  {
   "source": [
    "## 리스트의 수정과 삭제\n",
    "---\n",
    "### 1. 리스트에서 값 수정하기\n",
    "a\\[2\\]의 요솟값을 바꾸어보자."
   ],
   "cell_type": "markdown",
   "metadata": {}
  },
  {
   "cell_type": "code",
   "execution_count": 25,
   "metadata": {},
   "outputs": [
    {
     "output_type": "execute_result",
     "data": {
      "text/plain": [
       "[1, 2, 4]"
      ]
     },
     "metadata": {},
     "execution_count": 25
    }
   ],
   "source": [
    "a = [1, 2, 3]\n",
    "a[2] = 4\n",
    "a"
   ]
  },
  {
   "source": [
    "### 2. del함수를 사용해서 리스트 요소를 삭제하기\n",
    "del a\\[x\\]는 x번째 요솟값을 삭제한다. del함수는 파이썬 자체적으로 가지고 있는 삭제 함수이고 다음과 같이 사용한다.  \n",
    "*del 객체*"
   ],
   "cell_type": "markdown",
   "metadata": {}
  },
  {
   "cell_type": "code",
   "execution_count": 26,
   "metadata": {},
   "outputs": [
    {
     "output_type": "execute_result",
     "data": {
      "text/plain": [
       "[1, 3]"
      ]
     },
     "metadata": {},
     "execution_count": 26
    }
   ],
   "source": [
    "a = [1, 2, 3]\n",
    "del a[1]\n",
    "a"
   ]
  },
  {
   "source": [
    "슬라이싱 기법을 사용해서 리스트의 요소 여러 개를 한 번에 삭제하는 것도 가능하다."
   ],
   "cell_type": "markdown",
   "metadata": {}
  },
  {
   "cell_type": "code",
   "execution_count": 28,
   "metadata": {},
   "outputs": [
    {
     "output_type": "execute_result",
     "data": {
      "text/plain": [
       "[1, 2]"
      ]
     },
     "metadata": {},
     "execution_count": 28
    }
   ],
   "source": [
    "a = [1, 2, 3, 4, 5]\n",
    "del a[2:]\n",
    "a"
   ]
  },
  {
   "source": [
    "## 리스트 관련 함수들\n",
    "---\n",
    "문자열처럼 리스트 변수 이름 뒤에 '.'을 붙여서 여러 가지 리스트 관련 함수를 사용할 수 있다.\n",
    "### 1. 리스트에 요소 추가(append)\n",
    "append는 '덧붙이다, 첨부하다'와 같은 뜻을 가지고 있는데 append(x)라고 하면 리스트의 맨 마지막에 x를 추가한다."
   ],
   "cell_type": "markdown",
   "metadata": {}
  },
  {
   "cell_type": "code",
   "execution_count": 29,
   "metadata": {},
   "outputs": [
    {
     "output_type": "execute_result",
     "data": {
      "text/plain": [
       "[1, 2, 3, 4]"
      ]
     },
     "metadata": {},
     "execution_count": 29
    }
   ],
   "source": [
    "a = [1, 2, 3]\n",
    "a.append(4)\n",
    "a"
   ]
  },
  {
   "source": [
    "리스트에 대해서 처음 배웠을 때 리스트 안에는 어떠한 자료형이던 추가가 가능하다는 것을 배웠다.  \n",
    "아래에는 리스트에 다시 또 리스트를 추가해서 이중 리스트를 만든 결과이다."
   ],
   "cell_type": "markdown",
   "metadata": {}
  },
  {
   "cell_type": "code",
   "execution_count": 30,
   "metadata": {},
   "outputs": [
    {
     "output_type": "execute_result",
     "data": {
      "text/plain": [
       "[1, 2, 3, 4, [5, 6]]"
      ]
     },
     "metadata": {},
     "execution_count": 30
    }
   ],
   "source": [
    "a.append([5, 6])\n",
    "a"
   ]
  },
  {
   "source": [
    "### 2. 리스트 정렬(sort)\n",
    "sort함수는 리스트의 요소를 순서대로 정렬해준다."
   ],
   "cell_type": "markdown",
   "metadata": {}
  },
  {
   "cell_type": "code",
   "execution_count": 32,
   "metadata": {},
   "outputs": [
    {
     "output_type": "execute_result",
     "data": {
      "text/plain": [
       "[1, 2, 4, 10]"
      ]
     },
     "metadata": {},
     "execution_count": 32
    }
   ],
   "source": [
    "a = [1, 4, 10, 2]\n",
    "a.sort()\n",
    "a"
   ]
  },
  {
   "source": [
    "jump to python에는 담겨 있는 내용이 아니지만 sort함수를 입력하니 vscode에서 sort함수에 대한 설명을 보여주어 알게된 내용을 첨부한다. 먼저 sort함수에 대한 설명은 다음과 같다.  \n",
    "<br>\n",
    "Sort the list in ascending order and return None.\n",
    "\n",
    "The sort is in-place (i.e. the list itself is modified) and stable (i.e. the\n",
    "order of two equal elements is maintained).\n",
    "\n",
    "If a key function is given, apply it once to each list item and sort them,\n",
    "ascending or descending, according to their function values.\n",
    "\n",
    "The reverse flag can be set to sort in descending order.  \n",
    "<br>\n",
    "위의 결과에서도 보았듯이 기본적으로 sort함수는 오름차순으로 정렬을 해준다. 그런데 이것을 내림차순으로 정렬하려면 reverse flag을 사용하라고 한다.  \n",
    "즉, a.sort(reverse = True) 라고 작성하면 내림차순으로 되는 것이다."
   ],
   "cell_type": "markdown",
   "metadata": {}
  },
  {
   "cell_type": "code",
   "execution_count": 33,
   "metadata": {},
   "outputs": [
    {
     "output_type": "execute_result",
     "data": {
      "text/plain": [
       "[10, 4, 2, 1]"
      ]
     },
     "metadata": {},
     "execution_count": 33
    }
   ],
   "source": [
    "a.sort(reverse = True)\n",
    "a"
   ]
  },
  {
   "source": [
    "### 3. 리스트 뒤집기(reverse)\n",
    "reverse함수는 리스트를 역순으로 뒤집어 준다. 이것은 위에서 sort함수에 reverse flag를 사용해서 내림차순으로 만드는 것하고는 완전히 다른 것이다. 단순히 현재의 리스트 순서를 반대로 뒤집기만 하는 것이다."
   ],
   "cell_type": "markdown",
   "metadata": {}
  },
  {
   "cell_type": "code",
   "execution_count": 34,
   "metadata": {},
   "outputs": [
    {
     "output_type": "execute_result",
     "data": {
      "text/plain": [
       "['b', 'c', 'a']"
      ]
     },
     "metadata": {},
     "execution_count": 34
    }
   ],
   "source": [
    "a = ['a', 'c', 'b']\n",
    "a.reverse()\n",
    "a"
   ]
  },
  {
   "source": [
    "### 4. 위치 반환(index)\n",
    "index(x) 함수는 리스트에 x값이 있으면 x의 위치 값을 return해준다. 하지만 존재하지 않는 값을 찾고자 하면 ValueError를 발생시킨다."
   ],
   "cell_type": "markdown",
   "metadata": {}
  },
  {
   "cell_type": "code",
   "execution_count": 35,
   "metadata": {},
   "outputs": [
    {
     "output_type": "execute_result",
     "data": {
      "text/plain": [
       "2"
      ]
     },
     "metadata": {},
     "execution_count": 35
    }
   ],
   "source": [
    "a = [1, 2, 3]\n",
    "a.index(3)"
   ]
  },
  {
   "cell_type": "code",
   "execution_count": 37,
   "metadata": {},
   "outputs": [
    {
     "output_type": "error",
     "ename": "ValueError",
     "evalue": "0 is not in list",
     "traceback": [
      "\u001b[1;31m---------------------------------------------------------------------------\u001b[0m",
      "\u001b[1;31mValueError\u001b[0m                                Traceback (most recent call last)",
      "\u001b[1;32m<ipython-input-37-affdffa288f1>\u001b[0m in \u001b[0;36m<module>\u001b[1;34m\u001b[0m\n\u001b[1;32m----> 1\u001b[1;33m \u001b[0ma\u001b[0m\u001b[1;33m.\u001b[0m\u001b[0mindex\u001b[0m\u001b[1;33m(\u001b[0m\u001b[1;36m0\u001b[0m\u001b[1;33m)\u001b[0m\u001b[1;33m\u001b[0m\u001b[1;33m\u001b[0m\u001b[0m\n\u001b[0m",
      "\u001b[1;31mValueError\u001b[0m: 0 is not in list"
     ]
    }
   ],
   "source": [
    "a.index(0)"
   ]
  },
  {
   "source": [
    "### 5. 리스트에 요소 삽입(insert)\n",
    "insert(a, b)는 리스트의 a번째 위치에 b를 삽입하는 함수이다."
   ],
   "cell_type": "markdown",
   "metadata": {}
  },
  {
   "cell_type": "code",
   "execution_count": 49,
   "metadata": {},
   "outputs": [
    {
     "output_type": "execute_result",
     "data": {
      "text/plain": [
       "[4, 1, 2, 3]"
      ]
     },
     "metadata": {},
     "execution_count": 49
    }
   ],
   "source": [
    "a = [1, 2, 3]\n",
    "a.insert(0, 4)\n",
    "a"
   ]
  },
  {
   "source": [
    "### 6. 리스트 요소 제거(remove)\n",
    "remove(x)는 리스트에서 첫 번째로 나오는 x를 삭제하는 함수이다."
   ],
   "cell_type": "markdown",
   "metadata": {}
  },
  {
   "cell_type": "code",
   "execution_count": 50,
   "metadata": {},
   "outputs": [
    {
     "output_type": "execute_result",
     "data": {
      "text/plain": [
       "[1, 2, 1, 2, 3]"
      ]
     },
     "metadata": {},
     "execution_count": 50
    }
   ],
   "source": [
    "a = [1, 2, 3, 1, 2, 3]\n",
    "a.remove(3)\n",
    "a"
   ]
  },
  {
   "source": [
    "리스트 a에서 첫 번째 3만 지워진 것을 확인할 수 있다. remove함수 또한 리스트에 존재하지 않는 값을 삭제하고자 한다면 ValueError를 발생시킨다."
   ],
   "cell_type": "markdown",
   "metadata": {}
  },
  {
   "source": [
    "### 7. 리스트 요소 끄집어내기(pop)\n",
    "적절한 비유가 될지는 모르겠지만 스택에서 pop을 진행하면 LIFO 구조이기 때문에 가장 마지막에 push된 데이터가 먼저 나오게 된다.  \n",
    "마찬가지로 pop()은 리스트의 맨 마지막 요소를 돌려주고 그 요소를 삭제한다.  \n",
    "<br>\n",
    "다시 생각해보니 주어진 리스트에는 어떤 요솟값이 먼저 들어왔는지에 대한 정보가 없기 때문에 적절한 비유가 아닌 듯하다.^^;;"
   ],
   "cell_type": "markdown",
   "metadata": {}
  },
  {
   "cell_type": "code",
   "execution_count": 51,
   "metadata": {},
   "outputs": [
    {
     "output_type": "execute_result",
     "data": {
      "text/plain": [
       "[1, 2]"
      ]
     },
     "metadata": {},
     "execution_count": 51
    }
   ],
   "source": [
    "a = [1, 2, 3]\n",
    "a.pop()\n",
    "a"
   ]
  },
  {
   "source": [
    "위에서는 pop()에서 괄호 안에 아무런 값도 들어있지 않았다.  \n",
    "pop(x)와 같이 괄호 안을 채워주면 리스트의 x번째 요소를 돌려주고 그 요소를 삭제하는 기능을 한다."
   ],
   "cell_type": "markdown",
   "metadata": {}
  },
  {
   "cell_type": "code",
   "execution_count": 52,
   "metadata": {},
   "outputs": [
    {
     "output_type": "execute_result",
     "data": {
      "text/plain": [
       "2"
      ]
     },
     "metadata": {},
     "execution_count": 52
    }
   ],
   "source": [
    "a = [1, 2, 3]\n",
    "a.pop(1)"
   ]
  },
  {
   "cell_type": "code",
   "execution_count": 54,
   "metadata": {},
   "outputs": [
    {
     "output_type": "execute_result",
     "data": {
      "text/plain": [
       "[1, 3]"
      ]
     },
     "metadata": {},
     "execution_count": 54
    }
   ],
   "source": [
    "# 1번째 요소를 돌려주고 삭제했기 때문에 2는 없을 것이다.\n",
    "a"
   ]
  },
  {
   "source": [
    "### 8. 리스트에 포함된 요소 x의 개수 세기(count)\n",
    "count(x)는 리스트 안에 x가 몇 개 있는지 조사하고 그 개수를 돌려주는 함수이다."
   ],
   "cell_type": "markdown",
   "metadata": {}
  },
  {
   "cell_type": "code",
   "execution_count": 55,
   "metadata": {},
   "outputs": [
    {
     "output_type": "execute_result",
     "data": {
      "text/plain": [
       "2"
      ]
     },
     "metadata": {},
     "execution_count": 55
    }
   ],
   "source": [
    "a = [1,2,3,1]\n",
    "a.count(1)"
   ]
  },
  {
   "source": [
    "### 9. 리스트 확장(extend)\n",
    "extend(x)에서 x에는 리스트만 올 수 있고 원래의 a리스트에 x리스트를 더하게 된다."
   ],
   "cell_type": "markdown",
   "metadata": {}
  },
  {
   "cell_type": "code",
   "execution_count": 56,
   "metadata": {},
   "outputs": [
    {
     "output_type": "execute_result",
     "data": {
      "text/plain": [
       "[1, 2, 3, 4, 5]"
      ]
     },
     "metadata": {},
     "execution_count": 56
    }
   ],
   "source": [
    "a = [1,2,3]\n",
    "a.extend([4,5])\n",
    "a"
   ]
  },
  {
   "cell_type": "code",
   "execution_count": 57,
   "metadata": {},
   "outputs": [
    {
     "output_type": "execute_result",
     "data": {
      "text/plain": [
       "[1, 2, 3, 4, 5]"
      ]
     },
     "metadata": {},
     "execution_count": 57
    }
   ],
   "source": [
    "a = [1,2,3]\n",
    "a += [4,5]\n",
    "a"
   ]
  },
  {
   "source": [
    "위와 같이 a.extend(\\[4,5\\])는 a += \\[4,5\\]와 동일하다."
   ],
   "cell_type": "markdown",
   "metadata": {}
  },
  {
   "cell_type": "code",
   "execution_count": 58,
   "metadata": {},
   "outputs": [
    {
     "output_type": "execute_result",
     "data": {
      "text/plain": [
       "[1, 2, 3, 4, 5, 6, 7]"
      ]
     },
     "metadata": {},
     "execution_count": 58
    }
   ],
   "source": [
    "b = [6,7]\n",
    "a.extend(b)\n",
    "a"
   ]
  }
 ]
}