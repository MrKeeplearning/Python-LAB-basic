{
 "metadata": {
  "language_info": {
   "codemirror_mode": {
    "name": "ipython",
    "version": 3
   },
   "file_extension": ".py",
   "mimetype": "text/x-python",
   "name": "python",
   "nbconvert_exporter": "python",
   "pygments_lexer": "ipython3",
   "version": "3.9.1-final"
  },
  "orig_nbformat": 2,
  "kernelspec": {
   "name": "python3",
   "display_name": "Python 3.9.1 64-bit",
   "metadata": {
    "interpreter": {
     "hash": "4d6401091f6de5a385c299b068c1e85516af19a094234475c31f99f1aabe410a"
    }
   }
  }
 },
 "nbformat": 4,
 "nbformat_minor": 2,
 "cells": [
  {
   "source": [
    "# 06-6 하위 디렉터리 검색하기\n",
    "---\n",
    "특정 디렉터리부터 시작해서 그 하위 모든 파일 중 파이썬 파일(`*.py`)만 출력해주는 프로그램을 만들어보자.\n",
    "\n",
    "1. sub_dir_search.py 파일을 만든다.\n",
    "> sub_dir_search.py 파일을 특정 디렉터리에 저장해준다.\n",
    "\n",
    "search 함수를 만들고 시작 디렉터리를 입력받도록 코드를 작성한다."
   ],
   "cell_type": "markdown",
   "metadata": {}
  },
  {
   "cell_type": "code",
   "execution_count": 2,
   "metadata": {},
   "outputs": [
    {
     "output_type": "stream",
     "name": "stdout",
     "text": [
      "D:/\n"
     ]
    }
   ],
   "source": [
    "# D:/JaeSeok/Python_LAB/JumpToPython/CH06/sub_dir_search.py\n",
    "\n",
    "def search(dirname):\n",
    "    print(dirname)\n",
    "\n",
    "search(\"D:/\")"
   ]
  },
  {
   "source": [
    "2. 이제 sub_dir_search.py가 있는 디렉터리의 파일들을 검색할 수 있도록 소스를 변경한다."
   ],
   "cell_type": "markdown",
   "metadata": {}
  },
  {
   "cell_type": "code",
   "execution_count": 4,
   "metadata": {},
   "outputs": [
    {
     "output_type": "stream",
     "name": "stdout",
     "text": [
      "D:/$RECYCLE.BIN\nD:/(서식)개인정보검증 동의서.pdf\nD:/(서식)자격요건검증 동의서.pdf\nD:/2021 신입생 설명회 자료.pptx\nD:/2021.1학기 수업시간표.xls\nD:/2021학년도 1학기 국내 실습학기제 운영 안내문.hwp\nD:/2021학년도 1학기 신입생 수강신청 안내문.hwp\nD:/CGclass\nD:/DoItAndroid-master\nD:/Downloads\nD:/everytime.png\nD:/Images\nD:/JaeSeok\nD:/msdownld.tmp\nD:/Recording\nD:/System Volume Information\nD:/Test.py\nD:/the_office\nD:/노트북 백업 파일\nD:/매뉴얼2. [온라인시스템]학생 참여신청.pdf\nD:/시스템프로그래밍 기말고사 오픈북\nD:/컴퓨터그래픽스배움터_학습자용.zip\n"
     ]
    }
   ],
   "source": [
    "# D:/JaeSeok/Python_LAB/JumpToPython/CH06/sub_dir_search.py\n",
    "\n",
    "import os\n",
    "\n",
    "def search(dirname):\n",
    "    filenames = os.listdir(dirname)\n",
    "    for filename in filenames:\n",
    "        full_filename = os.path.join(dirname, filename)\n",
    "        print (full_filename)\n",
    "\n",
    "search(\"D:/\")"
   ]
  },
  {
   "source": [
    "* os.listdir을 사용하면 해당 디렉터리에 있는 파일들의 리스트를 구할 수 있다. 이 방법을 통해서 알게 되는 파일 리스트는 파일 이름만 포함되어 있다. 만약 경로까지 포함하고 싶다면 입력으로 받은 dirname을 앞에 덧붙여 주어야 한다.\n",
    "* os 모듈에는 디렉터리와 파일 이름을 이어주는 os.path.join 함수가 있으므로 이 함수를 사용하면 디렉터리를 포함한 전체 경로를 쉽게 구할 수 있다."
   ],
   "cell_type": "markdown",
   "metadata": {}
  },
  {
   "source": [
    "3. 이제 `D:/` 디렉터리에 있는 파일들 중 확장자가 .py인 파일만을 출력하도록 코드를 변경해보자."
   ],
   "cell_type": "markdown",
   "metadata": {}
  }
 ]
}