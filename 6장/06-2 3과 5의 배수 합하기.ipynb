{
 "metadata": {
  "language_info": {
   "codemirror_mode": {
    "name": "ipython",
    "version": 3
   },
   "file_extension": ".py",
   "mimetype": "text/x-python",
   "name": "python",
   "nbconvert_exporter": "python",
   "pygments_lexer": "ipython3",
   "version": "3.9.1-final"
  },
  "orig_nbformat": 2,
  "kernelspec": {
   "name": "python3",
   "display_name": "Python 3.9.1 64-bit",
   "metadata": {
    "interpreter": {
     "hash": "4d6401091f6de5a385c299b068c1e85516af19a094234475c31f99f1aabe410a"
    }
   }
  }
 },
 "nbformat": 4,
 "nbformat_minor": 2,
 "cells": [
  {
   "source": [
    "# 06-2 3과 5의 배수 합하기\n",
    "---\n",
    "해결하려는 문제는 다음과 같다.\n",
    "> 10 미만의 자연수에서 3과 5의 배수를 구하면 3, 5, 6, 9이다. 이들의 총합은 23이다.  \n",
    "1000 미만의 자연수에서 3의 배수와 5의 배수의 총합을 구하라.\n",
    "\n",
    "이 문제를 접했을 때 생각의 흐름은 다음과 같아야 한다.\n",
    "* 입력 받는 값은? 1부터 999까지(1000미만의 자연수)\n",
    "* 출력하는 값은? 3의 배수와 5의 배수의 총합\n",
    "* 생각해 볼 것은?\n",
    "    1. 3의 배수와 5의 배수는 어떻게 찾을까?\n",
    "    2. 3의 배수와 5의 배수가 겹칠 때는 어떻게 처리할까?\n",
    "\n",
    "이 문제에서 핵심 포인트는 두 가지인데 첫 번째는 1000미만의 자연수를 어떻게 구할 것인지이고, 두 번째는 3과 5의 배수는 어떻게 구할 것인지이다."
   ],
   "cell_type": "markdown",
   "metadata": {}
  },
  {
   "source": [
    "1. 먼저 1000미만의 자연수를 어떻게 구할지 생각해보자. 일반적으로는 while문을 통해서 1부터 999까지 루프를 돌리는 방법을 생각할 수 있다."
   ],
   "cell_type": "markdown",
   "metadata": {}
  },
  {
   "cell_type": "code",
   "execution_count": null,
   "metadata": {},
   "outputs": [],
   "source": [
    "n = 1\n",
    "while n<1000:\n",
    "    print(n)\n",
    "    n += 1"
   ]
  },
  {
   "source": [
    "하지만 이 방법 말고도 내장함수 range를 사용한다면 좀 더 간결하게 표현이 가능하다."
   ],
   "cell_type": "markdown",
   "metadata": {}
  },
  {
   "cell_type": "code",
   "execution_count": null,
   "metadata": {},
   "outputs": [],
   "source": [
    "for n in range(1, 1000):\n",
    "    print(n)"
   ]
  },
  {
   "source": [
    "2. 1000미만의 자연수를 구하는 방법을 알았으니, 이번에는 두 번째로 중요한 포인트였던 3과 5의 배수를 구하는 방법을 생각해보자. 먼저 1000미만의 3의 배수를 구하기 위해서는 위에서 알아본 1000미만의 자연수를 구하는 식에서 3의 배수를 구하기 위한 한 가지 조건을 설정해두면 된다."
   ],
   "cell_type": "markdown",
   "metadata": {}
  },
  {
   "cell_type": "code",
   "execution_count": null,
   "metadata": {},
   "outputs": [],
   "source": [
    "for n in range(1, 1000):\n",
    "    if n % 3 == 0:\n",
    "        print(n)"
   ]
  },
  {
   "source": [
    "3의 배수는 3으로 나누었을 때 나머지가 0이다. 그래서 나머지가 0인 조건을 만들면 되는데 이 때는 모듈로 연산(%)을 사용하는 것이 적합하다. 마찬가지로, 5의 배수는 3 대신에 5를 넣어주면 쉽게 구할 수 있다."
   ],
   "cell_type": "markdown",
   "metadata": {}
  },
  {
   "source": [
    "3. 이제 3과 5의 배수를 구하는 방법까지 알았다. 여기서 한 가지 문제점이 남는데, 우리는 3과 5의 배수의 총합을 구하는 상황이다. 그런데 3의 배수의 총합과 5의 배수의 총합을 모두 더하면 3과 5의 배수 중 겹치는 지점인 15의 배수를 2번씩 더하는 상황이 발생한다. 따라서 3의 배수의 총합과 5의 배수의 총합을 더한 뒤 15의 배수를 한 번 빼주어야 한다. 이렇게 직관적으로 생각해서 맨처음에 내가 만든 코드는 다음과 같다."
   ],
   "cell_type": "markdown",
   "metadata": {}
  },
  {
   "cell_type": "code",
   "execution_count": 8,
   "metadata": {},
   "outputs": [
    {
     "output_type": "stream",
     "name": "stdout",
     "text": [
      "233168\n"
     ]
    }
   ],
   "source": [
    "class SumOfMul:\n",
    "    \n",
    "    def sum(self, mulNum):\n",
    "        self.result = 0\n",
    "        for n in range(1, 1000):\n",
    "            if n % mulNum == 0:\n",
    "                self.result += n\n",
    "        return self.result\n",
    "    \n",
    "SOM  = SumOfMul()\n",
    "som3 = SOM.sum(3)\n",
    "som5 = SOM.sum(5)\n",
    "som15 = SOM.sum(15)\n",
    "\n",
    "print(som3 + som5 - som15)"
   ]
  },
  {
   "source": [
    "SumOfMul이라는 클래스를 만들고 그 안에 sum이라는 함수를 하나 만들었다. 이 sum이라는 함수는 mulNum이라는 인수를 입력받고 1부터 1000미만의 수 중에서 mulNum의 배수에 해당하는 수들을 합하여 돌려준다.  \n",
    "\n",
    "SumOfMul 클래스의 객체 SOM을 만들어서 3의 배수의 합인 som3와 5의 배수의 합인 som5를 더한 뒤 15의 배수 som15를 빼주었다.  \n",
    "\n",
    "교재에서는 좀 더 간단하게 풀이했다."
   ],
   "cell_type": "markdown",
   "metadata": {}
  },
  {
   "cell_type": "code",
   "execution_count": 1,
   "metadata": {},
   "outputs": [
    {
     "output_type": "stream",
     "name": "stdout",
     "text": [
      "233168\n"
     ]
    }
   ],
   "source": [
    "result = 0\n",
    "for n in range(1, 1000):\n",
    "    if n % 3 == 0 or n % 5 == 0:\n",
    "        result += n\n",
    "print(result)"
   ]
  },
  {
   "source": [
    "15의 배수가 이중으로 더해져 한 번 빼주는 과정을 or 연산을 통해서 해결했다. or 연산은 둘 중에 하나만이라도 참이라면 결과가 참이 되기 때문에 15의 배수에 해당하는 수가 나왔을 때 `n % 3 == 0`이라는 조건이 만족되어 바로 `result += n`을 실행하게 된다. 결과적으로 15의 배수를 이중으로 더하는 문제가 발생하지 않는다."
   ],
   "cell_type": "markdown",
   "metadata": {}
  }
 ]
}