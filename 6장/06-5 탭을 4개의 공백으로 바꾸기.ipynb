{
 "metadata": {
  "language_info": {
   "codemirror_mode": {
    "name": "ipython",
    "version": 3
   },
   "file_extension": ".py",
   "mimetype": "text/x-python",
   "name": "python",
   "nbconvert_exporter": "python",
   "pygments_lexer": "ipython3",
   "version": "3.9.1-final"
  },
  "orig_nbformat": 2,
  "kernelspec": {
   "name": "python3",
   "display_name": "Python 3.9.1 64-bit",
   "metadata": {
    "interpreter": {
     "hash": "4d6401091f6de5a385c299b068c1e85516af19a094234475c31f99f1aabe410a"
    }
   }
  }
 },
 "nbformat": 4,
 "nbformat_minor": 2,
 "cells": [
  {
   "source": [
    "# 06-5 탭을 4개의 공백으로 바꾸기\n",
    "---\n",
    "문서 파일을 읽어서 그 문서 파일 안에 있는 탭(tab)을 공백(space) 4개로 바꾸어 주는 스크립트를 작성해보자.\n",
    "* 필요한 기능은? 문서 파일 읽어 들이기, 문자열 변경하기\n",
    "* 입력 받는 값은? 탭을 포함한 문서 파일\n",
    "* 출력하는 값은? 탭이 공백으로 수정된 문서 파일\n",
    "\n",
    "다음과 같은 형식으로 프로그램이 수행되도록 만들어보자.\n",
    "> `python tabto4.py src dst`\n",
    "\n",
    "tabto4.py 는 현재 작성하려는 파이썬 프로그램이다. src는 탭을 포함하고 있는 원본 파일 이름이다. dst는 파일 안의 탭을 공백 4개로 변환한 결과를 저장할 파일 이름이다.  \n",
    "\n",
    "예를 들어 a.txt 파일에 있는 탭을 4개의 공백으로 바꾸어 b.txt 파일에 저장하고 싶다면 다음과 같이 수행한다.\n",
    "> `python tabto4.py a.txt b.txt`"
   ],
   "cell_type": "markdown",
   "metadata": {}
  },
  {
   "source": [
    "1. tabto4.py 파일을 작성해보자. sys.argv를 사용해서 입력값을 확인하도록 한다. 역시나 sys.argv\\[0\\] 에는 현재 프로그램 이름인 tabto4.py가 들어가기 때문에 sys.argv\\[1\\] 부터 입력받도록 한다."
   ],
   "cell_type": "markdown",
   "metadata": {}
  },
  {
   "cell_type": "code",
   "execution_count": null,
   "metadata": {},
   "outputs": [],
   "source": [
    "# tabto4.py\n",
    "\n",
    "import sys\n",
    "\n",
    "src = sys.argv[1]\n",
    "dst = sys.argv[2]\n",
    "\n",
    "print(src)\n",
    "print(dst)"
   ]
  },
  {
   "source": [
    "2. 입력값이 정상적으로 출력되는지 확인해보자. cmd를 열고 다음과 같이 작성한다.\n",
    "> D:\\JaeSeok\\Python_LAB\\JumpToPython\\CH06>python tabto4.py a.txt b.txt  \n",
    "a.txt  \n",
    "b.txt  "
   ],
   "cell_type": "markdown",
   "metadata": {}
  },
  {
   "source": [
    "3. 의도한대로 정상적으로 작동하는 것을 확인했으니 이제 원래 목적인 탭을 4개의 공백으로 바꾸기 위해서 src 파일인 a.txt에 내용을 채워주자. 각 단어는 탭(`\\t`)문자로 분리될 수 있도록 입력해야 한다.\n",
    "> Life <\\t> is <\\t> too short  \n",
    "You need <\\t> python"
   ],
   "cell_type": "markdown",
   "metadata": {}
  },
  {
   "source": [
    "4. 이제 탭 문자를 포함한 a.txt 파일을 읽어서 탭을 공백 4개로 변환할 수 있도록 코드를 변경해보자.  \n",
    "아래의 코드는 src에 해당하는 입력 파일을 읽어서 그 내용을 tab_content라는 변수에 저장한다. 그 뒤 문자열의 replace 함수를 사용해서 탭을 4개의 공백(`\" \"*4`)으로 변경한다."
   ],
   "cell_type": "markdown",
   "metadata": {}
  },
  {
   "cell_type": "code",
   "execution_count": null,
   "metadata": {},
   "outputs": [],
   "source": [
    "# tabto4.py\n",
    "\n",
    "import sys\n",
    "\n",
    "src = sys.argv[1]\n",
    "dst = sys.argv[2]\n",
    "\n",
    "f = open(src)\n",
    "tab_content = f.read()\n",
    "f.close()\n",
    "\n",
    "space_content = tab_content.replace(\"\\t\", \" \"*4)\n",
    "print(space_content)"
   ]
  },
  {
   "source": [
    "5. tabto4.py 가 탭을 공백 4개로 변경하도록 수정했으니 정상적으로 작동하는지 cmd창을 열어서 확인해보자.\n",
    "> D:\\JaeSeok\\Python_LAB\\JumpToPython\\CH06>python tabto4.py a.txt b.txt  \n",
    "Life    is    too short  \n",
    "You    need    python  \n",
    "\n",
    "cmd 창에서 육안상으로 확인했을 때는 그 차이를 명확하게 체감하기는 힘들다. 그래도 마우스 커서를 가져가면 4개의 띄어쓰기로 구성된 것을 확인할 수 있을 것이다."
   ],
   "cell_type": "markdown",
   "metadata": {}
  },
  {
   "source": [
    "6. 원래 의도대로 이제 a.txt에서 파일을 읽어온 뒤 변경하여 b.txt에 저장할 수 있도록 프로그램을 마저 완성해보자."
   ],
   "cell_type": "markdown",
   "metadata": {}
  },
  {
   "cell_type": "code",
   "execution_count": null,
   "metadata": {},
   "outputs": [],
   "source": [
    "# tabto4.py\n",
    "\n",
    "import sys\n",
    "\n",
    "src = sys.argv[1]\n",
    "dst = sys.argv[2]\n",
    "\n",
    "f = open(src, 'r')\n",
    "tab_content = f.read()\n",
    "f.close()\n",
    "\n",
    "space_content = tab_content.replace(\"\\t\", \" \"*4)\n",
    "\n",
    "f = open(dst, 'w')\n",
    "f.write(space_content)\n",
    "f.close()"
   ]
  },
  {
   "source": [
    "탭이 공백 4개로 변경된 space_content를 출력 파일인 dst에 쓰도록 코드를 수정했다.  \n",
    "\n",
    "변경된 프로그램을 cmd에서 실행시킨 뒤 메모장으로 a.txt와 b.txt를 열어서 비교해보면 둘의 차이를 확실하게 알 수 있다. 탭을 사용한 a.txt의 경우 탭을 넣은 구간이 하나의 덩어리로 표현될 것이고 b.txt의 경우 탭을 넣었던 구간이 공백 4개로 구분될 것이다.\n",
    "> D:\\JaeSeok\\Python_LAB\\JumpToPython\\CH06>python tabto4.py a.txt b.txt\n",
    "\n",
    "![a.txt이미지.png](D:/JaeSeok/Python_LAB/JumpToPython/CH06/a.txt이미지.png)  \n",
    "\n",
    "![b.txt이미지.png](D:/JaeSeok/Python_LAB/JumpToPython/CH06/b.txt이미지.png)"
   ],
   "cell_type": "markdown",
   "metadata": {}
  }
 ]
}