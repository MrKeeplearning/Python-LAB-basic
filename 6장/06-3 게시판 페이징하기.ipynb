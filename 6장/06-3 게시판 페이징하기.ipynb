{
 "metadata": {
  "language_info": {
   "codemirror_mode": {
    "name": "ipython",
    "version": 3
   },
   "file_extension": ".py",
   "mimetype": "text/x-python",
   "name": "python",
   "nbconvert_exporter": "python",
   "pygments_lexer": "ipython3",
   "version": "3.9.1-final"
  },
  "orig_nbformat": 2,
  "kernelspec": {
   "name": "python3",
   "display_name": "Python 3.9.1 64-bit",
   "metadata": {
    "interpreter": {
     "hash": "4d6401091f6de5a385c299b068c1e85516af19a094234475c31f99f1aabe410a"
    }
   }
  }
 },
 "nbformat": 4,
 "nbformat_minor": 2,
 "cells": [
  {
   "source": [
    "# 06-3 게시판 페이징하기\n",
    "---\n",
    "게시판 프로그램을 작성하는 중 게시물의 총 건수와 한 페이지에 보여 줄 게시물 수를 입력으로 주었을 때 총 페이지 수를 출력하는 프로그램이 필요한 상황이다.\n",
    "> 게시판의 페이지 수를 보여 주는 것을 \"페이징\"한다고 부른다.\n",
    "\n",
    "* 함수 이름은? getTotalPage\n",
    "* 입력 값은? 게시물의 총 건수(m), 한 페이지에 보여줄 게시물 수(n)\n",
    "* 출력 값은? 총 페이지 수\n",
    "\n",
    "입력값과 결괏값의 관계는 다음과 같다.\n",
    "\n",
    "| 게시물의 총 건수(m) | 페이지당 보여줄 게시물 수(n) | 총 페이지 수 |\n",
    "| :--- | :--- | :--- |\n",
    "| 5 | 10 | 1 |\n",
    "| 15 | 10 | 2 |\n",
    "| 25 | 10 | 3 |\n",
    "| 30 | 10 | 3 |\n",
    "\n",
    "이 문제는 게시판 프로그램을 만들 때 가장 처음 마주치는 난관인 총 페이지 수 구하기 문제이다. 실제 업무에서 사용하는 페이징 기술은 훨씬 복잡한데 여기에서는 그 중 가장 간단한 총 페이지 수를 구하는 방법에 대해서만 알아보겠다.\n",
    "\n",
    "1. 총 건수(m)를 한 페이지에 보여 줄 게시물 수(n)로 나누고 1을 더하면 총 페이지 수를 얻을 수 있다.\n",
    "> 총 페이지 수 = (총 건수 / 한 페이지 당 보여 줄 건수) + 1\n",
    "\n",
    "2. 이러한 공식을 적용했을 때 총 페이지 수가 표의 값처럼 구해지는 확인해보자. m을 n으로 나눌 때 소수점이 발생하기 때문에 이 부분을 없애기 위해서 `//` 연산자를 사용한다."
   ],
   "cell_type": "markdown",
   "metadata": {}
  },
  {
   "cell_type": "code",
   "execution_count": 1,
   "metadata": {},
   "outputs": [
    {
     "output_type": "stream",
     "name": "stdout",
     "text": [
      "1\n2\n3\n4\n"
     ]
    }
   ],
   "source": [
    "def getTotalPage(m, n):\n",
    "    return m // n + 1\n",
    "\n",
    "print(getTotalPage(5, 10))\n",
    "print(getTotalPage(15, 10))\n",
    "print(getTotalPage(25, 10))\n",
    "print(getTotalPage(30, 10))"
   ]
  },
  {
   "source": [
    "여기서 한 가지 간과한 것이 있는데 만약 m을 n으로 나누었을 때 나머지가 발생하지 않는다면 굳이 1을 더할 필요가 없다. 따라서 이러한 조건을 따져 줄 조건문을 포함해야 한다.  \n",
    "\n",
    "3. 조건문을 포함하여 오류를 해결한 코드는 다음과 같다."
   ],
   "cell_type": "markdown",
   "metadata": {}
  },
  {
   "cell_type": "code",
   "execution_count": 2,
   "metadata": {},
   "outputs": [
    {
     "output_type": "stream",
     "name": "stdout",
     "text": [
      "1\n2\n3\n3\n"
     ]
    }
   ],
   "source": [
    "def getTotalPage(m, n):\n",
    "    if m % n == 0:\n",
    "        return m // n\n",
    "    else:\n",
    "        return m // n + 1\n",
    "\n",
    "print(getTotalPage(5, 10))\n",
    "print(getTotalPage(15, 10))\n",
    "print(getTotalPage(25, 10))\n",
    "print(getTotalPage(30, 10))"
   ]
  }
 ]
}