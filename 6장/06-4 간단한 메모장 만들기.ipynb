{
 "metadata": {
  "language_info": {
   "codemirror_mode": {
    "name": "ipython",
    "version": 3
   },
   "file_extension": ".py",
   "mimetype": "text/x-python",
   "name": "python",
   "nbconvert_exporter": "python",
   "pygments_lexer": "ipython3",
   "version": "3.9.1-final"
  },
  "orig_nbformat": 2,
  "kernelspec": {
   "name": "python3",
   "display_name": "Python 3.9.1 64-bit",
   "metadata": {
    "interpreter": {
     "hash": "4d6401091f6de5a385c299b068c1e85516af19a094234475c31f99f1aabe410a"
    }
   }
  }
 },
 "nbformat": 4,
 "nbformat_minor": 2,
 "cells": [
  {
   "source": [
    "06-4 간단한 메모장 만들기\n",
    "---\n",
    "원하는 메모를 파일에 저장하고 추가 및 조회가 가능한 간단한 메모장을 만들어 보자.\n",
    "\n",
    "* 필요한 기능? 메모 추가하기, 조회하기\n",
    "* 입력 받는 값은? 메모 내용, 프로그램 실행 옵션\n",
    "* 출력하는 값은? memo.txt(메모가 완료된 파일)\n",
    "\n",
    "가장 먼저 할 일은 메모를 추가하는 것이다. 작성할 파이썬 프로그램 이름이 `memo.py`이고 `-a`는 프로그램의 실행옵션, \"Life is too short\"가 추가할 메모 내용일 때 아래 명령을 실행하면 메모를 추가할 수 있어야 한다.\n",
    "> python memo.py -a \"Life is too short\""
   ],
   "cell_type": "markdown",
   "metadata": {}
  },
  {
   "source": [
    "1. 입력으로 받은 옵션과 메모를 출력하는 코드를 작성해보자."
   ],
   "cell_type": "markdown",
   "metadata": {}
  },
  {
   "cell_type": "code",
   "execution_count": null,
   "metadata": {},
   "outputs": [],
   "source": [
    "import sys\n",
    "\n",
    "option = sys.argv[1]\n",
    "memo = sys.argv[2]\n",
    "\n",
    "print(option)\n",
    "print(memo)"
   ]
  },
  {
   "source": [
    "`sys.argv`는 프로그램 실행 시 입력된 값을 읽어 들일 수 있는 파이썬 라이브러리이다. `sys.argv[0]`에는 자동으로 프로그램 이름인 memo.py가 입력되므로 필요 없다. 그리고 `sys.argv[1]`에는 프로그램 실행 옵션, `sys.argv[2]`는 메모 내용이 들어간다."
   ],
   "cell_type": "markdown",
   "metadata": {}
  },
  {
   "source": [
    "2. memo.py를 작성했다면 다음 명령을 cmd에서 실행해보자. 입력으로 전달한 옵션과 메모 내용이 그대로 출력되는 것을 확인할 수 있다.\n",
    "> D:\\JaeSeok\\Python_LAB\\JumpToPython\\CH06>python memo.py -a \"Life is too short\"  \n",
    "-a  \n",
    "Life is too short  \n",
    "\n",
    "3. 이제 입력으로 받은 메모를 파일에 작성하도록 코드를 변경한다."
   ],
   "cell_type": "markdown",
   "metadata": {}
  },
  {
   "cell_type": "code",
   "execution_count": 2,
   "metadata": {},
   "outputs": [],
   "source": [
    "# memo.py\n",
    "\n",
    "import sys\n",
    "\n",
    "option = sys.argv[1]\n",
    "\n",
    "if option == '-a':\n",
    "    memo = sys.argv[2]\n",
    "    f = open('memo.txt', 'a')\n",
    "    f.write(memo)\n",
    "    f.write('\\n')\n",
    "    f.close()"
   ]
  },
  {
   "source": [
    "옵션이 -a 인 경우에만 memo 값을 읽어서 memo.txt 파일에 내용을 추가한다. 항상 메모에 새로운 내용이 작성되는 것이 아니라 한 줄씩 추가해야 하기 때문에 파일열기 모드를 a로 한다. 그리고 메모를 추가할 때마다 다음 줄에 저장되도록 `\\n`도 추가했다."
   ],
   "cell_type": "markdown",
   "metadata": {}
  },
  {
   "source": [
    "4. 아래와 같이 cmd에서 명령을 수행해보자.\n",
    "> D:\\JaeSeok\\Python_LAB\\JumpToPython\\CH06>python memo.py -a \"Life is too short\"  \n",
    ">\n",
    "> D:\\JaeSeok\\Python_LAB\\JumpToPython\\CH06>python memo.py -a \"You need python\"\n",
    "\n",
    "memo.txt 파일에 내용이 제대로 기입되었는지 확인해보자. 마찬가지로 cmd에서 아래와 같은 명령을 실행한다.\n",
    "> D:\\JaeSeok\\Python_LAB\\JumpToPython\\CH06>type memo.txt  \n",
    "Life is too short  \n",
    "You need python\n",
    "\n"
   ],
   "cell_type": "markdown",
   "metadata": {}
  },
  {
   "source": [
    "5. 이번에는 작성한 메모를 출력하는 부분을 만들어보자. 메모 출력은 -v 옵션을 사용하도록 한다. 기존의 코드에 -v 옵션에 해당하는 코드만 추가하면 된다."
   ],
   "cell_type": "markdown",
   "metadata": {}
  },
  {
   "cell_type": "code",
   "execution_count": 3,
   "metadata": {},
   "outputs": [],
   "source": [
    "# memo.py\n",
    "\n",
    "import sys\n",
    "\n",
    "option = sys.argv[1]\n",
    "\n",
    "if option == '-a':\n",
    "    memo = sys.argv[2]\n",
    "    f = open('memo.txt', 'a')\n",
    "    f.write(memo)\n",
    "    f.write('\\n')\n",
    "    f.close()\n",
    "    \n",
    "elif option == '-v':\n",
    "    f = open('memo.txt', 'a')\n",
    "    memo = f.read()\n",
    "    f.close()\n",
    "    print(memo)"
   ]
  },
  {
   "source": [
    "6. cmd에서 -v 옵션을 사용해서 정상적으로 작동하는지 확인해보자."
   ],
   "cell_type": "markdown",
   "metadata": {}
  },
  {
   "cell_type": "code",
   "execution_count": null,
   "metadata": {},
   "outputs": [],
   "source": []
  }
 ]
}