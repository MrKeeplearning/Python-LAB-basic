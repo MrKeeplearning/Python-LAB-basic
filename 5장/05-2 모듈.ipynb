{
 "metadata": {
  "language_info": {
   "codemirror_mode": {
    "name": "ipython",
    "version": 3
   },
   "file_extension": ".py",
   "mimetype": "text/x-python",
   "name": "python",
   "nbconvert_exporter": "python",
   "pygments_lexer": "ipython3",
   "version": "3.9.1-final"
  },
  "orig_nbformat": 2,
  "kernelspec": {
   "name": "python3",
   "display_name": "Python 3.9.1 64-bit",
   "metadata": {
    "interpreter": {
     "hash": "247ab06e135bb35fa78c5eff31b2a9a0050dcb5fb773c2631d2a29ac689eeccb"
    }
   }
  }
 },
 "nbformat": 4,
 "nbformat_minor": 2,
 "cells": [
  {
   "source": [
    "# 05-2 모듈\n",
    "---\n",
    "모듈이란 함수나 변수 또는 클래스를 모아 놓은 파일이다. 모듈은 다른 파이썬 프로그램에서 불러와 사용할 수 있게끔 만든 파이썬 파일이라고도 할 수 있다. "
   ],
   "cell_type": "markdown",
   "metadata": {}
  },
  {
   "source": [
    "## 모듈 만들기\n",
    "---\n",
    "간단한 모듈을 한 번 만들어 보자."
   ],
   "cell_type": "markdown",
   "metadata": {}
  },
  {
   "cell_type": "code",
   "execution_count": 1,
   "metadata": {},
   "outputs": [],
   "source": [
    "#mod1.py\n",
    "def add(a, b):\n",
    "    return a + b\n",
    "\n",
    "def sub(a, b):\n",
    "    return a - b"
   ]
  },
  {
   "source": [
    "add와 sub 함수만 있는 파일 mod1.py를 만들고 특정 디렉토리에 저장한다. mod1.py 파일이 모듈이다."
   ],
   "cell_type": "markdown",
   "metadata": {}
  },
  {
   "cell_type": "code",
   "execution_count": 4,
   "metadata": {},
   "outputs": [],
   "source": [
    "import mod1"
   ]
  },
  {
   "cell_type": "code",
   "execution_count": 5,
   "metadata": {},
   "outputs": [
    {
     "output_type": "stream",
     "name": "stdout",
     "text": [
      "7\n2\n"
     ]
    }
   ],
   "source": [
    "print(mod1.add(3, 4))\n",
    "print(mod1.sub(4, 2))"
   ]
  },
  {
   "source": [
    "mod1.py를 불러오기 위해 `import mod1`이라고 입력하였다. import는 이미 만들어 놓은 파이썬 모듈을 사용할 수 있게 해주는 명령어이다. mod1.py 파일에 있는 add함수를 사용하기 위해서는 위의 예시와 같이 `mod1.add`처럼 모듈 이름 뒤에 \".\"(도트 연산자)를 붙이고 함수 이름을 쓰면 된다.\n",
    "\n",
    "> import는 현재 디렉토리에 있는 파일이나 파이썬 라이브러리가 저장된 디렉토리에 있는 모듈만 불러올 수 있다.\n",
    "\n",
    "import의 사용법은 다음과 같다.\n",
    "> import 모듈이름\n",
    "\n",
    "때로는 `mod1.add`, `mod1.sub`처럼 쓰지 않고 `add`, `sub`처럼 모듈 이름 없이 함수 이름만 쓰고 싶은 경우도 있을 것이다. 이럴 때는 `from 모듈이름 import 모듈함수`를 사용하면 된다.  \n",
    "\n",
    "from import 형식을 취하면 모듈 이름을 붙이지 않고 바로 해당 모듈의 함수를 사용할 수 있다."
   ],
   "cell_type": "markdown",
   "metadata": {}
  },
  {
   "cell_type": "code",
   "execution_count": 6,
   "metadata": {},
   "outputs": [
    {
     "output_type": "execute_result",
     "data": {
      "text/plain": [
       "7"
      ]
     },
     "metadata": {},
     "execution_count": 6
    }
   ],
   "source": [
    "from mod1 import add\n",
    "add(3, 4)"
   ]
  },
  {
   "source": [
    "그런데 위와 같이 하면 mod1.py 파일의 add함수만 사용할 수 있다. add함수와 sub함수 둘 다 사용하고 싶다면 어떻게 해야 할까?  \n",
    "\n",
    "2가지 방법이 있는데 그 중 첫 번째는 콤마로 구분하여 필요한 함수를 불러오는 것이다."
   ],
   "cell_type": "markdown",
   "metadata": {}
  },
  {
   "cell_type": "code",
   "execution_count": 9,
   "metadata": {},
   "outputs": [
    {
     "output_type": "stream",
     "name": "stdout",
     "text": [
      "7\n5\n"
     ]
    }
   ],
   "source": [
    "from mod1 import add, sub\n",
    "print(add(3,4))\n",
    "print(sub(7,2))"
   ]
  },
  {
   "source": [
    "두 번째 방법은 `*` 문자를 사용하는 것이다. 정규 표현식에서 `*` 문자는 \"모든 것\"이라는 뜻인데 파이썬에서도 같은 의미로 사용한다."
   ],
   "cell_type": "markdown",
   "metadata": {}
  },
  {
   "cell_type": "code",
   "execution_count": 10,
   "metadata": {},
   "outputs": [
    {
     "output_type": "stream",
     "name": "stdout",
     "text": [
      "4\n6\n"
     ]
    }
   ],
   "source": [
    "from mod1 import *      # mod1.py의 모든 함수를 불러서 사용한다.\n",
    "print(add(0,4))\n",
    "print(sub(8,2))"
   ]
  },
  {
   "source": [
    "## if __name__ == \"__main__\": 의 의미\n",
    "---\n",
    "mod1.py 파일을 다음과 같이 변경해보자. 기존 파일의 마지막에 add와 sub의 결과를 출력하는 코드를 2줄 추가했다."
   ],
   "cell_type": "markdown",
   "metadata": {}
  },
  {
   "cell_type": "code",
   "execution_count": null,
   "metadata": {},
   "outputs": [],
   "source": [
    "# mod1.py\n",
    "def add(a, b):\n",
    "    return a + b\n",
    "\n",
    "def sub(a, b):\n",
    "    return a - b\n",
    "\n",
    "print(add(1, 4))\n",
    "print(sub(4, 2))"
   ]
  },
  {
   "source": [
    "위 mod1.py 파일의 add와 sub함수를 사용하기 위해 mod1 모듈을 import할 때는 좀 이상한 문제가 발생한다. "
   ],
   "cell_type": "markdown",
   "metadata": {}
  },
  {
   "source": [
    "C:\\Users\\user\\Desktop\\MyStudy\\Python_LAB>python  \n",
    "...  \n",
    "Type \"help\", \"copyright\", \"credits\" or \"license\" for more information.  \n",
    "\\>>> import mod1  \n",
    "5  \n",
    "2"
   ],
   "cell_type": "markdown",
   "metadata": {}
  },
  {
   "source": [
    "cmd에서 다음과 같이 import mod1을 수행하면 mod1.py가 실행되어 결괏값을 출력한다. add와 sub 함수만을 사용하려고 하는데 이와 같은 문제가 발생하는 것을 방지하려면 mod1.py 파일을 다음과 같이 변경해야 한다."
   ],
   "cell_type": "markdown",
   "metadata": {}
  },
  {
   "cell_type": "code",
   "execution_count": null,
   "metadata": {},
   "outputs": [],
   "source": [
    "# mod1.py\n",
    "def add(a, b):\n",
    "    return a + b\n",
    "\n",
    "def sub(a, b):\n",
    "    return a - b\n",
    "\n",
    "if __name__ == \"__main__\":\n",
    "    print(add(1, 4))\n",
    "    print(sub(4, 2))"
   ]
  },
  {
   "source": [
    "`if __name__ == \"__main__\"`을 사용하면 `C:\\Users\\user\\Desktop\\MyStudy\\Python_LAB>python mod1.py`처럼 직접 이 파일을 실행했을 때는 `__name__ == \"__main__\"`이 참이 되어 if문 다음 문장이 수행된다. 반대로 대화형 인터프리터나 다른 파일에서 이 모듈을 불러서 사용할 때는 `__name__ == \"__main__\"`이 거짓이 되어 if문 다음 문장이 수행되지 않는다.  \n",
    "\n",
    "다시 mod1.py파일을 수정하고 실행해보자."
   ],
   "cell_type": "markdown",
   "metadata": {}
  },
  {
   "cell_type": "code",
   "execution_count": 12,
   "metadata": {},
   "outputs": [],
   "source": [
    "# 대화형 인터프리터에서는 아무 결괏값도 출력되지 않는다.\n",
    "import mod1"
   ]
  },
  {
   "source": [
    "### <참고: `__name__` 변수란?>\n",
    "파이썬의  `__name__` 변수는 파이썬이 내부적으로 사용하는 특별한 변수 이름이다. 만약 `C:\\Users\\user\\Desktop\\MyStudy\\Python_LAB>python mod1.py`처럼 직접 mod1.py 파일을 실행할 경우 mod1.py의 `__name__` 변수에는 `__main__` 값이 저장된다. 하지만 파이썬 셀이나 다른 파이썬 모듈에서 mod1을 import 할 경우에는 mod1.py의 `__name__` 변수에는 mod1.py의 모듈 이름 값 mod1이 저장된다."
   ],
   "cell_type": "markdown",
   "metadata": {}
  },
  {
   "source": [
    "## 클래스나 변수 등을 포함한 모듈\n",
    "---\n",
    "모듈에는 함수만 포함할 수 있는 것이 아니라 클래스나 변수 등도 포함할 수 있다."
   ],
   "cell_type": "markdown",
   "metadata": {}
  },
  {
   "cell_type": "code",
   "execution_count": 13,
   "metadata": {},
   "outputs": [],
   "source": [
    "# mod2.py\n",
    "PI = 3.141592\n",
    "\n",
    "class Math:\n",
    "    def solv(self, r):\n",
    "        return PI * (r ** 2)\n",
    "\n",
    "def add(a, b):\n",
    "    return a+b"
   ]
  },
  {
   "source": [
    "mod2.py 파일은 원의 넓이를 계산하는 Math 클래스와 두 값을 더하는 add 함수 그리고 원주율 값에 해당하는 PI변수처럼 클래스, 함수, 변수 등을 모두 포함하고 있다.  \n",
    "\n",
    "파일 이름을 mod2.py로 하고 특정 디렉토리에 저장한 뒤 cmd에서 다음과 같이 실행해보자."
   ],
   "cell_type": "markdown",
   "metadata": {}
  },
  {
   "source": [
    "C:\\Users\\user\\Desktop\\MyStudy\\Python_LAB>python  \n",
    "...  \n",
    "Type \"help\", \"copyright\", \"credits\" or \"license\" for more information.  \n",
    "\\>>> import mod2  \n",
    "\\>>> print(mod2.PI)  \n",
    "3.141592"
   ],
   "cell_type": "markdown",
   "metadata": {}
  },
  {
   "source": [
    "위 예시처럼 mod2.PI 처럼 입력해서 mod2.py 파일에 있는 PI 변수 값을 사용할 수 있다."
   ],
   "cell_type": "markdown",
   "metadata": {}
  },
  {
   "cell_type": "code",
   "execution_count": 15,
   "metadata": {},
   "outputs": [],
   "source": [
    "import mod2"
   ]
  },
  {
   "cell_type": "code",
   "execution_count": 16,
   "metadata": {},
   "outputs": [
    {
     "output_type": "stream",
     "name": "stdout",
     "text": [
      "12.566368\n"
     ]
    }
   ],
   "source": [
    "a = mod2.Math()\n",
    "print(a.solv(2))"
   ]
  },
  {
   "source": [
    "위 예시처럼 mod2.py 모듈에 안에 있는 Math 클래스를 사용하려면 \".\"(도트 연산자)로 클래스 이름 앞에 모듈 이름을 먼저 입력해야 한다.  \n",
    "\n",
    "mod2.py에 있는 add 함수는 다음과 같이 사용할 수 있다."
   ],
   "cell_type": "markdown",
   "metadata": {}
  },
  {
   "cell_type": "code",
   "execution_count": 17,
   "metadata": {},
   "outputs": [
    {
     "output_type": "stream",
     "name": "stdout",
     "text": [
      "7.5415920000000005\n"
     ]
    }
   ],
   "source": [
    "print(mod2.add(mod2.PI, 4.4))"
   ]
  },
  {
   "source": [
    "## 다른 파일에서 모듈 불러오기\n",
    "---\n",
    "방금 전에 만든 모듈인 mod2.py 파일을 다른 파이썬 파일에서 불러와서 사용해보자."
   ],
   "cell_type": "markdown",
   "metadata": {}
  },
  {
   "cell_type": "code",
   "execution_count": 18,
   "metadata": {},
   "outputs": [
    {
     "output_type": "stream",
     "name": "stdout",
     "text": [
      "7\n"
     ]
    }
   ],
   "source": [
    "# modTest.py\n",
    "import mod2\n",
    "result = mod2.add(3, 4)\n",
    "print(result)"
   ]
  },
  {
   "cell_type": "code",
   "execution_count": null,
   "metadata": {},
   "outputs": [],
   "source": [
    "위 코드를 에디터로 작성한 뒤에 cmd 상에서 정상적으로 작동하기 위해서는 mod2.py와 modTest.py가 동일한 디렉토리에 있어야 한다."
   ]
  },
  {
   "source": [
    "### \\[모듈을 불러오는 또 다른 방법\\]\n",
    "지금까지 cmd 창을 열고 모듈이 있는 디렉토리로 이동한 다음에 모듈을 사용할 수 있었다. 이번에는 모듈을 저장한 디렉토리로 이동하지 않고 모듈을 불러와서 사용하는 방법에 대해 알아보자.  \n",
    "\n",
    "이전에 만든 mod2.py 파일을 `C:\\Users\\user\\Desktop\\MyStudy\\Python_LAB\\Test Files\\mymod`로 이동시킨다."
   ],
   "cell_type": "markdown",
   "metadata": {}
  },
  {
   "source": [
    "C:\\Users\\user\\Desktop\\MyStudy\\Python_LAB\\Test Files>mkdir mymod  \n",
    "\n",
    "C:\\Users\\user\\Desktop\\MyStudy\\Python_LAB\\Test Files>move mod2.py mymod  \n",
    "        1개 파일을 이동했습니다."
   ],
   "cell_type": "markdown",
   "metadata": {}
  },
  {
   "source": [
    "#### 1. sys.path.append(모듈을 저장한 디렉토리) 사용하기\n",
    "먼저 sys 모듈을 불러온다."
   ],
   "cell_type": "markdown",
   "metadata": {}
  },
  {
   "source": [
    "C:\\Users\\user\\Desktop\\MyStudy\\Python_LAB\\Test Files>python  \n",
    "...  \n",
    "Type \"help\", \"copyright\", \"credits\" or \"license\" for more information.  \n",
    "\\>>> import sys"
   ],
   "cell_type": "markdown",
   "metadata": {}
  },
  {
   "source": [
    "sys 모듈은 파이썬을 설치할 때 함께 설치되는 라이브러리 모듈이다. sys 모듈을 사용하면 파이썬 라이브러리가 설치되어 있는 디렉토리를 확인할 수 있다. 확인하는 방법은 `sys.path` 를 입력하면 된다."
   ],
   "cell_type": "markdown",
   "metadata": {}
  },
  {
   "source": [
    "`sys.path`는 파이썬 라이브러리가 설치되어 있는 디렉터리를 보여 준다. 만약 파이썬 모듈이 위 디렉토리에 들어 있다면 모듈이 저장된 디렉토리로 이동할 필요 없이 바로 불러서 사용할 수 있다.  \n",
    "\n",
    "따라서 sys.path에 mod2.py 파일이 담긴 mymod 디렉토리를 추가하면 아무 곳에서나 불러 사용할 수 있다.  \n",
    "`sys.path`의 결괏값이 리스트이기 떄문에 다음과 같이 코드를 입력하면 리스트 마지막에 mymod의 주소가 추가된 것을 확인할 수 있다.\n",
    "> `sys.path.append(\"C:/Users/user/Desktop/MyStudy/Python_LAB/Test Files/mymod\")`"
   ],
   "cell_type": "markdown",
   "metadata": {}
  },
  {
   "source": [
    "#### 2. PYTHONPATH 환경변수 사용하기\n",
    "모듈을 불러와서 사용하는 또 다른 방법으로는 `PYTHONPATH` 환경 변수를 사용하는 방법이 있다."
   ],
   "cell_type": "markdown",
   "metadata": {}
  },
  {
   "source": [
    "C:\\Users\\user\\Desktop\\MyStudy\\Python_LAB\\Test Files>set PYTHONPATH=C:\\Users\\user\\Desktop\\MyStudy\\Python_LAB\\Test Files\\mymod  \n",
    "\n",
    "C:\\Users\\user\\Desktop\\MyStudy\\Python_LAB\\Test Files>python  \n",
    "...  \n",
    "Type \"help\", \"copyright\", \"credits\" or \"license\" for more information.  \n",
    "\\>>> import mod2  \n",
    "\\>>> print(mod2.add(3, 4))  \n",
    "7"
   ],
   "cell_type": "markdown",
   "metadata": {}
  },
  {
   "source": [
    "set 명령어를 사용해서 `PYTHONPATH` 환경변수에 mod2.py 파일이 있는 디렉토리를 설정한다. 그러면 디렉토리 이동이나 별도의 모듈 추가 작업 없이 mod2 모듈을 불러와서 사용할 수 있다."
   ],
   "cell_type": "markdown",
   "metadata": {}
  }
 ]
}
