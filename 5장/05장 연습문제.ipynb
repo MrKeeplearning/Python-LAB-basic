{
 "metadata": {
  "language_info": {
   "codemirror_mode": {
    "name": "ipython",
    "version": 3
   },
   "file_extension": ".py",
   "mimetype": "text/x-python",
   "name": "python",
   "nbconvert_exporter": "python",
   "pygments_lexer": "ipython3",
   "version": "3.9.1-final"
  },
  "orig_nbformat": 2,
  "kernelspec": {
   "name": "python3",
   "display_name": "Python 3.9.1 64-bit",
   "metadata": {
    "interpreter": {
     "hash": "4d6401091f6de5a385c299b068c1e85516af19a094234475c31f99f1aabe410a"
    }
   }
  }
 },
 "nbformat": 4,
 "nbformat_minor": 2,
 "cells": [
  {
   "source": [
    "# 05장 연습문제\n",
    "--- "
   ],
   "cell_type": "markdown",
   "metadata": {}
  },
  {
   "source": [
    "## Q1\n",
    "---\n",
    "다음은 Calculator 클래스이다."
   ],
   "cell_type": "markdown",
   "metadata": {}
  },
  {
   "cell_type": "code",
   "execution_count": 2,
   "metadata": {},
   "outputs": [],
   "source": [
    "class Calculator:\n",
    "    def __init__(self):\n",
    "        self.value = 0\n",
    "    \n",
    "    def add(self, val):\n",
    "        self.value += val"
   ]
  },
  {
   "source": [
    "위 클래스를 상속하는 UpgradeCalculator를 만들고 값을 뺄 수 있는 minus 메서드를 추가해보자. 즉 다음과 같이 동작하는 클래스를 만들어야 한다."
   ],
   "cell_type": "markdown",
   "metadata": {}
  },
  {
   "cell_type": "code",
   "execution_count": null,
   "metadata": {},
   "outputs": [],
   "source": [
    "cal = UpgradeCalculator()\n",
    "cal.add(10)\n",
    "cal.minus(7)\n",
    "\n",
    "print(cal.value)    # 10에서 7을 뺀 3을 출력"
   ]
  },
  {
   "source": [
    "### 풀이\n",
    "---"
   ],
   "cell_type": "markdown",
   "metadata": {}
  },
  {
   "cell_type": "code",
   "execution_count": 3,
   "metadata": {},
   "outputs": [],
   "source": [
    "class UpgradeCalculator(Calculator):\n",
    "    def minus(self, val):\n",
    "        self.value -= val"
   ]
  },
  {
   "cell_type": "code",
   "execution_count": 4,
   "metadata": {},
   "outputs": [
    {
     "output_type": "stream",
     "name": "stdout",
     "text": [
      "3\n"
     ]
    }
   ],
   "source": [
    "cal = UpgradeCalculator()\n",
    "cal.add(10)\n",
    "cal.minus(7)\n",
    "\n",
    "print(cal.value)    # 10에서 7을 뺀 3을 출력"
   ]
  },
  {
   "source": [
    "## Q2\n",
    "---\n",
    "객체변수 value가 100 이상의 값은 가질 수 없도록 제한하는 MaxLimitCalculator 클래스를 만들어 보자. 즉 다음과 같이 동작해야 한다."
   ],
   "cell_type": "markdown",
   "metadata": {}
  },
  {
   "cell_type": "code",
   "execution_count": null,
   "metadata": {},
   "outputs": [],
   "source": [
    "cal = MaxLimitCalculator()\n",
    "cal.add(50)         # 50더하기\n",
    "cal.add(60)         # 60더하기\n",
    "\n",
    "print(cal.value)    # 100출력"
   ]
  },
  {
   "source": [
    "단 반드시 다음과 같은 Calculator 클래스를 상속해서 만들어야 한다."
   ],
   "cell_type": "markdown",
   "metadata": {}
  },
  {
   "cell_type": "code",
   "execution_count": 4,
   "metadata": {},
   "outputs": [],
   "source": [
    "class Calculator:\n",
    "    def __init__(self):\n",
    "        self.value = 0\n",
    "    \n",
    "    def add(self, val):\n",
    "        self.value += val"
   ]
  },
  {
   "source": [
    "### 풀이\n",
    "---"
   ],
   "cell_type": "markdown",
   "metadata": {}
  },
  {
   "cell_type": "code",
   "execution_count": 7,
   "metadata": {},
   "outputs": [],
   "source": [
    "class MaxLimitCalculator(Calculator):\n",
    "    def add(self, val):\n",
    "        self.value += val\n",
    "        if self.value >= 100:\n",
    "            self.value = 100"
   ]
  },
  {
   "cell_type": "code",
   "execution_count": 8,
   "metadata": {},
   "outputs": [
    {
     "output_type": "stream",
     "name": "stdout",
     "text": [
      "100\n"
     ]
    }
   ],
   "source": [
    "cal = MaxLimitCalculator()\n",
    "cal.add(50)\n",
    "cal.add(60)\n",
    "print(cal.value)"
   ]
  },
  {
   "source": [
    "## Q3\n",
    "---\n",
    "다음 결과를 예측해보자.  \n",
    "\n",
    "하나.\n",
    "> `all([1, 2, abs(-3)-3])`\n",
    "\n",
    "둘.\n",
    "> `chr(ord('a')) == 'a'`"
   ],
   "cell_type": "markdown",
   "metadata": {}
  },
  {
   "source": [
    "### 풀이\n",
    "---\n",
    "#### 하나.\n",
    "내장 함수 `abs(x)`는 어떤 숫자를 입력받았을 때, 그 숫자의 절댓값을 돌려준다. 따라서 `abs(-3)`은 숫자 3이 되고 리스트의 마지막 요소인 `abs(-3) - 3`은 `3 - 3`이 되어 숫자 0이 된다.  \n",
    "\n",
    "내장 함수 `all(x)`는 반복 가능한 자료형 x를 입력 인수로 받고 이 x의 요소가 모두 참이면 True, 거짓이 하나라도 있으면 False를 return한다. all에 들어간 반복 가능한 자료형은 리스트이고 그 요소 값을 보면 1, 2, 0이 존재한다. 이때 요소 0은 거짓이기 때문에 false를 return하게 된다."
   ],
   "cell_type": "markdown",
   "metadata": {}
  },
  {
   "cell_type": "code",
   "execution_count": 9,
   "metadata": {},
   "outputs": [
    {
     "output_type": "execute_result",
     "data": {
      "text/plain": [
       "False"
      ]
     },
     "metadata": {},
     "execution_count": 9
    }
   ],
   "source": [
    "all([1, 2, abs(-3)-3])"
   ]
  },
  {
   "source": [
    "#### 둘.\n",
    "내장 함수 ord(c)는 문자의 아스키 코드 값을 돌려주는 함수이다. 문자 a의 아스키 코드 값은 97이기 때문에 `ord('a')`는 97을 return한다.  \n",
    "\n",
    "ord와는 반대로 chr은 아스키코드 값을 입력 받아서 그 코드에 해당하는 문자를 출력하는 함수이다. 따라서 ord에서 진행한 과정을 다시 거꾸로 진행하는 것이 되기 때문에 `chr(ord('a'))`는 문자 a를 출력한다.  \n",
    "\n",
    "결과적으로 `chr(ord('a')) == 'a'`는 True를 return한다."
   ],
   "cell_type": "markdown",
   "metadata": {}
  },
  {
   "cell_type": "code",
   "execution_count": 10,
   "metadata": {},
   "outputs": [
    {
     "output_type": "execute_result",
     "data": {
      "text/plain": [
       "True"
      ]
     },
     "metadata": {},
     "execution_count": 10
    }
   ],
   "source": [
    "chr(ord('a')) == 'a'"
   ]
  },
  {
   "source": [
    "## Q4\n",
    "---\n",
    "filter와 lambda를 사용하여 리스트 \\[1, -2, 3, -5, 8, -3\\]에서 음수를 모두 제거해 보자."
   ],
   "cell_type": "markdown",
   "metadata": {}
  },
  {
   "source": [
    "### 풀이\n",
    "---"
   ],
   "cell_type": "markdown",
   "metadata": {}
  },
  {
   "cell_type": "code",
   "execution_count": 11,
   "metadata": {},
   "outputs": [
    {
     "output_type": "stream",
     "name": "stdout",
     "text": [
      "[1, 3, 8]\n"
     ]
    }
   ],
   "source": [
    "# 음수를 제거하고 양수만 돌려주는 positive 함수\n",
    "def positive(x):\n",
    "    return x > 0\n",
    "    \n",
    "print(list(filter(positive, [1, -2, 3, -5, 8, -3])))"
   ]
  },
  {
   "source": [
    "lambda를 사용하지 않고 내장함수 filter만을 사용하면 위와 같이 구할 수 있다.  \n",
    "\n",
    "lambda 함수는 함수를 간결하게 만들 때 사용한다. 주로 lambda는 def를 사용할 정도로 복잡하지 않거나 def를 사용하지 못하는 곳에서 주로 사용되는데 위에서 만든 positive 함수의 경우 수행문이라고는 return 1줄 밖에 없기 때문에 lambda로 만들기에 적절하다고 볼 수 있다. lambda를 사용한 결과는 아래와 같다."
   ],
   "cell_type": "markdown",
   "metadata": {}
  },
  {
   "cell_type": "code",
   "execution_count": 12,
   "metadata": {},
   "outputs": [
    {
     "output_type": "stream",
     "name": "stdout",
     "text": [
      "[1, 3, 8]\n"
     ]
    }
   ],
   "source": [
    "print(list(filter(lambda x: x>0, [1, -2, 3, -5, 8, -3])))"
   ]
  },
  {
   "source": [
    "## Q5\n",
    "---\n",
    "234라는 10진수의 16진수는 다음과 같이 구할 수 있다."
   ],
   "cell_type": "markdown",
   "metadata": {}
  },
  {
   "cell_type": "code",
   "execution_count": 13,
   "metadata": {},
   "outputs": [
    {
     "output_type": "execute_result",
     "data": {
      "text/plain": [
       "'0xea'"
      ]
     },
     "metadata": {},
     "execution_count": 13
    }
   ],
   "source": [
    "hex(234)"
   ]
  },
  {
   "source": [
    "이번에는 반대로 16진수 문자열 0xea를 10진수로 변경해보자.\n",
    "> 내장 함수 int를 활용해 보자."
   ],
   "cell_type": "markdown",
   "metadata": {}
  },
  {
   "source": [
    "### 풀이\n",
    "---"
   ],
   "cell_type": "markdown",
   "metadata": {}
  },
  {
   "cell_type": "code",
   "execution_count": 15,
   "metadata": {},
   "outputs": [
    {
     "output_type": "execute_result",
     "data": {
      "text/plain": [
       "234"
      ]
     },
     "metadata": {},
     "execution_count": 15
    }
   ],
   "source": [
    "int('0xea', 16)"
   ]
  },
  {
   "source": [
    "내장함수 int(x)는 문자열 형태의 숫자나 소수점이 있는 숫자 등을 정수 형태로 돌려주는 함수로, 정수를 입력으로 받으면 그대로 돌려준다. 그래서 위에서 풀이로 적은 방식이 아닌 `int(0xea)`와 같은 형태로 작성해도 결과는 동일하다.  \n",
    "\n",
    "한편, int(x, radix)는 radix 진수로 표현된 문자열 x를 10진수로 변환해서 돌려준다. 그래서 위의 코드도 16진수로 작성된 0xea 를 10진수로 변환한 234로 돌려준 것이다."
   ],
   "cell_type": "markdown",
   "metadata": {}
  },
  {
   "source": [
    "## Q6\n",
    "---\n",
    "map과 lambda를 사용하여 \\[1,2,3,4\\] 리스트의 각 요솟값에 3이 곱해진 리스트 \\[3,6,9,12\\] 를 만들어보자."
   ],
   "cell_type": "markdown",
   "metadata": {}
  },
  {
   "source": [
    "### 풀이\n",
    "---\n",
    "map(f, iterable)은 함수(f)와 반복 가능한(iterable) 자료형을 입력으로 받는다. map은 입력받은 자료형의 각 요소를 함수 f가 수행한 결과를 묶어서 돌려주는 함수이다. 먼저 lambda를 사용하지 않고 각 요솟값에 3을 곱하는 함수를 따로 만들어 진행하면 다음과 같다."
   ],
   "cell_type": "markdown",
   "metadata": {}
  },
  {
   "cell_type": "code",
   "execution_count": 17,
   "metadata": {},
   "outputs": [
    {
     "output_type": "execute_result",
     "data": {
      "text/plain": [
       "[3, 6, 9, 12]"
      ]
     },
     "metadata": {},
     "execution_count": 17
    }
   ],
   "source": [
    "def mul3(x):\n",
    "    return x * 3\n",
    "\n",
    "list(map(mul3, [1,2,3,4]))"
   ]
  },
  {
   "source": [
    "mul3 함수가 간단한 함수이기 때문에 lambda를 사용하면 좀 더 간결하게 표현할 수 있다."
   ],
   "cell_type": "markdown",
   "metadata": {}
  },
  {
   "cell_type": "code",
   "execution_count": 18,
   "metadata": {},
   "outputs": [
    {
     "output_type": "execute_result",
     "data": {
      "text/plain": [
       "[3, 6, 9, 12]"
      ]
     },
     "metadata": {},
     "execution_count": 18
    }
   ],
   "source": [
    "list(map(lambda x: x*3, [1,2,3,4]))"
   ]
  },
  {
   "source": [
    "## Q7\n",
    "---\n",
    "다음 리스트의 최댓값과 최솟값의 합을 구해보자.\n",
    "> \\[-8, 2, 7, 5, -3, 5, 0, 1\\]"
   ],
   "cell_type": "markdown",
   "metadata": {}
  },
  {
   "source": [
    "### 풀이\n",
    "---\n",
    "리스트의 최댓값과 최솟값은 내장함수 max와 min을 통해서 구할 수 있다. 두 내장함수 모두 인수로 반복 가능한 자료형을 입력받는다."
   ],
   "cell_type": "markdown",
   "metadata": {}
  },
  {
   "cell_type": "code",
   "execution_count": 20,
   "metadata": {},
   "outputs": [
    {
     "output_type": "execute_result",
     "data": {
      "text/plain": [
       "-1"
      ]
     },
     "metadata": {},
     "execution_count": 20
    }
   ],
   "source": [
    "listA = [-8, 2, 7, 5, -3, 5, 0, 1]\n",
    "max(listA) + min(listA)"
   ]
  },
  {
   "source": [
    "## Q8\n",
    "---\n",
    "17/3의 결과는 다음과 같다."
   ],
   "cell_type": "markdown",
   "metadata": {}
  },
  {
   "cell_type": "code",
   "execution_count": 21,
   "metadata": {},
   "outputs": [
    {
     "output_type": "execute_result",
     "data": {
      "text/plain": [
       "5.666666666666667"
      ]
     },
     "metadata": {},
     "execution_count": 21
    }
   ],
   "source": [
    "17/3"
   ]
  },
  {
   "source": [
    "위와 같은 결괏값 5.666666666666667을 소숫점 4자리까지만 반올림하여 표시해 보자."
   ],
   "cell_type": "markdown",
   "metadata": {}
  },
  {
   "source": [
    "### 풀이\n",
    "---\n",
    "내장함수 round는 숫자를 입력받아 반올림해주는 함수이다. comma(,) 뒤의 두 번째 매개변수는 반올림하여 표시하고 싶은 소수점의 자릿수이며 사용하지 않을 시에는 소수점 없이 소수점 첫째 자리에서 반올림한 정수만을 출력한다."
   ],
   "cell_type": "markdown",
   "metadata": {}
  },
  {
   "cell_type": "code",
   "execution_count": 25,
   "metadata": {},
   "outputs": [
    {
     "output_type": "execute_result",
     "data": {
      "text/plain": [
       "5.6667"
      ]
     },
     "metadata": {},
     "execution_count": 25
    }
   ],
   "source": [
    "a = 17/3\n",
    "round(a, 4)"
   ]
  },
  {
   "source": [
    "## Q9\n",
    "---\n",
    "다음과 같이 실행할 때 입력값을 모두 더하여 출력하는 스크립트를 작성해보자.\n",
    ">C:\\> cd doit  \n",
    "C:\\doit> python myargv.py 1 2 3 4 5 6 7 8 9 10  \n",
    "55  \n",
    ">\n",
    "> 외장함수 sys.argv를 사용한다."
   ],
   "cell_type": "markdown",
   "metadata": {}
  },
  {
   "source": [
    "### 풀이\n",
    "---\n",
    "cmd 창에서 위의 문제 예시와 같이 myargv.py 다음에 다른 값들을 넣어주면 sys.argv 리스트에 띄어쓰기를 기준으로 각각의 값들이 추가된다. 그런데 이 리스트에는 순수하게 전달받은 인수만이 들어가 있는 것이 아니라 항상 리스트의 첫 번째 요소는 현재 실행중인 파이썬 프로그램명이 들어간다. 그래서 위와 같이 myargv.py 다음에 1부터 10까지 숫자를 인수로 전달하면 sys.argv 리스트에 담긴 내용은 다음과 같다.\n",
    "> \\['myargv.py', '1', '2', '3', '4', '5', '6', '7', '8', '9', '10'\\]\n",
    "\n"
   ],
   "cell_type": "markdown",
   "metadata": {}
  },
  {
   "source": [
    "위 리스트에 담긴 내용을 모두 더해야 하는데 앞에 있는 myargv.py까지 함께 더하게 되면 오류가 발생할 수 밖에 없다. 게다가 리스트에 담긴 내용을 보면 알겠지만 숫자에도 따옴표가 달린 것을 확인할 수 있다. 즉, sys.argv로 받은 인수는 문자열로 받아진 것이다. 따라서 숫자만 더하기 위해서는 리스트 슬라이싱이 필요하고 리스트에 담긴 요솟값들을 숫자로 변환하기 위해서는 형변환이 필요하다. 이 모든 것을 종합해서 myargv.py 프로그램을 작성하면 다음과 같다."
   ],
   "cell_type": "markdown",
   "metadata": {}
  },
  {
   "cell_type": "code",
   "execution_count": null,
   "metadata": {},
   "outputs": [],
   "source": [
    "import sys\n",
    "\n",
    "nums = sys.argv[1:]    # 'myargv.py'는 제외한다.\n",
    "sum = 0\n",
    "for i in nums:\n",
    "    sum += int(i)    # 'myargv.py'를 제외한 나머지를 정수형으로 형변환을 한 뒤에 모두 더한다.\n",
    "print(sum)"
   ]
  },
  {
   "source": [
    "위 프로그램을 cmd에서 실행하면 다음과 같다.\n",
    "> D:\\JaeSeok\\Python_LAB\\JumpToPython\\CH05>python myargv.py 1 2 3 4 5 6 7 8 9 10  \n",
    "55"
   ],
   "cell_type": "markdown",
   "metadata": {}
  },
  {
   "source": [
    "## Q10\n",
    "---\n",
    "os 모듈을 사용하여 다음과 같이 동작하도록 코드를 작성해보자.  \n",
    "\n",
    "1. `D:\\JaeSeok\\Python_LAB\\JumpToPython\\CH05` 디렉터리로 이동한다.  \n",
    "2. dir 명령을 실행하고 그 결과를 변수에 담는다.  \n",
    "3. dir 명령의 결과를 출력한다."
   ],
   "cell_type": "markdown",
   "metadata": {}
  },
  {
   "source": [
    "### 풀이\n",
    "---\n",
    "현재 사용하려고 하는 os 모듈은 환경 변수나 디렉터리, 파일 등의 os 자원을 제어할 수 있게 해주는 모듈이다.  \n",
    "\n",
    "먼저 디렉터리를 이동하기 위해서는 os.chdir을 사용한다."
   ],
   "cell_type": "markdown",
   "metadata": {}
  },
  {
   "cell_type": "code",
   "execution_count": null,
   "metadata": {},
   "outputs": [],
   "source": [
    "import os\n",
    "os.chdir(\"D:/JaeSeok/Python_LAB/JumpToPython/CH05\")"
   ]
  },
  {
   "source": [
    "dir 명령을 실행하고 그 결과를 변수에 담기 위해 os 모듈의 popen을 사용하고 그 결과를 특정 변수에 저장한다."
   ],
   "cell_type": "markdown",
   "metadata": {}
  },
  {
   "cell_type": "code",
   "execution_count": null,
   "metadata": {},
   "outputs": [],
   "source": [
    "f = os.popen(\"dir\")"
   ]
  },
  {
   "source": [
    "popen의 결과를 출력하기 위해서 다음과 같이 수행한다."
   ],
   "cell_type": "markdown",
   "metadata": {}
  },
  {
   "cell_type": "code",
   "execution_count": null,
   "metadata": {},
   "outputs": [],
   "source": [
    "print(result.read())"
   ]
  },
  {
   "source": [
    "위의 모든 코드를 하나의 프로그램으로 작성하고 실행하면 위에서 이동한 디렉터리에 담긴 내용을 모두 볼 수 있다."
   ],
   "cell_type": "markdown",
   "metadata": {}
  },
  {
   "source": [
    "## Q11\n",
    "---\n",
    "glob 모듈을 사용하여 `D:/JaeSeok/Python_LAB/JumpToPython/CH05` 디렉터리의 파일 중 확장자가 .py인 파일만 출력하는 프로그램을 작성해보자."
   ],
   "cell_type": "markdown",
   "metadata": {}
  },
  {
   "source": [
    "### 풀이\n",
    "---\n",
    "glob(pathname) 모듈은 특정 디렉터리 안의 파일들을 읽어서 돌려준다."
   ],
   "cell_type": "markdown",
   "metadata": {}
  },
  {
   "cell_type": "code",
   "execution_count": 47,
   "metadata": {},
   "outputs": [
    {
     "output_type": "execute_result",
     "data": {
      "text/plain": [
       "['D:/JaeSeok/Python_LAB/JumpToPython/CH05\\\\myargv.py',\n",
       " 'D:/JaeSeok/Python_LAB/JumpToPython/CH05\\\\osModuleTest.py',\n",
       " 'D:/JaeSeok/Python_LAB/JumpToPython/CH05\\\\thread_test.py']"
      ]
     },
     "metadata": {},
     "execution_count": 47
    }
   ],
   "source": [
    "import glob\n",
    "glob.glob(\"D:/JaeSeok/Python_LAB/JumpToPython/CH05/*.py\")"
   ]
  },
  {
   "source": [
    "## Q12\n",
    "---\n",
    "time 모듈을 사용하여 현재 날짜와 시간을 다음과 같은 형식으로 출력해보자.\n",
    "> 2018/04/03 17:20:32 "
   ],
   "cell_type": "markdown",
   "metadata": {}
  },
  {
   "source": [
    "### 풀이\n",
    "---"
   ],
   "cell_type": "markdown",
   "metadata": {}
  },
  {
   "cell_type": "code",
   "execution_count": 50,
   "metadata": {},
   "outputs": [
    {
     "output_type": "stream",
     "name": "stdout",
     "text": [
      "2021/01/30 21:19:37\n"
     ]
    }
   ],
   "source": [
    "import time\n",
    "currentTime = time.strftime(\"%Y/%m/%d %X\", time.localtime(time.time()))\n",
    "print(currentTime)"
   ]
  },
  {
   "source": [
    "## Q13\n",
    "---\n",
    "random 모듈을 사용하여 로또 번호(1~45 사이의 숫자 6개)를 생성해보자.(단 중복된 숫자가 있으면 안된다.)\n",
    "\n",
    "### 풀이\n",
    "---"
   ],
   "cell_type": "markdown",
   "metadata": {}
  },
  {
   "cell_type": "code",
   "execution_count": 54,
   "metadata": {},
   "outputs": [],
   "source": [
    "import random\n",
    "\n",
    "def lotto(data):\n",
    "    num = random.randint(0, len(data)-1)\n",
    "    return data.pop(num)"
   ]
  }
 ]
}