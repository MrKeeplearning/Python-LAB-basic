{
 "metadata": {
  "language_info": {
   "codemirror_mode": {
    "name": "ipython",
    "version": 3
   },
   "file_extension": ".py",
   "mimetype": "text/x-python",
   "name": "python",
   "nbconvert_exporter": "python",
   "pygments_lexer": "ipython3",
   "version": "3.9.1-final"
  },
  "orig_nbformat": 2,
  "kernelspec": {
   "name": "python3",
   "display_name": "Python 3.9.1 64-bit",
   "metadata": {
    "interpreter": {
     "hash": "4d6401091f6de5a385c299b068c1e85516af19a094234475c31f99f1aabe410a"
    }
   }
  }
 },
 "nbformat": 4,
 "nbformat_minor": 2,
 "cells": [
  {
   "source": [
    "## 05-6 라이브러리\n",
    "---\n",
    "전 세계의 파이썬 사용자들이 만든 유용한 프로그램을 모아 놓은 것이 바로 파이썬 라이브러리이다. 자주 사용되고 꼭 알아 두면 좋은 라이브러리를 중심으로 하나씩 살펴보자. 참고로 파이썬 라이브러리는 파이썬을 설치할 때 자동으로 컴퓨터에 설치한다."
   ],
   "cell_type": "markdown",
   "metadata": {}
  },
  {
   "source": [
    "## sys\n",
    "---\n",
    "sys 모듈은 파이썬 인터프리터가 제공하는 변수와 함수를 직접 제어할 수 있게 해주는 모듈이다.\n",
    "\n",
    "### 1. 명령 행에서 인수 전달하기 - sys.argv\n",
    "> D:\\JaeSeok\\Python_LAB\\JumpToPython\\Mymod>python argv_test.py you need python\n",
    "\n",
    "cmd 창에서 위 예처럼 argv_test.py 바로 뒤에 또 다른 값을 함께 넣어주면 sys.argv 리스트에 그 값이 추가된다. 예제를 통해서 확인해보자.  \n",
    "\n",
    "argv_test.py 파일을 특정 디렉터리에 생성하자. argv_test.py 파일의 내용은 다음과 같다."
   ],
   "cell_type": "markdown",
   "metadata": {}
  },
  {
   "cell_type": "code",
   "execution_count": null,
   "metadata": {},
   "outputs": [],
   "source": [
    "# argv_test.py\n",
    "import sys\n",
    "print(sys.argv)"
   ]
  },
  {
   "source": [
    "cmd 창에서 argv_test.py 파일을 저장해 둔 저장소로 이동한 뒤에 아래와 같이 실행해보자.\n",
    "> D:\\JaeSeok\\Python_LAB\\JumpToPython\\Mymod>python argv_test.py you need python  \n",
    "\\['argv_test.py', 'you', 'need', 'python'\\]\n",
    "\n",
    "위에서 작성한 내용과 완전히 동일한 문장이다. argv_test.py 뒤에 추가한 \"you need python\"이라는 문자열이 공백을 기준으로 나뉘어서 sys.argv 리스트의 요소가 된 것을 확인할 수 있다.  \n",
    "\n",
    "> 참고로 현재 cmd 창에 입력할 때는 각 저장소를 구분하는 것으로 `\\` 기호를 사용하고 있다. cmd에서는 `/`를 사용하던 `\\`를 사용하던 상관없지만, 소스코드 안에서는 반드시 `/` 또는 `//` 기호를 사용해야 한다."
   ],
   "cell_type": "markdown",
   "metadata": {}
  },
  {
   "source": [
    "### 2. 강제로 스크립트 종료하기 - sys.exit\n",
    "`sys.exit`은 `Ctrl+z`나 `Ctrl+d` 를 눌러서 대화형 인터프리터를 종료하는 것과 같은 기능을 한다. 프로그램 파일 안에서 사용하면 프로그램을 중단시킨다."
   ],
   "cell_type": "markdown",
   "metadata": {}
  },
  {
   "source": [
    "### 3. 자신이 만든 모듈 불러와 사용하기 - sys.path\n",
    "`sys.path`는 파이썬 모듈들이 저장되어 있는 위치를 나타낸다. 즉 이 위치에 있는 파이썬 모듈은 경로에 상관없이 어디에서나 불러올 수 있다. `sys.path`를 실행하면 파이썬 모듈의 위치를 리스트 형태로 돌려준다."
   ],
   "cell_type": "markdown",
   "metadata": {}
  },
  {
   "cell_type": "code",
   "execution_count": null,
   "metadata": {},
   "outputs": [],
   "source": [
    "import sys\n",
    "sys.path"
   ]
  },
  {
   "cell_type": "code",
   "execution_count": null,
   "metadata": {},
   "outputs": [],
   "source": [
    "# path_append.py\n",
    "import sys\n",
    "sys.path.append(\"D:/JaeSeok/Python_LAB/JumpToPython/Mymod\")"
   ]
  },
  {
   "source": [
    "위와 같이 파이썬 프로그램 파일에서 sys.path.append를 사용해서 경로 이름을 추가할 수 있다. 이렇게 하고 난 뒤에는 `D:/JaeSeok/Python_LAB/JumpToPython/Mymod` 디렉터리에 있는 파이썬 모듈을 불러와서 사용할 수 있다. "
   ],
   "cell_type": "markdown",
   "metadata": {}
  },
  {
   "source": [
    "## pickle\n",
    "---\n",
    "pickle은 객체의 형태를 그대로 유지하면서 파일에 저장하고 불러올 수 있게 하는 모듈이다. 다음 예는 pickle 모듈의 dump 함수를 사용하여 딕셔너리 객체인 data를 그대로 파일에 저장하는 방법을 보여 준다."
   ],
   "cell_type": "markdown",
   "metadata": {}
  },
  {
   "cell_type": "code",
   "execution_count": 4,
   "metadata": {},
   "outputs": [],
   "source": [
    "import pickle\n",
    "f = open(\"test.txt\", 'wb')\n",
    "data = {1: 'python', 2: 'you need'}\n",
    "pickle.dump(data, f)\n",
    "f.close()"
   ]
  },
  {
   "source": [
    "이번에는 pickle.dump로 저장한 파일을 pickle.load를 사용해서 원래 있던 딕셔너리 객체(data) 상태 그대로 불러오는 예이다."
   ],
   "cell_type": "markdown",
   "metadata": {}
  },
  {
   "cell_type": "code",
   "execution_count": 5,
   "metadata": {},
   "outputs": [
    {
     "output_type": "stream",
     "name": "stdout",
     "text": [
      "{1: 'python', 2: 'you need'}\n"
     ]
    }
   ],
   "source": [
    "import pickle\n",
    "f = open(\"test.txt\", 'rb')\n",
    "data = pickle.load(f)\n",
    "print(data)"
   ]
  },
  {
   "source": [
    "예시에서는 딕셔너리 객체를 사용했지만 어떤 자료형이던지 저장하고 불러올 수 있다."
   ],
   "cell_type": "markdown",
   "metadata": {}
  },
  {
   "source": [
    "## os\n",
    "---\n",
    "os 모듈은 환경 변수나 디렉터리, 파일 등의 os 자원을 제어할 수 있게 해주는 모듈이다.\n",
    "\n",
    "### 1. 내 시스템의 환경 변수값을 알고 싶을 때 - os.environ\n",
    "시스템은 각각 다른 환경 변수 값을 가지고 있는데, os.environ은 현재 시스템의 환경 변수 값을 보여 준다."
   ],
   "cell_type": "markdown",
   "metadata": {}
  },
  {
   "cell_type": "code",
   "execution_count": null,
   "metadata": {},
   "outputs": [],
   "source": [
    "import os\n",
    "os.environ"
   ]
  },
  {
   "source": [
    "위의 코드를 실행하면 본인 컴퓨터의 시스템 정보가 뜰 것이다(매우 양이 방대하여 생략했다). `os.environ`은 환경 변수에 대한 정보를 딕셔너리 객체로 돌려준다. 돌려받은 객체가 딕셔너리이기 때문에 다음과 같이 호출할 수 있다. 다음은 내 시스템의 PATH 환경 변수 내용을 확인하는 방법이다."
   ],
   "cell_type": "markdown",
   "metadata": {}
  },
  {
   "cell_type": "code",
   "execution_count": null,
   "metadata": {},
   "outputs": [],
   "source": [
    "os.environ['PATH']"
   ]
  },
  {
   "source": [
    "### 2. 디렉터리 위치 변경하기 - os.chdir\n",
    "os.chdir를 사용하면 현재 디렉터리 위치를 변경할 수 있다."
   ],
   "cell_type": "markdown",
   "metadata": {}
  },
  {
   "cell_type": "code",
   "execution_count": null,
   "metadata": {},
   "outputs": [],
   "source": [
    "os.chdir(\"C:\\Windows\")"
   ]
  },
  {
   "source": [
    "### 3. 디렉터리 위치 돌려받기 - os.getcwd\n",
    "현재 자신의 디렉터리 위치를 돌려준다."
   ],
   "cell_type": "markdown",
   "metadata": {}
  },
  {
   "cell_type": "code",
   "execution_count": 9,
   "metadata": {},
   "outputs": [
    {
     "output_type": "execute_result",
     "data": {
      "text/plain": [
       "'d:\\\\JaeSeok\\\\Python_LAB\\\\JumpToPython\\\\CH05'"
      ]
     },
     "metadata": {},
     "execution_count": 9
    }
   ],
   "source": [
    "os.getcwd()"
   ]
  },
  {
   "source": [
    "### 4. 시스템 명령어 호출하기 - os.system\n",
    "시스템 자체의 프로그램이나 기타 명령어를 파이썬에서 호출할 수도 있다. os.system(\"명령어\")처럼 사용한다. 다음은 현재 디렉터리에서 시스템 명령어 dir을 실행하는 예시이다."
   ],
   "cell_type": "markdown",
   "metadata": {}
  },
  {
   "cell_type": "code",
   "execution_count": 10,
   "metadata": {},
   "outputs": [
    {
     "output_type": "execute_result",
     "data": {
      "text/plain": [
       "0"
      ]
     },
     "metadata": {},
     "execution_count": 10
    }
   ],
   "source": [
    "os.system(\"dir\")"
   ]
  },
  {
   "source": [
    "### 5. 실행한 시스템 명령어의 결괏값 돌려받기 - os.popen\n",
    "os.popen은 시스템 명령어를 실행한 결괏값을 읽기 모드 형태의 파일 객체로 돌려준다."
   ],
   "cell_type": "markdown",
   "metadata": {}
  },
  {
   "cell_type": "code",
   "execution_count": 11,
   "metadata": {},
   "outputs": [],
   "source": [
    "f = os.popen(\"dir\")"
   ]
  },
  {
   "source": [
    "읽어 들인 파일 객체의 내용을 보기 위해서는 다음과 같이 진행한다."
   ],
   "cell_type": "markdown",
   "metadata": {}
  },
  {
   "cell_type": "code",
   "execution_count": null,
   "metadata": {},
   "outputs": [],
   "source": [
    "print(f.read())"
   ]
  },
  {
   "source": [
    "### 6. 기타 유용한 os 관련 함수\n",
    "* os.mkdir(디렉터리) : 디렉터리를 생성한다.\n",
    "* os.rmdir(디렉터리) : 디렉터리를 삭제한다. 단, 디렉터리가 비어있어야 삭제가 가능하다.\n",
    "* os.unlink(파일) : 파일을 지운다.\n",
    "* os.rename(src, dst) : src라는 이름의 파일을 dst라는 이름으로 바꾼다."
   ],
   "cell_type": "markdown",
   "metadata": {}
  },
  {
   "source": [
    "## shutil\n",
    "---\n",
    "shutil은 파일을 복사해주는 파이썬 모듈이다.  \n",
    "\n",
    "다음 예시는 src라는 이름의 파일을 dst로 복사한다. 만약 dst가 디렉터리 이름이라면 src라는 파일 이름으로 dst 디렉터리에 복사하고 동일한 파일 이름이 있을 경우에는 덮어쓴다."
   ],
   "cell_type": "markdown",
   "metadata": {}
  },
  {
   "cell_type": "code",
   "execution_count": 14,
   "metadata": {},
   "outputs": [
    {
     "output_type": "execute_result",
     "data": {
      "text/plain": [
       "'dst.txt'"
      ]
     },
     "metadata": {},
     "execution_count": 14
    }
   ],
   "source": [
    "import shutil\n",
    "shutil.copy(\"src.txt\", \"dst.txt\")"
   ]
  },
  {
   "source": [
    "위의 예시를 실행해보면 src.txt 파일과 동일한 내용의 파일이 dst.txt로 복사되는 것을 확인할 수 있다."
   ],
   "cell_type": "markdown",
   "metadata": {}
  },
  {
   "source": [
    "## glob\n",
    "---\n",
    "종종 파일을 읽고 쓰는 기능이 있는 프로그램을 만들다 보면 특정 디렉터리에 있는 파일 이름 모두를 알아야 할 때가 있다. 이럴 때 사용하는 모듈이 바로 glob이다.  \n",
    "\n",
    "### 디렉터리에 있는 파일들을 리스트로 만들기 - glob(pathname)\n",
    "glob 모듈은 디렉터리 안의 파일들을 읽어서 돌려준다. `*`, `?` 등 메타 문자를 써서 원하는 파일만 읽어 들일 수도 있다. 다음은 `D:\\JaeSeok\\Python_LAB\\JumpToPython` 디렉터리에 있는 파일 중 이름이 Pavel로 시작하는 파일을 모두 찾아서 읽어들이는 예이다."
   ],
   "cell_type": "markdown",
   "metadata": {}
  },
  {
   "cell_type": "code",
   "execution_count": 19,
   "metadata": {},
   "outputs": [
    {
     "output_type": "execute_result",
     "data": {
      "text/plain": [
       "['D:/JaeSeok/Python_LAB/JumpToPython/CH05\\\\PavelTest1.txt',\n",
       " 'D:/JaeSeok/Python_LAB/JumpToPython/CH05\\\\PavelTest2.txt',\n",
       " 'D:/JaeSeok/Python_LAB/JumpToPython/CH05\\\\PavelTest3.txt']"
      ]
     },
     "metadata": {},
     "execution_count": 19
    }
   ],
   "source": [
    "import glob\n",
    "glob.glob(\"D:/JaeSeok/Python_LAB/JumpToPython/CH05/Pavel*\")"
   ]
  },
  {
   "source": [
    "## tempfile\n",
    "---\n",
    "파일을 임시로 만들어서 사용할 때 유용한 모듈이 바로 tempfile이다. `tempfile.mkstemp()`는 중복되지 않는 임시 파일의 이름을 무작위로 만들어서 돌려준다."
   ],
   "cell_type": "markdown",
   "metadata": {}
  },
  {
   "cell_type": "code",
   "execution_count": 20,
   "metadata": {},
   "outputs": [
    {
     "output_type": "execute_result",
     "data": {
      "text/plain": [
       "(4, 'C:\\\\Users\\\\JaeSeok\\\\AppData\\\\Local\\\\Temp\\\\tmp05pkl6ki')"
      ]
     },
     "metadata": {},
     "execution_count": 20
    }
   ],
   "source": [
    "import tempfile\n",
    "filename = tempfile.mkstemp()\n",
    "filename"
   ]
  },
  {
   "source": [
    "`tempfile.TemporaryFile()`은 임시 저장 공간으로 사용할 파일 객체를 돌려준다. 이 파일은 기본적으로 바이너리 쓰기 모드(wb)를 가진다. `f.close()`가 호출되면 이 파일 객체는 자동으로 사라진다."
   ],
   "cell_type": "markdown",
   "metadata": {}
  },
  {
   "cell_type": "code",
   "execution_count": 21,
   "metadata": {},
   "outputs": [],
   "source": [
    "import tempfile\n",
    "f = tempfile.TemporaryFile()\n",
    "f.close()"
   ]
  },
  {
   "source": [
    "## time\n",
    "---\n",
    "시간과 관련된 time 모듈에는 함수가 굉장히 많다. 그 중 가장 유용한 몇 가지만 알아보자.\n",
    "\n",
    "### time.time\n",
    "`time.time()`은 UTC(Universal Time Coordinated 협정 세계 표준시)를 사용하여 현재 시간을 실수 형태로 돌려주는 함수이다. 1970년 1월 1일 0시 0분 0초를 기준으로 지난 시간을 초 단위로 돌려준다."
   ],
   "cell_type": "markdown",
   "metadata": {}
  },
  {
   "cell_type": "code",
   "execution_count": 24,
   "metadata": {},
   "outputs": [
    {
     "output_type": "execute_result",
     "data": {
      "text/plain": [
       "1611752375.7122455"
      ]
     },
     "metadata": {},
     "execution_count": 24
    }
   ],
   "source": [
    "import time\n",
    "time.time()"
   ]
  },
  {
   "source": [
    "### time.localtime\n",
    "`time.localtime`은 `time.time()`이 돌려준 실수 값을 사용해서 연도, 월, 일, 시, 분, 초, ...의 형태로 바꾸어 주는 함수이다."
   ],
   "cell_type": "markdown",
   "metadata": {}
  },
  {
   "cell_type": "code",
   "execution_count": 25,
   "metadata": {},
   "outputs": [
    {
     "output_type": "execute_result",
     "data": {
      "text/plain": [
       "time.struct_time(tm_year=2021, tm_mon=1, tm_mday=27, tm_hour=22, tm_min=0, tm_sec=56, tm_wday=2, tm_yday=27, tm_isdst=0)"
      ]
     },
     "metadata": {},
     "execution_count": 25
    }
   ],
   "source": [
    "time.localtime(time.time())"
   ]
  },
  {
   "source": [
    "여기서 `tm_wday`는 각 요일을 숫자로 나타내는 부분이고 월요일을 0으로 지정했다. `tm_yday`는 1월 1일부터 오늘까지 누적된 날짜를 반환한다. 마지막으로 `tm_isdst`는 일광절약 시간제(서머타임)를 나타냅니다. 만약 `tm_isdst`가 1로 설정되면 서머타임이 발효 중인 것을 뜻하고, 0으로 설정되면 그 반대입니다. 또한 -1일 때는 서머타임인지 아닌지 알 수 없다는 것을 의미합니다. 일반적으로는 올바른 상태가 채워집니다."
   ],
   "cell_type": "markdown",
   "metadata": {}
  },
  {
   "source": [
    "### time.asctime\n",
    "위의 time.localtime에 의해서 반환된 튜플 형태의 값을 인수로 받아서 날짜와 시간을 알아보기 쉬운 형태로 돌려주는 함수이다."
   ],
   "cell_type": "markdown",
   "metadata": {}
  },
  {
   "cell_type": "code",
   "execution_count": 26,
   "metadata": {},
   "outputs": [
    {
     "output_type": "execute_result",
     "data": {
      "text/plain": [
       "'Wed Jan 27 22:10:24 2021'"
      ]
     },
     "metadata": {},
     "execution_count": 26
    }
   ],
   "source": [
    "time.asctime(time.localtime(time.time()))"
   ]
  },
  {
   "source": [
    "### time.ctime\n",
    "`time.asctime(time.localtime(time.time()))`은 `time.ctime()`을 사용해서 간편하게 표시할 수 있다. 다만, asctime과 다르게 ctime은 항상 현재 시간만을 돌려준다."
   ],
   "cell_type": "markdown",
   "metadata": {}
  },
  {
   "cell_type": "code",
   "execution_count": 27,
   "metadata": {},
   "outputs": [
    {
     "output_type": "execute_result",
     "data": {
      "text/plain": [
       "'Wed Jan 27 22:12:20 2021'"
      ]
     },
     "metadata": {},
     "execution_count": 27
    }
   ],
   "source": [
    "time.ctime()"
   ]
  },
  {
   "source": [
    "### time.strftime\n",
    "> time.strftime('출력할 형식 포맷 코드', time.localtime(time.time()))\n",
    "\n",
    "strftime 함수는 시간에 관계된 것을 세밀하게 표현하는 여러 가지 포맷 코드를 제공한다.\n",
    "다음은 time.strftime을 사용하는 예시이다."
   ],
   "cell_type": "markdown",
   "metadata": {}
  },
  {
   "cell_type": "code",
   "execution_count": 28,
   "metadata": {},
   "outputs": [
    {
     "output_type": "execute_result",
     "data": {
      "text/plain": [
       "'01/27/21'"
      ]
     },
     "metadata": {},
     "execution_count": 28
    }
   ],
   "source": [
    "import time\n",
    "time.strftime('%x', time.localtime(time.time()))"
   ]
  },
  {
   "cell_type": "code",
   "execution_count": 29,
   "metadata": {},
   "outputs": [
    {
     "output_type": "execute_result",
     "data": {
      "text/plain": [
       "'Wed Jan 27 23:06:48 2021'"
      ]
     },
     "metadata": {},
     "execution_count": 29
    }
   ],
   "source": [
    "time.strftime('%c', time.localtime(time.time()))"
   ]
  },
  {
   "source": [
    "### time.sleep\n",
    "time.sleep 함수는 주로 루프 안에서 많이 사용한다. 이 함수를 사용하면 일정한 시간 간격을 두고 루프를 실행할 수 있다. 다음 예를 보자."
   ],
   "cell_type": "markdown",
   "metadata": {}
  },
  {
   "cell_type": "code",
   "execution_count": 30,
   "metadata": {},
   "outputs": [
    {
     "output_type": "stream",
     "name": "stdout",
     "text": [
      "0\n",
      "1\n",
      "2\n",
      "3\n",
      "4\n",
      "5\n",
      "6\n",
      "7\n",
      "8\n",
      "9\n"
     ]
    }
   ],
   "source": [
    "#sleep1.py\n",
    "import time\n",
    "for i in range(10):\n",
    "    print(i)\n",
    "    time.sleep(1)"
   ]
  },
  {
   "source": [
    "위 예시는 1초 간격으로 0부터 9까지의 숫자를 출력한다. 위 예에서 볼 수 있듯이 time.sleep 함수의 인수는 실수 형태를 쓸 수 있다. 즉 1이면 1초, 0.5면 0.5초가 되는 것이다."
   ],
   "cell_type": "markdown",
   "metadata": {}
  },
  {
   "source": [
    "## calendar\n",
    "---\n",
    "calendar는 파이썬에서 달력을 볼 수 있게 해주는 모듈이다.  \n",
    "calendar.calendar(연도)로 사용하면 그해의 전체 달력을 볼 수 있다."
   ],
   "cell_type": "markdown",
   "metadata": {}
  },
  {
   "cell_type": "code",
   "execution_count": 31,
   "metadata": {},
   "outputs": [
    {
     "output_type": "stream",
     "name": "stdout",
     "text": [
      "                                  2021\n\n      January                   February                   March\nMo Tu We Th Fr Sa Su      Mo Tu We Th Fr Sa Su      Mo Tu We Th Fr Sa Su\n             1  2  3       1  2  3  4  5  6  7       1  2  3  4  5  6  7\n 4  5  6  7  8  9 10       8  9 10 11 12 13 14       8  9 10 11 12 13 14\n11 12 13 14 15 16 17      15 16 17 18 19 20 21      15 16 17 18 19 20 21\n18 19 20 21 22 23 24      22 23 24 25 26 27 28      22 23 24 25 26 27 28\n25 26 27 28 29 30 31                                29 30 31\n\n       April                      May                       June\nMo Tu We Th Fr Sa Su      Mo Tu We Th Fr Sa Su      Mo Tu We Th Fr Sa Su\n          1  2  3  4                      1  2          1  2  3  4  5  6\n 5  6  7  8  9 10 11       3  4  5  6  7  8  9       7  8  9 10 11 12 13\n12 13 14 15 16 17 18      10 11 12 13 14 15 16      14 15 16 17 18 19 20\n19 20 21 22 23 24 25      17 18 19 20 21 22 23      21 22 23 24 25 26 27\n26 27 28 29 30            24 25 26 27 28 29 30      28 29 30\n                          31\n\n        July                     August                  September\nMo Tu We Th Fr Sa Su      Mo Tu We Th Fr Sa Su      Mo Tu We Th Fr Sa Su\n          1  2  3  4                         1             1  2  3  4  5\n 5  6  7  8  9 10 11       2  3  4  5  6  7  8       6  7  8  9 10 11 12\n12 13 14 15 16 17 18       9 10 11 12 13 14 15      13 14 15 16 17 18 19\n19 20 21 22 23 24 25      16 17 18 19 20 21 22      20 21 22 23 24 25 26\n26 27 28 29 30 31         23 24 25 26 27 28 29      27 28 29 30\n                          30 31\n\n      October                   November                  December\nMo Tu We Th Fr Sa Su      Mo Tu We Th Fr Sa Su      Mo Tu We Th Fr Sa Su\n             1  2  3       1  2  3  4  5  6  7             1  2  3  4  5\n 4  5  6  7  8  9 10       8  9 10 11 12 13 14       6  7  8  9 10 11 12\n11 12 13 14 15 16 17      15 16 17 18 19 20 21      13 14 15 16 17 18 19\n18 19 20 21 22 23 24      22 23 24 25 26 27 28      20 21 22 23 24 25 26\n25 26 27 28 29 30 31      29 30                     27 28 29 30 31\n\n"
     ]
    }
   ],
   "source": [
    "import calendar\n",
    "print(calendar.calendar(2021))"
   ]
  },
  {
   "source": [
    "calendar.prcal(연도)를 사용해도 위와 동일한 결괏값을 얻을 수 있다."
   ],
   "cell_type": "markdown",
   "metadata": {}
  },
  {
   "cell_type": "code",
   "execution_count": 38,
   "metadata": {},
   "outputs": [
    {
     "output_type": "stream",
     "name": "stdout",
     "text": [
      "                                  2021\n\n      January                   February                   March\nMo Tu We Th Fr Sa Su      Mo Tu We Th Fr Sa Su      Mo Tu We Th Fr Sa Su\n             1  2  3       1  2  3  4  5  6  7       1  2  3  4  5  6  7\n 4  5  6  7  8  9 10       8  9 10 11 12 13 14       8  9 10 11 12 13 14\n11 12 13 14 15 16 17      15 16 17 18 19 20 21      15 16 17 18 19 20 21\n18 19 20 21 22 23 24      22 23 24 25 26 27 28      22 23 24 25 26 27 28\n25 26 27 28 29 30 31                                29 30 31\n\n       April                      May                       June\nMo Tu We Th Fr Sa Su      Mo Tu We Th Fr Sa Su      Mo Tu We Th Fr Sa Su\n          1  2  3  4                      1  2          1  2  3  4  5  6\n 5  6  7  8  9 10 11       3  4  5  6  7  8  9       7  8  9 10 11 12 13\n12 13 14 15 16 17 18      10 11 12 13 14 15 16      14 15 16 17 18 19 20\n19 20 21 22 23 24 25      17 18 19 20 21 22 23      21 22 23 24 25 26 27\n26 27 28 29 30            24 25 26 27 28 29 30      28 29 30\n                          31\n\n        July                     August                  September\nMo Tu We Th Fr Sa Su      Mo Tu We Th Fr Sa Su      Mo Tu We Th Fr Sa Su\n          1  2  3  4                         1             1  2  3  4  5\n 5  6  7  8  9 10 11       2  3  4  5  6  7  8       6  7  8  9 10 11 12\n12 13 14 15 16 17 18       9 10 11 12 13 14 15      13 14 15 16 17 18 19\n19 20 21 22 23 24 25      16 17 18 19 20 21 22      20 21 22 23 24 25 26\n26 27 28 29 30 31         23 24 25 26 27 28 29      27 28 29 30\n                          30 31\n\n      October                   November                  December\nMo Tu We Th Fr Sa Su      Mo Tu We Th Fr Sa Su      Mo Tu We Th Fr Sa Su\n             1  2  3       1  2  3  4  5  6  7             1  2  3  4  5\n 4  5  6  7  8  9 10       8  9 10 11 12 13 14       6  7  8  9 10 11 12\n11 12 13 14 15 16 17      15 16 17 18 19 20 21      13 14 15 16 17 18 19\n18 19 20 21 22 23 24      22 23 24 25 26 27 28      20 21 22 23 24 25 26\n25 26 27 28 29 30 31      29 30                     27 28 29 30 31\n"
     ]
    }
   ],
   "source": [
    "calendar.prcal(2021)"
   ]
  },
  {
   "source": [
    "다음 예시는 2021년 1월의 달력만 보여 준다."
   ],
   "cell_type": "markdown",
   "metadata": {}
  },
  {
   "cell_type": "code",
   "execution_count": 41,
   "metadata": {},
   "outputs": [
    {
     "output_type": "stream",
     "name": "stdout",
     "text": [
      "    January 2021\nMo Tu We Th Fr Sa Su\n             1  2  3\n 4  5  6  7  8  9 10\n11 12 13 14 15 16 17\n18 19 20 21 22 23 24\n25 26 27 28 29 30 31\n"
     ]
    }
   ],
   "source": [
    "calendar.prmonth(2021, 1)"
   ]
  },
  {
   "source": [
    "### calendar.weekday\n",
    "calendar 모듈의 또 다른 유용한 함수를 보자. weekday(연도, 월, 일) 함수는 그 날짜에 해당하는 요일 정보를 돌려준다. 월요일은 0, 화요일은 1, 수요일은 2, 목요일은 3, 금요일은 4, 토요일은 5, 일요일은 6이라는 값을 돌려준다."
   ],
   "cell_type": "markdown",
   "metadata": {}
  },
  {
   "cell_type": "code",
   "execution_count": 43,
   "metadata": {},
   "outputs": [
    {
     "output_type": "execute_result",
     "data": {
      "text/plain": [
       "2"
      ]
     },
     "metadata": {},
     "execution_count": 43
    }
   ],
   "source": [
    "calendar.weekday(2021, 1, 27)"
   ]
  },
  {
   "source": [
    "2가 출력되었기 때문에 이것은 2021년 1월 27일이 수요일임을 보여준다."
   ],
   "cell_type": "markdown",
   "metadata": {}
  },
  {
   "source": [
    "### calendar.monthrange\n",
    "monthrange(연도, 월) 함수는 입력받은 달의 1일이 무슨 요일인지와 그 달이 며칠까지 있는지를 튜플 형태로 돌려준다."
   ],
   "cell_type": "markdown",
   "metadata": {}
  },
  {
   "cell_type": "code",
   "execution_count": 44,
   "metadata": {},
   "outputs": [
    {
     "output_type": "execute_result",
     "data": {
      "text/plain": [
       "(4, 31)"
      ]
     },
     "metadata": {},
     "execution_count": 44
    }
   ],
   "source": [
    "calendar.monthrange(2021, 1)"
   ]
  },
  {
   "source": [
    "위의 예시는 2021년 1월 1일은 금요일이고, 이 달은 31일까지 있다는 것을 보여준다.  \n",
    "날짜와 관련된 프로그래밍을 할 때 위 2가지 함수는 매우 유용하게 사용된다."
   ],
   "cell_type": "markdown",
   "metadata": {}
  },
  {
   "source": [
    "## random\n",
    "---\n",
    "random은 난수(규칙이 없는 임의의 수)를 발생시키는 모듈이다. random과 randint에 대해 알아보자."
   ],
   "cell_type": "markdown",
   "metadata": {}
  },
  {
   "cell_type": "code",
   "execution_count": null,
   "metadata": {},
   "outputs": [],
   "source": []
  }
 ]
}