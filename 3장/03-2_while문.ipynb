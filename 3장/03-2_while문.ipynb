{
 "metadata": {
  "language_info": {
   "codemirror_mode": {
    "name": "ipython",
    "version": 3
   },
   "file_extension": ".py",
   "mimetype": "text/x-python",
   "name": "python",
   "nbconvert_exporter": "python",
   "pygments_lexer": "ipython3",
   "version": "3.9.1-final"
  },
  "orig_nbformat": 2,
  "kernelspec": {
   "name": "python3",
   "display_name": "Python 3.9.1 64-bit",
   "metadata": {
    "interpreter": {
     "hash": "4d6401091f6de5a385c299b068c1e85516af19a094234475c31f99f1aabe410a"
    }
   }
  }
 },
 "nbformat": 4,
 "nbformat_minor": 2,
 "cells": [
  {
   "source": [
    "# 03-2 while문\n",
    "---"
   ],
   "cell_type": "markdown",
   "metadata": {}
  },
  {
   "source": [
    "## while문의 기본 구조\n",
    "---\n",
    "기본구조는 다음과 같다."
   ],
   "cell_type": "markdown",
   "metadata": {}
  },
  {
   "cell_type": "code",
   "execution_count": null,
   "metadata": {},
   "outputs": [],
   "source": [
    "while <조건문>:\n",
    "    <수행할 문장1>\n",
    "    <수행할 문장2>\n",
    "    <수행할 문장3>\n",
    "    ..."
   ]
  },
  {
   "source": [
    "while문은 조건문이 참인 동안에 while문 아래의 문장이 반복해서 수행된다.  \n",
    "\"열 번 찍어 안 넘어가는 나무 없다\"는 속담을 파이썬 프로그램으로 만든다면 다음과 같다."
   ],
   "cell_type": "markdown",
   "metadata": {}
  },
  {
   "cell_type": "code",
   "execution_count": 2,
   "metadata": {},
   "outputs": [
    {
     "output_type": "stream",
     "name": "stdout",
     "text": [
      "나무를 1번 찍었습니다.\n나무를 2번 찍었습니다.\n나무를 3번 찍었습니다.\n나무를 4번 찍었습니다.\n나무를 5번 찍었습니다.\n나무를 6번 찍었습니다.\n나무를 7번 찍었습니다.\n나무를 8번 찍었습니다.\n나무를 9번 찍었습니다.\n나무를 10번 찍었습니다.\n나무 넘어간다.\n"
     ]
    }
   ],
   "source": [
    "treeHit = 0\n",
    "while treeHit < 10:\n",
    "    treeHit = treeHit+1\n",
    "    print(\"나무를 %d번 찍었습니다.\" %treeHit)\n",
    "    if treeHit == 10:\n",
    "        print(\"나무 넘어간다.\")"
   ]
  },
  {
   "source": [
    "## while문 만들기\n",
    "---\n",
    "여러 가지 선택지 중 하나를 선택해서 입력받는 예제를 만들어 보자.  \n",
    "먼저 여러 줄짜리 문자열을 입력한다."
   ],
   "cell_type": "markdown",
   "metadata": {}
  },
  {
   "cell_type": "code",
   "execution_count": 3,
   "metadata": {},
   "outputs": [],
   "source": [
    "prompt = \"\"\"\n",
    "1. Add\n",
    "2. Del\n",
    "3. List\n",
    "4. Quit\n",
    "\n",
    "Enter number: \"\"\""
   ]
  },
  {
   "cell_type": "code",
   "execution_count": 4,
   "metadata": {},
   "outputs": [
    {
     "output_type": "stream",
     "name": "stdout",
     "text": [
      "\n1. Add\n2. Del\n3. List\n4. Quit\n\nEnter number: \n"
     ]
    },
    {
     "output_type": "error",
     "ename": "ValueError",
     "evalue": "invalid literal for int() with base 10: ''",
     "traceback": [
      "\u001b[1;31m---------------------------------------------------------------------------\u001b[0m",
      "\u001b[1;31mValueError\u001b[0m                                Traceback (most recent call last)",
      "\u001b[1;32m<ipython-input-4-9708651c9177>\u001b[0m in \u001b[0;36m<module>\u001b[1;34m\u001b[0m\n\u001b[0;32m      2\u001b[0m \u001b[1;32mwhile\u001b[0m \u001b[0mnumber\u001b[0m \u001b[1;33m!=\u001b[0m \u001b[1;36m4\u001b[0m\u001b[1;33m:\u001b[0m\u001b[1;33m\u001b[0m\u001b[1;33m\u001b[0m\u001b[0m\n\u001b[0;32m      3\u001b[0m     \u001b[0mprint\u001b[0m\u001b[1;33m(\u001b[0m\u001b[0mprompt\u001b[0m\u001b[1;33m)\u001b[0m\u001b[1;33m\u001b[0m\u001b[1;33m\u001b[0m\u001b[0m\n\u001b[1;32m----> 4\u001b[1;33m     \u001b[0mnumber\u001b[0m \u001b[1;33m=\u001b[0m \u001b[0mint\u001b[0m\u001b[1;33m(\u001b[0m\u001b[0minput\u001b[0m\u001b[1;33m(\u001b[0m\u001b[1;33m)\u001b[0m\u001b[1;33m)\u001b[0m\u001b[1;33m\u001b[0m\u001b[1;33m\u001b[0m\u001b[0m\n\u001b[0m",
      "\u001b[1;31mValueError\u001b[0m: invalid literal for int() with base 10: ''"
     ]
    }
   ],
   "source": [
    "number = 0\n",
    "while number != 4:\n",
    "    print(prompt)\n",
    "    number = int(input())"
   ]
  },
  {
   "source": [
    "while문을 보면 number가 4가 아닌 동안 prompt를 출력하고 사용자로부터 번호를 입력받는다. 사용자가 4를 입력하지 않으면 계속해서 prompt를 출력한다.  \n",
    "4를 입력하면 조건문이 거짓이 되기 때문에 while문을 빠져나오게 되는데, 거짓인 조건은 4일 때 뿐이기 때문에 4보다 큰 5를 입력하거나 4가 아닌 숫자를 입력하면 계속해서 while문을 돌게 된다."
   ],
   "cell_type": "markdown",
   "metadata": {}
  },
  {
   "source": [
    "## while문 강제로 빠져나가기\n",
    "---\n",
    "while문은 조건문이 참인 동안 계속해서 while문 안의 내용을 반복적으로 수행하는데, 강제로 while문을 빠져나가게 하고 싶을 때는 break문을 사용한다.  \n",
    "<br>\n",
    "break문을 사용해서 커피 자판기 예제를 작성해보자."
   ],
   "cell_type": "markdown",
   "metadata": {}
  },
  {
   "cell_type": "code",
   "execution_count": null,
   "metadata": {},
   "outputs": [],
   "source": [
    "coffee = 10\n",
    "money = 300\n",
    "while money:\n",
    "    print(\"돈을 받았으니 커피를 줍니다.\")\n",
    "    coffee = coffee - 1\n",
    "    print(\"남은 커피의 양은 %d잔 입니다.\" % coffee)\n",
    "    if coffee == 0:\n",
    "        print(\"커피가 모두 소진되었습니다.\")\n",
    "        break"
   ]
  },
  {
   "source": [
    "## while문의 맨 처음으로 돌아가기\n",
    "---\n",
    "while문 안의 문장을 수행할 때 입력 조건을 검사해서 조건에 맞지 않으면 while문을 빠져나간다. 그런데 while문을 빠져나가지 않고 while문의 맨 처음 조건문으로 돌아가게 하려면 어떻게 해야할까? 그 때 사용하는 것이 continue문이다.\n",
    "<br><br>\n",
    "1부터 10까지의 숫자 중에서 홀수만 출력하는 것을 while문을 사용해서 작성해보자."
   ],
   "cell_type": "markdown",
   "metadata": {}
  },
  {
   "cell_type": "code",
   "execution_count": null,
   "metadata": {},
   "outputs": [],
   "source": [
    "a = 0\n",
    "while a < 10:\n",
    "    a = a + 1\n",
    "    if a % 2 == 0: continue\n",
    "    print(a)"
   ]
  },
  {
   "source": [
    "a가 10보다 작으면 a는 1만큼 계속 증가한다. if a % 2 == 0, 즉 짝수일 때는 continue문을 수행해서 while의 조건문으로 돌아가게 된다. 따라서 a가 짝수일 때는 print(a)가 수행되지 않는다."
   ],
   "cell_type": "markdown",
   "metadata": {}
  },
  {
   "source": [
    "## 무한루프\n",
    "---\n",
    "파이썬에서 while문으로 무한루프를 구현할 수 있는데 기본적인 형태는 다음과 같다."
   ],
   "cell_type": "markdown",
   "metadata": {}
  },
  {
   "cell_type": "code",
   "execution_count": null,
   "metadata": {},
   "outputs": [],
   "source": [
    "while True:\n",
    "    수행할 문장1\n",
    "    수행할 문장2\n",
    "    ..."
   ]
  }
 ]
}
