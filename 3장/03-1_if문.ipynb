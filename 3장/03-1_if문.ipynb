{
 "metadata": {
  "language_info": {
   "codemirror_mode": {
    "name": "ipython",
    "version": 3
   },
   "file_extension": ".py",
   "mimetype": "text/x-python",
   "name": "python",
   "nbconvert_exporter": "python",
   "pygments_lexer": "ipython3",
   "version": "3.9.1-final"
  },
  "orig_nbformat": 2,
  "kernelspec": {
   "name": "python3",
   "display_name": "Python 3.9.1 64-bit",
   "metadata": {
    "interpreter": {
     "hash": "247ab06e135bb35fa78c5eff31b2a9a0050dcb5fb773c2631d2a29ac689eeccb"
    }
   }
  }
 },
 "nbformat": 4,
 "nbformat_minor": 2,
 "cells": [
  {
   "source": [
    "# 03-1 if문\n",
    "---"
   ],
   "cell_type": "markdown",
   "metadata": {}
  },
  {
   "source": [
    "## if문은 왜 필요할까?\n",
    "---\n",
    "프로그래밍에서 조건을 판단하여 해당 조건에 맞는 상황을 수행하는 데 쓰는 것이 바로 if문이다.\n",
    "> \"돈이 있으면 택시를 타고, 돈이 없으면 걸어 간다.\"\n",
    "\n",
    "위와 같은 상황을 파이썬에서는 다음과 같이 표현한다."
   ],
   "cell_type": "markdown",
   "metadata": {}
  },
  {
   "cell_type": "code",
   "execution_count": 3,
   "metadata": {},
   "outputs": [
    {
     "output_type": "stream",
     "name": "stdout",
     "text": [
      "택시에 탑승합니다.\n"
     ]
    }
   ],
   "source": [
    "money = True\n",
    "if money:\n",
    "    print(\"택시에 탑승합니다.\")\n",
    "else:\n",
    "    print(\"걸어 갑니다.\")"
   ]
  },
  {
   "source": [
    "money의 default 상태는 참(True)이기 때문에 if문 다음 문장이 수행되어 \"택시에 탑승합니다.\"가 출력된다."
   ],
   "cell_type": "markdown",
   "metadata": {}
  },
  {
   "source": [
    "## if문의 기본 구조\n",
    "---\n",
    "if와 else를 사용한 조건문의 기본 구조는 다음과 같다.\n",
    "> if 조건문:  \n",
    "    수행할 문장1  \n",
    "    수행할 문장2  \n",
    "    ...  \n",
    "else:  \n",
    "    수행할 문장A  \n",
    "    수행할 문장B  \n",
    "    ...  \n",
    "\n",
    "조건문에서 참이면 if문 바로 다음 문장들인 if 블록들을 수행하고, 거짓이면 else문 다음 문장들인 else 블록들을 수행하게 된다. 따라서 else문은 if문 없이 독립적으로 사용할 수 없다."
   ],
   "cell_type": "markdown",
   "metadata": {}
  },
  {
   "source": [
    "## 들여쓰기\n",
    "---\n",
    "if문을 만들 때는 if 조건문: 바로 아래 문장부터 if문에 속하는 모든 문장에 들여쓰기(indentation)를 해주어야 한다.  \n",
    "또한, 들여쓰기는 언제나 같은 너비로 해야 한다."
   ],
   "cell_type": "markdown",
   "metadata": {}
  },
  {
   "source": [
    "## 조건문이란 무엇인가?\n",
    "---\n",
    "if조건문에서 \"조건문\"이란 참과 거짓을 판단하는 문장을 말한다.  \n",
    "<br>\n",
    "### 1. 비교연산자\n",
    "\n",
    "| 비교연산자 | 설명 |\n",
    "| :--- | :--- |\n",
    "| x < y | x가 y보다 작다 |\n",
    "| x > y | x가 y보다 크다 |\n",
    "| x == y | x와 y가 같다 |\n",
    "| x != y | x와 y가 같지 않다 |\n",
    "| x >= y | x가 y보다 크거나 같다 |\n",
    "| x <= y | x가 y보다 작거나 같다 |\n",
    "\n",
    "앞에서 다룬 택시 예제의 변형\n",
    "> \"만약 3000원 이상의 돈을 가지고 있으면 택시를 타고 그렇지 않으면 걸어 가라.\""
   ],
   "cell_type": "markdown",
   "metadata": {}
  },
  {
   "cell_type": "code",
   "execution_count": 4,
   "metadata": {},
   "outputs": [
    {
     "output_type": "stream",
     "name": "stdout",
     "text": [
      "걸어가라\n"
     ]
    }
   ],
   "source": [
    "money = 2000\n",
    "if money >= 3000:\n",
    "    print(\"택시를 타고 가라.\")\n",
    "else:\n",
    "    print(\"걸어가라\")"
   ]
  },
  {
   "source": [
    "money >= 3000 조건문이 거짓이 되기 때문에 else문 다음 문장을 수행하게 된다."
   ],
   "cell_type": "markdown",
   "metadata": {}
  },
  {
   "source": [
    "### 2. and, or, not\n",
    "조건을 판단하기 위해 사용하는 다른 연산자로는 and, or, not이 있다. 각각의 연산자는 다음과 같이 동작한다.  \n",
    "\n",
    "| 연산자 | 설명 |\n",
    "| :--- | :--- |\n",
    "| x or y | x와 y 둘 중에 하나만 참이어도 참이다. |\n",
    "| x and y | x와 y 모두 참이어야 참이다. |\n",
    "| not x | x가 거짓이면 참이다. |\n",
    "\n",
    "or연산자의 사용법\n",
    "> \"돈이 3000원 이상 있거나 카드가 있다면 택시를 타고 그렇지 않으면 걸어 가라.\""
   ],
   "cell_type": "markdown",
   "metadata": {}
  },
  {
   "cell_type": "code",
   "execution_count": 1,
   "metadata": {},
   "outputs": [
    {
     "output_type": "stream",
     "name": "stdout",
     "text": [
      "택시를 타고 가라.\n"
     ]
    }
   ],
   "source": [
    "money = 2000\n",
    "card = True\n",
    "if money >= 3000 or card:\n",
    "    print(\"택시를 타고 가라.\")\n",
    "else:\n",
    "    print(\"걸어 가라.\")"
   ]
  },
  {
   "source": [
    "### x in s, x not in s\n",
    "파이썬은 다른 프로그래밍 언어에서 쉽게 볼 수 없는 조건문을 제공한다.\n",
    "\n",
    "| in | not in |\n",
    "| :--- | :--- |\n",
    "| x in 리스트 | x not in 리스트 |\n",
    "| x in 튜플 | x not in 튜플 |\n",
    "| x in 문자열 | x not in 문자열 |\n",
    "\n",
    "in의 뜻이 \"~안에\" 라는 뜻이라는 것을 상기하면 이해하기가 쉽다."
   ],
   "cell_type": "markdown",
   "metadata": {}
  },
  {
   "cell_type": "code",
   "execution_count": 2,
   "metadata": {},
   "outputs": [
    {
     "output_type": "execute_result",
     "data": {
      "text/plain": [
       "True"
      ]
     },
     "metadata": {},
     "execution_count": 2
    }
   ],
   "source": [
    "1 in [1,2,3]"
   ]
  },
  {
   "cell_type": "code",
   "execution_count": 3,
   "metadata": {},
   "outputs": [
    {
     "output_type": "execute_result",
     "data": {
      "text/plain": [
       "False"
      ]
     },
     "metadata": {},
     "execution_count": 3
    }
   ],
   "source": [
    "1 not in [1,2,3]"
   ]
  },
  {
   "cell_type": "code",
   "execution_count": 4,
   "metadata": {},
   "outputs": [
    {
     "output_type": "stream",
     "name": "stdout",
     "text": [
      "True\nTrue\n"
     ]
    }
   ],
   "source": [
    "# 튜플과 문자열에 적용한 예\n",
    "\n",
    "print( 'a' in ('a', 'b', 'c') )\n",
    "print( 'j' not in ('python') )"
   ]
  },
  {
   "cell_type": "code",
   "execution_count": 5,
   "metadata": {},
   "outputs": [
    {
     "output_type": "stream",
     "name": "stdout",
     "text": [
      "택시를 타고 가라.\n"
     ]
    }
   ],
   "source": [
    "# 택시 예제: \"만약 주머니에 돈이 있으면 택시를 타고, 없으면 걸어 가라.\"\n",
    "\n",
    "pocket = ['paper', 'cellphone', 'money']\n",
    "if 'money' in pocket:\n",
    "    print(\"택시를 타고 가라.\")\n",
    "else:\n",
    "    print(\"걸어 가라.\")"
   ]
  },
  {
   "source": [
    "### \\[조건문에서 아무 일도 하지 않게 설정하고 싶다면?\\]\n",
    "이 때 사용하는 것이 pass이다. 다음 예를 pass를 사용해서 구현해보자.\n",
    "> \"주머니에 돈이 있으면 가만히 있고, 주머니에 돈이 없으면 카드를 꺼내라.\""
   ],
   "cell_type": "markdown",
   "metadata": {}
  },
  {
   "cell_type": "code",
   "execution_count": 6,
   "metadata": {},
   "outputs": [],
   "source": [
    "pocket = ['paper', 'cellphone', 'money']\n",
    "if 'money' in pocket:\n",
    "    pass\n",
    "else:\n",
    "    print(\"카드를 꺼내라.\")"
   ]
  },
  {
   "source": [
    "pocket 리스트 안에 money 문자열이 있기 때문에 if문 다음 문장인 pass가 수행되고 아무런 결괏괎도 보여주지 않는다."
   ],
   "cell_type": "markdown",
   "metadata": {}
  },
  {
   "source": [
    "## 다양한 조건을 판단하는 elif\n",
    "---\n",
    "if와 else만으로는 다양한 조건을 판단하기 어렵다.\n",
    "> \"주머니에 돈이 있으면 택시를 타고, 주머니에 돈은 없지만 카드가 있으면 택시를 타고, 돈도 없고 카드도 없으면 걸어 가라.\"\n",
    "\n",
    "위 문장을 if와 else만으로 표현하면 다음과 같다."
   ],
   "cell_type": "markdown",
   "metadata": {}
  },
  {
   "cell_type": "code",
   "execution_count": 7,
   "metadata": {},
   "outputs": [
    {
     "output_type": "stream",
     "name": "stdout",
     "text": [
      "택시 탑승\n"
     ]
    }
   ],
   "source": [
    "pocket = ['paper', 'handphone']\n",
    "card = True\n",
    "\n",
    "if 'money' in pocket:\n",
    "    print(\"택시 탑승\")\n",
    "else:\n",
    "    if card:\n",
    "        print(\"택시 탑승\")\n",
    "    else:\n",
    "        print(\"걸어가라.\")"
   ]
  },
  {
   "source": [
    "위 코드는 정돈된 느낌을 받을 수 없다. 그래서 이럴 때는 다중 조건 판단을 가능하게 하는 elif를 사용한다."
   ],
   "cell_type": "markdown",
   "metadata": {}
  },
  {
   "cell_type": "code",
   "execution_count": 10,
   "metadata": {},
   "outputs": [
    {
     "output_type": "stream",
     "name": "stdout",
     "text": [
      "택시 탑승\n"
     ]
    }
   ],
   "source": [
    "pocket = ['paper', 'handphone']\n",
    "card = True\n",
    "\n",
    "if 'money' in pocket:\n",
    "    print(\"택시 탑승\")\n",
    "elif card:\n",
    "    print(\"택시 탑승\")\n",
    "else:\n",
    "    print(\"걸어 가라\")"
   ]
  },
  {
   "source": [
    "elif는 이전 조건문이 거짓일 때 수행된다. 또한, elif의 개수는 제한 없이 사용이 가능하다."
   ],
   "cell_type": "markdown",
   "metadata": {}
  },
  {
   "source": [
    "### \\[if문을 한 줄로 작성하기\\]\n",
    "아래 예시를 보면 if문 다음에 수행할 문장이 한 줄이고, else문 다음에 수행할 문장도 한 줄 밖에 없다."
   ],
   "cell_type": "markdown",
   "metadata": {}
  },
  {
   "cell_type": "code",
   "execution_count": 14,
   "metadata": {},
   "outputs": [],
   "source": [
    "pocket = ['paper', 'money', 'cellphone']\n",
    "if 'money' in pocket:\n",
    "    pass \n",
    "else:\n",
    "    print(\"카드를 꺼내라\")"
   ]
  },
  {
   "source": [
    "위의 코드는 좀 더 간략하게 한 줄로 정리가 가능하다."
   ],
   "cell_type": "markdown",
   "metadata": {}
  },
  {
   "cell_type": "code",
   "execution_count": 15,
   "metadata": {},
   "outputs": [],
   "source": [
    "if 'money' in pocket: pass\n",
    "else: print(\"카드를 꺼내라\")"
   ]
  },
  {
   "source": [
    "## 조건부 표현식\n",
    "---"
   ],
   "cell_type": "markdown",
   "metadata": {}
  },
  {
   "cell_type": "code",
   "execution_count": 18,
   "metadata": {},
   "outputs": [],
   "source": [
    "score = 100\n",
    "if score >= 60:\n",
    "    message = \"success\"\n",
    "else:\n",
    "    message = \"failure\""
   ]
  },
  {
   "source": [
    "score가 60이상일 경우 message에 문자열 \"success\"를, 아닐 경우에는 \"failure\"를 대입하는 코드이다.  \n",
    "<br>\n",
    "파이썬의 조건부 표현식(conditional expression)을 사용하면 위 코드를 좀 더 간단히 표현이 가능하다."
   ],
   "cell_type": "markdown",
   "metadata": {}
  },
  {
   "cell_type": "code",
   "execution_count": 19,
   "metadata": {},
   "outputs": [],
   "source": [
    "score = 100\n",
    "message = \"success\" if score >= 60 else \"failure\""
   ]
  },
  {
   "source": [
    "조건부 표현식은 다음과 같이 정의한다.\n",
    "> 조건문이 참인 경우 if 조건문 else 조건문이 거짓인 경우\n",
    "\n",
    "조건부 표현식은 가독성에 유리하고 한 줄로 작성할 수 있어 활용성이 좋다."
   ],
   "cell_type": "markdown",
   "metadata": {}
  }
 ]
}
