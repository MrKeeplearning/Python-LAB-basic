{
 "metadata": {
  "language_info": {
   "codemirror_mode": {
    "name": "ipython",
    "version": 3
   },
   "file_extension": ".py",
   "mimetype": "text/x-python",
   "name": "python",
   "nbconvert_exporter": "python",
   "pygments_lexer": "ipython3",
   "version": "3.9.1-final"
  },
  "orig_nbformat": 2,
  "kernelspec": {
   "name": "python3",
   "display_name": "Python 3.9.1 64-bit",
   "metadata": {
    "interpreter": {
     "hash": "4d6401091f6de5a385c299b068c1e85516af19a094234475c31f99f1aabe410a"
    }
   }
  }
 },
 "nbformat": 4,
 "nbformat_minor": 2,
 "cells": [
  {
   "source": [
    "# 03-3 for문\n",
    "---"
   ],
   "cell_type": "markdown",
   "metadata": {}
  },
  {
   "source": [
    "## for문의 기본 구조\n",
    "---\n",
    "for문의 기본 구조는 다음과 같다."
   ],
   "cell_type": "markdown",
   "metadata": {}
  },
  {
   "cell_type": "code",
   "execution_count": null,
   "metadata": {},
   "outputs": [],
   "source": [
    "for 변수 in 리스트(또는 튜플, 문자열):\n",
    "    수행할 문장1\n",
    "    수행할 문장2\n",
    "    ..."
   ]
  },
  {
   "source": [
    "리스트나 튜플, 문자열의 첫 번째 요소부터 마지막 요소까지 차례로 변수에 대입되어 \"수행할 문장1\", \"수행할 문장2\" 등이 수행된다."
   ],
   "cell_type": "markdown",
   "metadata": {}
  },
  {
   "source": [
    "## 예제를 통해 for문 이해하기\n",
    "---\n",
    "### 1. 전형적인 for문"
   ],
   "cell_type": "markdown",
   "metadata": {}
  },
  {
   "cell_type": "code",
   "execution_count": 1,
   "metadata": {},
   "outputs": [
    {
     "output_type": "stream",
     "name": "stdout",
     "text": [
      "one\ntwo\nthree\n"
     ]
    }
   ],
   "source": [
    "test_list = ['one', 'two', 'three']\n",
    "for i in test_list:\n",
    "    print(i)"
   ]
  },
  {
   "source": [
    "\\['one', 'two', 'three'\\] 리스트의 첫 번째 요소인 'one'이 먼저 i변수에 대입된 후 print(i) 문장을 수행한다. 다음에 두 번째 요소 'two'가 i 변수에 대입된 후 print(i) 문장을 수행하고 리스트의 마지막 요소까지 이것을 반복한다."
   ],
   "cell_type": "markdown",
   "metadata": {}
  },
  {
   "source": [
    "### 2. 다양한 for문의 사용\n",
    "a 리스트의 요솟값이 튜플인 경우 각각의 요소가 자동으로 (first, last)변수에 대입된다.  \n",
    "이것은 튜플을 사용한 변수값 대입 방법과 매우 유사하다.\n",
    "> (first, last) = (1, 2)"
   ],
   "cell_type": "markdown",
   "metadata": {}
  },
  {
   "cell_type": "code",
   "execution_count": 2,
   "metadata": {},
   "outputs": [
    {
     "output_type": "stream",
     "name": "stdout",
     "text": [
      "3\n7\n11\n"
     ]
    }
   ],
   "source": [
    "a = [(1, 2), (3, 4), (5, 6)]\n",
    "for (first, last) in a:\n",
    "    print(first + last)"
   ]
  },
  {
   "source": [
    "### 3. for문의 응용\n",
    "예시를 위한 상황을 하나 가정해보자.  \n",
    "> \"총 5명의 학생이 시험을 보았는데 시험 점수가 60점이 넘으면 합격이고 그렇지 않으면 불합격이다. 합격인지 불합격인지 결과를 보여 주시오.\"\n",
    "\n",
    "학생 1번부터 5번까지 총 5명의 시험 점수를 순서대로 리스트로 표현한다. 그 뒤에 각 점수를 차례로 검사해서 합격, 불합격 여부를 통보해준다."
   ],
   "cell_type": "markdown",
   "metadata": {}
  },
  {
   "cell_type": "code",
   "execution_count": 3,
   "metadata": {},
   "outputs": [
    {
     "output_type": "stream",
     "name": "stdout",
     "text": [
      "1번 학생은 합격입니다.\n2번 학생은 불합격입니다.\n3번 학생은 합격입니다.\n4번 학생은 불합격입니다.\n5번 학생은 합격입니다.\n"
     ]
    }
   ],
   "source": [
    "marks = [90, 25, 67, 45, 80]\n",
    "\n",
    "number = 0\n",
    "for mark in marks:\n",
    "    number = number + 1\n",
    "    if mark >= 60:\n",
    "        print(\"%d번 학생은 합격입니다.\" % number)\n",
    "    else:\n",
    "        print(\"%d번 학생은 불합격입니다.\" % number)"
   ]
  },
  {
   "source": [
    "각각의 학생에게 번호를 붙여 주기 위해 number 변수를 사용하였다. 점수 리스트 marks에서 차례로 점수를 꺼내어 mark라는 변수에 대입하고 for문 안의 문장들을 수행한다. for문이 한 번씩 수행될 때마다 number는 1씩 증가한다.  \n",
    "mark가 60 이상일 때 합격 메시지를 출력하고, 60미만일 때는 불합격 메시지를 출력한다."
   ],
   "cell_type": "markdown",
   "metadata": {}
  },
  {
   "source": [
    "## for문과 continue\n",
    "---\n",
    "while문에서 살펴본 continue문을 for문에서도 사용할 수 있다. for문 안의 문장을 수행하는 도중에 continue문을 만나면 for문의 처음으로 돌아가게 된다.  \n",
    "<br>\n",
    "앞에서 'for문의 응용'에서 다룬 예제를 사용해서 60점 이상인 사람에게는 축하 메시지를 보내고, 나머지 사람에게는 아무 메시지도 전하지 않는 프로그램을 작성해보자."
   ],
   "cell_type": "markdown",
   "metadata": {}
  },
  {
   "cell_type": "code",
   "execution_count": 4,
   "metadata": {},
   "outputs": [
    {
     "output_type": "stream",
     "name": "stdout",
     "text": [
      "1번 학생 축하합니다!\n3번 학생 축하합니다!\n5번 학생 축하합니다!\n"
     ]
    }
   ],
   "source": [
    "marks = [90, 25, 67, 45, 80]\n",
    "\n",
    "number = 0\n",
    "for mark in marks:\n",
    "    number = number + 1\n",
    "    if mark >= 60:\n",
    "        print(\"%d번 학생 축하합니다!\" % number)\n",
    "    else: continue"
   ]
  },
  {
   "source": [
    "## for문과 함께 자주 사용하는 range 함수\n",
    "---\n",
    "for문은 숫자 리스트를 자동으로 만들어 주는 range함수와 함께 사용하는 경우가 많다. range 함수의 간단한 사용법은 다음과 같다."
   ],
   "cell_type": "markdown",
   "metadata": {}
  },
  {
   "cell_type": "code",
   "execution_count": 6,
   "metadata": {},
   "outputs": [
    {
     "output_type": "execute_result",
     "data": {
      "text/plain": [
       "range(0, 10)"
      ]
     },
     "metadata": {},
     "execution_count": 6
    }
   ],
   "source": [
    "a = range(10)\n",
    "a"
   ]
  },
  {
   "cell_type": "code",
   "execution_count": 8,
   "metadata": {},
   "outputs": [
    {
     "output_type": "execute_result",
     "data": {
      "text/plain": [
       "[0, 1, 2, 3, 4, 5, 6, 7, 8, 9]"
      ]
     },
     "metadata": {},
     "execution_count": 8
    }
   ],
   "source": [
    "list(a)"
   ]
  },
  {
   "source": [
    "위의 예시를 보면 range(10)은 0부터 10미만의 숫자를 포함하는 range 객체를 만들어 준다.  \n",
    "시작 숫자와 끝 숫자를 지정하려면 range(시작 숫자, 끝 숫자) 형태를 사용하는데, 이 때 끝 숫자는 포함하지 않는다."
   ],
   "cell_type": "markdown",
   "metadata": {}
  },
  {
   "cell_type": "code",
   "execution_count": 9,
   "metadata": {},
   "outputs": [
    {
     "output_type": "execute_result",
     "data": {
      "text/plain": [
       "range(1, 11)"
      ]
     },
     "metadata": {},
     "execution_count": 9
    }
   ],
   "source": [
    "a = range(1, 11)\n",
    "a"
   ]
  },
  {
   "cell_type": "code",
   "execution_count": 10,
   "metadata": {},
   "outputs": [
    {
     "output_type": "execute_result",
     "data": {
      "text/plain": [
       "[1, 2, 3, 4, 5, 6, 7, 8, 9, 10]"
      ]
     },
     "metadata": {},
     "execution_count": 10
    }
   ],
   "source": [
    "list(a)"
   ]
  },
  {
   "source": [
    "또한, range함수에는 step이라는 것을 추가로 지정할 수 있다. step은 각 숫자 간의 간격을 의미한다. default는 1로 설정되어 있다. 따라서 위에서 본 예시들은 모두 각 숫자 간에 1씩 차이가 났던 것이다. step을 포함시킨 range함수의 예시를 살펴보자."
   ],
   "cell_type": "markdown",
   "metadata": {}
  },
  {
   "cell_type": "code",
   "execution_count": 12,
   "metadata": {},
   "outputs": [
    {
     "output_type": "execute_result",
     "data": {
      "text/plain": [
       "[1, 3, 5, 7, 9]"
      ]
     },
     "metadata": {},
     "execution_count": 12
    }
   ],
   "source": [
    "a = range(1, 11, 2)     # step을 2로 지정\n",
    "list(a)"
   ]
  },
  {
   "source": [
    "### 1. range 함수의 예시 살펴보기"
   ],
   "cell_type": "markdown",
   "metadata": {}
  },
  {
   "source": [
    "for와 range 함수를 사용하면 1부터 10까지 더하는 것을 쉽게 구할 수 있다."
   ],
   "cell_type": "markdown",
   "metadata": {}
  },
  {
   "cell_type": "code",
   "execution_count": 14,
   "metadata": {},
   "outputs": [
    {
     "output_type": "stream",
     "name": "stdout",
     "text": [
      "55\n"
     ]
    }
   ],
   "source": [
    "add = 0\n",
    "for i in range(1, 11):\n",
    "    add += i\n",
    "\n",
    "print(add)"
   ]
  },
  {
   "source": [
    "range(1, 11)은 숫자 1부터 10까지(1 이상 11미만)의 숫자를 데이터로 갖는 객체이다. i 변수에 리스트의 숫자가 1부터 10까지 하나씩 차례로 대입되면서 add += i 문장을 반복적으로 수행하여 1부터 10까지 모두 더한 55가 출력된다.  \n",
    "<br>\n",
    "\"60점 이상이면 합격\" 예제도 range 함수를 사용해서 변형해보자."
   ],
   "cell_type": "markdown",
   "metadata": {}
  },
  {
   "cell_type": "code",
   "execution_count": 15,
   "metadata": {},
   "outputs": [
    {
     "output_type": "stream",
     "name": "stdout",
     "text": [
      "1번 학생 축하합니다. 합격입니다.\n3번 학생 축하합니다. 합격입니다.\n5번 학생 축하합니다. 합격입니다.\n"
     ]
    }
   ],
   "source": [
    "marks = [90, 25, 67, 45, 80]\n",
    "for num in range(len(marks)):\n",
    "    if marks[num] < 60:\n",
    "        continue\n",
    "    print(\"%d번 학생 축하합니다. 합격입니다.\" % (num + 1))"
   ]
  },
  {
   "source": [
    "### 2. for와 range를 이용한 구구단"
   ],
   "cell_type": "markdown",
   "metadata": {}
  },
  {
   "cell_type": "code",
   "execution_count": 16,
   "metadata": {},
   "outputs": [
    {
     "output_type": "stream",
     "name": "stdout",
     "text": [
      "1 2 3 4 5 6 7 8 9 \n2 4 6 8 10 12 14 16 18 \n3 6 9 12 15 18 21 24 27 \n4 8 12 16 20 24 28 32 36 \n5 10 15 20 25 30 35 40 45 \n6 12 18 24 30 36 42 48 54 \n7 14 21 28 35 42 49 56 63 \n8 16 24 32 40 48 56 64 72 \n9 18 27 36 45 54 63 72 81 \n"
     ]
    }
   ],
   "source": [
    "for i in range(1, 10):\n",
    "    for j in range(1, 10):\n",
    "        print(i * j, end=\" \")\n",
    "    print('')"
   ]
  },
  {
   "source": [
    "이중 for문을 이용해서 구구단을 출력하는 것은 다른 언어를 공부할 때도 가장 기초적으로 자주 했던 것이기에 간단했으나, 'end'가 무슨 역할을 하는지 의문점이 생겼다.  \n",
    "<br>\n",
    "print()함수 내에 매개변수 end를 넣어 준 이유는 해당 결괏값을 출력할 때 다음 줄로 넘어가지 않고 해당 줄에 계속해서 출력하기 위한 것이다.  \n",
    "그 뒤에 이어지는 print('')는 들여쓰기 위치로 보았을 때 각 단을 구분하기 위한 줄바꿈 역할을 한다."
   ],
   "cell_type": "markdown",
   "metadata": {}
  },
  {
   "source": [
    "## 리스트 내포 사용하기\n",
    "---\n",
    "리스트 안에 for문을 포함하는 리스트 내포(List Comprehension)를 사용하면 좀 더 편리하고 직관적인 프로그램 작성이 가능하다.  \n",
    "다음 예제는 a 리스트의 각 항목에 3을 곱한 결과를 result 리스트에 담는 예제이다."
   ],
   "cell_type": "markdown",
   "metadata": {}
  },
  {
   "cell_type": "code",
   "execution_count": 17,
   "metadata": {},
   "outputs": [
    {
     "output_type": "stream",
     "name": "stdout",
     "text": [
      "[3, 6, 9, 12]\n"
     ]
    }
   ],
   "source": [
    "a = [1, 2, 3, 4]\n",
    "result = []\n",
    "for num in a:\n",
    "    result.append(num * 3)\n",
    "\n",
    "print(result)"
   ]
  },
  {
   "source": [
    "위의 예제를 List Comprehension을 사용해서 간단히 해결해보자."
   ],
   "cell_type": "markdown",
   "metadata": {}
  },
  {
   "cell_type": "code",
   "execution_count": 18,
   "metadata": {},
   "outputs": [
    {
     "output_type": "stream",
     "name": "stdout",
     "text": [
      "[3, 6, 9, 12]\n"
     ]
    }
   ],
   "source": [
    "a = [1, 2, 3, 4]\n",
    "result = [num * 3 for num in a]\n",
    "print(result)"
   ]
  },
  {
   "source": [
    "만약 \\[1, 2, 3, 4\\] 중에서 짝수에만 3을 곱해서 담고 싶다면 리스트 내포 안에 \"if 조건\"을 사용할 수 있다."
   ],
   "cell_type": "markdown",
   "metadata": {}
  },
  {
   "cell_type": "code",
   "execution_count": 19,
   "metadata": {},
   "outputs": [
    {
     "output_type": "stream",
     "name": "stdout",
     "text": [
      "[6, 12]\n"
     ]
    }
   ],
   "source": [
    "a = [1, 2, 3, 4]\n",
    "result = [num * 3 for num in a if num % 2 == 0]\n",
    "print(result)"
   ]
  },
  {
   "source": [
    "리스트 내포의 일반 문법은 다음과 같다. \"if 조건\" 부분은 생략이 가능하다.\n",
    "> \\[ 표현식 for 항목 in 반복가능객체 if 조건문\\]"
   ],
   "cell_type": "markdown",
   "metadata": {}
  },
  {
   "source": [
    "for문을 2개 이상 리스트 내포로 사용하는 것도 가능하다. 이 때의 문법은 다음과 같다."
   ],
   "cell_type": "markdown",
   "metadata": {}
  },
  {
   "cell_type": "code",
   "execution_count": null,
   "metadata": {},
   "outputs": [],
   "source": [
    "[표현식 for 항목1 in 반복가능객체1 if 조건문1\n",
    "        for 항목2 in 반복가능객체2 if 조건문2\n",
    "        ...\n",
    "        for 항목n in 반복가능객체n if 조건문n]"
   ]
  },
  {
   "source": [
    "만약 구구단의 모든 결과를 리스트에 담고 싶다면 리스트 내포를 사용해서 다음과 같이 구현이 가능하다."
   ],
   "cell_type": "markdown",
   "metadata": {}
  },
  {
   "cell_type": "code",
   "execution_count": 20,
   "metadata": {},
   "outputs": [
    {
     "output_type": "stream",
     "name": "stdout",
     "text": [
      "[1, 2, 3, 4, 5, 6, 7, 8, 9, 2, 4, 6, 8, 10, 12, 14, 16, 18, 3, 6, 9, 12, 15, 18, 21, 24, 27, 4, 8, 12, 16, 20, 24, 28, 32, 36, 5, 10, 15, 20, 25, 30, 35, 40, 45, 6, 12, 18, 24, 30, 36, 42, 48, 54, 7, 14, 21, 28, 35, 42, 49, 56, 63, 8, 16, 24, 32, 40, 48, 56, 64, 72, 9, 18, 27, 36, 45, 54, 63, 72, 81]\n"
     ]
    }
   ],
   "source": [
    "result = [x * y for x in range(1, 10)\n",
    "                for y in range(1, 10)]\n",
    "print(result)"
   ]
  }
 ]
}
