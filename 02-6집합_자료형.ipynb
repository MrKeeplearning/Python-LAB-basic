{
 "metadata": {
  "language_info": {
   "codemirror_mode": {
    "name": "ipython",
    "version": 3
   },
   "file_extension": ".py",
   "mimetype": "text/x-python",
   "name": "python",
   "nbconvert_exporter": "python",
   "pygments_lexer": "ipython3",
   "version": "3.9.1-final"
  },
  "orig_nbformat": 2,
  "kernelspec": {
   "name": "python3",
   "display_name": "Python 3.9.1 64-bit",
   "metadata": {
    "interpreter": {
     "hash": "4d6401091f6de5a385c299b068c1e85516af19a094234475c31f99f1aabe410a"
    }
   }
  }
 },
 "nbformat": 4,
 "nbformat_minor": 2,
 "cells": [
  {
   "source": [
    "# 02-6 집합 자료형\n",
    "## 집합 자료형은 어떻게 만들까?\n",
    "---\n",
    "집합(set)은 파이썬 2.3부터 지원하기 시작한 자료형이고, 집합에 관련된 것들을 쉽게 처리하기 위해 만든 자료형이다.  \n",
    "집합 자료형은 set 키워드로 만들 수 있다."
   ],
   "cell_type": "markdown",
   "metadata": {}
  },
  {
   "cell_type": "code",
   "execution_count": 1,
   "metadata": {},
   "outputs": [
    {
     "output_type": "execute_result",
     "data": {
      "text/plain": [
       "{1, 2, 3}"
      ]
     },
     "metadata": {},
     "execution_count": 1
    }
   ],
   "source": [
    "s1 = set([1,2,3])\n",
    "s1"
   ]
  },
  {
   "source": [
    "위의 예시처럼 set()의 괄호 안에 리스트를 입력하여 만들거나 아래와 같이 문자열을 입력하여 만들 수 있다."
   ],
   "cell_type": "markdown",
   "metadata": {}
  },
  {
   "cell_type": "code",
   "execution_count": 2,
   "metadata": {},
   "outputs": [
    {
     "output_type": "execute_result",
     "data": {
      "text/plain": [
       "{'H', 'e', 'l', 'o'}"
      ]
     },
     "metadata": {},
     "execution_count": 2
    }
   ],
   "source": [
    "s2 = set(\"Hello\")\n",
    "s2"
   ]
  },
  {
   "cell_type": "code",
   "execution_count": 3,
   "metadata": {},
   "outputs": [
    {
     "output_type": "execute_result",
     "data": {
      "text/plain": [
       "set()"
      ]
     },
     "metadata": {},
     "execution_count": 3
    }
   ],
   "source": [
    "# 비어 있는 집합 자료형은 아래와 같이 만들 수 있다.\n",
    "s = set()\n",
    "s"
   ]
  },
  {
   "source": [
    "## 집합 자료형의 특징\n",
    "---\n",
    "위에서 set(\"Hello\")의 결과를 보았을 때 set에는 2가지 큰 특징이 있는 것을 알 수 있다.\n",
    "* 중복을 허용하지 않는다.\n",
    "* 순서가 없다(Unordered).\n",
    "리스트나 튜플은 순서가 있기(ordered) 때문에 인덱싱을 통해 자료형의 값을 얻을 수 있지만, set 자료형은 순서가 없기 때문에 인덱싱으로 값을 얻을 수 없다. 이는 딕셔너리와 비슷한 특징이다. 딕셔너리 역시 unordered 이므로 인덱싱을 지원하지 않는다.  \n",
    "만약 set 자료형에 저장된 값을 인덱싱으로 접근하려면 리스트나 튜플로 변환한 뒤에 해야 한다."
   ],
   "cell_type": "markdown",
   "metadata": {}
  }
 ]
}