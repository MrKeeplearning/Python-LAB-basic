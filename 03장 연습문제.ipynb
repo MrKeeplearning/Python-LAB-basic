{
 "metadata": {
  "language_info": {
   "codemirror_mode": {
    "name": "ipython",
    "version": 3
   },
   "file_extension": ".py",
   "mimetype": "text/x-python",
   "name": "python",
   "nbconvert_exporter": "python",
   "pygments_lexer": "ipython3",
   "version": "3.9.1-final"
  },
  "orig_nbformat": 2,
  "kernelspec": {
   "name": "python3",
   "display_name": "Python 3.9.1 64-bit",
   "metadata": {
    "interpreter": {
     "hash": "4d6401091f6de5a385c299b068c1e85516af19a094234475c31f99f1aabe410a"
    }
   }
  }
 },
 "nbformat": 4,
 "nbformat_minor": 2,
 "cells": [
  {
   "source": [
    "# 03장 연습문제\n",
    "---"
   ],
   "cell_type": "markdown",
   "metadata": {}
  },
  {
   "source": [
    "## Q1\n",
    "---\n",
    "다음 코드의 결괏값은 무엇일까?"
   ],
   "cell_type": "markdown",
   "metadata": {}
  },
  {
   "cell_type": "code",
   "execution_count": 1,
   "metadata": {},
   "outputs": [
    {
     "output_type": "stream",
     "name": "stdout",
     "text": [
      "shirt\n"
     ]
    }
   ],
   "source": [
    "a = \"Life is too short, you need python\"\n",
    "\n",
    "if \"wife\" in a: print(\"wife\")                                   # print nothing\n",
    "elif \"python\" in a and \"you\" not in a: print(\"python\")          # print nothing\n",
    "elif \"shirt\" not in a: print(\"shirt\")                           # print shirt\n",
    "# \"need\"라는 단어가 존재하기 때문에 참이지만 위의 조건을 만족했기 때문에 이미 조건문은 종료됨.\n",
    "elif \"need\" in a: print(\"need\")\n",
    "else: print(\"none\")    "
   ]
  },
  {
   "source": [
    "## Q2\n",
    "---\n",
    "while문을 사용해 1부터 1000까지의 자연수 중 3의 배수의 합을 구해 보자."
   ],
   "cell_type": "markdown",
   "metadata": {}
  },
  {
   "cell_type": "code",
   "execution_count": 2,
   "metadata": {},
   "outputs": [
    {
     "output_type": "stream",
     "name": "stdout",
     "text": [
      "166833\n"
     ]
    }
   ],
   "source": [
    "a = 0\n",
    "i = 0\n",
    "while i <= 1000:\n",
    "    i += 1\n",
    "    if i % 3 == 0:\n",
    "        a += i\n",
    "    else:\n",
    "        continue\n",
    "\n",
    "print(a)"
   ]
  },
  {
   "cell_type": "code",
   "execution_count": 3,
   "metadata": {},
   "outputs": [
    {
     "output_type": "stream",
     "name": "stdout",
     "text": [
      "166833\n"
     ]
    }
   ],
   "source": [
    "# 교재 풀이\n",
    "result = 0\n",
    "i = 1\n",
    "while i <= 1000:\n",
    "    if i % 3 == 0: # 3으로 나누어 떨어지는 수는 3의 배수\n",
    "        result += i\n",
    "    i += 1\n",
    "\n",
    "print(result) # 166833 출력"
   ]
  },
  {
   "source": [
    "교재 풀이가 불필요한 else문을 사용하지 않아 좀 더 간결하게 작성되었다. 따라서 이해하기에 좀 더 편하게 느껴진다."
   ],
   "cell_type": "markdown",
   "metadata": {}
  },
  {
   "source": [
    "\n",
    "## Q3\n",
    "---\n",
    "while문을 사용해서 다음과 같이 별(*)을 표시하는 프로그램을 작성해보자.\n",
    "> \\*  \n",
    "\\**  \n",
    "\\**\\*  \n",
    "\\**\\**  \n",
    "\\**\\**\\*\n",
    "\n"
   ],
   "cell_type": "markdown",
   "metadata": {}
  },
  {
   "cell_type": "code",
   "execution_count": 7,
   "metadata": {},
   "outputs": [
    {
     "output_type": "stream",
     "name": "stdout",
     "text": [
      "*\n**\n***\n****\n*****\n"
     ]
    }
   ],
   "source": [
    "i = 1\n",
    "while i <= 5:\n",
    "    print('*' * i)\n",
    "    i += 1"
   ]
  },
  {
   "source": [
    "* while문을 통해서 i가 5일 때까지 반복하도록 한다.\n",
    "* 첫 별은 1개부터 시작하기 때문에 변수 i는 1로 초기화해준다.\n",
    "* i = 1일 때 while의 조건문에 True이기 때문에 while문의 수행할 문장들을 실행한다.\n",
    "* print('\\*' \\* i)를 통해서 '*'가 i번 반복될 수 있게 한다.\n",
    "* 별찍기 작업을 완료했으면 i를 1만큼 증가시키고 다시 while의 조건문으로 돌아간다. i가 5가 될 때까지 동일한 작업을 반복하고 i가 6이 되면 프로그램을 종료한다."
   ],
   "cell_type": "markdown",
   "metadata": {}
  },
  {
   "cell_type": "code",
   "execution_count": 8,
   "metadata": {},
   "outputs": [
    {
     "output_type": "stream",
     "name": "stdout",
     "text": [
      "*\n**\n***\n****\n*****\n"
     ]
    }
   ],
   "source": [
    "# 교재 풀이\n",
    "i = 0\n",
    "while True:\n",
    "    i += 1 # while문 수행 시 1씩 증가\n",
    "    if i > 5: break     # i 값이 5보다 크면 while문을 벗어난다.\n",
    "    print ('*' * i)     # i 값 개수만큼 *를 출력한다."
   ]
  },
  {
   "source": [
    "* 교재 풀이에서는 while의 조건문으로 True를 두어서 항상 반복하는 형태를 갖추도록 만들었다.\n",
    "* while의 조건을 통과하면 제일 먼저 i를 1만큼 증가시킨다. 내 코드와는 달리 i를 0부터 시작했기 때문이다. 컴퓨터는 숫자를 0부터 시작한다는 점을 생각했을 때 이 쪽이 좀 더 적절한 방법이었다고 생각한다. "
   ],
   "cell_type": "markdown",
   "metadata": {}
  }
 ]
}