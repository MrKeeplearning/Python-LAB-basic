{
 "metadata": {
  "language_info": {
   "codemirror_mode": {
    "name": "ipython",
    "version": 3
   },
   "file_extension": ".py",
   "mimetype": "text/x-python",
   "name": "python",
   "nbconvert_exporter": "python",
   "pygments_lexer": "ipython3",
   "version": "3.9.1-final"
  },
  "orig_nbformat": 2,
  "kernelspec": {
   "name": "python3",
   "display_name": "Python 3.9.1 64-bit",
   "metadata": {
    "interpreter": {
     "hash": "4d6401091f6de5a385c299b068c1e85516af19a094234475c31f99f1aabe410a"
    }
   }
  }
 },
 "nbformat": 4,
 "nbformat_minor": 2,
 "cells": [
  {
   "source": [
    "# 04-1 함수\n",
    "---"
   ],
   "cell_type": "markdown",
   "metadata": {}
  },
  {
   "source": [
    "## 파이썬 함수의 구조\n",
    "---"
   ],
   "cell_type": "markdown",
   "metadata": {}
  },
  {
   "cell_type": "code",
   "execution_count": null,
   "metadata": {},
   "outputs": [],
   "source": [
    "def 함수명(매개변수):\n",
    "    <수행할 문장1>\n",
    "    <수행할 문장2>\n",
    "    ..."
   ]
  },
  {
   "source": [
    "def는 함수를 만들 때 사용하는 예약어이며, 함수 이름은 함수를 만드는 사람이 임의로 만들 수 있다. 함수 이름 뒤 고라호 안의 매개변수는 이 함수에 입력으로 전달되는 값을 받는 변수이다. 이렇게 함수를 정의한 뒤에 if, while, for문 등과 마찬가지로 함수에서 수행할 문장을 입력한다."
   ],
   "cell_type": "markdown",
   "metadata": {}
  },
  {
   "cell_type": "code",
   "execution_count": 1,
   "metadata": {},
   "outputs": [],
   "source": [
    "def add(a, b):\n",
    "    return a + b"
   ]
  },
  {
   "source": [
    "위 함수는 \"이 함수의 이름은 add이고, 입력으로 2개의 값을 받으며 결괏값은 2개의 입력값을 더한 값이다.\"로 해석할 수 있다.  \n",
    "return은 함수의 결괏값을 돌려주는 명령어이다."
   ],
   "cell_type": "markdown",
   "metadata": {}
  },
  {
   "cell_type": "code",
   "execution_count": 2,
   "metadata": {},
   "outputs": [
    {
     "output_type": "stream",
     "name": "stdout",
     "text": [
      "7\n"
     ]
    }
   ],
   "source": [
    "a = 3\n",
    "b = 4\n",
    "c = add(a, b)\n",
    "print(c)"
   ]
  },
  {
   "source": [
    "변수 a에 3, 변수 b에 4를 넣어주고 매개변수를 통해서 함수 add에 전달해주면 변수 c에 add함수의 결과가 저장되고 print 함수로 변수 c에 저장된 값을 보여준다."
   ],
   "cell_type": "markdown",
   "metadata": {}
  },
  {
   "source": [
    "## 매개변수와 인수\n",
    "---\n",
    "매개변수(paprameter)와 인수(arguments)는 혼용해서 사용되는 헷갈리는 용어이므로 잘 기억해 두자. 매개변수는 함수에 입력으로 전달된 값을 받는 변수를 의미하고 인수는 함수를 호출할 때 전달하는 입력값을 의미한다. 다음 예시를 보고 매개변수와 인수의 차이점에 대해서 이해해보자."
   ],
   "cell_type": "markdown",
   "metadata": {}
  },
  {
   "cell_type": "code",
   "execution_count": 1,
   "metadata": {},
   "outputs": [
    {
     "output_type": "stream",
     "name": "stdout",
     "text": [
      "7\n"
     ]
    }
   ],
   "source": [
    "def add(a, b):      # a, b는 매개변수.\n",
    "    return a + b\n",
    "\n",
    "print(add(3, 4))    # 3, 4는 add 함수를 호출할 때 전달하는 입력값인 인수."
   ]
  },
  {
   "source": [
    "## 입력값과 결괏값에 따른 함수의 형태\n",
    "---\n",
    "함수는 들어온 입력값을 받아 어떤 처리를 하여 적절한 결괏값을 돌려준다.  \n",
    "함수의 형태는 입력값과 결괏값의 존재 유무에 따라서 4가지 유형으로 나누어진다."
   ],
   "cell_type": "markdown",
   "metadata": {}
  },
  {
   "source": [
    "### 1. 일반적인 함수\n",
    "입력값이 있고 결괏값이 있는 함수가 일반적인 함수이다. 프로그래밍을 할 때 작성되는 대다수의 함수에 해당하며 그 형태는 다음과 같다."
   ],
   "cell_type": "markdown",
   "metadata": {}
  },
  {
   "cell_type": "code",
   "execution_count": null,
   "metadata": {},
   "outputs": [],
   "source": [
    "def 함수이름(매개변수):\n",
    "    <수행할 문장>\n",
    "    ...\n",
    "    return 결과값"
   ]
  },
  {
   "cell_type": "code",
   "execution_count": 2,
   "metadata": {},
   "outputs": [],
   "source": [
    "def add(a, b):\n",
    "    result = a + b\n",
    "    return result"
   ]
  },
  {
   "source": [
    "위의 예시로 다룬 add함수는 2개의 입력값을 받아서 서로 더한 결괏값을 돌려준다.  \n",
    "입력값, 즉 매개변수로 3과 4를 주고 결괏값을 돌려받아보자."
   ],
   "cell_type": "markdown",
   "metadata": {}
  },
  {
   "cell_type": "code",
   "execution_count": 3,
   "metadata": {},
   "outputs": [
    {
     "output_type": "stream",
     "name": "stdout",
     "text": [
      "7\n"
     ]
    }
   ],
   "source": [
    "a = add(3, 4)\n",
    "print(a)"
   ]
  },
  {
   "source": [
    "입력값과 결괏값이 있는 함수의 사용법을 정리하면 다음과 같다.\n",
    "> 결괏값을 받을 변수 = 함수이름(입력인수1, 입력인수2, ...)"
   ],
   "cell_type": "markdown",
   "metadata": {}
  },
  {
   "source": [
    "### 2. 입력값이 없는 함수"
   ],
   "cell_type": "markdown",
   "metadata": {}
  },
  {
   "cell_type": "code",
   "execution_count": 5,
   "metadata": {},
   "outputs": [],
   "source": [
    "def say():\n",
    "    return 'Hi'"
   ]
  },
  {
   "source": [
    "예시로 만든 say라는 함수는 매개변수가 존재하지 않는다."
   ],
   "cell_type": "markdown",
   "metadata": {}
  },
  {
   "cell_type": "code",
   "execution_count": 7,
   "metadata": {},
   "outputs": [
    {
     "output_type": "stream",
     "name": "stdout",
     "text": [
      "Hi\n"
     ]
    }
   ],
   "source": [
    "a = say()\n",
    "print(a)"
   ]
  },
  {
   "source": [
    "이와 같이 매개변수가 없는 함수는 괄호 안에 아무 값도 넣지 않아야 한다. 입력값은 없지만 결괏값으로 Hi 라는 문자열을 돌려준다.  \n",
    "a = say() 처럼 작성하면 변수 a에 Hi 문자열이 대입되는 것이다. 입력값이 없고 결괏값만 존재하는 함수는 다음과 같이 사용된다.\n",
    "> 결괏값을 받을 변수 = 함수이름()"
   ],
   "cell_type": "markdown",
   "metadata": {}
  },
  {
   "source": [
    "### 3. 결괏값이 없는 함수"
   ],
   "cell_type": "markdown",
   "metadata": {}
  },
  {
   "cell_type": "code",
   "execution_count": 8,
   "metadata": {},
   "outputs": [],
   "source": [
    "def add(a,b):\n",
    "    print(\"%d, %d의 합은 %d입니다.\" %(a, b, a+b))"
   ]
  },
  {
   "source": [
    "결괏값이 없는 함수는 호출해도 돌려주는 값이 없기 때문에 다음과 같이 사용한다."
   ],
   "cell_type": "markdown",
   "metadata": {}
  },
  {
   "cell_type": "code",
   "execution_count": 10,
   "metadata": {},
   "outputs": [
    {
     "output_type": "stream",
     "name": "stdout",
     "text": [
      "3, 4의 합은 7입니다.\n"
     ]
    }
   ],
   "source": [
    "add(3, 4)"
   ]
  },
  {
   "source": [
    "결괏값이 없는 함수는 다음과 같이 사용한다.\n",
    "> 함수이름(입력인수1, 입력인수2, ...)"
   ],
   "cell_type": "markdown",
   "metadata": {}
  },
  {
   "source": [
    "그런데, 의아한 부분이 하나 있다. '3, 4의 합은 7입니다.'라는 문장을 출력했는데 왜 결괏값이 없다고 하는 것일까?  \n",
    "<br>\n",
    "print문은 함수의 구성 요소 중 하나인 <수행할 문장>에 해당하는 부분일 뿐이다. 따라서 결괏값은 당연히 없다. 결괏값은 오직 return 명령어로만 돌려받을 수 있다.  \n",
    "정말로 결괏값이 있는지 없는지 확인해보자."
   ],
   "cell_type": "markdown",
   "metadata": {}
  },
  {
   "cell_type": "code",
   "execution_count": 11,
   "metadata": {},
   "outputs": [
    {
     "output_type": "stream",
     "name": "stdout",
     "text": [
      "3, 4의 합은 7입니다.\nNone\n"
     ]
    }
   ],
   "source": [
    "a = add(3, 4)\n",
    "print(a)"
   ]
  },
  {
   "source": [
    "a 값은 None이다. None이란 거짓을 나타내는 자료형이라고 언급한 적이 있다. add 함수처럼 결괏값이 없을 때 a = add(3, 4) 처럼 쓰면 함수 add는 반환 값으로 a 변수에 None을 돌려준다. 이것을 가지고 결괏값이 있다고 생각하면 곤란하다."
   ],
   "cell_type": "markdown",
   "metadata": {}
  },
  {
   "source": [
    "### 4. 입력값도 결괏값도 없는 함수"
   ],
   "cell_type": "markdown",
   "metadata": {}
  },
  {
   "cell_type": "code",
   "execution_count": 12,
   "metadata": {},
   "outputs": [],
   "source": [
    "def say():\n",
    "    print('Hi')"
   ]
  },
  {
   "cell_type": "code",
   "execution_count": 14,
   "metadata": {},
   "outputs": [
    {
     "output_type": "stream",
     "name": "stdout",
     "text": [
      "Hi\n"
     ]
    }
   ],
   "source": [
    "say()"
   ]
  },
  {
   "source": [
    "입력 인수를 받는 매개변수도 없고 return문도 없는 이러한 함수는 위와 같이 함수이름만 호출하여 사용한다.\n",
    "> 함수이름()"
   ],
   "cell_type": "markdown",
   "metadata": {}
  },
  {
   "source": [
    "## 매개변수 지정하여 호출하기\n",
    "---\n",
    "함수출 호출할 때 매개변수를 지정할 수도 있다. 예시를 보면서 이해해보자."
   ],
   "cell_type": "markdown",
   "metadata": {}
  },
  {
   "cell_type": "code",
   "execution_count": 15,
   "metadata": {},
   "outputs": [
    {
     "output_type": "stream",
     "name": "stdout",
     "text": [
      "10\n"
     ]
    }
   ],
   "source": [
    "def add(a, b):\n",
    "    return a+b\n",
    "\n",
    "result = add(a = 3, b = 7)      # a에 3, b에 7을 전달(매개변수를 지정)\n",
    "print(result)"
   ]
  },
  {
   "source": [
    "매개변수를 지정하면 다음과 같이 순서에 상관없이 사용할 수 있다는 장점이 있다."
   ],
   "cell_type": "markdown",
   "metadata": {}
  },
  {
   "cell_type": "code",
   "execution_count": 16,
   "metadata": {},
   "outputs": [
    {
     "output_type": "stream",
     "name": "stdout",
     "text": [
      "8\n"
     ]
    }
   ],
   "source": [
    "result = add(b = 5, a = 3)\n",
    "print(result)"
   ]
  },
  {
   "source": [
    "입력값이 몇 개가 될지 모를 때는 어떻게 해야 할까?\n",
    "---\n",
    "입력값이 여러 개일 때 그 입력값을 모두 더해 주는 함수가 있다고 해보자. 몇 개가 입력될지 모를 때는 어떻게 해야할까? 이러한 문제를 해결하기 위해서 파이썬은 다음과 같은 방법을 제공한다."
   ],
   "cell_type": "markdown",
   "metadata": {}
  },
  {
   "cell_type": "code",
   "execution_count": null,
   "metadata": {},
   "outputs": [],
   "source": [
    "def 함수이름(*매개변수):\n",
    "    <수행할 문장>\n",
    "    ..."
   ]
  },
  {
   "source": [
    "일반적으로 볼 수 있는 함수 형태에서 괄호 안의 매개변수 부분이 '\\*매개변수' 로 바뀌었다."
   ],
   "cell_type": "markdown",
   "metadata": {}
  },
  {
   "source": [
    "### <여러 개의 입력값을 받는 함수 만들기>\n",
    "여러 개의 입력값을 모두 더하는 함수를 직접 만들어 보자. 예를 들어 add_many(1, 2)이면 3을, add_many(1,2,3)이면 6을, add_many(1, 2, 3, 4, 5, 6, 7, 8, 9, 10)이면 55를 돌려준다."
   ],
   "cell_type": "markdown",
   "metadata": {}
  },
  {
   "cell_type": "code",
   "execution_count": 17,
   "metadata": {},
   "outputs": [],
   "source": [
    "def add_many(*args):\n",
    "    result = 0\n",
    "    for i in args:\n",
    "        result = result + i\n",
    "    return result"
   ]
  },
  {
   "source": [
    "add_many 함수는 입력값이 몇 개이든 상관 없다. \\*args 처럼 매개변수 이름 앞에 '\\*'을 붙이면 입력값을 전부 모아서 튜플로 만들어 주기 때문이다. 만약 add_many(1, 2, 3)처럼 이 함수를 쓰면 args는 (1, 2, 3)이 되고, add_many(1, 2, 3, 4, 5, 6, 7, 8, 9, 10)처럼 쓰면 args는 (1, 2, 3, 4, 5, 6, 7, 8, 9, 10)이 된다.  \n",
    "여기서 \\*args는 임의로 정한 변수 이름이다. args가 매개변수를 뜻하는 영어 단어 arguments의 약자이고 관례적으로 자주 사용하기 때문에 사용한 것일 뿐이다. args 외에 다른 이름을 사용해도 무방하다."
   ],
   "cell_type": "markdown",
   "metadata": {}
  },
  {
   "cell_type": "code",
   "execution_count": 18,
   "metadata": {},
   "outputs": [
    {
     "output_type": "stream",
     "name": "stdout",
     "text": [
      "6\n"
     ]
    }
   ],
   "source": [
    "result = add_many(1, 2, 3)\n",
    "print(result)"
   ]
  },
  {
   "cell_type": "code",
   "execution_count": 19,
   "metadata": {},
   "outputs": [
    {
     "output_type": "stream",
     "name": "stdout",
     "text": [
      "55\n"
     ]
    }
   ],
   "source": [
    "result = add_many(1, 2, 3, 4, 5, 6, 7, 8, 9, 10)\n",
    "print(result)"
   ]
  },
  {
   "source": [
    "여러 개의 입력을 처리할 때 def add_many(\\*args)처럼 함수의 매개변수로 \\*args만 사용할 수 있는 것은 아니다. 다음 예를 확인해보자."
   ],
   "cell_type": "markdown",
   "metadata": {}
  },
  {
   "cell_type": "code",
   "execution_count": 21,
   "metadata": {},
   "outputs": [],
   "source": [
    "def add_mul(choice, *args):\n",
    "    if choice == \"add\":\n",
    "        result = 0\n",
    "        for i in args:\n",
    "            result = result + i\n",
    "    elif choice == \"mul\":\n",
    "        result = 1\n",
    "        for i in args:\n",
    "            result = result * i\n",
    "    return result"
   ]
  },
  {
   "source": [
    "매개변수 choice에 'add'가 입력된 경우 \\*args에 입력되는 모든 값을 더해서 15를 돌려주고, 'mul'이 입력된 경우 \\*args에 입력되는 모든 값을 곱해서 120을 돌려준다.  \n",
    "참고로 변수 result를 두 번 0과 1로 초기화한 것은 'add'와 같이 더할 때는 result가 0부터 시작해도 문제가 없지만, 'mul'은 곱하는 것이기 때문에 초기값을 0으로 두면 계속 0이 되기 때문에 초기값으로 1을 둔 것이다."
   ],
   "cell_type": "markdown",
   "metadata": {}
  },
  {
   "cell_type": "code",
   "execution_count": 22,
   "metadata": {},
   "outputs": [
    {
     "output_type": "stream",
     "name": "stdout",
     "text": [
      "15\n"
     ]
    }
   ],
   "source": [
    "result = add_mul('add', 1,2,3,4,5)\n",
    "print(result)"
   ]
  },
  {
   "cell_type": "code",
   "execution_count": 24,
   "metadata": {},
   "outputs": [
    {
     "output_type": "stream",
     "name": "stdout",
     "text": [
      "120\n"
     ]
    }
   ],
   "source": [
    "result = add_mul('mul', 1,2,3,4,5)\n",
    "print(result)"
   ]
  },
  {
   "source": [
    "### <키워드 파리미터 kwargs>\n",
    "키워드 파리미터를 사용할 때는 매개변수 앞에 별 두 개(\\**)를 붙인다. 예제를 통해서 알아보자."
   ],
   "cell_type": "markdown",
   "metadata": {}
  },
  {
   "cell_type": "code",
   "execution_count": 25,
   "metadata": {},
   "outputs": [],
   "source": [
    "def print_kwargs(**kwargs):\n",
    "    print(kwargs)"
   ]
  },
  {
   "source": [
    "print_kwargs 함수는 매개변수 kwargs를 출력하는 함수이다."
   ],
   "cell_type": "markdown",
   "metadata": {}
  },
  {
   "cell_type": "code",
   "execution_count": 26,
   "metadata": {},
   "outputs": [
    {
     "output_type": "stream",
     "name": "stdout",
     "text": [
      "{'a': 1}\n"
     ]
    }
   ],
   "source": [
    "print_kwargs(a=1)"
   ]
  },
  {
   "cell_type": "code",
   "execution_count": 27,
   "metadata": {},
   "outputs": [
    {
     "output_type": "stream",
     "name": "stdout",
     "text": [
      "{'name': 'foo', 'age': 3}\n"
     ]
    }
   ],
   "source": [
    "print_kwargs(name = 'foo', age = 3)"
   ]
  },
  {
   "source": [
    "입력값 'a = 1' 또는 'name = 'foo', age = 3'이 모두 딕셔너리로 만들어져서 출력된다는 것을 확인할 수 있다. 즉, \\**kwargs 처럼 매개변수 이름 앞에 \\** 을 붙이면 매개변수 kwargs는 딕셔너리가 되고 모든 key = value 형태의 결괏값이 그 딕셔너리에 저장된다."
   ],
   "cell_type": "markdown",
   "metadata": {}
  },
  {
   "source": [
    "## 함수의 결괏값은 언제나 하나이다.\n",
    "---"
   ],
   "cell_type": "markdown",
   "metadata": {}
  },
  {
   "cell_type": "code",
   "execution_count": 30,
   "metadata": {},
   "outputs": [
    {
     "output_type": "execute_result",
     "data": {
      "text/plain": [
       "(7, 12)"
      ]
     },
     "metadata": {},
     "execution_count": 30
    }
   ],
   "source": [
    "def add_and_mul(a, b):\n",
    "    return a+b, a*b\n",
    "\n",
    "result = add_and_mul(3, 4)\n",
    "result"
   ]
  },
  {
   "source": [
    "add_and_mul 함수는 2개의 입력 인수를 받아서 더한 값과 곱한 값을 돌려주는 함수이다. 결괏값은 a+b와 a\\*b 2개인데 결괏값을 받을 변수는 result 하나만 사용되어서 오류가 발생할 것 같다. 그러나 오류는 발생하지 않는다. 그 이유는 함수의 결괏값은 2개가 아니라 언제나 1개라는 점에 있다. 따라서, add_and_mul 함수의 결괏값 a+b와 a\\*b는 튜플값 하나인 (a+b, a\\*b) 로 돌려준다.  \n",
    "<br>\n",
    "만약 하나의 튜플 값을 2개의 결괏값처럼 받고 싶다면 다음과 같이 함수를 호출하면 된다."
   ],
   "cell_type": "markdown",
   "metadata": {}
  },
  {
   "cell_type": "code",
   "execution_count": 33,
   "metadata": {},
   "outputs": [
    {
     "output_type": "execute_result",
     "data": {
      "text/plain": [
       "(7, 12)"
      ]
     },
     "metadata": {},
     "execution_count": 33
    }
   ],
   "source": [
    "result1, result2 = add_and_mul(3, 4)\n",
    "result1, result2"
   ]
  },
  {
   "cell_type": "code",
   "execution_count": 34,
   "metadata": {},
   "outputs": [
    {
     "output_type": "stream",
     "name": "stdout",
     "text": [
      "7\n12\n"
     ]
    }
   ],
   "source": [
    "print(result1)\n",
    "print(result2)"
   ]
  },
  {
   "source": [
    "### \\[return의 또 다른 쓰임새\\]\n",
    "특별한 상황일 때 함수를 빠져나가고 싶다면 return을 단독으로 사용해서 함수를 즉시 빠져나갈 수 있다."
   ],
   "cell_type": "markdown",
   "metadata": {}
  },
  {
   "cell_type": "code",
   "execution_count": 40,
   "metadata": {},
   "outputs": [
    {
     "output_type": "stream",
     "name": "stdout",
     "text": [
      "나의 별명은 야호입니다.\n"
     ]
    }
   ],
   "source": [
    "def say_nick(nick):\n",
    "    if nick == \"바보\":\n",
    "        return\n",
    "    print(\"나의 별명은 %s입니다.\" %nick)\n",
    "\n",
    "say_nick('바보')\n",
    "say_nick('야호')"
   ]
  },
  {
   "source": [
    "위 함수는 '별명'을 입력으로 전달받아 출력하는 함수이다. 이 함수는 반환 값(결괏값)은 없다.  \n",
    "**문자열을 출력한다는 것과 반환 값이 없다는 것은 전혀 다른 말이기 때문에 혼동하지 말자! 함수의 반환 값은 오직 return문에 의해서만 생성된다.**  \n",
    "<br>\n",
    "만약 입력값으로 '바보'라는 값이 들어오면 문자열을 출력하지 않고 함수를 즉시 빠져나간다."
   ],
   "cell_type": "markdown",
   "metadata": {}
  },
  {
   "source": [
    "## 매개변수에 초깃값 미리 설정하기\n",
    "---\n",
    "아래의 say_myself 함수는 3개의 매개변수를 받아서 마지막 인수인 man이 True이면 \"남자입니다.\", False이면 \"여자입니다.\"를 출력한다."
   ],
   "cell_type": "markdown",
   "metadata": {}
  },
  {
   "cell_type": "code",
   "execution_count": 41,
   "metadata": {},
   "outputs": [],
   "source": [
    "def say_myself(name, old, man = True):\n",
    "    print(\"나의 이름은 %s입니다.\" %name)\n",
    "    print(\"나이는 %d살입니다.\" %old)\n",
    "    if man:\n",
    "        print(\"남자입니다.\")\n",
    "    else:\n",
    "        print(\"여자입니다.\")"
   ]
  },
  {
   "source": [
    "위 함수를 보면 매개변수가 name, old, man=True 이렇게 3개이다. 그런데 man=True 의 경우 미리 값을 매개변수에 넣어주었다.  \n",
    "이것이 바로함수의 매개변수 초깃값을 미리 설정하는 방법이다. 함수의 매개변수에 들어갈 값이 항상 변하는 것이 아닐 경우에는 이렇게 함수의 초깃값을 미리 설정해두면 유용하다."
   ],
   "cell_type": "markdown",
   "metadata": {}
  },
  {
   "cell_type": "code",
   "execution_count": 45,
   "metadata": {},
   "outputs": [
    {
     "output_type": "stream",
     "name": "stdout",
     "text": [
      "나의 이름은 홍길동입니다.\n나이는 25살입니다.\n남자입니다.\n\n나의 이름은 김수진입니다.\n나이는 25살입니다.\n여자입니다.\n"
     ]
    }
   ],
   "source": [
    "say_myself(\"홍길동\", 25)\n",
    "print(\"\")\n",
    "say_myself(\"김수진\", 25, False)"
   ]
  },
  {
   "source": [
    "입력값으로 \"홍길동\", 25처럼 2개를 주면 name에는 \"홍길동'이 old에는 25이 대입된다. 그리고 man 변수에는 입력값을 주지 않았지만 초깃값으로 True를 설정해두었기 때문에 \"남자입니다.\"가 선택되어 출력된다.  \n",
    "반면, man변수에 False를 전달했을 때는 \"여자입니다.\"를 출력한다.  \n",
    "\n",
    "<br>함수의 매개변수에 초깃값을 설정할 때 주의할 것이 있는데 초깃값을 설정한 변수의 위치이다. 위에서 다룬 예제에서 초깃값을 설정한 변수의 위치를 조금 변경해보았다."
   ],
   "cell_type": "markdown",
   "metadata": {}
  },
  {
   "cell_type": "code",
   "execution_count": null,
   "metadata": {},
   "outputs": [],
   "source": [
    "def say_myself(name, man = True, old):\n",
    "    print(\"나의 이름은 %s입니다.\" %name)\n",
    "    print(\"나이는 %d살입니다.\" %old)\n",
    "    if man:\n",
    "        print(\"남자입니다.\")\n",
    "    else:\n",
    "        print(\"여자입니다.\")"
   ]
  },
  {
   "source": [
    "위 함수를 호출할 때 남자인 경우를 출력하고 싶다면 다음과 같이 하면 될 것이라고 쉽게 생각할 수 있다.\n",
    "> say_myself(\"홍길동\", 25)"
   ],
   "cell_type": "markdown",
   "metadata": {}
  },
  {
   "source": [
    "그러나 위와 같은 호출 방법은 name 변수에는 정상적으로 \"홍길동\"이 들어가게 되지만 그 이후에 문제가 발생한다.  \n",
    "파이썬 인터프리터는 25을 man 변수와 old 변수 중 어느 곳에 대입해야 할지 알 수가 없다. 그래서 위의 프로그램을 실행시키면 오류를 발생시킨다."
   ],
   "cell_type": "markdown",
   "metadata": {}
  },
  {
   "cell_type": "code",
   "execution_count": 48,
   "metadata": {},
   "outputs": [
    {
     "output_type": "error",
     "ename": "SyntaxError",
     "evalue": "non-default argument follows default argument (<ipython-input-48-7ccc79ffe917>, line 1)",
     "traceback": [
      "\u001b[1;36m  File \u001b[1;32m\"<ipython-input-48-7ccc79ffe917>\"\u001b[1;36m, line \u001b[1;32m1\u001b[0m\n\u001b[1;33m    def say_myself(name, man = True, old):\u001b[0m\n\u001b[1;37m                                        ^\u001b[0m\n\u001b[1;31mSyntaxError\u001b[0m\u001b[1;31m:\u001b[0m non-default argument follows default argument\n"
     ]
    }
   ],
   "source": [
    "def say_myself(name, man = True, old):\n",
    "    print(\"나의 이름은 %s입니다.\" %name)\n",
    "    print(\"나이는 %d살입니다.\" %old)\n",
    "    if man:\n",
    "        print(\"남자입니다.\")\n",
    "    else:\n",
    "        print(\"여자입니다.\")"
   ]
  },
  {
   "source": [
    "초깃값을 설정해 놓지 않은 매개변수가 초깃값을 설정한 매개변수 뒤에 오기 때문에 SyntaxError가 발생했다고 알려준다.  \n",
    "<br>\n",
    "초기화시키고 싶은 매개변수는 항상 뒤쪽에 배치하는 것이다. 즉 매개변수로 (name, old, man=True)는 되지만 (name, man=True, old)는 안된다."
   ],
   "cell_type": "markdown",
   "metadata": {}
  },
  {
   "source": [
    "## 함수 안에서 선언한 변수의 효력 범위\n",
    "---\n",
    "함수 안에서 사용할 변수의 이름을 함수 밖에서도 동일하게 사용한다면 어떻게 될까?"
   ],
   "cell_type": "markdown",
   "metadata": {}
  },
  {
   "cell_type": "code",
   "execution_count": 54,
   "metadata": {},
   "outputs": [
    {
     "output_type": "stream",
     "name": "stdout",
     "text": [
      "1\n"
     ]
    }
   ],
   "source": [
    "a = 1\n",
    "def vartest(a):\n",
    "    a = a + 1\n",
    "\n",
    "vartest(a)\n",
    "print(a)"
   ]
  },
  {
   "source": [
    "vartest 함수에서 매개변수 a의 값에 1을 더했으니까 2가 출력될 것 같지만 결괏값은 1이 나온다. 왜냐하면 함수 안에서 새로 만든 매개변수는 함수 안에서만 사용하는 \"함수만의 변수\"이기 때문이다. 즉, def vartest(a)에서 입력값을 전달받는 매개변수 a는 함수 안에서만 사용하는 변수이지 함수 밖의 변수 a가 아니라는 것이다.  \n",
    "<br>\n",
    "이러한 이유로 vartest 함수는 다음처럼 변수 이름을 hello로 한 vartest 함수와 완전히 동일하다."
   ],
   "cell_type": "markdown",
   "metadata": {}
  },
  {
   "cell_type": "code",
   "execution_count": 55,
   "metadata": {},
   "outputs": [],
   "source": [
    "def vartest(hello):\n",
    "    hello = hello + 1"
   ]
  },
  {
   "source": [
    "**함수 안에서 사용하는 매개변수는 함수 밖의 변수 이름과는 전혀 상관이 없다!**"
   ],
   "cell_type": "markdown",
   "metadata": {}
  },
  {
   "cell_type": "code",
   "execution_count": null,
   "metadata": {},
   "outputs": [],
   "source": [
    "def vartest(a):\n",
    "    a = a + 1\n",
    "\n",
    "vartest(3)\n",
    "print(a)"
   ]
  },
  {
   "source": [
    "위 프로그램을 실행하면 vartest(3)를 수행했을 때 vartest 함수 안에서 a는 4가 되지만 함수를 호출하고 난 뒤에 print(a) 문장은 오류가 발생하게 된다. 왜냐하면 print(a)에서 입력받아야 하는 a 변수를 어디에서도 찾을 수 없기 때문이다.  \n",
    "**함수 안에서 선언한 매개변수는 함수 안에서만 사용될 뿐 함수 밖에서는 사용되지 않는다.**"
   ],
   "cell_type": "markdown",
   "metadata": {}
  },
  {
   "source": [
    "## 함수 안에서 함수 밖의 변수를 변경하는 방법\n",
    "---\n",
    "vartest라는 함수를 사용해서 함수 밖의 변수 a를 1만큼 증가시킬 수 있는 방법은 없을까?\n",
    "\n",
    "### 1. return 사용하기"
   ],
   "cell_type": "markdown",
   "metadata": {}
  },
  {
   "cell_type": "code",
   "execution_count": 82,
   "metadata": {},
   "outputs": [
    {
     "output_type": "stream",
     "name": "stdout",
     "text": [
      "1\n2\n"
     ]
    }
   ],
   "source": [
    "a = 1\n",
    "def vartest(a):\n",
    "    a = a + 1\n",
    "    return a\n",
    "\n",
    "a = vartest(a)\n",
    "print(a)"
   ]
  },
  {
   "source": [
    "vartest 함수는 입력으로 들어온 값에 1을 더한값을 돌려준다. 따라서 a = vartest(a)라고 대입하면 a가 vartest 함수의 결괏값으로 바뀐다. 여기에서도 물론 vartest 함수 안의 a 매개변수는 함수 밖의 a와는 다른 것이다."
   ],
   "cell_type": "markdown",
   "metadata": {}
  },
  {
   "source": [
    "### 2. global 명령어 사용하기"
   ],
   "cell_type": "markdown",
   "metadata": {}
  },
  {
   "cell_type": "code",
   "execution_count": 81,
   "metadata": {},
   "outputs": [
    {
     "output_type": "stream",
     "name": "stdout",
     "text": [
      "2\n"
     ]
    }
   ],
   "source": [
    "a = 1\n",
    "def vartest():\n",
    "    global a\n",
    "    a = a + 1\n",
    "\n",
    "vartest()\n",
    "print(a)"
   ]
  },
  {
   "source": [
    "vartest 함수 안의 global a 문장은 함수 안에서 함수 밖의 a 변수를 직접 사용하겠다는 뜻이다. 하지만 프로그래밍을 할 때 global 명령어는 사용하지 않는 것이 좋다. 왜냐하면 함수는 독립적으로 존재하는 것이 좋기 때문이다. 외부 변수에 종속적인 함수는 그다지 좋은 함수가 아니다. 그러므로 가급적 global 명령어를 사용하는 방법은 지양하고 return을 사용하는 쪽을 지향하자."
   ],
   "cell_type": "markdown",
   "metadata": {}
  },
  {
   "source": [
    "## lambda\n",
    "---\n",
    "lambda는 함수를 생성할 때 사용하는 예약어로 def와 동일한 역할을 한다. 보통 함수를 한 줄로 간결하게 만들 때 사용한다. def를 사용해야 할 정도로 복잡하지 않거나 def를 사용할 수 없는 곳에 주로 사용한다. 사용법은 다음과 같다.\n",
    "> lambda 매개변수1, 매개변수2, ... : 매개변수를 이용한 표현식"
   ],
   "cell_type": "markdown",
   "metadata": {}
  },
  {
   "cell_type": "code",
   "execution_count": 84,
   "metadata": {},
   "outputs": [
    {
     "output_type": "stream",
     "name": "stdout",
     "text": [
      "7\n"
     ]
    }
   ],
   "source": [
    "add = lambda a, b: a+b\n",
    "result = add(3, 4)\n",
    "print(result)"
   ]
  },
  {
   "source": [
    "위의 lambda 예시에서 add는 두 개의 인수를 받아 서로 더한 값을 return 해주는 lambda 함수이다. def를 사용한 함수와 완전히 동일하게 기능한다.  \n",
    "참고로 lambda 예약어로 만든 함수는 return 명령어가 없어도 결괏값을 돌려준다."
   ],
   "cell_type": "markdown",
   "metadata": {}
  },
  {
   "cell_type": "code",
   "execution_count": 85,
   "metadata": {},
   "outputs": [
    {
     "output_type": "stream",
     "name": "stdout",
     "text": [
      "7\n"
     ]
    }
   ],
   "source": [
    "# lambda 예시와 동일하게 작동한다.\n",
    "def add(a, b):\n",
    "    return a+b \n",
    "\n",
    "result = add(3, 4)\n",
    "print(result)"
   ]
  }
 ]
}
