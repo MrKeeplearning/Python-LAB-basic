{
 "metadata": {
  "language_info": {
   "codemirror_mode": {
    "name": "ipython",
    "version": 3
   },
   "file_extension": ".py",
   "mimetype": "text/x-python",
   "name": "python",
   "nbconvert_exporter": "python",
   "pygments_lexer": "ipython3",
   "version": "3.9.1-final"
  },
  "orig_nbformat": 2,
  "kernelspec": {
   "name": "python3",
   "display_name": "Python 3.9.1 64-bit",
   "metadata": {
    "interpreter": {
     "hash": "4d6401091f6de5a385c299b068c1e85516af19a094234475c31f99f1aabe410a"
    }
   }
  }
 },
 "nbformat": 4,
 "nbformat_minor": 2,
 "cells": [
  {
   "source": [
    "# 04장 연습문제\n",
    "---"
   ],
   "cell_type": "markdown",
   "metadata": {}
  },
  {
   "source": [
    "## Q1\n",
    "---\n",
    "주어진 자연수가 홀수인지 짝수인지 판별해주는 함수(is_odd)를 작성해 보자."
   ],
   "cell_type": "markdown",
   "metadata": {}
  },
  {
   "cell_type": "code",
   "execution_count": 80,
   "metadata": {},
   "outputs": [
    {
     "output_type": "stream",
     "name": "stdout",
     "text": [
      "even\n"
     ]
    }
   ],
   "source": [
    "num = int(input())\n",
    "def is_odd(num):\n",
    "    if num == 0:\n",
    "        return \"zero\"\n",
    "    elif num % 2 == 0:\n",
    "        return \"even\"\n",
    "    else:\n",
    "        return \"odd\"\n",
    "\n",
    "print(is_odd(num))"
   ]
  },
  {
   "source": [
    "`input()`은 기본적으로 입력받는 값을 문자열로 받아들인다. 따라서 int 형으로 형변환을 반드시 해주어야 조건문에서 비교를 했을 때 정상적으로 비교가 가능하다."
   ],
   "cell_type": "markdown",
   "metadata": {}
  },
  {
   "source": [
    "## Q2\n",
    "---\n",
    "입력으로 들어오는 모든 수의 평균 값을 계산해 주는 함수를 작성해보자. (단 입력으로 들어오는 수의 개수는 정해져 있지 않다.)\n",
    "> 평균 값을 구할 때 len 함수를 사용해보자."
   ],
   "cell_type": "markdown",
   "metadata": {}
  },
  {
   "cell_type": "code",
   "execution_count": 1,
   "metadata": {},
   "outputs": [],
   "source": [
    "def avg(*args):\n",
    "    total = 0\n",
    "    for i in args:\n",
    "        total += i\n",
    "    result = total / len(args)\n",
    "    return result"
   ]
  },
  {
   "cell_type": "code",
   "execution_count": 3,
   "metadata": {},
   "outputs": [
    {
     "output_type": "execute_result",
     "data": {
      "text/plain": [
       "2.0"
      ]
     },
     "metadata": {},
     "execution_count": 3
    }
   ],
   "source": [
    "avg(1,2,3)"
   ]
  },
  {
   "source": [
    "## Q3\n",
    "---\n",
    "다음은 두 개의 숫자를 입력받아 더하여 돌려주는 프로그램이다."
   ],
   "cell_type": "markdown",
   "metadata": {}
  },
  {
   "cell_type": "code",
   "execution_count": 6,
   "metadata": {},
   "outputs": [
    {
     "output_type": "stream",
     "name": "stdout",
     "text": [
      "두 수의 합은 36입니다.\n"
     ]
    }
   ],
   "source": [
    "input1 = input(\"첫 번째 숫자를 입력하세요: \")\n",
    "input2 = input(\"두 번째 숫자를 입력하세요: \")\n",
    "total = input1 + input2\n",
    "print(\"두 수의 합은 %s입니다.\" % total)"
   ]
  },
  {
   "source": [
    "3과 6을 입력했을 때 9가 아닌 36이라는 결괏값을 돌려주었다. 이 프로그램의 오류를 수정해보자.\n",
    "> int 함수를 사용해보자."
   ],
   "cell_type": "markdown",
   "metadata": {}
  },
  {
   "source": [
    "앞서 사용자의 입력에 대해서 배울 때 사용자가 입력한 값을 어떤 변수에 대입하고 싶을 때는 input()을 사용한다고 배웠다. 그런데, 이 input은 입력되는 모든 것을 문자열로 취급한다. 따라서 위에서 input1과 input2에 대입된 입력값은 숫자를 입력했을지라도 컴퓨터는 문자열로 받아들인 것이다. 이러한 이유로 total = input1 + input2는 두 개의 문자열을 연결하는 작업을 수행한 것이고 따라서 36이라는 결과가 나온 것이다. 그리고 눈치가 빨랐다면 마지막 print문에서도 힌트를 얻을 수 있다. input1과 input2가 정수였다면 포매팅한 곳의 포맷코드가 %s가 아니라 %d가 왔어야 한다.  \n",
    "<br>\n",
    "이러한 문제를 해결하기 위해서는 형변환이 필요하다. int()를 사용해서 문자열을 정수로 변환시켜주자."
   ],
   "cell_type": "markdown",
   "metadata": {}
  },
  {
   "cell_type": "code",
   "execution_count": 9,
   "metadata": {},
   "outputs": [
    {
     "output_type": "stream",
     "name": "stdout",
     "text": [
      "두 수의 합은 9입니다.\n"
     ]
    }
   ],
   "source": [
    "input1 = input(\"첫 번째 숫자를 입력하세요: \")\n",
    "input2 = input(\"두 번째 숫자를 입력하세요: \")\n",
    "total = int(input1) + int(input2)\n",
    "print(\"두 수의 합은 %d입니다.\" % total)"
   ]
  },
  {
   "source": [
    "## Q4\n",
    "---\n",
    "다음 중 출력 결과가 다른 것 한 개를 골라 보자."
   ],
   "cell_type": "markdown",
   "metadata": {}
  },
  {
   "cell_type": "code",
   "execution_count": 10,
   "metadata": {},
   "outputs": [
    {
     "output_type": "stream",
     "name": "stdout",
     "text": [
      "youneedpython\nyouneedpython\nyou need python\nyouneedpython\n"
     ]
    }
   ],
   "source": [
    "print(\"you\" \"need\" \"python\")\n",
    "print(\"you\" + \"need\" + \"python\")\n",
    "print(\"you\", \"need\", \"python\")\n",
    "print(\"\".join([\"you\", \"need\", \"python\"]))"
   ]
  },
  {
   "source": [
    "문자열 띄어쓰기는 콤마로 한다."
   ],
   "cell_type": "markdown",
   "metadata": {}
  },
  {
   "source": [
    "## Q5\n",
    "---\n",
    "다음은 \"text.txt\"라는 파일에 \"Life is too short\" 문자열을 저장한 후 다시 그 파일을 읽어서 출력하는 프로그램이다."
   ],
   "cell_type": "markdown",
   "metadata": {}
  },
  {
   "cell_type": "code",
   "execution_count": 11,
   "metadata": {},
   "outputs": [
    {
     "output_type": "stream",
     "name": "stdout",
     "text": [
      "\n"
     ]
    }
   ],
   "source": [
    "f1 = open(\"test.txt\", 'w')\n",
    "f1.write(\"Life is too short\")\n",
    "\n",
    "f2 = open(\"test.txt\", 'r')\n",
    "print(f2.read())"
   ]
  },
  {
   "source": [
    "이 프로그램은 우리가 예상한 \"Life is too short\"라는 문장을 출력하지 않는다. 우리가 예상한 값을 출력할 수 있도록 프로그램을 수정해보자."
   ],
   "cell_type": "markdown",
   "metadata": {}
  },
  {
   "cell_type": "code",
   "execution_count": 12,
   "metadata": {},
   "outputs": [
    {
     "output_type": "stream",
     "name": "stdout",
     "text": [
      "Life is too short\n"
     ]
    }
   ],
   "source": [
    "f1 = open(\"test.txt\", 'w')\n",
    "f1.write(\"Life is too short\")\n",
    "f1.close()\n",
    "\n",
    "f2 = open(\"test.txt\", 'r')\n",
    "print(f2.read())\n",
    "f2.close()"
   ]
  },
  {
   "source": [
    "파일을 닫지 않은 상태에서 다시 열면 파일에 저장한 데이터를 읽을 수 없다. 따라서 열린 파일 객체를 close로 닫아준 뒤에 다시 열어서 파일의 내용을 읽어야 한다. 또는 close()를 사용하지 않는 with구문을 사용하는 방법도 있다."
   ],
   "cell_type": "markdown",
   "metadata": {}
  },
  {
   "cell_type": "code",
   "execution_count": 16,
   "metadata": {},
   "outputs": [
    {
     "output_type": "stream",
     "name": "stdout",
     "text": [
      "Life is too short, you need python\n"
     ]
    }
   ],
   "source": [
    "with open(\"test1.txt\", \"w\") as f1:\n",
    "    f1.write(\"Life is too short, you need python\")\n",
    "\n",
    "with open(\"test1.txt\", \"r\") as f2:\n",
    "    print(f2.read())"
   ]
  },
  {
   "source": [
    "## Q6\n",
    "---\n",
    "사용자의 입력을 파일(test.txt)에 저장하는 프로그램을 작성해 보자.(단 프로그램을 다시 실행하더라도 기존에 작성한 내용을 유지하고 새로 입력한 내용을 추가해야 한다.)"
   ],
   "cell_type": "markdown",
   "metadata": {}
  },
  {
   "cell_type": "code",
   "execution_count": 23,
   "metadata": {},
   "outputs": [],
   "source": [
    "f = open(\"test.txt\", 'a')\n",
    "data = input()\n",
    "f.write(data)\n",
    "f.write(\"\\n\")       # 입력한 내용을 줄 단위로 구분하기 위함.\n",
    "f.close()"
   ]
  },
  {
   "source": [
    "## Q7\n",
    "---\n",
    "다음과 같은 내용을 지닌 파일 text.txt가 있다. 이 파일의 내용 중 \"java\"라는 문자열을 \"python\"으로 바꾸어서 저장해 보자.\n",
    "> replace 함수를 사용해보자."
   ],
   "cell_type": "markdown",
   "metadata": {}
  },
  {
   "cell_type": "code",
   "execution_count": 34,
   "metadata": {},
   "outputs": [],
   "source": [
    "with open(\"test.txt\", 'w') as f1:\n",
    "    f1.write(\"Life is too short\\nYou need Java\")\n",
    "\n",
    "with open(\"test.txt\", 'r') as f2:\n",
    "    changeStr = f2.read()\n",
    "    changeStr = changeStr.replace(\"Java\", \"python\")     # 기존에 작성한 문장에서 Java인 부분을 python으로 교체하고 changeStr 변수에 바뀐 문장을 저장한다.\n",
    "    \n",
    "with open(\"test.txt\", 'w') as f1:\n",
    "    f1.write(changeStr)"
   ]
  }
 ]
}
