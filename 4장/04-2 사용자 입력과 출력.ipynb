{
 "metadata": {
  "language_info": {
   "codemirror_mode": {
    "name": "ipython",
    "version": 3
   },
   "file_extension": ".py",
   "mimetype": "text/x-python",
   "name": "python",
   "nbconvert_exporter": "python",
   "pygments_lexer": "ipython3",
   "version": "3.9.1-final"
  },
  "orig_nbformat": 2,
  "kernelspec": {
   "name": "python3",
   "display_name": "Python 3.9.1 64-bit",
   "metadata": {
    "interpreter": {
     "hash": "4d6401091f6de5a385c299b068c1e85516af19a094234475c31f99f1aabe410a"
    }
   }
  }
 },
 "nbformat": 4,
 "nbformat_minor": 2,
 "cells": [
  {
   "source": [
    "# 04-2 사용자 입력과 출력\n",
    "---"
   ],
   "cell_type": "markdown",
   "metadata": {}
  },
  {
   "source": [
    "## 사용자 입력\n",
    "---\n",
    "사용자가 입력한 값을 어떤 변수에 대입하고 싶을 때는 어떻게 해야 할까?\n",
    "### 1. input의 사용"
   ],
   "cell_type": "markdown",
   "metadata": {}
  },
  {
   "cell_type": "code",
   "execution_count": 1,
   "metadata": {},
   "outputs": [],
   "source": [
    "a = input()"
   ]
  },
  {
   "cell_type": "code",
   "execution_count": 2,
   "metadata": {},
   "outputs": [
    {
     "output_type": "execute_result",
     "data": {
      "text/plain": [
       "'Life is too short, you need python'"
      ]
     },
     "metadata": {},
     "execution_count": 2
    }
   ],
   "source": [
    "a"
   ]
  },
  {
   "source": [
    "input은 입력되는 모든 것을 문자열로 취급한다."
   ],
   "cell_type": "markdown",
   "metadata": {}
  },
  {
   "source": [
    "### 2. 프롬프트를 띄워서 사용자 입력 받기\n",
    "사용자에게 입력받을 때 \"숫자를 입력하세요\"라든지 \"이름을 입력하세요\"라는 안내 문구 또는 질문이 나오도록 하고 싶을 때가 있다. 그럴 때는 input()의 괄호 안에 질문을 입력하여 프롬프트를 띄워주면 된다.\n",
    "> input(\"질문 내용\")"
   ],
   "cell_type": "markdown",
   "metadata": {}
  },
  {
   "cell_type": "code",
   "execution_count": 3,
   "metadata": {},
   "outputs": [],
   "source": [
    "number = input(\"숫자를 입력하세요: \")"
   ]
  },
  {
   "cell_type": "code",
   "execution_count": 4,
   "metadata": {},
   "outputs": [
    {
     "output_type": "stream",
     "name": "stdout",
     "text": [
      "3\n"
     ]
    }
   ],
   "source": [
    "print(number)"
   ]
  },
  {
   "source": [
    "number = input(\"숫자를 입력하세요: \") 를 실행하면 숫자를 입력하라는 프롬프트가 생성되는데 이 때 3을 입력하면 변수 number에 3이 대입된다. print(number)로 출력해서 제대로 입력되었는지 확인해 보자."
   ],
   "cell_type": "markdown",
   "metadata": {}
  },
  {
   "source": [
    "## print 자세히 알기\n",
    "---\n",
    "지금까지 print문이 수행해 온 일은 우리가 입력한 자료형을 출력하는 것이었지만 그러한 역할 외에도 print문은 할 수 있는 일들이 더 많다."
   ],
   "cell_type": "markdown",
   "metadata": {}
  },
  {
   "source": [
    "### 1. 큰따옴표(\")로 둘러싸인 문자열은 + 연산과 동일하다\n",
    "1번과 2번은 동일한 결괏값을 출력한다."
   ],
   "cell_type": "markdown",
   "metadata": {}
  },
  {
   "cell_type": "code",
   "execution_count": 5,
   "metadata": {},
   "outputs": [
    {
     "output_type": "stream",
     "name": "stdout",
     "text": [
      "lifeistooshort\nlifeistooshort\n"
     ]
    }
   ],
   "source": [
    "print(\"life\" \"is\" \"too\" \"short\")    # 1번\n",
    "print(\"life\"+\"is\"+\"too\"+\"short\")    # 2번"
   ]
  },
  {
   "source": [
    "### 2. 문자열 띄어쓰기는 콤마로 한다"
   ],
   "cell_type": "markdown",
   "metadata": {}
  },
  {
   "cell_type": "code",
   "execution_count": 6,
   "metadata": {},
   "outputs": [
    {
     "output_type": "stream",
     "name": "stdout",
     "text": [
      "life is too short\n"
     ]
    }
   ],
   "source": [
    "print(\"life\",\"is\",\"too\",\"short\")"
   ]
  },
  {
   "source": [
    "### 3. 한 줄에 결괏값 출력하기\n",
    "앞서 for문으로 구구단 프로그램을 만들 때도 보았듯이 한 줄에 결괏값을 계속 이어서 출력하려면 매개변수 end를 사용해 끝 문자를 지정해야 한다."
   ],
   "cell_type": "markdown",
   "metadata": {}
  },
  {
   "cell_type": "code",
   "execution_count": 8,
   "metadata": {},
   "outputs": [
    {
     "output_type": "stream",
     "name": "stdout",
     "text": [
      "0 1 2 3 4 5 6 7 8 9 "
     ]
    }
   ],
   "source": [
    "for i in range(10):\n",
    "    print(i, end=' ')"
   ]
  }
 ]
}
