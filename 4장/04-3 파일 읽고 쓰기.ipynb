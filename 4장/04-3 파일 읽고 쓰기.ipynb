{
 "metadata": {
  "language_info": {
   "codemirror_mode": {
    "name": "ipython",
    "version": 3
   },
   "file_extension": ".py",
   "mimetype": "text/x-python",
   "name": "python",
   "nbconvert_exporter": "python",
   "pygments_lexer": "ipython3",
   "version": "3.9.1-final"
  },
  "orig_nbformat": 2,
  "kernelspec": {
   "name": "python3",
   "display_name": "Python 3.9.1 64-bit",
   "metadata": {
    "interpreter": {
     "hash": "247ab06e135bb35fa78c5eff31b2a9a0050dcb5fb773c2631d2a29ac689eeccb"
    }
   }
  }
 },
 "nbformat": 4,
 "nbformat_minor": 2,
 "cells": [
  {
   "source": [
    "# 04-3 파일 읽고 쓰기\n",
    "---\n"
   ],
   "cell_type": "markdown",
   "metadata": {}
  },
  {
   "source": [
    "## 파일 생성하기\n",
    "---\n",
    "다음 소스 코드를 실행하면 프로그램을 실행한 디렉터리에 새로운 파일이 하나 생성된 것을 확인할 수 있다."
   ],
   "cell_type": "markdown",
   "metadata": {}
  },
  {
   "cell_type": "code",
   "execution_count": 1,
   "metadata": {},
   "outputs": [],
   "source": [
    "f = open(\"새파일.txt\", 'w')\n",
    "f.close()"
   ]
  },
  {
   "source": [
    "파일을 생성하기 위해 파이썬 내장 함수 open을 사용했다. open함수는 다음과 같이 \"파일 이름\"과 \"파일 열기 모드\"를 입력값으로 받고 결괏값으로 파일 객체를 돌려준다.\n",
    "> 파일 객체 = open(파일 이름, 파일 열기 모드)\n",
    "\n",
    "파일 열기 모드에는 다음과 같은 것이 있다.\n",
    "* r : 읽기모드 - 파일을 읽기만 할 때 사용\n",
    "* w : 쓰기모드 - 파일에 내용을 쓸 때 사용\n",
    "* a : 추가모드 - 파일의 마지막에 새로운 내용을 추가시킬 때 사용\n",
    "\n",
    "파일을 쓰기 모드로 열면 해당 파일이 이미 존재할 경우 원래 있던 내용이 모두 사라지고, 해당 파일이 존재하지 않으면 새로운 파일이 생성된다. 위의 예시는 디렉터리에 파일이 없는 상태에서 새파일.txt를 쓰기 모드인 'w'로 열었기 때문에 새파일.txt라는 이름의 새로운 파일이 현재 디렉터리에 생성되는 것이다.  \n",
    "<br>\n",
    "만약 특정 디렉터리에 새파일.txt 파일을 생성하고 싶다면 다음과 같이 작성하면 된다."
   ],
   "cell_type": "markdown",
   "metadata": {}
  },
  {
   "cell_type": "code",
   "execution_count": 4,
   "metadata": {},
   "outputs": [],
   "source": [
    "f = open(\"C:/Users/user/Desktop/MyStudy/새파일.txt\", 'w')\n",
    "f.close()"
   ]
  },
  {
   "source": [
    "f.close()는 열려 있는 파일 객체를 닫아 주는 역할을 한다. 프로그램을 종료할 때 파이썬 프로그램이 열려 있는 파일의 객체를 자동으로 닫아주기 때문에 이 문장은 생략해도 괜찮다. 하지만, close()를 사용해서 열려 있는 파일을 직접 닫아 주는 것이 좋다. 쓰기 모드로 열었던 파일을 닫지 않고 다시 사용하려고 하면 오류가 발생하기 때문이다."
   ],
   "cell_type": "markdown",
   "metadata": {}
  },
  {
   "source": [
    "## 파일을 쓰기 모드로 열어 출력값 적기\n",
    "---\n",
    "프로그램의 출력값을 파일에 직접 써보자."
   ],
   "cell_type": "markdown",
   "metadata": {}
  },
  {
   "cell_type": "code",
   "execution_count": 4,
   "metadata": {},
   "outputs": [],
   "source": [
    "# 프로그램1\n",
    "f = open(\"C:/Users/user/Desktop/MyStudy/Python_LAB/새파일.txt\", 'w')\n",
    "for i in range(1, 11):\n",
    "    data = \"%d번째 줄입니다.\\n\" % i\n",
    "    f.write(data)\n",
    "f.close()"
   ]
  },
  {
   "cell_type": "code",
   "execution_count": null,
   "metadata": {},
   "outputs": [],
   "source": [
    "# 프로그램2\n",
    "for i in range(1, 11):\n",
    "    data = \"%d번째 줄입니다.\\n\" % i\n",
    "    print(data)"
   ]
  },
  {
   "cell_type": "code",
   "execution_count": null,
   "metadata": {},
   "outputs": [],
   "source": [
    "두 프로그램의 차이점은 data를 출력하는 방법이다. 두 번째 방법은 우리가 계속 사용해 왔던 모니터 화면에 출력하는 방법이고, 첫 번째 방법은 모니터 화면 대신 파일에 결괏값을 적는 방법이다."
   ]
  },
  {
   "source": [
    "## 프로그램의 외부에 저장된 파일을 읽는 여러 가지 방법\n",
    "---\n",
    "파이썬에는 외부 파일을 읽어 들여 프로그램에서 사용할 수 있는 여러 방법이 있다.\n",
    "\n",
    "### 1. readline()함수 이용하기"
   ],
   "cell_type": "markdown",
   "metadata": {}
  },
  {
   "cell_type": "code",
   "execution_count": 5,
   "metadata": {},
   "outputs": [
    {
     "output_type": "stream",
     "name": "stdout",
     "text": [
      "1번째 줄입니다.\n\n"
     ]
    }
   ],
   "source": [
    "f = open(\"C:/Users/user/Desktop/MyStudy/Python_LAB/새파일.txt\", 'r')\n",
    "line = f.readline()\n",
    "print(line)\n",
    "f.close()"
   ]
  },
  {
   "source": [
    "위의 예시는 파일을 읽기 모드로 연 뒤에 readline()을 사용해서 파일의 첫 번째 줄을 읽어 출력하는 경우이다. 앞에서 만든 새파일.txt를 수정하거나 지우지 않았다면 위 프로그램을 실행했을 때 새파일.txt의 가장 첫 번째 줄이 화면에 출력된다.  \n",
    "<br>\n",
    "만약 모든 줄을 읽어서 화면에 출력하고 싶다면 다음과 같이 작성하면 된다."
   ],
   "cell_type": "markdown",
   "metadata": {}
  },
  {
   "cell_type": "code",
   "execution_count": 6,
   "metadata": {},
   "outputs": [
    {
     "output_type": "stream",
     "name": "stdout",
     "text": [
      "1번째 줄입니다.\n\n2번째 줄입니다.\n\n3번째 줄입니다.\n\n4번째 줄입니다.\n\n5번째 줄입니다.\n\n6번째 줄입니다.\n\n7번째 줄입니다.\n\n8번째 줄입니다.\n\n9번째 줄입니다.\n\n10번째 줄입니다.\n\n"
     ]
    }
   ],
   "source": [
    "f = open(\"C:/Users/user/Desktop/MyStudy/Python_LAB/새파일.txt\", 'r')\n",
    "while True:\n",
    "    line = f.readline()\n",
    "    if not line: break\n",
    "    print(line)\n",
    "f.close()"
   ]
  },
  {
   "source": [
    "> readline()은 더 이상 읽을 줄이 없을 경우 빈 문자열('')을 리턴한다."
   ],
   "cell_type": "markdown",
   "metadata": {}
  },
  {
   "source": [
    "### 2. readlines 함수 사용하기"
   ],
   "cell_type": "markdown",
   "metadata": {}
  },
  {
   "cell_type": "code",
   "execution_count": 7,
   "metadata": {},
   "outputs": [
    {
     "output_type": "stream",
     "name": "stdout",
     "text": [
      "1번째 줄입니다.\n\n2번째 줄입니다.\n\n3번째 줄입니다.\n\n4번째 줄입니다.\n\n5번째 줄입니다.\n\n6번째 줄입니다.\n\n7번째 줄입니다.\n\n8번째 줄입니다.\n\n9번째 줄입니다.\n\n10번째 줄입니다.\n\n"
     ]
    }
   ],
   "source": [
    "f = open(\"C:/Users/user/Desktop/MyStudy/Python_LAB/새파일.txt\", 'r')\n",
    "lines = f.readlines()\n",
    "for line in lines:\n",
    "    print(line)\n",
    "f.close()"
   ]
  },
  {
   "cell_type": "code",
   "execution_count": 9,
   "metadata": {},
   "outputs": [
    {
     "output_type": "stream",
     "name": "stdout",
     "text": [
      "['1번째 줄입니다.\\n', '2번째 줄입니다.\\n', '3번째 줄입니다.\\n', '4번째 줄입니다.\\n', '5번째 줄입니다.\\n', '6번째 줄입니다.\\n', '7번째 줄입니다.\\n', '8번째 줄입니다.\\n', '9번째 줄입니다.\\n', '10번째 줄입니다.\\n']\n"
     ]
    }
   ],
   "source": [
    "print(lines)"
   ]
  },
  {
   "source": [
    "readlines 함수는 파일의 모든 줄을 읽어서 각각의 줄을 요소로 갖는 리스트로 돌려준다. 따라서 위 예에서 lines는 리스트가 된다. f.readlines()에서 f.readline()과는 달리 s가 하나 더 붙어 있음에 유의하자."
   ],
   "cell_type": "markdown",
   "metadata": {}
  },
  {
   "source": [
    "### 3. read 함수 사용하기"
   ],
   "cell_type": "markdown",
   "metadata": {}
  },
  {
   "cell_type": "code",
   "execution_count": 11,
   "metadata": {},
   "outputs": [
    {
     "output_type": "stream",
     "name": "stdout",
     "text": [
      "1번째 줄입니다.\n2번째 줄입니다.\n3번째 줄입니다.\n4번째 줄입니다.\n5번째 줄입니다.\n6번째 줄입니다.\n7번째 줄입니다.\n8번째 줄입니다.\n9번째 줄입니다.\n10번째 줄입니다.\n\n"
     ]
    }
   ],
   "source": [
    "f = open(\"C:/Users/user/Desktop/MyStudy/Python_LAB/새파일.txt\", 'r')\n",
    "data = f.read()\n",
    "print(data)\n",
    "f.close()"
   ]
  },
  {
   "source": [
    "f.read()는 파일의 내용 전체를 문자열로 돌려준다. 따라서 위 예의 data는 파일의 전체 내용이다."
   ],
   "cell_type": "markdown",
   "metadata": {}
  },
  {
   "source": [
    "## 파일에 새로운 내용 추가하기\n",
    "---\n",
    "쓰기 모드('w')로 파일을 열 때 이미 존재하는 파일을 열면 그 파일의 내용이 모두 사라지게 된다. 하지만 원래 있던 값을 유지하면서 단지 새로운 값만 추가해야 할 경우에는 파일을 추가 모드('a')로 열면 된다."
   ],
   "cell_type": "markdown",
   "metadata": {}
  },
  {
   "cell_type": "code",
   "execution_count": 1,
   "metadata": {},
   "outputs": [],
   "source": [
    "f = open(\"C:/Users/user/Desktop/MyStudy/Python_LAB/새파일.txt\", 'a')\n",
    "for i in range(11, 20):\n",
    "    data = \"%d번째 줄입니다.\\n\" % i\n",
    "    f.write(data)\n",
    "f.close()"
   ]
  },
  {
   "source": [
    "위의 예시는 새파일.txt 파일을 추가모드('a')로 열고 write를 사용해서 결괏값을 기존 파일에 추가해서 적는 예시이다. 추가모드로 파일을 열었기 때문에 새파일.txt 파일이 원래 가지고 있던 내용 바로 다음부터 결괏값을 적기 시작한다."
   ],
   "cell_type": "markdown",
   "metadata": {}
  },
  {
   "source": [
    "## with문과 함께 사용하기\n",
    "---\n",
    "파일을 open하면 항상 close 해주는 것이 좋다. 하지만 파일을 열고 닫는 것을 자동으로 처리할 수 있다면 좀 더 편리할 것이다. 파이썬에서는 with문이 이런 역할을 해준다. 먼저 기존에 계속 사용해왔던 방식은 다음과 같다."
   ],
   "cell_type": "markdown",
   "metadata": {}
  },
  {
   "cell_type": "code",
   "execution_count": 2,
   "metadata": {},
   "outputs": [],
   "source": [
    "f = open('foo.txt', 'w')\n",
    "f.write(\"Life is too short, you need python\")\n",
    "f.close()"
   ]
  },
  {
   "source": [
    "with문을 사용하면 with 블록을 벗어나는 순간 열린 파일 객체 f가 자동으로 close되어 편리하다. 아래의 예시는 위의 예시와 완전히 동일하게 기능한다."
   ],
   "cell_type": "markdown",
   "metadata": {}
  },
  {
   "cell_type": "code",
   "execution_count": 3,
   "metadata": {},
   "outputs": [],
   "source": [
    "with open(\"foo.txt\", \"w\") as f:\n",
    "    f.write(\"Life is too short, you need python\")"
   ]
  },
  {
   "source": [
    "### \\[sys 모듈로 매개변수 주기\\]\n",
    "\n",
    "파이썬에서는 sys모듈을 사용하여 매개변수를 직접 줄 수 있다. sys모듈을 사용하려면 아래 예의 import sys처럼 import 명령어를 사용해야 한다."
   ],
   "cell_type": "markdown",
   "metadata": {}
  },
  {
   "cell_type": "code",
   "execution_count": null,
   "metadata": {},
   "outputs": [],
   "source": [
    "# Test.py\n",
    "import sys\n",
    "\n",
    "args = sys.argv[1:]\n",
    "for i in args:\n",
    "    print(i)"
   ]
  },
  {
   "source": [
    "위의 예시는 입력받은 인수를 for문을 사용해 차례대로 하나씩 출력하는 예시이다. sys 모듈의 argv는 명령 창에서 입력한 인수를 의미한다. 즉, 위와 같이 입력했다면 argv\\[0\\]는 파일 이름 Test.py가 되고 argv\\[1\\]부터는 뒤에 따라오는 인수가 차례로 argv의 요소가 된다.  \n",
    "<br>\n",
    "위 프로그램을 python idle를 통해서 작성하고 디렉토리에 저장한 뒤에 cmd에서 실행을 하면 다음과 같은 결과를 얻을 수 있다.\n",
    "> C:\\Users\\user\\Desktop>python Test.py aaa bbb ccc  \n",
    "aaa  \n",
    "bbb  \n",
    "ccc\n",
    "\n",
    "이 때 argv의 요소값은 다음과 같다.  \n",
    "* argv\\[0\\] = Test.py\n",
    "* argv\\[1\\] = aaa\n",
    "* argv\\[2\\] = bbb\n",
    "* argv\\[3\\] = ccc"
   ],
   "cell_type": "markdown",
   "metadata": {}
  }
 ]
}
