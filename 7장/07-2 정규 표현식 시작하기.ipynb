{
 "metadata": {
  "language_info": {
   "codemirror_mode": {
    "name": "ipython",
    "version": 3
   },
   "file_extension": ".py",
   "mimetype": "text/x-python",
   "name": "python",
   "nbconvert_exporter": "python",
   "pygments_lexer": "ipython3",
   "version": "3.9.1-final"
  },
  "orig_nbformat": 2,
  "kernelspec": {
   "name": "python3",
   "display_name": "Python 3.9.1 64-bit",
   "metadata": {
    "interpreter": {
     "hash": "4d6401091f6de5a385c299b068c1e85516af19a094234475c31f99f1aabe410a"
    }
   }
  }
 },
 "nbformat": 4,
 "nbformat_minor": 2,
 "cells": [
  {
   "source": [
    "# 07-2 정규 표현식 시작하기\n",
    "---"
   ],
   "cell_type": "markdown",
   "metadata": {}
  },
  {
   "source": [
    "## 정규 표현식의 기초, 메타 문자\n",
    "---\n",
    "정규 표현식에서 사용하는 메타 문자(meta characters)에는 다음과 같은 것이 있다.\n",
    "> 메타 문자란 원래 그 문자가 가진 뜻이 아닌 특별한 용도로 사용하는 문자를 말한다.  \n",
    "`. ^ $ * + ? { } [ ] \\ | ( )`\n",
    "\n",
    "정규 표현식에 위 메타 문자를 사용하면 특별한 의미를 갖게 된다."
   ],
   "cell_type": "markdown",
   "metadata": {}
  },
  {
   "source": [
    "### 문자 클래스 \\[ \\]\n",
    "\\[\\]는 메타 문자인 문자 클래스(character class)이다. 문자 클래스로 만들어진 정규식은 `\"[ ] 사이의 문자들과 매치\"`라는 의미를 갖는다.\n",
    "> 문자 클래스를 만드는 메타 문자인 \\[\\] 사이에는 어떤 문자도 들어갈 수 있다.\n",
    "\n",
    "즉 정규 표현식이 \\[abc\\]라면 이 표현식의 의미는 \"a, b, c 중 한 개의 문자와 매치\"를 뜻한다. 예를 들어 \"a\", \"before\", \"dude\"가 정규식 \\[abc\\]와 어떻게 매치되는지 확인해보자.\n",
    "\n",
    "* \"a\"는 정규식과 일치하는 문자인 \"a\"가 있으므로 매치\n",
    "* \"before\"는 정규식과 일치하는 문자인 \"b\"가 있으므로 매치\n",
    "* \"dude\"는 정규식과 일치하는 문자인 a, b, c 중 어느 하나도 포함하고 있지 않기 때문에 매치되지 않음.\n",
    "\n",
    "만약 \\[\\] 안의 두 문자 사이에 하이픈(-)을 사용하면 두 문자 사이의 범위(From - To)를 의미한다. 예를 들어 \\[a-c\\]라는 정규 표현식은 \\[abc\\]와 동일하고 \\[0-5\\]는 \\[012345\\]와 동일하다.  \n",
    "\n",
    "하이픈(-)을 사용한 문자 클래스의 사용 예시는 다음과 같다.\n",
    "\n",
    "* \\[a-zA-Z\\]: 알파벳 모두\n",
    "* \\[0-9\\]: 숫자\n",
    "\n",
    "문자 클래스 안에는 어떤 문자나 메타 문자도 사용이 가능하지만 `^`의 사용은 주의해야 한다. 문자 클래스 안에 메타 문자인 `^`을 사용할 경우에는 반대(not)라는 의미를 갖는다. 그래서 예를 들어 `[^0-9]`라는 정규 표현식은 숫자가 아닌 문자만 매치된다."
   ],
   "cell_type": "markdown",
   "metadata": {}
  },
  {
   "source": [
    "### \\[자주 사용하는 문자 클래스\\]\n",
    "\n",
    "\\[0-9\\] 또는 \\[a-zA-Z\\] 등은 자주 사용하는 정규 표현식이다. 자주 사용하는 정규식은 별도의 표기법으로 표현이 가능하다.\n",
    "\n",
    "* `\\d` : 숫자와 매치. `[0-9]`와 동일한 표현이다.\n",
    "* `\\D` : 숫자가 아닌 것과 매치. `[^0-9]`와 동일한 표현이다.\n",
    "* `\\s` : whitespace 문자와 매치. `[ \\t\\n\\r\\f\\v]`와 동일한 표현식이다. 맨 앞의 빈 칸은 공백문자(space)를 의미한다.\n",
    "* `\\S` : whitespace 문자가 아닌 것과 매치. `[^ \\t\\n\\r\\f\\v]`와 동일한 표현식이다.\n",
    "* `\\w` : 문자+숫자(alphanumeric)와 매치, `[a-zA-z0-9_]`와 동일한 표현식이다.\n",
    "* `\\W` : 문자+숫자(alphanumeric)가 아닌 문자와 매치, `[^a-zA-z0-9_]`와 동일한 표현식이다.\n",
    "\n",
    "대문자로 사용된 것은 소문자의 반대의 뜻을 가지고 있다고 추측이 가능하다."
   ],
   "cell_type": "markdown",
   "metadata": {}
  },
  {
   "source": [
    "### Dot(.)\n",
    "정규 표현식의 Dot(.)메타 문자는 줄바꿈 문자인 `\\n`을 제외한 모든 문자와 매치됨을 의미한다.\n",
    "> 정규식을 작성할 때 re.DOTALL 옵션을 주면 `\\n` 문자와도 매치된다."
   ],
   "cell_type": "markdown",
   "metadata": {}
  },
  {
   "source": [
    "> `a.b`\n",
    "\n",
    "위 정규식은 \"a + 모든문자 + b\" 와 같은 의미를 가진다.  \n",
    "즉, a와 b라는 문자 사이에 어떤 문자가 들어가도 모두 매치된다는 의미이다.  \n",
    "\n",
    "그렇다면 \"aab\", \"a0b\", \"abc\"가 정규식 `a.b`와 어떻게 매치될까?\n",
    "\n",
    "* \"aab\"는 가운데 문자 \"a\"가 모든 문자를 의미하는 `.`과 일치하므로 정규식과 매치된다.\n",
    "* \"a0b\"는 가운데 문자 \"0\"가 모든 문자를 의미하는 `.`과 일치하므로 정규식과 매치된다.\n",
    "* \"abc\"는 \"a\"문자와 \"b\"문자 사이에 어떤 문자라도 하나는 있어야 하는 이 정규식과 일치하지 않기 때문에 매치되지 않는다.\n",
    "\n",
    "> `a[.]b`\n",
    "\n",
    "위 정규식은 \"a + Dot(.)문자 + b\" 와 같은 의미를 가진다.  \n",
    "따라서 정규식 `a[.]b`는 \"a.b\" 문자열과 매치되고, \"a0b\" 문자열과는 매치되지 않는다.\n",
    "\n",
    "> 만약 앞에서 학습한 문자 클래스(\\[ \\]) 내에 Dot(.) 메타 문자가 사용된다면 이것은 \"모든 문자\"라는 의미가 아니라 `.` 그 자체를 의미한다. 혼동에 유의하기!!"
   ],
   "cell_type": "markdown",
   "metadata": {}
  },
  {
   "source": [
    "### 반복(*)\n",
    "다음과 같은 정규식이 있다.\n",
    "> `ca*t`\n",
    "\n",
    "이 정규식에는 반복을 의미하는 `*` 메타 문자가 사용되었다. 여기서 사용한 `*`은 `*` 바로 앞에 있는 문자 a가 0부터 무한대로 반복될 수 있다는 것을 의미한다.\n",
    "> 여기서 `*` 메타 문자의 반복 개수가 무한대라고 표현했는데 사실 메모리 제한으로 2억 개 정도만 가능하다.\n",
    "\n",
    "예시를 들어보면 아래와 같다.\n",
    "\n",
    "| 정규식 | 문자열 | Match 여부 | 설명 |\n",
    "| :--- | :--- | :--- | --- |\n",
    "| `ca*t` | ct | Yes | \"a\"가 0번 반복되어 매치 |\n",
    "| `ca*t` | cat | Yes | \"a\"가 0번 이상 반복되어 매치 (1번 반복) |\n",
    "| `ca*t` | caaat | Yes | \"a\"가 0번 이상 반복되어 매치 (3번 반복) |"
   ],
   "cell_type": "markdown",
   "metadata": {}
  },
  {
   "source": [
    "### 반복(+)\n",
    "반복을 나타내는 또 다른 메타 문자로 `+`가 있다. `+`는 최소 1번 이상 반복될 때 사용한다. 즉 `*`가 반복 횟수 0부터라면 `+`는 반복 횟수 1부터인 것이다.\n",
    "\n",
    "다음 정규식을 보자.\n",
    "> ca+t\n",
    "\n",
    "위 정규식은 \"c + a(1번 이상 반복) + t\" 과 같은 뜻을 가진다.  \n",
    "\n",
    "이것 역시 예시를 들어보면 다음과 같다.\n",
    "\n",
    "| 정규식 | 문자열 | Match 여부 | 설명 |\n",
    "| :--- | :--- | :--- | --- |\n",
    "| `ca*t` | ct | No | \"a\"가 0번 반복되어 매치되지 않음 |\n",
    "| `ca*t` | cat | Yes | \"a\"가 1번 이상 반복되어 매치 (1번 반복) |\n",
    "| `ca*t` | caaat | Yes | \"a\"가 1번 이상 반복되어 매치 (3번 반복) |"
   ],
   "cell_type": "markdown",
   "metadata": {}
  },
  {
   "source": [
    "### 반복 ({m,n},?)\n",
    "\n",
    "만약 반복 횟수를 3회만 또는 1회부터 3회까지만으로 제한하고 싶다면? 이 때는 {} 메타 문자를 사용해서 반복 횟수를 고정한다.  \n",
    "\n",
    "{m, n} 정규식을 사용하면 반복 횟수가 m부터 n까지 매치할 수 있다. 또한 m 또는 n을 생략할 수도 있다. 만약 `{3,}` 처럼 사용하면 반복 횟수가 3 이상인 경우고, `{,3}` 처럼 사용하면 반복 횟수가 3이하를 의미한다. 생략된 m은 0과 동일하며, 생략된 n은 무한대(2억 개 미만)의 의미를 갖는다.\n",
    "> `{1,}`은 `+`와 동일하고, `{0,}`은 `*`와 동일하다.\n",
    "\n",
    "#### 1. {m}\n",
    "\n",
    "> ca{2}t\n",
    "\n",
    "위 정규식은 \"c + a(반드시 2번 반복) + t\"와 같은 의미를 가진다.  \n",
    "위 정규식에 대한 매치여부는 다음과 같다.\n",
    "\n",
    "| 정규식 | 문자열 | Match 여부 | 설명 |\n",
    "| :--- | :--- | :--- | --- |\n",
    "| `ca{2}t` | cat | No | \"a\"가 1번만 반복되어 매치되지 않음 |\n",
    "| `ca{2}t` | caat | Yes | \"a\"가 2번 반복되어 매치 |\n",
    "\n",
    "#### 2. {m,n}\n",
    "\n",
    "> ca{2,5}t\n",
    "\n",
    "위 정규식은 \"c + a(2~5회 반복) + t\" 와 같은 의미를 가진다.  \n",
    "위 정규식에 대한 매치여부는 다음과 같다.\n",
    "\n",
    "| 정규식 | 문자열 | Match 여부 | 설명 |\n",
    "| :--- | :--- | :--- | --- |\n",
    "| `ca{2,5}t` | ct | No | \"a\"가 1번만 반복되어 매치되지 않음 |\n",
    "| `ca{2,5}t` | caat | Yes | \"a\"가 2번 반복되어 매치 |\n",
    "| `ca{2,5}t` | caaaaat | Yes | \"a\"가 5번 반복되어 매치 |\n",
    "\n",
    "#### 3. ?\n",
    "반복은 아니지만 이와 유사한 개념으로 `?`가 있다. `?` 메타문자가 의미하는 것은 `{0,1}`이다.\n",
    "\n",
    "> ab?c\n",
    "\n",
    "위의 정규식은 \"a + b(있어도 그만 없어도 그만) + c\"와 같은 뜻을 가진다.  \n",
    "위 정규식에 대한 매치 여부는 다음과 같다.\n",
    "\n",
    "| 정규식 | 문자열 | Match 여부 | 설명 |\n",
    "| :--- | :--- | :--- | --- |\n",
    "| `ab?c` | abc | Yes | \"b\"가 1번 사용되어 매치 |\n",
    "| `ab?c` | ac | Yes | \"b\"가 0번 사용되어 매치 |\n",
    "\n",
    "즉 b문자가 있던 없던 둘 다 매치되는 경우이다.  \n",
    "\n",
    "`*`, `+`, `?` 메타 문자는 모두 `{m,n}` 형태로 고쳐 쓰는 것이 가능하지만 가급적 `*`, `+`, `?` 메타 문자를 사용하는 것이 좋다."
   ],
   "cell_type": "markdown",
   "metadata": {}
  },
  {
   "source": [
    "## 파이썬에서 정규 표현식을 지원하는 re 모듈\n",
    "---\n",
    "파이썬은 정규 표현식을 지원하기 위해 re(regular expression의 약어) 모듈을 제공한다. re 모듈은 파이썬을 설치할 때 자동으로 설치되는 기본 라이브러리로 사용 방법은 다음과 같다."
   ],
   "cell_type": "markdown",
   "metadata": {}
  },
  {
   "cell_type": "code",
   "execution_count": 7,
   "metadata": {},
   "outputs": [],
   "source": [
    "import re\n",
    "p = re.compile('ab*')"
   ]
  },
  {
   "source": [
    "re.compile을 사용하여 정규 표현식(위 예에서는 `ab*`)을 컴파일한다. re.compile의 결과로 돌려주는 객체 p(컴파일된 패턴 객체)를 사용하여 그 이후의 작업을 수행할 것이다.\n",
    "> ※ 패턴이란 정규식을 컴파일한 결과이다.  \n",
    "※ 정규식을 컴파일할 때 특정 옵션을 부여하는 것도 가능하다."
   ],
   "cell_type": "markdown",
   "metadata": {}
  },
  {
   "source": [
    "## 정규식을 이용한 문자열 검색\n",
    "---\n",
    "컴파일된 패턴 객체를 사용하여 문자열 검색을 수행해보자. 컴파일된 패턴 객체는 다음과 같이 4가지 메서드를 제공한다.\n",
    "\n",
    "| Method | 목적 |\n",
    "| :--- | :--- |\n",
    "| match() | 문자열의 처음부터 정규식과 매치되는지 조사한다. |\n",
    "| search() | 문자열 전체를 검색하여 정규식과 매치되는지 조사한다. |\n",
    "| findall() | 정규식과 매치되는 모든 문자열(substring)을 리스트로 돌려준다. |\n",
    "| finditer() | 정규식과 매치되는 모든 문자열(substring)을 반복 가능한 객체로 돌려준다. |\n",
    "\n",
    "match, search는 정규식과 매치될 때는 match 객체를 돌려주고, 매치되지 않을 때는 None을 돌려준다. 이들 메서드에 대한 간단한 예를 살펴보자.\n",
    "> ※ match 객체란 정규식의 검색 결과로 돌려주는 객체이다.\n",
    "\n",
    "우선 다음과 같은 패턴을 만든다."
   ],
   "cell_type": "markdown",
   "metadata": {}
  },
  {
   "cell_type": "code",
   "execution_count": 8,
   "metadata": {},
   "outputs": [],
   "source": [
    "import re\n",
    "p = re.compile('[a-z]+')"
   ]
  },
  {
   "source": [
    "### 1. match\n",
    "match 메서드는 문자열의 처음부터 정규식과 매치되는지 조사한다. 위 패턴에 match 메서드를 수행해보자."
   ],
   "cell_type": "markdown",
   "metadata": {}
  },
  {
   "cell_type": "code",
   "execution_count": 9,
   "metadata": {},
   "outputs": [
    {
     "output_type": "stream",
     "name": "stdout",
     "text": [
      "<re.Match object; span=(0, 6), match='python'>\n"
     ]
    }
   ],
   "source": [
    "m = p.match(\"python\")\n",
    "print(m)"
   ]
  },
  {
   "source": [
    "\"python\" 문자열은 `[a-z]+` 정규식에 부합하기 때문에 match 객체를 돌려준다."
   ],
   "cell_type": "markdown",
   "metadata": {}
  },
  {
   "cell_type": "code",
   "execution_count": 10,
   "metadata": {},
   "outputs": [
    {
     "output_type": "stream",
     "name": "stdout",
     "text": [
      "None\n"
     ]
    }
   ],
   "source": [
    "m = p.match(\"3 python\")\n",
    "print(m)"
   ]
  },
  {
   "source": [
    "\"3 python\" 문자열은 처음에 나오는 문자 3이 정규식 `[a-z]+` 에 부합되지 않으므로 None을 돌려준다.  \n",
    "\n",
    "match의 결과로 match 객체 또는 None을 돌려주기 때문에 파이썬 정규식 프로그램은 보통 다음과 같은 흐름으로 작성한다.  \n",
    "match의 결괏값이 있을 때만 그 다음 작업을 수행한다."
   ],
   "cell_type": "markdown",
   "metadata": {}
  },
  {
   "cell_type": "code",
   "execution_count": null,
   "metadata": {},
   "outputs": [],
   "source": [
    "p = re.compile(정규표현식)\n",
    "m = p.match('string goes here')\n",
    "if m:\n",
    "    print('Match found: ', m.group())\n",
    "else:\n",
    "    print('No match')"
   ]
  },
  {
   "source": [
    "### 2. search\n",
    "컴파일된 패턴 객체 p를 가지고 이번에는 search 메서드를 수행해보자."
   ],
   "cell_type": "markdown",
   "metadata": {}
  },
  {
   "cell_type": "code",
   "execution_count": 5,
   "metadata": {},
   "outputs": [
    {
     "output_type": "stream",
     "name": "stdout",
     "text": [
      "<re.Match object; span=(0, 6), match='python'>\n"
     ]
    }
   ],
   "source": [
    "import re\n",
    "p = re.compile('[a-z]+')\n",
    "\n",
    "m = p.search(\"python\")\n",
    "print(m)"
   ]
  },
  {
   "source": [
    "\"python\" 문자열에 search 메서드를 수행하면 match 메서드를 수행했을 때와 동일하게 매치된다."
   ],
   "cell_type": "markdown",
   "metadata": {}
  },
  {
   "cell_type": "code",
   "execution_count": 6,
   "metadata": {},
   "outputs": [
    {
     "output_type": "stream",
     "name": "stdout",
     "text": [
      "<re.Match object; span=(2, 8), match='python'>\n"
     ]
    }
   ],
   "source": [
    "m = p.search(\"3 python\")\n",
    "print(m)"
   ]
  },
  {
   "source": [
    "\"3 python\" 문자열의 첫 번째 문자는 \"3\"이지만 search는 문자열의 처음부터 검색하는 것이 아니라 문자열 전체를 검색하기 때문에 \"3\" 이후의 \"python\" 문자열과 매치된다.  \n",
    "\n",
    "이처럼 match메서드와 search메서드는 문자열의 처음부터 검색할지의 여부에 따라 다르게 사용해야 한다."
   ],
   "cell_type": "markdown",
   "metadata": {}
  },
  {
   "source": [
    "### 3. findall"
   ],
   "cell_type": "markdown",
   "metadata": {}
  },
  {
   "cell_type": "code",
   "execution_count": 7,
   "metadata": {},
   "outputs": [
    {
     "output_type": "stream",
     "name": "stdout",
     "text": [
      "['life', 'is', 'too', 'short']\n"
     ]
    }
   ],
   "source": [
    "result = p.findall(\"life is too short\")\n",
    "print(result)"
   ]
  },
  {
   "source": [
    "\"life is too short\" 문자열의 'life', 'is', 'too', 'short' 단어를 각각 `[a-z]+` 정규식과 매치해서 리스트로 돌려준다."
   ],
   "cell_type": "markdown",
   "metadata": {}
  },
  {
   "source": [
    "### 4. finditer"
   ],
   "cell_type": "markdown",
   "metadata": {}
  },
  {
   "cell_type": "code",
   "execution_count": 8,
   "metadata": {},
   "outputs": [
    {
     "output_type": "stream",
     "name": "stdout",
     "text": [
      "<callable_iterator object at 0x000002A543EF0C70>\n"
     ]
    }
   ],
   "source": [
    "result = p.finditer(\"life is too short\")\n",
    "print(result)"
   ]
  },
  {
   "cell_type": "code",
   "execution_count": 9,
   "metadata": {},
   "outputs": [
    {
     "output_type": "stream",
     "name": "stdout",
     "text": [
      "<re.Match object; span=(0, 4), match='life'>\n<re.Match object; span=(5, 7), match='is'>\n<re.Match object; span=(8, 11), match='too'>\n<re.Match object; span=(12, 17), match='short'>\n"
     ]
    }
   ],
   "source": [
    "for r in result:\n",
    "    print(r)"
   ]
  },
  {
   "source": [
    "finditer는 findall과 동일하지만 그 결과로 반복 가능한 객체(iterator object)를 돌려준다. 반복 가능한 객체가 포함하는 각각의 요소는 match 객체이다."
   ],
   "cell_type": "markdown",
   "metadata": {}
  },
  {
   "source": [
    "## match 객체의 메서드\n",
    "---\n",
    "이제 match 메서드와 search 메서드를 수행한 결과로 돌려준 match 객체에 대해 알아보자.\n",
    "\n",
    "* 어떤 문자열이 매치되었는가?\n",
    "* 매치된 문자열의 인덱스는 어디서부터 어디까지인가?\n",
    "\n",
    "match 객체의 메서드를 사용하면 위 질문에 대한 답을 얻을 수 있다.\n",
    "\n",
    "| method | 목적 |\n",
    "| :--- | :--- |\n",
    "| group() | 매치된 문자열을 돌려준다. |\n",
    "| start() | 매치된 문자열의 시작 위치를 돌려준다. |\n",
    "| end() | 매치된 문자열의 끝 위치를 돌려준다. |\n",
    "| span() | 매치된 문자열의 (시작, 끝)에 해당하는 튜플을 돌려준다. |"
   ],
   "cell_type": "markdown",
   "metadata": {}
  },
  {
   "cell_type": "code",
   "execution_count": 12,
   "metadata": {},
   "outputs": [
    {
     "output_type": "stream",
     "name": "stdout",
     "text": [
      "python\n0\n6\n(0, 6)\n"
     ]
    }
   ],
   "source": [
    "import re\n",
    "p = re.compile('[a-z]+')\n",
    "\n",
    "m = p.match(\"python\")\n",
    "print(m.group())\n",
    "print(m.start())\n",
    "print(m.end())\n",
    "print(m.span())"
   ]
  },
  {
   "source": [
    "match 메서드를 수행한 결과로 돌려준 match 객체의 start()의 결괏값은 항상 0일 수 밖에 없다. 왜냐하면 match 메서드는 항상 문자열의 시작부터 조사하기 때문이다.  \n",
    "\n",
    "만약 search 메서드를 사용했다면 결과는 다를 것이다."
   ],
   "cell_type": "markdown",
   "metadata": {}
  },
  {
   "cell_type": "code",
   "execution_count": 13,
   "metadata": {},
   "outputs": [
    {
     "output_type": "stream",
     "name": "stdout",
     "text": [
      "python\n2\n8\n(2, 8)\n"
     ]
    }
   ],
   "source": [
    "m = p.search(\"3 python\")\n",
    "print(m.group())\n",
    "print(m.start())\n",
    "print(m.end())\n",
    "print(m.span())"
   ]
  },
  {
   "source": [
    "### \\[모듈 단위로 수행하기\\]\n",
    "지금까지 우리는 `re.compile`을 사용해서 컴파일된 패턴 객체로 그 이후의 작업을 수행했다. re 모듈은 이것을 좀 축약한 형태로 사용할 수 있는 방법을 제공한다. "
   ],
   "cell_type": "markdown",
   "metadata": {}
  },
  {
   "cell_type": "code",
   "execution_count": 24,
   "metadata": {},
   "outputs": [],
   "source": [
    "p = re.compile('[a-z]+')\n",
    "m = p.match(\"python\")"
   ]
  },
  {
   "source": [
    "위의 코드가 축약된 형태는 다음과 같다."
   ],
   "cell_type": "markdown",
   "metadata": {}
  },
  {
   "cell_type": "code",
   "execution_count": 15,
   "metadata": {},
   "outputs": [],
   "source": [
    "m = re.match('[a-z]+', \"python\")"
   ]
  },
  {
   "source": [
    "위의 예시처럼 사용하면 컴파일과 match 메서드를 한 번에 수행할 수 있다. 보통 한 번 만든 패턴 객체를 여러 번 사용해야 하는 경우에는 `re.compile`을 사용하는 것이 편리하다."
   ],
   "cell_type": "markdown",
   "metadata": {}
  },
  {
   "source": [
    "## 컴파일 옵션\n",
    "---\n",
    "정규식을 컴파일할 때 다음 옵션을 사용할 수 있다. 괄호 안은 각 컴파일 옵션의 약어이다.\n",
    "\n",
    "* DOTALL(S) : `.`이 줄바꿈 문자를 포함하여 모든 문자와 매치할 수 있도록 한다.\n",
    "* IGNORECASE(I) : 대소문자에 관계없이 매치할 수 있도록 한다.\n",
    "* MULTILINE(M) : 여러 줄과 매치할 수 있도록 한다. (`^`, `$` 메타문자의 사용과 관계가 있는 옵션이다.)\n",
    "* VERBOSE(X) : verbose 모드를 사용할 수 있도록 한다. (정규식을 보기 편하게 만들 수 있고 주석 등을 사용할 수 있게 된다.)\n",
    "\n",
    "옵션을 사용할 때는 `re.DOTALL`처럼 전체 옵션 이름을 써도 되고 `re.S` 처럼 약어를 사용해도 된다."
   ],
   "cell_type": "markdown",
   "metadata": {}
  },
  {
   "source": [
    "### 1. DOTALL, S\n",
    "\n",
    "`.` 메타 문자는 줄바꿈 문자(`\\n`)를 제외한 모든 문자와 매치되는 규칙이 있다. 만약 `\\n` 문자도 포함하여 매치하고 싶다면 `re.DOTALL` 또는 `re.S` 옵션을 사용해 정규식을 컴파일하면 된다.  \n",
    "\n",
    "예시를 살펴보자."
   ],
   "cell_type": "markdown",
   "metadata": {}
  },
  {
   "cell_type": "code",
   "execution_count": 16,
   "metadata": {},
   "outputs": [
    {
     "output_type": "stream",
     "name": "stdout",
     "text": [
      "None\n"
     ]
    }
   ],
   "source": [
    "import re\n",
    "p = re.compile('a.b')\n",
    "m = p.match('a\\nb')\n",
    "print(m)"
   ]
  },
  {
   "source": [
    "정규식이 `a.b`인 경우 문자열 `a\\nb`는 매치되지 않음을 알 수 있다. 정규식 `a.b`는 a와 b사이에 어떤 문자가 들어와도 매치가 되지만 `\\n`만큼은 허용하지 않는다. 만약 `\\n` 문자와도 매치되도록 하려면 다음과 같이 `re.DOTALL` 옵션을 사용해야 한다."
   ],
   "cell_type": "markdown",
   "metadata": {}
  },
  {
   "cell_type": "code",
   "execution_count": 19,
   "metadata": {},
   "outputs": [
    {
     "output_type": "stream",
     "name": "stdout",
     "text": [
      "<re.Match object; span=(0, 3), match='a\\nb'>\n"
     ]
    }
   ],
   "source": [
    "import re\n",
    "p = re.compile('a.b', re.DOTALL)\n",
    "m = p.match('a\\nb')\n",
    "print(m)"
   ]
  },
  {
   "source": [
    "보통 `re.DOTALL` 옵션은 여러 줄로 이루어진 문자열에서 `\\n`에 상관없이 검색할 때 많이 사용한다."
   ],
   "cell_type": "markdown",
   "metadata": {}
  },
  {
   "source": [
    "### 2. IGNORECASE, I\n",
    "\n",
    "`re.IGNORECASE` 또는 `re.I` 옵션은 대소문자 구별 없이 매치를 수행할 때 사용하는 옵션이다. 다음 예제를 보자."
   ],
   "cell_type": "markdown",
   "metadata": {}
  },
  {
   "cell_type": "code",
   "execution_count": 34,
   "metadata": {},
   "outputs": [
    {
     "output_type": "execute_result",
     "data": {
      "text/plain": [
       "<re.Match object; span=(0, 1), match='p'>"
      ]
     },
     "metadata": {},
     "execution_count": 34
    }
   ],
   "source": [
    "import re\n",
    "p = re.compile('[a-z]', re.I)\n",
    "p.match('python')"
   ]
  },
  {
   "cell_type": "code",
   "execution_count": 35,
   "metadata": {},
   "outputs": [
    {
     "output_type": "execute_result",
     "data": {
      "text/plain": [
       "<re.Match object; span=(0, 1), match='P'>"
      ]
     },
     "metadata": {},
     "execution_count": 35
    }
   ],
   "source": [
    "p.match('Python')"
   ]
  },
  {
   "cell_type": "code",
   "execution_count": 36,
   "metadata": {},
   "outputs": [
    {
     "output_type": "execute_result",
     "data": {
      "text/plain": [
       "<re.Match object; span=(0, 1), match='P'>"
      ]
     },
     "metadata": {},
     "execution_count": 36
    }
   ],
   "source": [
    "p.match('PYTHON')"
   ]
  },
  {
   "source": [
    "`[a-z]` 정규식은 소문자만을 의미하지만 re.I 옵션으로 대소문자 구별 없이 매치된다."
   ],
   "cell_type": "markdown",
   "metadata": {}
  },
  {
   "source": [
    "### 3. MULTILINE, M\n",
    "\n",
    "`re.MULTILINE` 또는 `re.M` 옵션은 메타 문자인 `^`, `$`와 연관된 옵션이다. 이 메타 문자에 대해 간단히 설명하자면 `^`는 문자열의 처음을 의미하고, `$`는 문자열의 마지막을 의미한다. 예를 들어 정규식이 `^python`인 경우 문자열의 처음은 항상 python으로 시작해야 매치되고, 만약 정규식이 `python$`이라면 문자열의 마지막은 항상 python으로 끝나야 매치된다는 의미이다.  \n",
    "\n",
    "예시를 확인해보자."
   ],
   "cell_type": "markdown",
   "metadata": {}
  },
  {
   "cell_type": "code",
   "execution_count": 37,
   "metadata": {},
   "outputs": [
    {
     "output_type": "stream",
     "name": "stdout",
     "text": [
      "['python one']\n"
     ]
    }
   ],
   "source": [
    "import re\n",
    "p = re.compile(\"^python\\s\\w+\")\n",
    "\n",
    "data = \"\"\"python one\n",
    "life is too short\n",
    "python two\n",
    "you need python\n",
    "python threee\n",
    "\"\"\"\n",
    "\n",
    "print(p.findall(data))"
   ]
  },
  {
   "source": [
    "정규식 `^python\\s\\w+`는 python이라는 문자열로 시작하고 그 뒤에 whitespace, 그 뒤에 단어가 와야 한다는 의미를 가진다. 검색할 문자열 data는 여러 줄로 이루어져 있다.  \n",
    "\n",
    "위의 스크립트를 실행하면 위와 같은 결과가 나오는데 `^` 메타 문자에 의해 python이라는 문자열을 사용한 첫 번째 줄만 매치된 것이다.  \n",
    "하지만 `^` 메타 문자를 문자열 전체의 처음이 아니라 각 라인의 처음으로 인식시키고 싶은 경우도 있을 것이다. 이럴 때 사용할 수 있는 옵션이 바로 `re.MULTILINE` 또는 `re.M`이다. 위 코드를 다시 수정해보자."
   ],
   "cell_type": "markdown",
   "metadata": {}
  },
  {
   "cell_type": "code",
   "execution_count": 38,
   "metadata": {},
   "outputs": [
    {
     "output_type": "stream",
     "name": "stdout",
     "text": [
      "['python one', 'python two', 'python threee']\n"
     ]
    }
   ],
   "source": [
    "import re\n",
    "p = re.compile(\"^python\\s\\w+\", re.MULTILINE)\n",
    "\n",
    "data = \"\"\"python one\n",
    "life is too short\n",
    "python two\n",
    "you need python\n",
    "python threee\n",
    "\"\"\"\n",
    "\n",
    "print(p.findall(data))"
   ]
  },
  {
   "source": [
    "`re.MULTILINE` 옵션으로 인해 `^` 메타 문자가 문자열 전체가 아닌 각 줄의 처음이라는 의미를 갖게 되었다."
   ],
   "cell_type": "markdown",
   "metadata": {}
  },
  {
   "source": [
    "### 4. VERBOSE, X\n",
    "이해하기 어려운 정규식을 주석 또는 줄 단위로 구분할 수 있다면 보기 좋고 이해하기 편할 것이다. 이 때 사용하는 것이 `re.VERBOSE` 또는 `re.X` 옵션이다."
   ],
   "cell_type": "markdown",
   "metadata": {}
  },
  {
   "cell_type": "code",
   "execution_count": 39,
   "metadata": {},
   "outputs": [],
   "source": [
    "charref = re.compile(r'&[#](0[0-7]+|[0-9]+|x[0-9a-fA-F]+);')"
   ]
  },
  {
   "source": [
    "위 정규식은 한 눈에 이해하기 힘들지만 아래와 같이 주석으로 정리를 해준다면 이해하기가 훨씬 수월할 것이다. 아래의 정규식과 위 정규식은 모두 동일한 역할을 수행한다."
   ],
   "cell_type": "markdown",
   "metadata": {}
  },
  {
   "cell_type": "code",
   "execution_count": 40,
   "metadata": {},
   "outputs": [],
   "source": [
    "charref = re.compile(r\"\"\"\n",
    " &[#]                # Start of a numeric entity reference\n",
    " (\n",
    "     0[0-7]+         # Octal form\n",
    "   | [0-9]+          # Decimal form\n",
    "   | x[0-9a-fA-F]+   # Hexadecimal form\n",
    " )\n",
    " ;                   # Trailing semicolon\n",
    "\"\"\", re.VERBOSE)"
   ]
  },
  {
   "source": [
    "`re.VERBOSE` 옵션을 사용하면 문자열에 사용된 whitespace는 컴파일할 때 제거된다. 단 \\[\\] 안에 사용된 whitespace는 제외한다. 그리고 줄 단위로 \\#기호를 사용하여 주석문을 작성할 수 있다."
   ],
   "cell_type": "markdown",
   "metadata": {}
  },
  {
   "source": [
    "## 백슬래시 문제\n",
    "---\n",
    "정규 표현식을 파이썬에서 사용할 때 혼란을 주는 요소가 있는데 바로 백슬래시(`\\`)이다.  \n",
    "\n",
    "예를 들어 어떤 파일 안에 있는 `\"\\section\"` 문자열을 찾기 위한 정규식을 만든다고 가정해보자."
   ],
   "cell_type": "markdown",
   "metadata": {}
  },
  {
   "cell_type": "code",
   "execution_count": null,
   "metadata": {},
   "outputs": [],
   "source": [
    "\\section"
   ]
  },
  {
   "source": [
    "위 정규식은 `\\s` 문자가 whitespace로 해석되어 의도한 대로 매치가 이루어지지 않는다.  \n",
    "위 표현은 다음과 동일한 의미를 가진다."
   ],
   "cell_type": "markdown",
   "metadata": {}
  },
  {
   "cell_type": "code",
   "execution_count": null,
   "metadata": {},
   "outputs": [],
   "source": [
    "[ \\t\\n\\r\\f\\v]ection"
   ]
  },
  {
   "source": [
    "만약 의도한 대로 매치하고 싶다면 다음처럼 변경해야 한다."
   ],
   "cell_type": "markdown",
   "metadata": {}
  },
  {
   "cell_type": "code",
   "execution_count": null,
   "metadata": {},
   "outputs": [],
   "source": [
    "\\\\section"
   ]
  },
  {
   "source": [
    "위 정규식에서 사용한 `\\` 문자가 문자열 자체임을 알려 주기 위해 백슬래시 2개를 사용하여 이스케이프 처리를 해야 한다.  \n",
    "따라서 위 정규식을 컴파일한다면 다음처럼 작성해야 한다."
   ],
   "cell_type": "markdown",
   "metadata": {}
  },
  {
   "cell_type": "code",
   "execution_count": 43,
   "metadata": {},
   "outputs": [],
   "source": [
    "import re\n",
    "p = re.compile('\\\\section')"
   ]
  },
  {
   "source": [
    "하지만 위의 방법도 문제가 발생하는데, 위처럼 정규식을 만들어 컴파일하면 실제 파이썬 정규식 엔진에는 파이썬 문자열 리터럴 규칙에 따라 `\\\\`이 `\\`로 변경되어 `\\section`이 전달된다.\n",
    "> ※ 이 문제는 위와 같은 정규식을 파이썬에서 사용할 때만 발생한다(파이썬의 리터럴 규칙). 유닉스의 grep, vi 등에서는 이러한 문제가 없다.\n",
    "\n",
    "따라서 정규식 엔진에 `\\\\` 문자를 전달하려면 파이썬은 `\\\\\\\\` 처럼 백슬래시를 4개나 사용해야 한다.\n",
    "> ※ 정규식 엔진은 정규식을 해석하고 수행하는 모듈이다."
   ],
   "cell_type": "markdown",
   "metadata": {}
  },
  {
   "cell_type": "code",
   "execution_count": 44,
   "metadata": {},
   "outputs": [],
   "source": [
    "import re\n",
    "p = re.compile('\\\\\\\\section')"
   ]
  },
  {
   "source": [
    "위처럼 작성해야지만 원하는 결과를 얻을 수 있다.  \n",
    "\n",
    "하지만 `\\`를 사용한 표현이 계속 반복되는 정규식이라면 너무 복잡해서 이해하기 힘들 것이다. 이러한 문제를 해결하기 위해 파이썬 정규식에는 Raw String 이라는 규칙이 생겼다. 즉 컴파일해야 하는 정규식이 Raw String임을 알려 줄 수 있도록 파이썬 문법을 만든 것이다. 방법은 다음과 같다."
   ],
   "cell_type": "markdown",
   "metadata": {}
  },
  {
   "cell_type": "code",
   "execution_count": 46,
   "metadata": {},
   "outputs": [],
   "source": [
    "import re\n",
    "p = re.compile(r'\\\\section')"
   ]
  },
  {
   "source": [
    "위처럼 정규식 문자열 앞에 r 문자를 삽입하면 이 정규식은 Raw String 규칙에 의해 백슬래시 2개 대신 1개만 사용해도 2개를 사용한 것과 동일한 의미를 가지게 된다.\n",
    "> ※ 만약 백슬래시를 사용하지 않는 정규식이라면 r의 유무에 상관없이 동일한 정규식이 될 것이다."
   ],
   "cell_type": "markdown",
   "metadata": {}
  }
 ]
}